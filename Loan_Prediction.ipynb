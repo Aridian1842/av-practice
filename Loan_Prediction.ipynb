{
 "cells": [
  {
   "cell_type": "code",
   "execution_count": 1360,
   "metadata": {
    "collapsed": true
   },
   "outputs": [],
   "source": [
    "# display inline plots\n",
    "%matplotlib inline\n",
    "\n",
    "# import libraries for numerical and scientific computing\n",
    "import numpy as np\n",
    "import scipy as sp\n",
    "\n",
    "# import matplotlib for plotting\n",
    "import matplotlib as mpl\n",
    "import matplotlib.cm as cm\n",
    "import matplotlib.pyplot as plt\n",
    "\n",
    "# import pandas for data wrangling and munging\n",
    "import pandas as pd\n",
    "\n",
    "# set some options for better view\n",
    "pd.set_option('display.width', 500)\n",
    "pd.set_option('display.max_columns', 100)\n",
    "pd.set_option('display.notebook_repr_html', True)\n",
    "\n",
    "# import plotting library built on top of matplotlib\n",
    "import seaborn as sns\n",
    "\n",
    "# set some settings related to style of plots that will render\n",
    "sns.set_style(\"whitegrid\")\n",
    "sns.set_context(\"poster\")\n",
    "\n",
    "import warnings\n",
    "warnings.filterwarnings('ignore')"
   ]
  },
  {
   "cell_type": "code",
   "execution_count": 1452,
   "metadata": {
    "collapsed": true
   },
   "outputs": [],
   "source": [
    "from sklearn.linear_model import LogisticRegression\n",
    "from sklearn.ensemble import RandomForestClassifier, GradientBoostingClassifier, ExtraTreesClassifier\n",
    "from sklearn.metrics import accuracy_score\n",
    "\n",
    "import xgboost as xgb"
   ]
  },
  {
   "cell_type": "code",
   "execution_count": 795,
   "metadata": {
    "collapsed": true
   },
   "outputs": [],
   "source": [
    "# load training and test examples\n",
    "\n",
    "loan_train = pd.read_csv('./data/train_u6lujuX.csv', index_col='Loan_ID')\n",
    "loan_test = pd.read_csv('./data/test_Y3wMUE5.csv', index_col='Loan_ID')"
   ]
  },
  {
   "cell_type": "code",
   "execution_count": 796,
   "metadata": {
    "collapsed": false
   },
   "outputs": [
    {
     "data": {
      "text/html": [
       "<div>\n",
       "<table border=\"1\" class=\"dataframe\">\n",
       "  <thead>\n",
       "    <tr style=\"text-align: right;\">\n",
       "      <th></th>\n",
       "      <th>Gender</th>\n",
       "      <th>Married</th>\n",
       "      <th>Dependents</th>\n",
       "      <th>Education</th>\n",
       "      <th>Self_Employed</th>\n",
       "      <th>ApplicantIncome</th>\n",
       "      <th>CoapplicantIncome</th>\n",
       "      <th>LoanAmount</th>\n",
       "      <th>Loan_Amount_Term</th>\n",
       "      <th>Credit_History</th>\n",
       "      <th>Property_Area</th>\n",
       "      <th>Loan_Status</th>\n",
       "    </tr>\n",
       "    <tr>\n",
       "      <th>Loan_ID</th>\n",
       "      <th></th>\n",
       "      <th></th>\n",
       "      <th></th>\n",
       "      <th></th>\n",
       "      <th></th>\n",
       "      <th></th>\n",
       "      <th></th>\n",
       "      <th></th>\n",
       "      <th></th>\n",
       "      <th></th>\n",
       "      <th></th>\n",
       "      <th></th>\n",
       "    </tr>\n",
       "  </thead>\n",
       "  <tbody>\n",
       "    <tr>\n",
       "      <th>LP001002</th>\n",
       "      <td>Male</td>\n",
       "      <td>No</td>\n",
       "      <td>0</td>\n",
       "      <td>Graduate</td>\n",
       "      <td>No</td>\n",
       "      <td>5849</td>\n",
       "      <td>0</td>\n",
       "      <td>NaN</td>\n",
       "      <td>360</td>\n",
       "      <td>1</td>\n",
       "      <td>Urban</td>\n",
       "      <td>Y</td>\n",
       "    </tr>\n",
       "    <tr>\n",
       "      <th>LP001003</th>\n",
       "      <td>Male</td>\n",
       "      <td>Yes</td>\n",
       "      <td>1</td>\n",
       "      <td>Graduate</td>\n",
       "      <td>No</td>\n",
       "      <td>4583</td>\n",
       "      <td>1508</td>\n",
       "      <td>128</td>\n",
       "      <td>360</td>\n",
       "      <td>1</td>\n",
       "      <td>Rural</td>\n",
       "      <td>N</td>\n",
       "    </tr>\n",
       "    <tr>\n",
       "      <th>LP001005</th>\n",
       "      <td>Male</td>\n",
       "      <td>Yes</td>\n",
       "      <td>0</td>\n",
       "      <td>Graduate</td>\n",
       "      <td>Yes</td>\n",
       "      <td>3000</td>\n",
       "      <td>0</td>\n",
       "      <td>66</td>\n",
       "      <td>360</td>\n",
       "      <td>1</td>\n",
       "      <td>Urban</td>\n",
       "      <td>Y</td>\n",
       "    </tr>\n",
       "    <tr>\n",
       "      <th>LP001006</th>\n",
       "      <td>Male</td>\n",
       "      <td>Yes</td>\n",
       "      <td>0</td>\n",
       "      <td>Not Graduate</td>\n",
       "      <td>No</td>\n",
       "      <td>2583</td>\n",
       "      <td>2358</td>\n",
       "      <td>120</td>\n",
       "      <td>360</td>\n",
       "      <td>1</td>\n",
       "      <td>Urban</td>\n",
       "      <td>Y</td>\n",
       "    </tr>\n",
       "    <tr>\n",
       "      <th>LP001008</th>\n",
       "      <td>Male</td>\n",
       "      <td>No</td>\n",
       "      <td>0</td>\n",
       "      <td>Graduate</td>\n",
       "      <td>No</td>\n",
       "      <td>6000</td>\n",
       "      <td>0</td>\n",
       "      <td>141</td>\n",
       "      <td>360</td>\n",
       "      <td>1</td>\n",
       "      <td>Urban</td>\n",
       "      <td>Y</td>\n",
       "    </tr>\n",
       "  </tbody>\n",
       "</table>\n",
       "</div>"
      ],
      "text/plain": [
       "         Gender Married Dependents     Education Self_Employed  ApplicantIncome  CoapplicantIncome  LoanAmount  Loan_Amount_Term  Credit_History Property_Area Loan_Status\n",
       "Loan_ID                                                                                                                                                                   \n",
       "LP001002   Male      No          0      Graduate            No             5849                  0         NaN               360               1         Urban           Y\n",
       "LP001003   Male     Yes          1      Graduate            No             4583               1508         128               360               1         Rural           N\n",
       "LP001005   Male     Yes          0      Graduate           Yes             3000                  0          66               360               1         Urban           Y\n",
       "LP001006   Male     Yes          0  Not Graduate            No             2583               2358         120               360               1         Urban           Y\n",
       "LP001008   Male      No          0      Graduate            No             6000                  0         141               360               1         Urban           Y"
      ]
     },
     "execution_count": 796,
     "metadata": {},
     "output_type": "execute_result"
    }
   ],
   "source": [
    "# take a sneak peak at some of the examples\n",
    "loan_train.head()"
   ]
  },
  {
   "cell_type": "code",
   "execution_count": 797,
   "metadata": {
    "collapsed": false
   },
   "outputs": [
    {
     "name": "stdout",
     "output_type": "stream",
     "text": [
      "Number of training examples 614 \n"
     ]
    }
   ],
   "source": [
    "# number of training examples\n",
    "print 'Number of training examples {0} '.format(loan_train.shape[0])"
   ]
  },
  {
   "cell_type": "code",
   "execution_count": 798,
   "metadata": {
    "collapsed": false
   },
   "outputs": [
    {
     "name": "stdout",
     "output_type": "stream",
     "text": [
      "Number of test examples 367 \n"
     ]
    }
   ],
   "source": [
    "# number of test examples\n",
    "print 'Number of test examples {0} '.format(loan_test.shape[0])"
   ]
  },
  {
   "cell_type": "code",
   "execution_count": 799,
   "metadata": {
    "collapsed": false
   },
   "outputs": [
    {
     "data": {
      "text/plain": [
       "Y    422\n",
       "N    192\n",
       "dtype: int64"
      ]
     },
     "execution_count": 799,
     "metadata": {},
     "output_type": "execute_result"
    }
   ],
   "source": [
    "# class distribution\n",
    "loan_train.Loan_Status.value_counts()"
   ]
  },
  {
   "cell_type": "markdown",
   "metadata": {},
   "source": [
    "** Most of the applications for loan were accepted. **"
   ]
  },
  {
   "cell_type": "code",
   "execution_count": 1226,
   "metadata": {
    "collapsed": false
   },
   "outputs": [
    {
     "data": {
      "text/plain": [
       "No     500\n",
       "Yes     82\n",
       "dtype: int64"
      ]
     },
     "execution_count": 1226,
     "metadata": {},
     "output_type": "execute_result"
    }
   ],
   "source": [
    "loan_train.Self_Employed.value_counts()"
   ]
  },
  {
   "cell_type": "markdown",
   "metadata": {},
   "source": [
    "## Importing external scripts"
   ]
  },
  {
   "cell_type": "code",
   "execution_count": 1501,
   "metadata": {
    "collapsed": false
   },
   "outputs": [],
   "source": [
    "%run scripts/helper.py\n",
    "%run scripts/model.py\n",
    "%run scripts/data.py"
   ]
  },
  {
   "cell_type": "code",
   "execution_count": 1414,
   "metadata": {
    "collapsed": true
   },
   "outputs": [],
   "source": [
    "data = Data(loan_train, loan_test, 'Loan_Status')\n",
    "\n",
    "# preprocessing includes replacing missing values with meaninigful substitutions\n",
    "data.pre_processing()"
   ]
  },
  {
   "cell_type": "code",
   "execution_count": 1483,
   "metadata": {
    "collapsed": true
   },
   "outputs": [],
   "source": [
    "train_df = data.get_train_X()\n",
    "train_target = data.get_train_Y()\n",
    "test_df = data.get_test_X()"
   ]
  },
  {
   "cell_type": "code",
   "execution_count": 1416,
   "metadata": {
    "collapsed": false
   },
   "outputs": [],
   "source": [
    "# split into training and hold out set\n",
    "X_train, X_test, y_train, y_test = split_dataset(train_df, train_target)"
   ]
  },
  {
   "cell_type": "code",
   "execution_count": 1417,
   "metadata": {
    "collapsed": false
   },
   "outputs": [],
   "source": [
    "# encode variables\n",
    "X_train_encode, X_test_encode = encode(X_train, X_test)"
   ]
  },
  {
   "cell_type": "code",
   "execution_count": 1418,
   "metadata": {
    "collapsed": false
   },
   "outputs": [],
   "source": [
    "# one hot encoding\n",
    "X_train_hot, X_test_hot = vectorizer(X_train, X_test)"
   ]
  },
  {
   "cell_type": "markdown",
   "metadata": {},
   "source": [
    "## Logistic Regression"
   ]
  },
  {
   "cell_type": "code",
   "execution_count": 1420,
   "metadata": {
    "collapsed": false
   },
   "outputs": [],
   "source": [
    "lr = LogisticRegression()\n",
    "parameters = {\"C\": [0.0001, 0.001, 0.1, 1, 10, 100]}\n",
    "\n",
    "model = Model()\n",
    "\n",
    "best_model, best_params, best_score, grid_scores = model.grid_search(X_train_encode, y_train, lr, parameters, 'accuracy')"
   ]
  },
  {
   "cell_type": "code",
   "execution_count": 1421,
   "metadata": {
    "collapsed": false
   },
   "outputs": [
    {
     "name": "stdout",
     "output_type": "stream",
     "text": [
      "best model is LogisticRegression(C=0.0001, class_weight=None, dual=False,\n",
      "          fit_intercept=True, intercept_scaling=1, max_iter=100,\n",
      "          multi_class='ovr', penalty='l2', random_state=None,\n",
      "          solver='liblinear', tol=0.0001, verbose=0) \n",
      " best params are {'C': 0.0001} \n",
      " best score is 0.680652680653 \n",
      " and grid scores are [mean: 0.68065, std: 0.00400, params: {'C': 0.0001}, mean: 0.67832, std: 0.00550, params: {'C': 0.001}, mean: 0.67599, std: 0.00942, params: {'C': 0.1}, mean: 0.67832, std: 0.01176, params: {'C': 1}, mean: 0.67832, std: 0.01176, params: {'C': 10}, mean: 0.67599, std: 0.01403, params: {'C': 100}] \n"
     ]
    }
   ],
   "source": [
    "print 'best model is %s \\n best params are %s \\n best score is %s \\n and grid scores are %s ' %(best_model, best_params,\n",
    "                                                                                               best_score, grid_scores)"
   ]
  },
  {
   "cell_type": "code",
   "execution_count": 1422,
   "metadata": {
    "collapsed": false
   },
   "outputs": [],
   "source": [
    "lr = LogisticRegression()\n",
    "parameters = {\"C\": [0.0001, 0.001, 0.1, 1, 10, 100]}\n",
    "\n",
    "model = Model()\n",
    "\n",
    "best_model, best_params, best_score, grid_scores = model.grid_search(X_train_hot, y_train, lr, parameters, 'accuracy')"
   ]
  },
  {
   "cell_type": "code",
   "execution_count": 1423,
   "metadata": {
    "collapsed": false
   },
   "outputs": [
    {
     "name": "stdout",
     "output_type": "stream",
     "text": [
      "best model is LogisticRegression(C=0.1, class_weight=None, dual=False, fit_intercept=True,\n",
      "          intercept_scaling=1, max_iter=100, multi_class='ovr',\n",
      "          penalty='l2', random_state=None, solver='liblinear', tol=0.0001,\n",
      "          verbose=0) \n",
      " best params are {'C': 0.1} \n",
      " best score is 0.694638694639 \n",
      " and grid scores are [mean: 0.68298, std: 0.00293, params: {'C': 0.0001}, mean: 0.68298, std: 0.00293, params: {'C': 0.001}, mean: 0.69464, std: 0.01372, params: {'C': 0.1}, mean: 0.68298, std: 0.01166, params: {'C': 1}, mean: 0.67832, std: 0.02195, params: {'C': 10}, mean: 0.66900, std: 0.01327, params: {'C': 100}] \n"
     ]
    }
   ],
   "source": [
    "print 'best model is %s \\n best params are %s \\n best score is %s \\n and grid scores are %s ' %(best_model, best_params,\n",
    "                                                                                               best_score, grid_scores)"
   ]
  },
  {
   "cell_type": "markdown",
   "metadata": {},
   "source": [
    "## Random Forest Classifier"
   ]
  },
  {
   "cell_type": "code",
   "execution_count": 1396,
   "metadata": {
    "collapsed": false
   },
   "outputs": [],
   "source": [
    "rf = RandomForestClassifier()\n",
    "parameters = {\"n_estimators\": [50, 100, 200, 500, 1000],\n",
    "              \"min_samples_leaf\": [1, 2, 3, 5],\n",
    "              \"criterion\": ['gini', 'entropy']}\n",
    "\n",
    "model = Model()\n",
    "best_model, best_params, best_score, grid_scores = model.grid_search(X_train_encode, y_train, rf, parameters, 'accuracy')"
   ]
  },
  {
   "cell_type": "code",
   "execution_count": 1397,
   "metadata": {
    "collapsed": false
   },
   "outputs": [
    {
     "name": "stdout",
     "output_type": "stream",
     "text": [
      "best model is RandomForestClassifier(bootstrap=True, class_weight=None, criterion='entropy',\n",
      "            max_depth=None, max_features='auto', max_leaf_nodes=None,\n",
      "            min_samples_leaf=3, min_samples_split=2,\n",
      "            min_weight_fraction_leaf=0.0, n_estimators=500, n_jobs=1,\n",
      "            oob_score=False, random_state=None, verbose=0,\n",
      "            warm_start=False) \n",
      " best params are {'n_estimators': 500, 'criterion': 'entropy', 'min_samples_leaf': 3} \n",
      " best score is 0.808857808858 \n",
      " and grid scores are [mean: 0.76923, std: 0.02914, params: {'n_estimators': 50, 'criterion': 'gini', 'min_samples_leaf': 1}, mean: 0.78089, std: 0.04450, params: {'n_estimators': 100, 'criterion': 'gini', 'min_samples_leaf': 1}, mean: 0.78555, std: 0.03450, params: {'n_estimators': 200, 'criterion': 'gini', 'min_samples_leaf': 1}, mean: 0.78555, std: 0.04020, params: {'n_estimators': 500, 'criterion': 'gini', 'min_samples_leaf': 1}, mean: 0.78089, std: 0.04444, params: {'n_estimators': 1000, 'criterion': 'gini', 'min_samples_leaf': 1}, mean: 0.80186, std: 0.02989, params: {'n_estimators': 50, 'criterion': 'gini', 'min_samples_leaf': 2}, mean: 0.79021, std: 0.02894, params: {'n_estimators': 100, 'criterion': 'gini', 'min_samples_leaf': 2}, mean: 0.79720, std: 0.04156, params: {'n_estimators': 200, 'criterion': 'gini', 'min_samples_leaf': 2}, mean: 0.79021, std: 0.03328, params: {'n_estimators': 500, 'criterion': 'gini', 'min_samples_leaf': 2}, mean: 0.79254, std: 0.03271, params: {'n_estimators': 1000, 'criterion': 'gini', 'min_samples_leaf': 2}, mean: 0.80653, std: 0.03464, params: {'n_estimators': 50, 'criterion': 'gini', 'min_samples_leaf': 3}, mean: 0.80420, std: 0.04463, params: {'n_estimators': 100, 'criterion': 'gini', 'min_samples_leaf': 3}, mean: 0.79953, std: 0.04087, params: {'n_estimators': 200, 'criterion': 'gini', 'min_samples_leaf': 3}, mean: 0.79720, std: 0.03554, params: {'n_estimators': 500, 'criterion': 'gini', 'min_samples_leaf': 3}, mean: 0.80420, std: 0.03523, params: {'n_estimators': 1000, 'criterion': 'gini', 'min_samples_leaf': 3}, mean: 0.80186, std: 0.03678, params: {'n_estimators': 50, 'criterion': 'gini', 'min_samples_leaf': 5}, mean: 0.80420, std: 0.03041, params: {'n_estimators': 100, 'criterion': 'gini', 'min_samples_leaf': 5}, mean: 0.80420, std: 0.03610, params: {'n_estimators': 200, 'criterion': 'gini', 'min_samples_leaf': 5}, mean: 0.80420, std: 0.04091, params: {'n_estimators': 500, 'criterion': 'gini', 'min_samples_leaf': 5}, mean: 0.80420, std: 0.03610, params: {'n_estimators': 1000, 'criterion': 'gini', 'min_samples_leaf': 5}, mean: 0.76457, std: 0.02074, params: {'n_estimators': 50, 'criterion': 'entropy', 'min_samples_leaf': 1}, mean: 0.78322, std: 0.03950, params: {'n_estimators': 100, 'criterion': 'entropy', 'min_samples_leaf': 1}, mean: 0.78322, std: 0.03601, params: {'n_estimators': 200, 'criterion': 'entropy', 'min_samples_leaf': 1}, mean: 0.78089, std: 0.03498, params: {'n_estimators': 500, 'criterion': 'entropy', 'min_samples_leaf': 1}, mean: 0.78788, std: 0.04002, params: {'n_estimators': 1000, 'criterion': 'entropy', 'min_samples_leaf': 1}, mean: 0.78788, std: 0.04814, params: {'n_estimators': 50, 'criterion': 'entropy', 'min_samples_leaf': 2}, mean: 0.80420, std: 0.03523, params: {'n_estimators': 100, 'criterion': 'entropy', 'min_samples_leaf': 2}, mean: 0.80653, std: 0.03754, params: {'n_estimators': 200, 'criterion': 'entropy', 'min_samples_leaf': 2}, mean: 0.79487, std: 0.03451, params: {'n_estimators': 500, 'criterion': 'entropy', 'min_samples_leaf': 2}, mean: 0.79487, std: 0.03372, params: {'n_estimators': 1000, 'criterion': 'entropy', 'min_samples_leaf': 2}, mean: 0.80420, std: 0.03534, params: {'n_estimators': 50, 'criterion': 'entropy', 'min_samples_leaf': 3}, mean: 0.80186, std: 0.03927, params: {'n_estimators': 100, 'criterion': 'entropy', 'min_samples_leaf': 3}, mean: 0.80420, std: 0.03523, params: {'n_estimators': 200, 'criterion': 'entropy', 'min_samples_leaf': 3}, mean: 0.80886, std: 0.03906, params: {'n_estimators': 500, 'criterion': 'entropy', 'min_samples_leaf': 3}, mean: 0.80186, std: 0.03480, params: {'n_estimators': 1000, 'criterion': 'entropy', 'min_samples_leaf': 3}, mean: 0.79254, std: 0.03806, params: {'n_estimators': 50, 'criterion': 'entropy', 'min_samples_leaf': 5}, mean: 0.79953, std: 0.03221, params: {'n_estimators': 100, 'criterion': 'entropy', 'min_samples_leaf': 5}, mean: 0.80186, std: 0.04016, params: {'n_estimators': 200, 'criterion': 'entropy', 'min_samples_leaf': 5}, mean: 0.79953, std: 0.03835, params: {'n_estimators': 500, 'criterion': 'entropy', 'min_samples_leaf': 5}, mean: 0.80420, std: 0.03610, params: {'n_estimators': 1000, 'criterion': 'entropy', 'min_samples_leaf': 5}] \n"
     ]
    }
   ],
   "source": [
    "print 'best model is %s \\n best params are %s \\n best score is %s \\n and grid scores are %s ' %(best_model, best_params,\n",
    "                                                                                               best_score, grid_scores)"
   ]
  },
  {
   "cell_type": "code",
   "execution_count": 1424,
   "metadata": {
    "collapsed": true
   },
   "outputs": [],
   "source": [
    "rf = RandomForestClassifier()\n",
    "parameters = {\"n_estimators\": [50, 100, 200, 500, 1000],\n",
    "              \"min_samples_leaf\": [1, 2, 3, 5],\n",
    "              \"criterion\": ['gini', 'entropy']}\n",
    "\n",
    "model = Model()\n",
    "best_model, best_params, best_score, grid_scores = model.grid_search(X_train_hot, y_train, rf, parameters, 'accuracy')"
   ]
  },
  {
   "cell_type": "code",
   "execution_count": 1425,
   "metadata": {
    "collapsed": false
   },
   "outputs": [
    {
     "name": "stdout",
     "output_type": "stream",
     "text": [
      "best model is RandomForestClassifier(bootstrap=True, class_weight=None, criterion='gini',\n",
      "            max_depth=None, max_features='auto', max_leaf_nodes=None,\n",
      "            min_samples_leaf=3, min_samples_split=2,\n",
      "            min_weight_fraction_leaf=0.0, n_estimators=100, n_jobs=1,\n",
      "            oob_score=False, random_state=None, verbose=0,\n",
      "            warm_start=False) \n",
      " best params are {'n_estimators': 100, 'criterion': 'gini', 'min_samples_leaf': 3} \n",
      " best score is 0.689976689977 \n",
      " and grid scores are [mean: 0.66200, std: 0.03882, params: {'n_estimators': 50, 'criterion': 'gini', 'min_samples_leaf': 1}, mean: 0.66434, std: 0.03410, params: {'n_estimators': 100, 'criterion': 'gini', 'min_samples_leaf': 1}, mean: 0.65501, std: 0.02986, params: {'n_estimators': 200, 'criterion': 'gini', 'min_samples_leaf': 1}, mean: 0.67599, std: 0.02957, params: {'n_estimators': 500, 'criterion': 'gini', 'min_samples_leaf': 1}, mean: 0.66667, std: 0.02993, params: {'n_estimators': 1000, 'criterion': 'gini', 'min_samples_leaf': 1}, mean: 0.67133, std: 0.02619, params: {'n_estimators': 50, 'criterion': 'gini', 'min_samples_leaf': 2}, mean: 0.67366, std: 0.03342, params: {'n_estimators': 100, 'criterion': 'gini', 'min_samples_leaf': 2}, mean: 0.67599, std: 0.02376, params: {'n_estimators': 200, 'criterion': 'gini', 'min_samples_leaf': 2}, mean: 0.68065, std: 0.03097, params: {'n_estimators': 500, 'criterion': 'gini', 'min_samples_leaf': 2}, mean: 0.67599, std: 0.02792, params: {'n_estimators': 1000, 'criterion': 'gini', 'min_samples_leaf': 2}, mean: 0.68065, std: 0.00574, params: {'n_estimators': 50, 'criterion': 'gini', 'min_samples_leaf': 3}, mean: 0.68998, std: 0.01620, params: {'n_estimators': 100, 'criterion': 'gini', 'min_samples_leaf': 3}, mean: 0.68298, std: 0.01443, params: {'n_estimators': 200, 'criterion': 'gini', 'min_samples_leaf': 3}, mean: 0.68765, std: 0.01401, params: {'n_estimators': 500, 'criterion': 'gini', 'min_samples_leaf': 3}, mean: 0.68998, std: 0.01733, params: {'n_estimators': 1000, 'criterion': 'gini', 'min_samples_leaf': 3}, mean: 0.68531, std: 0.00526, params: {'n_estimators': 50, 'criterion': 'gini', 'min_samples_leaf': 5}, mean: 0.68998, std: 0.00819, params: {'n_estimators': 100, 'criterion': 'gini', 'min_samples_leaf': 5}, mean: 0.68531, std: 0.00904, params: {'n_estimators': 200, 'criterion': 'gini', 'min_samples_leaf': 5}, mean: 0.68765, std: 0.01268, params: {'n_estimators': 500, 'criterion': 'gini', 'min_samples_leaf': 5}, mean: 0.68531, std: 0.00904, params: {'n_estimators': 1000, 'criterion': 'gini', 'min_samples_leaf': 5}, mean: 0.65501, std: 0.03517, params: {'n_estimators': 50, 'criterion': 'entropy', 'min_samples_leaf': 1}, mean: 0.66434, std: 0.03064, params: {'n_estimators': 100, 'criterion': 'entropy', 'min_samples_leaf': 1}, mean: 0.65035, std: 0.04242, params: {'n_estimators': 200, 'criterion': 'entropy', 'min_samples_leaf': 1}, mean: 0.66900, std: 0.02789, params: {'n_estimators': 500, 'criterion': 'entropy', 'min_samples_leaf': 1}, mean: 0.67366, std: 0.02912, params: {'n_estimators': 1000, 'criterion': 'entropy', 'min_samples_leaf': 1}, mean: 0.67366, std: 0.02224, params: {'n_estimators': 50, 'criterion': 'entropy', 'min_samples_leaf': 2}, mean: 0.66900, std: 0.01339, params: {'n_estimators': 100, 'criterion': 'entropy', 'min_samples_leaf': 2}, mean: 0.66900, std: 0.03103, params: {'n_estimators': 200, 'criterion': 'entropy', 'min_samples_leaf': 2}, mean: 0.67832, std: 0.03177, params: {'n_estimators': 500, 'criterion': 'entropy', 'min_samples_leaf': 2}, mean: 0.68298, std: 0.03257, params: {'n_estimators': 1000, 'criterion': 'entropy', 'min_samples_leaf': 2}, mean: 0.68298, std: 0.01443, params: {'n_estimators': 50, 'criterion': 'entropy', 'min_samples_leaf': 3}, mean: 0.68765, std: 0.01801, params: {'n_estimators': 100, 'criterion': 'entropy', 'min_samples_leaf': 3}, mean: 0.68298, std: 0.00506, params: {'n_estimators': 200, 'criterion': 'entropy', 'min_samples_leaf': 3}, mean: 0.68998, std: 0.01775, params: {'n_estimators': 500, 'criterion': 'entropy', 'min_samples_leaf': 3}, mean: 0.68531, std: 0.01728, params: {'n_estimators': 1000, 'criterion': 'entropy', 'min_samples_leaf': 3}, mean: 0.68531, std: 0.00526, params: {'n_estimators': 50, 'criterion': 'entropy', 'min_samples_leaf': 5}, mean: 0.68531, std: 0.00904, params: {'n_estimators': 100, 'criterion': 'entropy', 'min_samples_leaf': 5}, mean: 0.68531, std: 0.00904, params: {'n_estimators': 200, 'criterion': 'entropy', 'min_samples_leaf': 5}, mean: 0.68531, std: 0.00904, params: {'n_estimators': 500, 'criterion': 'entropy', 'min_samples_leaf': 5}, mean: 0.68531, std: 0.00904, params: {'n_estimators': 1000, 'criterion': 'entropy', 'min_samples_leaf': 5}] \n"
     ]
    }
   ],
   "source": [
    "print 'best model is %s \\n best params are %s \\n best score is %s \\n and grid scores are %s ' %(best_model, best_params,\n",
    "                                                                                               best_score, grid_scores)"
   ]
  },
  {
   "cell_type": "markdown",
   "metadata": {},
   "source": [
    "## Gradient Boosting Classifier"
   ]
  },
  {
   "cell_type": "code",
   "execution_count": 1426,
   "metadata": {
    "collapsed": false
   },
   "outputs": [],
   "source": [
    "gbc = GradientBoostingClassifier()\n",
    "parameters = {\"n_estimators\": [200],\n",
    "              \"learning_rate\": [0.01],\n",
    "              \"subsample\": [.7, .8, .9]\n",
    "             }\n",
    "\n",
    "model = Model()\n",
    "best_model, best_params, best_score, grid_scores = model.grid_search(X_train_encode, y_train, gbc, parameters, 'accuracy')"
   ]
  },
  {
   "cell_type": "code",
   "execution_count": 1427,
   "metadata": {
    "collapsed": false
   },
   "outputs": [
    {
     "name": "stdout",
     "output_type": "stream",
     "text": [
      "best model is GradientBoostingClassifier(init=None, learning_rate=0.01, loss='deviance',\n",
      "              max_depth=3, max_features=None, max_leaf_nodes=None,\n",
      "              min_samples_leaf=1, min_samples_split=2,\n",
      "              min_weight_fraction_leaf=0.0, n_estimators=200,\n",
      "              random_state=None, subsample=0.8, verbose=0,\n",
      "              warm_start=False) \n",
      " best params are {'n_estimators': 200, 'subsample': 0.8, 'learning_rate': 0.01} \n",
      " best score is 0.785547785548 \n",
      " and grid scores are [mean: 0.78322, std: 0.04221, params: {'n_estimators': 200, 'subsample': 0.7, 'learning_rate': 0.01}, mean: 0.78555, std: 0.04026, params: {'n_estimators': 200, 'subsample': 0.8, 'learning_rate': 0.01}, mean: 0.78555, std: 0.04026, params: {'n_estimators': 200, 'subsample': 0.9, 'learning_rate': 0.01}] \n"
     ]
    }
   ],
   "source": [
    "print 'best model is %s \\n best params are %s \\n best score is %s \\n and grid scores are %s ' %(best_model, best_params,\n",
    "                                                                                               best_score, grid_scores)"
   ]
  },
  {
   "cell_type": "code",
   "execution_count": 1429,
   "metadata": {
    "collapsed": false
   },
   "outputs": [],
   "source": [
    "gbc = GradientBoostingClassifier()\n",
    "parameters = {\"n_estimators\": [200],\n",
    "              \"learning_rate\": [0.01],\n",
    "              \"subsample\": [.7, .8, .9]\n",
    "             }\n",
    "\n",
    "model = Model()\n",
    "best_model, best_params, best_score, grid_scores = model.grid_search(X_train_hot.toarray(), y_train, \n",
    "                                                                     gbc, parameters, 'accuracy')"
   ]
  },
  {
   "cell_type": "code",
   "execution_count": 1430,
   "metadata": {
    "collapsed": false
   },
   "outputs": [
    {
     "name": "stdout",
     "output_type": "stream",
     "text": [
      "best model is GradientBoostingClassifier(init=None, learning_rate=0.01, loss='deviance',\n",
      "              max_depth=3, max_features=None, max_leaf_nodes=None,\n",
      "              min_samples_leaf=1, min_samples_split=2,\n",
      "              min_weight_fraction_leaf=0.0, n_estimators=200,\n",
      "              random_state=None, subsample=0.8, verbose=0,\n",
      "              warm_start=False) \n",
      " best params are {'n_estimators': 200, 'subsample': 0.8, 'learning_rate': 0.01} \n",
      " best score is 0.69696969697 \n",
      " and grid scores are [mean: 0.68998, std: 0.01430, params: {'n_estimators': 200, 'subsample': 0.7, 'learning_rate': 0.01}, mean: 0.69697, std: 0.00264, params: {'n_estimators': 200, 'subsample': 0.8, 'learning_rate': 0.01}, mean: 0.69697, std: 0.01148, params: {'n_estimators': 200, 'subsample': 0.9, 'learning_rate': 0.01}] \n"
     ]
    }
   ],
   "source": [
    "print 'best model is %s \\n best params are %s \\n best score is %s \\n and grid scores are %s ' %(best_model, best_params,\n",
    "                                                                                               best_score, grid_scores)"
   ]
  },
  {
   "cell_type": "markdown",
   "metadata": {},
   "source": [
    "## Extra Trees Classifier"
   ]
  },
  {
   "cell_type": "code",
   "execution_count": 1407,
   "metadata": {
    "collapsed": false
   },
   "outputs": [],
   "source": [
    "etr = ExtraTreesClassifier()\n",
    "parameters = {\"n_estimators\": [10, 50, 100, 500],\n",
    "             \"min_samples_leaf\": [1, 2, 3],\n",
    "             \"criterion\": ['gini', 'entropy']\n",
    "             }\n",
    "\n",
    "model = Model()\n",
    "best_model, best_params, best_score, grid_scores = model.grid_search(X_train_encode, y_train, etr, parameters, 'accuracy')"
   ]
  },
  {
   "cell_type": "code",
   "execution_count": 1408,
   "metadata": {
    "collapsed": false
   },
   "outputs": [
    {
     "name": "stdout",
     "output_type": "stream",
     "text": [
      "best model is ExtraTreesClassifier(bootstrap=False, class_weight=None, criterion='entropy',\n",
      "           max_depth=None, max_features='auto', max_leaf_nodes=None,\n",
      "           min_samples_leaf=2, min_samples_split=2,\n",
      "           min_weight_fraction_leaf=0.0, n_estimators=100, n_jobs=1,\n",
      "           oob_score=False, random_state=None, verbose=0, warm_start=False) \n",
      " best params are {'n_estimators': 100, 'criterion': 'entropy', 'min_samples_leaf': 2} \n",
      " best score is 0.783216783217 \n",
      " and grid scores are [mean: 0.70163, std: 0.04474, params: {'n_estimators': 10, 'criterion': 'gini', 'min_samples_leaf': 1}, mean: 0.73193, std: 0.02523, params: {'n_estimators': 50, 'criterion': 'gini', 'min_samples_leaf': 1}, mean: 0.72727, std: 0.03709, params: {'n_estimators': 100, 'criterion': 'gini', 'min_samples_leaf': 1}, mean: 0.73893, std: 0.02216, params: {'n_estimators': 500, 'criterion': 'gini', 'min_samples_leaf': 1}, mean: 0.74359, std: 0.02156, params: {'n_estimators': 10, 'criterion': 'gini', 'min_samples_leaf': 2}, mean: 0.77156, std: 0.02939, params: {'n_estimators': 50, 'criterion': 'gini', 'min_samples_leaf': 2}, mean: 0.76923, std: 0.02941, params: {'n_estimators': 100, 'criterion': 'gini', 'min_samples_leaf': 2}, mean: 0.76923, std: 0.03096, params: {'n_estimators': 500, 'criterion': 'gini', 'min_samples_leaf': 2}, mean: 0.75291, std: 0.01631, params: {'n_estimators': 10, 'criterion': 'gini', 'min_samples_leaf': 3}, mean: 0.75291, std: 0.03569, params: {'n_estimators': 50, 'criterion': 'gini', 'min_samples_leaf': 3}, mean: 0.75758, std: 0.03962, params: {'n_estimators': 100, 'criterion': 'gini', 'min_samples_leaf': 3}, mean: 0.74825, std: 0.02782, params: {'n_estimators': 500, 'criterion': 'gini', 'min_samples_leaf': 3}, mean: 0.68998, std: 0.04367, params: {'n_estimators': 10, 'criterion': 'entropy', 'min_samples_leaf': 1}, mean: 0.72494, std: 0.02480, params: {'n_estimators': 50, 'criterion': 'entropy', 'min_samples_leaf': 1}, mean: 0.73660, std: 0.01370, params: {'n_estimators': 100, 'criterion': 'entropy', 'min_samples_leaf': 1}, mean: 0.73660, std: 0.02295, params: {'n_estimators': 500, 'criterion': 'entropy', 'min_samples_leaf': 1}, mean: 0.75991, std: 0.02847, params: {'n_estimators': 10, 'criterion': 'entropy', 'min_samples_leaf': 2}, mean: 0.76690, std: 0.03568, params: {'n_estimators': 50, 'criterion': 'entropy', 'min_samples_leaf': 2}, mean: 0.78322, std: 0.02801, params: {'n_estimators': 100, 'criterion': 'entropy', 'min_samples_leaf': 2}, mean: 0.77156, std: 0.02749, params: {'n_estimators': 500, 'criterion': 'entropy', 'min_samples_leaf': 2}, mean: 0.72960, std: 0.01986, params: {'n_estimators': 10, 'criterion': 'entropy', 'min_samples_leaf': 3}, mean: 0.76923, std: 0.02293, params: {'n_estimators': 50, 'criterion': 'entropy', 'min_samples_leaf': 3}, mean: 0.74126, std: 0.02810, params: {'n_estimators': 100, 'criterion': 'entropy', 'min_samples_leaf': 3}, mean: 0.76224, std: 0.03260, params: {'n_estimators': 500, 'criterion': 'entropy', 'min_samples_leaf': 3}] \n"
     ]
    }
   ],
   "source": [
    "print 'best model is %s \\n best params are %s \\n best score is %s \\n and grid scores are %s ' %(best_model, best_params,\n",
    "                                                                                               best_score, grid_scores)"
   ]
  },
  {
   "cell_type": "code",
   "execution_count": 1431,
   "metadata": {
    "collapsed": true
   },
   "outputs": [],
   "source": [
    "etr = ExtraTreesClassifier()\n",
    "parameters = {\"n_estimators\": [10, 50, 100],\n",
    "             \"min_samples_leaf\": [1, 2, 3],\n",
    "             \"criterion\": ['gini', 'entropy']\n",
    "             }\n",
    "\n",
    "model = Model()\n",
    "best_model, best_params, best_score, grid_scores = model.grid_search(X_train_hot, y_train, etr, parameters, 'accuracy')"
   ]
  },
  {
   "cell_type": "code",
   "execution_count": 1432,
   "metadata": {
    "collapsed": false
   },
   "outputs": [
    {
     "name": "stdout",
     "output_type": "stream",
     "text": [
      "best model is ExtraTreesClassifier(bootstrap=False, class_weight=None, criterion='gini',\n",
      "           max_depth=None, max_features='auto', max_leaf_nodes=None,\n",
      "           min_samples_leaf=2, min_samples_split=2,\n",
      "           min_weight_fraction_leaf=0.0, n_estimators=100, n_jobs=1,\n",
      "           oob_score=False, random_state=None, verbose=0, warm_start=False) \n",
      " best params are {'n_estimators': 100, 'criterion': 'gini', 'min_samples_leaf': 2} \n",
      " best score is 0.687645687646 \n",
      " and grid scores are [mean: 0.60373, std: 0.06356, params: {'n_estimators': 10, 'criterion': 'gini', 'min_samples_leaf': 1}, mean: 0.64103, std: 0.03288, params: {'n_estimators': 50, 'criterion': 'gini', 'min_samples_leaf': 1}, mean: 0.64336, std: 0.03423, params: {'n_estimators': 100, 'criterion': 'gini', 'min_samples_leaf': 1}, mean: 0.66900, std: 0.03568, params: {'n_estimators': 10, 'criterion': 'gini', 'min_samples_leaf': 2}, mean: 0.67599, std: 0.03214, params: {'n_estimators': 50, 'criterion': 'gini', 'min_samples_leaf': 2}, mean: 0.68765, std: 0.02802, params: {'n_estimators': 100, 'criterion': 'gini', 'min_samples_leaf': 2}, mean: 0.66200, std: 0.02915, params: {'n_estimators': 10, 'criterion': 'gini', 'min_samples_leaf': 3}, mean: 0.68765, std: 0.02476, params: {'n_estimators': 50, 'criterion': 'gini', 'min_samples_leaf': 3}, mean: 0.68531, std: 0.02675, params: {'n_estimators': 100, 'criterion': 'gini', 'min_samples_leaf': 3}, mean: 0.62238, std: 0.06016, params: {'n_estimators': 10, 'criterion': 'entropy', 'min_samples_leaf': 1}, mean: 0.62704, std: 0.03837, params: {'n_estimators': 50, 'criterion': 'entropy', 'min_samples_leaf': 1}, mean: 0.62704, std: 0.02742, params: {'n_estimators': 100, 'criterion': 'entropy', 'min_samples_leaf': 1}, mean: 0.66434, std: 0.01477, params: {'n_estimators': 10, 'criterion': 'entropy', 'min_samples_leaf': 2}, mean: 0.67366, std: 0.01925, params: {'n_estimators': 50, 'criterion': 'entropy', 'min_samples_leaf': 2}, mean: 0.68298, std: 0.02271, params: {'n_estimators': 100, 'criterion': 'entropy', 'min_samples_leaf': 2}, mean: 0.67366, std: 0.02499, params: {'n_estimators': 10, 'criterion': 'entropy', 'min_samples_leaf': 3}, mean: 0.67366, std: 0.02617, params: {'n_estimators': 50, 'criterion': 'entropy', 'min_samples_leaf': 3}, mean: 0.67832, std: 0.02471, params: {'n_estimators': 100, 'criterion': 'entropy', 'min_samples_leaf': 3}] \n"
     ]
    }
   ],
   "source": [
    "print 'best model is %s \\n best params are %s \\n best score is %s \\n and grid scores are %s ' %(best_model, best_params,\n",
    "                                                                                               best_score, grid_scores)"
   ]
  },
  {
   "cell_type": "markdown",
   "metadata": {},
   "source": [
    "## Extreme Gradient Boosting"
   ]
  },
  {
   "cell_type": "code",
   "execution_count": 1579,
   "metadata": {
    "collapsed": true
   },
   "outputs": [],
   "source": [
    "xgb_est = xgb.XGBClassifier()\n",
    "parameters = {\"n_estimators\": [100, 300],\n",
    "             \"subsample\": [0.8, 0.9],\n",
    "             \"colsample_bytree\": [0.6, 0.7, 0.8],\n",
    "             \"learning_rate\": [0.01],\n",
    "             \"min_child_weight\": [1, 5, 10],\n",
    "             \"max_depth\": [3, 5, 7],\n",
    "             \"gamma\": [1, 2, 3],\n",
    "             \"nthread\": [4]\n",
    "             }\n",
    "\n",
    "model = Model()\n",
    "best_model, best_params, best_score, grid_scores = model.grid_search(X_train_encode, y_train, xgb_est, parameters, 'accuracy')"
   ]
  },
  {
   "cell_type": "code",
   "execution_count": 1580,
   "metadata": {
    "collapsed": false
   },
   "outputs": [
    {
     "name": "stdout",
     "output_type": "stream",
     "text": [
      "best model is XGBClassifier(base_score=0.5, colsample_bytree=0.6, gamma=1,\n",
      "       learning_rate=0.01, max_delta_step=0, max_depth=3,\n",
      "       min_child_weight=5, missing=None, n_estimators=300, nthread=4,\n",
      "       objective='binary:logistic', seed=0, silent=True, subsample=0.8) \n",
      " best params are {'colsample_bytree': 0.6, 'learning_rate': 0.01, 'nthread': 4, 'min_child_weight': 5, 'n_estimators': 300, 'subsample': 0.8, 'max_depth': 3, 'gamma': 1} \n",
      " best score is 0.804195804196 \n",
      " and grid scores are [mean: 0.79953, std: 0.02792, params: {'colsample_bytree': 0.6, 'learning_rate': 0.01, 'nthread': 4, 'min_child_weight': 1, 'n_estimators': 100, 'subsample': 0.8, 'max_depth': 3, 'gamma': 1}, mean: 0.79720, std: 0.02406, params: {'colsample_bytree': 0.6, 'learning_rate': 0.01, 'nthread': 4, 'min_child_weight': 1, 'n_estimators': 100, 'subsample': 0.9, 'max_depth': 3, 'gamma': 1}, mean: 0.79487, std: 0.02309, params: {'colsample_bytree': 0.6, 'learning_rate': 0.01, 'nthread': 4, 'min_child_weight': 1, 'n_estimators': 300, 'subsample': 0.8, 'max_depth': 3, 'gamma': 1}, mean: 0.79021, std: 0.02545, params: {'colsample_bytree': 0.6, 'learning_rate': 0.01, 'nthread': 4, 'min_child_weight': 1, 'n_estimators': 300, 'subsample': 0.9, 'max_depth': 3, 'gamma': 1}, mean: 0.79953, std: 0.02792, params: {'colsample_bytree': 0.6, 'learning_rate': 0.01, 'nthread': 4, 'min_child_weight': 5, 'n_estimators': 100, 'subsample': 0.8, 'max_depth': 3, 'gamma': 1}, mean: 0.79953, std: 0.02792, params: {'colsample_bytree': 0.6, 'learning_rate': 0.01, 'nthread': 4, 'min_child_weight': 5, 'n_estimators': 100, 'subsample': 0.9, 'max_depth': 3, 'gamma': 1}, mean: 0.80420, std: 0.02618, params: {'colsample_bytree': 0.6, 'learning_rate': 0.01, 'nthread': 4, 'min_child_weight': 5, 'n_estimators': 300, 'subsample': 0.8, 'max_depth': 3, 'gamma': 1}, mean: 0.80420, std: 0.02618, params: {'colsample_bytree': 0.6, 'learning_rate': 0.01, 'nthread': 4, 'min_child_weight': 5, 'n_estimators': 300, 'subsample': 0.9, 'max_depth': 3, 'gamma': 1}, mean: 0.78089, std: 0.00902, params: {'colsample_bytree': 0.6, 'learning_rate': 0.01, 'nthread': 4, 'min_child_weight': 10, 'n_estimators': 100, 'subsample': 0.8, 'max_depth': 3, 'gamma': 1}, mean: 0.79953, std: 0.02792, params: {'colsample_bytree': 0.6, 'learning_rate': 0.01, 'nthread': 4, 'min_child_weight': 10, 'n_estimators': 100, 'subsample': 0.9, 'max_depth': 3, 'gamma': 1}, mean: 0.76690, std: 0.03394, params: {'colsample_bytree': 0.6, 'learning_rate': 0.01, 'nthread': 4, 'min_child_weight': 10, 'n_estimators': 300, 'subsample': 0.8, 'max_depth': 3, 'gamma': 1}, mean: 0.79254, std: 0.01912, params: {'colsample_bytree': 0.6, 'learning_rate': 0.01, 'nthread': 4, 'min_child_weight': 10, 'n_estimators': 300, 'subsample': 0.9, 'max_depth': 3, 'gamma': 1}, mean: 0.80186, std: 0.02439, params: {'colsample_bytree': 0.6, 'learning_rate': 0.01, 'nthread': 4, 'min_child_weight': 1, 'n_estimators': 100, 'subsample': 0.8, 'max_depth': 5, 'gamma': 1}, mean: 0.79487, std: 0.02375, params: {'colsample_bytree': 0.6, 'learning_rate': 0.01, 'nthread': 4, 'min_child_weight': 1, 'n_estimators': 100, 'subsample': 0.9, 'max_depth': 5, 'gamma': 1}, mean: 0.79254, std: 0.03674, params: {'colsample_bytree': 0.6, 'learning_rate': 0.01, 'nthread': 4, 'min_child_weight': 1, 'n_estimators': 300, 'subsample': 0.8, 'max_depth': 5, 'gamma': 1}, mean: 0.77855, std: 0.03415, params: {'colsample_bytree': 0.6, 'learning_rate': 0.01, 'nthread': 4, 'min_child_weight': 1, 'n_estimators': 300, 'subsample': 0.9, 'max_depth': 5, 'gamma': 1}, mean: 0.79953, std: 0.02792, params: {'colsample_bytree': 0.6, 'learning_rate': 0.01, 'nthread': 4, 'min_child_weight': 5, 'n_estimators': 100, 'subsample': 0.8, 'max_depth': 5, 'gamma': 1}, mean: 0.79953, std: 0.02792, params: {'colsample_bytree': 0.6, 'learning_rate': 0.01, 'nthread': 4, 'min_child_weight': 5, 'n_estimators': 100, 'subsample': 0.9, 'max_depth': 5, 'gamma': 1}, mean: 0.80420, std: 0.02618, params: {'colsample_bytree': 0.6, 'learning_rate': 0.01, 'nthread': 4, 'min_child_weight': 5, 'n_estimators': 300, 'subsample': 0.8, 'max_depth': 5, 'gamma': 1}, mean: 0.80186, std: 0.02776, params: {'colsample_bytree': 0.6, 'learning_rate': 0.01, 'nthread': 4, 'min_child_weight': 5, 'n_estimators': 300, 'subsample': 0.9, 'max_depth': 5, 'gamma': 1}, mean: 0.78089, std: 0.00902, params: {'colsample_bytree': 0.6, 'learning_rate': 0.01, 'nthread': 4, 'min_child_weight': 10, 'n_estimators': 100, 'subsample': 0.8, 'max_depth': 5, 'gamma': 1}, mean: 0.79953, std: 0.02792, params: {'colsample_bytree': 0.6, 'learning_rate': 0.01, 'nthread': 4, 'min_child_weight': 10, 'n_estimators': 100, 'subsample': 0.9, 'max_depth': 5, 'gamma': 1}, mean: 0.76923, std: 0.03009, params: {'colsample_bytree': 0.6, 'learning_rate': 0.01, 'nthread': 4, 'min_child_weight': 10, 'n_estimators': 300, 'subsample': 0.8, 'max_depth': 5, 'gamma': 1}, mean: 0.79254, std: 0.01912, params: {'colsample_bytree': 0.6, 'learning_rate': 0.01, 'nthread': 4, 'min_child_weight': 10, 'n_estimators': 300, 'subsample': 0.9, 'max_depth': 5, 'gamma': 1}, mean: 0.80186, std: 0.03109, params: {'colsample_bytree': 0.6, 'learning_rate': 0.01, 'nthread': 4, 'min_child_weight': 1, 'n_estimators': 100, 'subsample': 0.8, 'max_depth': 7, 'gamma': 1}, mean: 0.79254, std: 0.02675, params: {'colsample_bytree': 0.6, 'learning_rate': 0.01, 'nthread': 4, 'min_child_weight': 1, 'n_estimators': 100, 'subsample': 0.9, 'max_depth': 7, 'gamma': 1}, mean: 0.78089, std: 0.03740, params: {'colsample_bytree': 0.6, 'learning_rate': 0.01, 'nthread': 4, 'min_child_weight': 1, 'n_estimators': 300, 'subsample': 0.8, 'max_depth': 7, 'gamma': 1}, mean: 0.77156, std: 0.03619, params: {'colsample_bytree': 0.6, 'learning_rate': 0.01, 'nthread': 4, 'min_child_weight': 1, 'n_estimators': 300, 'subsample': 0.9, 'max_depth': 7, 'gamma': 1}, mean: 0.79953, std: 0.02792, params: {'colsample_bytree': 0.6, 'learning_rate': 0.01, 'nthread': 4, 'min_child_weight': 5, 'n_estimators': 100, 'subsample': 0.8, 'max_depth': 7, 'gamma': 1}, mean: 0.79953, std: 0.02792, params: {'colsample_bytree': 0.6, 'learning_rate': 0.01, 'nthread': 4, 'min_child_weight': 5, 'n_estimators': 100, 'subsample': 0.9, 'max_depth': 7, 'gamma': 1}, mean: 0.80420, std: 0.02618, params: {'colsample_bytree': 0.6, 'learning_rate': 0.01, 'nthread': 4, 'min_child_weight': 5, 'n_estimators': 300, 'subsample': 0.8, 'max_depth': 7, 'gamma': 1}, mean: 0.80186, std: 0.02776, params: {'colsample_bytree': 0.6, 'learning_rate': 0.01, 'nthread': 4, 'min_child_weight': 5, 'n_estimators': 300, 'subsample': 0.9, 'max_depth': 7, 'gamma': 1}, mean: 0.78089, std: 0.00902, params: {'colsample_bytree': 0.6, 'learning_rate': 0.01, 'nthread': 4, 'min_child_weight': 10, 'n_estimators': 100, 'subsample': 0.8, 'max_depth': 7, 'gamma': 1}, mean: 0.79953, std: 0.02792, params: {'colsample_bytree': 0.6, 'learning_rate': 0.01, 'nthread': 4, 'min_child_weight': 10, 'n_estimators': 100, 'subsample': 0.9, 'max_depth': 7, 'gamma': 1}, mean: 0.76923, std: 0.03009, params: {'colsample_bytree': 0.6, 'learning_rate': 0.01, 'nthread': 4, 'min_child_weight': 10, 'n_estimators': 300, 'subsample': 0.8, 'max_depth': 7, 'gamma': 1}, mean: 0.79254, std: 0.01912, params: {'colsample_bytree': 0.6, 'learning_rate': 0.01, 'nthread': 4, 'min_child_weight': 10, 'n_estimators': 300, 'subsample': 0.9, 'max_depth': 7, 'gamma': 1}, mean: 0.79953, std: 0.02792, params: {'colsample_bytree': 0.6, 'learning_rate': 0.01, 'nthread': 4, 'min_child_weight': 1, 'n_estimators': 100, 'subsample': 0.8, 'max_depth': 3, 'gamma': 2}, mean: 0.79720, std: 0.02406, params: {'colsample_bytree': 0.6, 'learning_rate': 0.01, 'nthread': 4, 'min_child_weight': 1, 'n_estimators': 100, 'subsample': 0.9, 'max_depth': 3, 'gamma': 2}, mean: 0.79953, std: 0.02611, params: {'colsample_bytree': 0.6, 'learning_rate': 0.01, 'nthread': 4, 'min_child_weight': 1, 'n_estimators': 300, 'subsample': 0.8, 'max_depth': 3, 'gamma': 2}, mean: 0.79487, std: 0.02489, params: {'colsample_bytree': 0.6, 'learning_rate': 0.01, 'nthread': 4, 'min_child_weight': 1, 'n_estimators': 300, 'subsample': 0.9, 'max_depth': 3, 'gamma': 2}, mean: 0.79953, std: 0.02792, params: {'colsample_bytree': 0.6, 'learning_rate': 0.01, 'nthread': 4, 'min_child_weight': 5, 'n_estimators': 100, 'subsample': 0.8, 'max_depth': 3, 'gamma': 2}, mean: 0.79953, std: 0.02792, params: {'colsample_bytree': 0.6, 'learning_rate': 0.01, 'nthread': 4, 'min_child_weight': 5, 'n_estimators': 100, 'subsample': 0.9, 'max_depth': 3, 'gamma': 2}, mean: 0.80420, std: 0.02618, params: {'colsample_bytree': 0.6, 'learning_rate': 0.01, 'nthread': 4, 'min_child_weight': 5, 'n_estimators': 300, 'subsample': 0.8, 'max_depth': 3, 'gamma': 2}, mean: 0.80186, std: 0.02656, params: {'colsample_bytree': 0.6, 'learning_rate': 0.01, 'nthread': 4, 'min_child_weight': 5, 'n_estimators': 300, 'subsample': 0.9, 'max_depth': 3, 'gamma': 2}, mean: 0.77855, std: 0.00830, params: {'colsample_bytree': 0.6, 'learning_rate': 0.01, 'nthread': 4, 'min_child_weight': 10, 'n_estimators': 100, 'subsample': 0.8, 'max_depth': 3, 'gamma': 2}, mean: 0.79953, std: 0.02792, params: {'colsample_bytree': 0.6, 'learning_rate': 0.01, 'nthread': 4, 'min_child_weight': 10, 'n_estimators': 100, 'subsample': 0.9, 'max_depth': 3, 'gamma': 2}, mean: 0.76457, std: 0.03104, params: {'colsample_bytree': 0.6, 'learning_rate': 0.01, 'nthread': 4, 'min_child_weight': 10, 'n_estimators': 300, 'subsample': 0.8, 'max_depth': 3, 'gamma': 2}, mean: 0.79487, std: 0.02055, params: {'colsample_bytree': 0.6, 'learning_rate': 0.01, 'nthread': 4, 'min_child_weight': 10, 'n_estimators': 300, 'subsample': 0.9, 'max_depth': 3, 'gamma': 2}, mean: 0.80186, std: 0.02656, params: {'colsample_bytree': 0.6, 'learning_rate': 0.01, 'nthread': 4, 'min_child_weight': 1, 'n_estimators': 100, 'subsample': 0.8, 'max_depth': 5, 'gamma': 2}, mean: 0.79720, std: 0.02381, params: {'colsample_bytree': 0.6, 'learning_rate': 0.01, 'nthread': 4, 'min_child_weight': 1, 'n_estimators': 100, 'subsample': 0.9, 'max_depth': 5, 'gamma': 2}, mean: 0.79487, std: 0.03062, params: {'colsample_bytree': 0.6, 'learning_rate': 0.01, 'nthread': 4, 'min_child_weight': 1, 'n_estimators': 300, 'subsample': 0.8, 'max_depth': 5, 'gamma': 2}, mean: 0.79487, std: 0.03062, params: {'colsample_bytree': 0.6, 'learning_rate': 0.01, 'nthread': 4, 'min_child_weight': 1, 'n_estimators': 300, 'subsample': 0.9, 'max_depth': 5, 'gamma': 2}, mean: 0.79953, std: 0.02792, params: {'colsample_bytree': 0.6, 'learning_rate': 0.01, 'nthread': 4, 'min_child_weight': 5, 'n_estimators': 100, 'subsample': 0.8, 'max_depth': 5, 'gamma': 2}, mean: 0.79953, std: 0.02792, params: {'colsample_bytree': 0.6, 'learning_rate': 0.01, 'nthread': 4, 'min_child_weight': 5, 'n_estimators': 100, 'subsample': 0.9, 'max_depth': 5, 'gamma': 2}, mean: 0.80420, std: 0.02618, params: {'colsample_bytree': 0.6, 'learning_rate': 0.01, 'nthread': 4, 'min_child_weight': 5, 'n_estimators': 300, 'subsample': 0.8, 'max_depth': 5, 'gamma': 2}, mean: 0.80186, std: 0.02656, params: {'colsample_bytree': 0.6, 'learning_rate': 0.01, 'nthread': 4, 'min_child_weight': 5, 'n_estimators': 300, 'subsample': 0.9, 'max_depth': 5, 'gamma': 2}, mean: 0.77855, std: 0.00830, params: {'colsample_bytree': 0.6, 'learning_rate': 0.01, 'nthread': 4, 'min_child_weight': 10, 'n_estimators': 100, 'subsample': 0.8, 'max_depth': 5, 'gamma': 2}, mean: 0.79953, std: 0.02792, params: {'colsample_bytree': 0.6, 'learning_rate': 0.01, 'nthread': 4, 'min_child_weight': 10, 'n_estimators': 100, 'subsample': 0.9, 'max_depth': 5, 'gamma': 2}, mean: 0.76690, std: 0.03394, params: {'colsample_bytree': 0.6, 'learning_rate': 0.01, 'nthread': 4, 'min_child_weight': 10, 'n_estimators': 300, 'subsample': 0.8, 'max_depth': 5, 'gamma': 2}, mean: 0.79254, std: 0.01912, params: {'colsample_bytree': 0.6, 'learning_rate': 0.01, 'nthread': 4, 'min_child_weight': 10, 'n_estimators': 300, 'subsample': 0.9, 'max_depth': 5, 'gamma': 2}, mean: 0.80420, std: 0.02781, params: {'colsample_bytree': 0.6, 'learning_rate': 0.01, 'nthread': 4, 'min_child_weight': 1, 'n_estimators': 100, 'subsample': 0.8, 'max_depth': 7, 'gamma': 2}, mean: 0.79487, std: 0.02026, params: {'colsample_bytree': 0.6, 'learning_rate': 0.01, 'nthread': 4, 'min_child_weight': 1, 'n_estimators': 100, 'subsample': 0.9, 'max_depth': 7, 'gamma': 2}, mean: 0.79254, std: 0.03894, params: {'colsample_bytree': 0.6, 'learning_rate': 0.01, 'nthread': 4, 'min_child_weight': 1, 'n_estimators': 300, 'subsample': 0.8, 'max_depth': 7, 'gamma': 2}, mean: 0.78788, std: 0.03755, params: {'colsample_bytree': 0.6, 'learning_rate': 0.01, 'nthread': 4, 'min_child_weight': 1, 'n_estimators': 300, 'subsample': 0.9, 'max_depth': 7, 'gamma': 2}, mean: 0.79953, std: 0.02792, params: {'colsample_bytree': 0.6, 'learning_rate': 0.01, 'nthread': 4, 'min_child_weight': 5, 'n_estimators': 100, 'subsample': 0.8, 'max_depth': 7, 'gamma': 2}, mean: 0.79953, std: 0.02792, params: {'colsample_bytree': 0.6, 'learning_rate': 0.01, 'nthread': 4, 'min_child_weight': 5, 'n_estimators': 100, 'subsample': 0.9, 'max_depth': 7, 'gamma': 2}, mean: 0.80420, std: 0.02618, params: {'colsample_bytree': 0.6, 'learning_rate': 0.01, 'nthread': 4, 'min_child_weight': 5, 'n_estimators': 300, 'subsample': 0.8, 'max_depth': 7, 'gamma': 2}, mean: 0.80186, std: 0.02656, params: {'colsample_bytree': 0.6, 'learning_rate': 0.01, 'nthread': 4, 'min_child_weight': 5, 'n_estimators': 300, 'subsample': 0.9, 'max_depth': 7, 'gamma': 2}, mean: 0.77855, std: 0.00830, params: {'colsample_bytree': 0.6, 'learning_rate': 0.01, 'nthread': 4, 'min_child_weight': 10, 'n_estimators': 100, 'subsample': 0.8, 'max_depth': 7, 'gamma': 2}, mean: 0.79953, std: 0.02792, params: {'colsample_bytree': 0.6, 'learning_rate': 0.01, 'nthread': 4, 'min_child_weight': 10, 'n_estimators': 100, 'subsample': 0.9, 'max_depth': 7, 'gamma': 2}, mean: 0.76690, std: 0.03394, params: {'colsample_bytree': 0.6, 'learning_rate': 0.01, 'nthread': 4, 'min_child_weight': 10, 'n_estimators': 300, 'subsample': 0.8, 'max_depth': 7, 'gamma': 2}, mean: 0.79254, std: 0.01912, params: {'colsample_bytree': 0.6, 'learning_rate': 0.01, 'nthread': 4, 'min_child_weight': 10, 'n_estimators': 300, 'subsample': 0.9, 'max_depth': 7, 'gamma': 2}, mean: 0.79953, std: 0.02792, params: {'colsample_bytree': 0.6, 'learning_rate': 0.01, 'nthread': 4, 'min_child_weight': 1, 'n_estimators': 100, 'subsample': 0.8, 'max_depth': 3, 'gamma': 3}, mean: 0.79953, std: 0.02792, params: {'colsample_bytree': 0.6, 'learning_rate': 0.01, 'nthread': 4, 'min_child_weight': 1, 'n_estimators': 100, 'subsample': 0.9, 'max_depth': 3, 'gamma': 3}, mean: 0.80186, std: 0.02656, params: {'colsample_bytree': 0.6, 'learning_rate': 0.01, 'nthread': 4, 'min_child_weight': 1, 'n_estimators': 300, 'subsample': 0.8, 'max_depth': 3, 'gamma': 3}, mean: 0.80186, std: 0.02656, params: {'colsample_bytree': 0.6, 'learning_rate': 0.01, 'nthread': 4, 'min_child_weight': 1, 'n_estimators': 300, 'subsample': 0.9, 'max_depth': 3, 'gamma': 3}, mean: 0.79953, std: 0.02792, params: {'colsample_bytree': 0.6, 'learning_rate': 0.01, 'nthread': 4, 'min_child_weight': 5, 'n_estimators': 100, 'subsample': 0.8, 'max_depth': 3, 'gamma': 3}, mean: 0.79953, std: 0.02792, params: {'colsample_bytree': 0.6, 'learning_rate': 0.01, 'nthread': 4, 'min_child_weight': 5, 'n_estimators': 100, 'subsample': 0.9, 'max_depth': 3, 'gamma': 3}, mean: 0.79953, std: 0.02792, params: {'colsample_bytree': 0.6, 'learning_rate': 0.01, 'nthread': 4, 'min_child_weight': 5, 'n_estimators': 300, 'subsample': 0.8, 'max_depth': 3, 'gamma': 3}, mean: 0.79953, std: 0.02792, params: {'colsample_bytree': 0.6, 'learning_rate': 0.01, 'nthread': 4, 'min_child_weight': 5, 'n_estimators': 300, 'subsample': 0.9, 'max_depth': 3, 'gamma': 3}, mean: 0.78322, std: 0.01176, params: {'colsample_bytree': 0.6, 'learning_rate': 0.01, 'nthread': 4, 'min_child_weight': 10, 'n_estimators': 100, 'subsample': 0.8, 'max_depth': 3, 'gamma': 3}, mean: 0.79953, std: 0.02792, params: {'colsample_bytree': 0.6, 'learning_rate': 0.01, 'nthread': 4, 'min_child_weight': 10, 'n_estimators': 100, 'subsample': 0.9, 'max_depth': 3, 'gamma': 3}, mean: 0.76923, std: 0.02857, params: {'colsample_bytree': 0.6, 'learning_rate': 0.01, 'nthread': 4, 'min_child_weight': 10, 'n_estimators': 300, 'subsample': 0.8, 'max_depth': 3, 'gamma': 3}, mean: 0.79953, std: 0.02792, params: {'colsample_bytree': 0.6, 'learning_rate': 0.01, 'nthread': 4, 'min_child_weight': 10, 'n_estimators': 300, 'subsample': 0.9, 'max_depth': 3, 'gamma': 3}, mean: 0.79953, std: 0.02792, params: {'colsample_bytree': 0.6, 'learning_rate': 0.01, 'nthread': 4, 'min_child_weight': 1, 'n_estimators': 100, 'subsample': 0.8, 'max_depth': 5, 'gamma': 3}, mean: 0.79953, std: 0.02792, params: {'colsample_bytree': 0.6, 'learning_rate': 0.01, 'nthread': 4, 'min_child_weight': 1, 'n_estimators': 100, 'subsample': 0.9, 'max_depth': 5, 'gamma': 3}, mean: 0.79953, std: 0.02770, params: {'colsample_bytree': 0.6, 'learning_rate': 0.01, 'nthread': 4, 'min_child_weight': 1, 'n_estimators': 300, 'subsample': 0.8, 'max_depth': 5, 'gamma': 3}, mean: 0.79953, std: 0.02770, params: {'colsample_bytree': 0.6, 'learning_rate': 0.01, 'nthread': 4, 'min_child_weight': 1, 'n_estimators': 300, 'subsample': 0.9, 'max_depth': 5, 'gamma': 3}, mean: 0.79953, std: 0.02792, params: {'colsample_bytree': 0.6, 'learning_rate': 0.01, 'nthread': 4, 'min_child_weight': 5, 'n_estimators': 100, 'subsample': 0.8, 'max_depth': 5, 'gamma': 3}, mean: 0.79953, std: 0.02792, params: {'colsample_bytree': 0.6, 'learning_rate': 0.01, 'nthread': 4, 'min_child_weight': 5, 'n_estimators': 100, 'subsample': 0.9, 'max_depth': 5, 'gamma': 3}, mean: 0.79953, std: 0.02792, params: {'colsample_bytree': 0.6, 'learning_rate': 0.01, 'nthread': 4, 'min_child_weight': 5, 'n_estimators': 300, 'subsample': 0.8, 'max_depth': 5, 'gamma': 3}, mean: 0.79953, std: 0.02792, params: {'colsample_bytree': 0.6, 'learning_rate': 0.01, 'nthread': 4, 'min_child_weight': 5, 'n_estimators': 300, 'subsample': 0.9, 'max_depth': 5, 'gamma': 3}, mean: 0.78322, std: 0.01176, params: {'colsample_bytree': 0.6, 'learning_rate': 0.01, 'nthread': 4, 'min_child_weight': 10, 'n_estimators': 100, 'subsample': 0.8, 'max_depth': 5, 'gamma': 3}, mean: 0.79953, std: 0.02792, params: {'colsample_bytree': 0.6, 'learning_rate': 0.01, 'nthread': 4, 'min_child_weight': 10, 'n_estimators': 100, 'subsample': 0.9, 'max_depth': 5, 'gamma': 3}, mean: 0.76923, std: 0.02857, params: {'colsample_bytree': 0.6, 'learning_rate': 0.01, 'nthread': 4, 'min_child_weight': 10, 'n_estimators': 300, 'subsample': 0.8, 'max_depth': 5, 'gamma': 3}, mean: 0.79953, std: 0.02792, params: {'colsample_bytree': 0.6, 'learning_rate': 0.01, 'nthread': 4, 'min_child_weight': 10, 'n_estimators': 300, 'subsample': 0.9, 'max_depth': 5, 'gamma': 3}, mean: 0.79953, std: 0.02792, params: {'colsample_bytree': 0.6, 'learning_rate': 0.01, 'nthread': 4, 'min_child_weight': 1, 'n_estimators': 100, 'subsample': 0.8, 'max_depth': 7, 'gamma': 3}, mean: 0.79720, std: 0.02406, params: {'colsample_bytree': 0.6, 'learning_rate': 0.01, 'nthread': 4, 'min_child_weight': 1, 'n_estimators': 100, 'subsample': 0.9, 'max_depth': 7, 'gamma': 3}, mean: 0.79953, std: 0.02770, params: {'colsample_bytree': 0.6, 'learning_rate': 0.01, 'nthread': 4, 'min_child_weight': 1, 'n_estimators': 300, 'subsample': 0.8, 'max_depth': 7, 'gamma': 3}, mean: 0.79953, std: 0.02770, params: {'colsample_bytree': 0.6, 'learning_rate': 0.01, 'nthread': 4, 'min_child_weight': 1, 'n_estimators': 300, 'subsample': 0.9, 'max_depth': 7, 'gamma': 3}, mean: 0.79953, std: 0.02792, params: {'colsample_bytree': 0.6, 'learning_rate': 0.01, 'nthread': 4, 'min_child_weight': 5, 'n_estimators': 100, 'subsample': 0.8, 'max_depth': 7, 'gamma': 3}, mean: 0.79953, std: 0.02792, params: {'colsample_bytree': 0.6, 'learning_rate': 0.01, 'nthread': 4, 'min_child_weight': 5, 'n_estimators': 100, 'subsample': 0.9, 'max_depth': 7, 'gamma': 3}, mean: 0.79953, std: 0.02792, params: {'colsample_bytree': 0.6, 'learning_rate': 0.01, 'nthread': 4, 'min_child_weight': 5, 'n_estimators': 300, 'subsample': 0.8, 'max_depth': 7, 'gamma': 3}, mean: 0.79953, std: 0.02792, params: {'colsample_bytree': 0.6, 'learning_rate': 0.01, 'nthread': 4, 'min_child_weight': 5, 'n_estimators': 300, 'subsample': 0.9, 'max_depth': 7, 'gamma': 3}, mean: 0.78322, std: 0.01176, params: {'colsample_bytree': 0.6, 'learning_rate': 0.01, 'nthread': 4, 'min_child_weight': 10, 'n_estimators': 100, 'subsample': 0.8, 'max_depth': 7, 'gamma': 3}, mean: 0.79953, std: 0.02792, params: {'colsample_bytree': 0.6, 'learning_rate': 0.01, 'nthread': 4, 'min_child_weight': 10, 'n_estimators': 100, 'subsample': 0.9, 'max_depth': 7, 'gamma': 3}, mean: 0.76923, std: 0.02857, params: {'colsample_bytree': 0.6, 'learning_rate': 0.01, 'nthread': 4, 'min_child_weight': 10, 'n_estimators': 300, 'subsample': 0.8, 'max_depth': 7, 'gamma': 3}, mean: 0.79953, std: 0.02792, params: {'colsample_bytree': 0.6, 'learning_rate': 0.01, 'nthread': 4, 'min_child_weight': 10, 'n_estimators': 300, 'subsample': 0.9, 'max_depth': 7, 'gamma': 3}, mean: 0.79953, std: 0.02792, params: {'colsample_bytree': 0.7, 'learning_rate': 0.01, 'nthread': 4, 'min_child_weight': 1, 'n_estimators': 100, 'subsample': 0.8, 'max_depth': 3, 'gamma': 1}, mean: 0.79487, std: 0.02489, params: {'colsample_bytree': 0.7, 'learning_rate': 0.01, 'nthread': 4, 'min_child_weight': 1, 'n_estimators': 100, 'subsample': 0.9, 'max_depth': 3, 'gamma': 1}, mean: 0.79720, std: 0.02729, params: {'colsample_bytree': 0.7, 'learning_rate': 0.01, 'nthread': 4, 'min_child_weight': 1, 'n_estimators': 300, 'subsample': 0.8, 'max_depth': 3, 'gamma': 1}, mean: 0.79021, std: 0.01961, params: {'colsample_bytree': 0.7, 'learning_rate': 0.01, 'nthread': 4, 'min_child_weight': 1, 'n_estimators': 300, 'subsample': 0.9, 'max_depth': 3, 'gamma': 1}, mean: 0.79953, std: 0.02792, params: {'colsample_bytree': 0.7, 'learning_rate': 0.01, 'nthread': 4, 'min_child_weight': 5, 'n_estimators': 100, 'subsample': 0.8, 'max_depth': 3, 'gamma': 1}, mean: 0.79953, std: 0.02792, params: {'colsample_bytree': 0.7, 'learning_rate': 0.01, 'nthread': 4, 'min_child_weight': 5, 'n_estimators': 100, 'subsample': 0.9, 'max_depth': 3, 'gamma': 1}, mean: 0.80420, std: 0.02618, params: {'colsample_bytree': 0.7, 'learning_rate': 0.01, 'nthread': 4, 'min_child_weight': 5, 'n_estimators': 300, 'subsample': 0.8, 'max_depth': 3, 'gamma': 1}, mean: 0.80420, std: 0.02618, params: {'colsample_bytree': 0.7, 'learning_rate': 0.01, 'nthread': 4, 'min_child_weight': 5, 'n_estimators': 300, 'subsample': 0.9, 'max_depth': 3, 'gamma': 1}, mean: 0.78788, std: 0.01479, params: {'colsample_bytree': 0.7, 'learning_rate': 0.01, 'nthread': 4, 'min_child_weight': 10, 'n_estimators': 100, 'subsample': 0.8, 'max_depth': 3, 'gamma': 1}, mean: 0.79953, std: 0.02792, params: {'colsample_bytree': 0.7, 'learning_rate': 0.01, 'nthread': 4, 'min_child_weight': 10, 'n_estimators': 100, 'subsample': 0.9, 'max_depth': 3, 'gamma': 1}, mean: 0.76457, std: 0.04018, params: {'colsample_bytree': 0.7, 'learning_rate': 0.01, 'nthread': 4, 'min_child_weight': 10, 'n_estimators': 300, 'subsample': 0.8, 'max_depth': 3, 'gamma': 1}, mean: 0.79254, std: 0.01912, params: {'colsample_bytree': 0.7, 'learning_rate': 0.01, 'nthread': 4, 'min_child_weight': 10, 'n_estimators': 300, 'subsample': 0.9, 'max_depth': 3, 'gamma': 1}, mean: 0.79720, std: 0.02878, params: {'colsample_bytree': 0.7, 'learning_rate': 0.01, 'nthread': 4, 'min_child_weight': 1, 'n_estimators': 100, 'subsample': 0.8, 'max_depth': 5, 'gamma': 1}, mean: 0.79254, std: 0.02126, params: {'colsample_bytree': 0.7, 'learning_rate': 0.01, 'nthread': 4, 'min_child_weight': 1, 'n_estimators': 100, 'subsample': 0.9, 'max_depth': 5, 'gamma': 1}, mean: 0.78555, std: 0.03398, params: {'colsample_bytree': 0.7, 'learning_rate': 0.01, 'nthread': 4, 'min_child_weight': 1, 'n_estimators': 300, 'subsample': 0.8, 'max_depth': 5, 'gamma': 1}, mean: 0.77855, std: 0.03114, params: {'colsample_bytree': 0.7, 'learning_rate': 0.01, 'nthread': 4, 'min_child_weight': 1, 'n_estimators': 300, 'subsample': 0.9, 'max_depth': 5, 'gamma': 1}, mean: 0.79953, std: 0.02792, params: {'colsample_bytree': 0.7, 'learning_rate': 0.01, 'nthread': 4, 'min_child_weight': 5, 'n_estimators': 100, 'subsample': 0.8, 'max_depth': 5, 'gamma': 1}, mean: 0.79953, std: 0.02792, params: {'colsample_bytree': 0.7, 'learning_rate': 0.01, 'nthread': 4, 'min_child_weight': 5, 'n_estimators': 100, 'subsample': 0.9, 'max_depth': 5, 'gamma': 1}, mean: 0.80186, std: 0.02776, params: {'colsample_bytree': 0.7, 'learning_rate': 0.01, 'nthread': 4, 'min_child_weight': 5, 'n_estimators': 300, 'subsample': 0.8, 'max_depth': 5, 'gamma': 1}, mean: 0.80186, std: 0.03127, params: {'colsample_bytree': 0.7, 'learning_rate': 0.01, 'nthread': 4, 'min_child_weight': 5, 'n_estimators': 300, 'subsample': 0.9, 'max_depth': 5, 'gamma': 1}, mean: 0.78788, std: 0.01479, params: {'colsample_bytree': 0.7, 'learning_rate': 0.01, 'nthread': 4, 'min_child_weight': 10, 'n_estimators': 100, 'subsample': 0.8, 'max_depth': 5, 'gamma': 1}, mean: 0.79953, std: 0.02792, params: {'colsample_bytree': 0.7, 'learning_rate': 0.01, 'nthread': 4, 'min_child_weight': 10, 'n_estimators': 100, 'subsample': 0.9, 'max_depth': 5, 'gamma': 1}, mean: 0.76457, std: 0.04018, params: {'colsample_bytree': 0.7, 'learning_rate': 0.01, 'nthread': 4, 'min_child_weight': 10, 'n_estimators': 300, 'subsample': 0.8, 'max_depth': 5, 'gamma': 1}, mean: 0.79487, std: 0.02055, params: {'colsample_bytree': 0.7, 'learning_rate': 0.01, 'nthread': 4, 'min_child_weight': 10, 'n_estimators': 300, 'subsample': 0.9, 'max_depth': 5, 'gamma': 1}, mean: 0.79487, std: 0.02697, params: {'colsample_bytree': 0.7, 'learning_rate': 0.01, 'nthread': 4, 'min_child_weight': 1, 'n_estimators': 100, 'subsample': 0.8, 'max_depth': 7, 'gamma': 1}, mean: 0.78555, std: 0.02400, params: {'colsample_bytree': 0.7, 'learning_rate': 0.01, 'nthread': 4, 'min_child_weight': 1, 'n_estimators': 100, 'subsample': 0.9, 'max_depth': 7, 'gamma': 1}, mean: 0.77855, std: 0.03201, params: {'colsample_bytree': 0.7, 'learning_rate': 0.01, 'nthread': 4, 'min_child_weight': 1, 'n_estimators': 300, 'subsample': 0.8, 'max_depth': 7, 'gamma': 1}, mean: 0.77389, std: 0.02886, params: {'colsample_bytree': 0.7, 'learning_rate': 0.01, 'nthread': 4, 'min_child_weight': 1, 'n_estimators': 300, 'subsample': 0.9, 'max_depth': 7, 'gamma': 1}, mean: 0.79953, std: 0.02792, params: {'colsample_bytree': 0.7, 'learning_rate': 0.01, 'nthread': 4, 'min_child_weight': 5, 'n_estimators': 100, 'subsample': 0.8, 'max_depth': 7, 'gamma': 1}, mean: 0.79953, std: 0.02792, params: {'colsample_bytree': 0.7, 'learning_rate': 0.01, 'nthread': 4, 'min_child_weight': 5, 'n_estimators': 100, 'subsample': 0.9, 'max_depth': 7, 'gamma': 1}, mean: 0.80186, std: 0.02776, params: {'colsample_bytree': 0.7, 'learning_rate': 0.01, 'nthread': 4, 'min_child_weight': 5, 'n_estimators': 300, 'subsample': 0.8, 'max_depth': 7, 'gamma': 1}, mean: 0.80186, std: 0.03127, params: {'colsample_bytree': 0.7, 'learning_rate': 0.01, 'nthread': 4, 'min_child_weight': 5, 'n_estimators': 300, 'subsample': 0.9, 'max_depth': 7, 'gamma': 1}, mean: 0.78788, std: 0.01479, params: {'colsample_bytree': 0.7, 'learning_rate': 0.01, 'nthread': 4, 'min_child_weight': 10, 'n_estimators': 100, 'subsample': 0.8, 'max_depth': 7, 'gamma': 1}, mean: 0.79953, std: 0.02792, params: {'colsample_bytree': 0.7, 'learning_rate': 0.01, 'nthread': 4, 'min_child_weight': 10, 'n_estimators': 100, 'subsample': 0.9, 'max_depth': 7, 'gamma': 1}, mean: 0.76457, std: 0.04018, params: {'colsample_bytree': 0.7, 'learning_rate': 0.01, 'nthread': 4, 'min_child_weight': 10, 'n_estimators': 300, 'subsample': 0.8, 'max_depth': 7, 'gamma': 1}, mean: 0.79487, std: 0.02055, params: {'colsample_bytree': 0.7, 'learning_rate': 0.01, 'nthread': 4, 'min_child_weight': 10, 'n_estimators': 300, 'subsample': 0.9, 'max_depth': 7, 'gamma': 1}, mean: 0.79953, std: 0.02792, params: {'colsample_bytree': 0.7, 'learning_rate': 0.01, 'nthread': 4, 'min_child_weight': 1, 'n_estimators': 100, 'subsample': 0.8, 'max_depth': 3, 'gamma': 2}, mean: 0.79487, std: 0.02618, params: {'colsample_bytree': 0.7, 'learning_rate': 0.01, 'nthread': 4, 'min_child_weight': 1, 'n_estimators': 100, 'subsample': 0.9, 'max_depth': 3, 'gamma': 2}, mean: 0.79720, std: 0.02729, params: {'colsample_bytree': 0.7, 'learning_rate': 0.01, 'nthread': 4, 'min_child_weight': 1, 'n_estimators': 300, 'subsample': 0.8, 'max_depth': 3, 'gamma': 2}, mean: 0.79254, std: 0.02372, params: {'colsample_bytree': 0.7, 'learning_rate': 0.01, 'nthread': 4, 'min_child_weight': 1, 'n_estimators': 300, 'subsample': 0.9, 'max_depth': 3, 'gamma': 2}, mean: 0.79953, std: 0.02792, params: {'colsample_bytree': 0.7, 'learning_rate': 0.01, 'nthread': 4, 'min_child_weight': 5, 'n_estimators': 100, 'subsample': 0.8, 'max_depth': 3, 'gamma': 2}, mean: 0.79953, std: 0.02792, params: {'colsample_bytree': 0.7, 'learning_rate': 0.01, 'nthread': 4, 'min_child_weight': 5, 'n_estimators': 100, 'subsample': 0.9, 'max_depth': 3, 'gamma': 2}, mean: 0.80420, std: 0.02618, params: {'colsample_bytree': 0.7, 'learning_rate': 0.01, 'nthread': 4, 'min_child_weight': 5, 'n_estimators': 300, 'subsample': 0.8, 'max_depth': 3, 'gamma': 2}, mean: 0.80186, std: 0.02656, params: {'colsample_bytree': 0.7, 'learning_rate': 0.01, 'nthread': 4, 'min_child_weight': 5, 'n_estimators': 300, 'subsample': 0.9, 'max_depth': 3, 'gamma': 2}, mean: 0.78788, std: 0.01479, params: {'colsample_bytree': 0.7, 'learning_rate': 0.01, 'nthread': 4, 'min_child_weight': 10, 'n_estimators': 100, 'subsample': 0.8, 'max_depth': 3, 'gamma': 2}, mean: 0.79953, std: 0.02792, params: {'colsample_bytree': 0.7, 'learning_rate': 0.01, 'nthread': 4, 'min_child_weight': 10, 'n_estimators': 100, 'subsample': 0.9, 'max_depth': 3, 'gamma': 2}, mean: 0.76224, std: 0.04214, params: {'colsample_bytree': 0.7, 'learning_rate': 0.01, 'nthread': 4, 'min_child_weight': 10, 'n_estimators': 300, 'subsample': 0.8, 'max_depth': 3, 'gamma': 2}, mean: 0.79254, std: 0.01912, params: {'colsample_bytree': 0.7, 'learning_rate': 0.01, 'nthread': 4, 'min_child_weight': 10, 'n_estimators': 300, 'subsample': 0.9, 'max_depth': 3, 'gamma': 2}, mean: 0.80186, std: 0.02909, params: {'colsample_bytree': 0.7, 'learning_rate': 0.01, 'nthread': 4, 'min_child_weight': 1, 'n_estimators': 100, 'subsample': 0.8, 'max_depth': 5, 'gamma': 2}, mean: 0.79254, std: 0.02126, params: {'colsample_bytree': 0.7, 'learning_rate': 0.01, 'nthread': 4, 'min_child_weight': 1, 'n_estimators': 100, 'subsample': 0.9, 'max_depth': 5, 'gamma': 2}, mean: 0.79021, std: 0.04135, params: {'colsample_bytree': 0.7, 'learning_rate': 0.01, 'nthread': 4, 'min_child_weight': 1, 'n_estimators': 300, 'subsample': 0.8, 'max_depth': 5, 'gamma': 2}, mean: 0.78555, std: 0.03398, params: {'colsample_bytree': 0.7, 'learning_rate': 0.01, 'nthread': 4, 'min_child_weight': 1, 'n_estimators': 300, 'subsample': 0.9, 'max_depth': 5, 'gamma': 2}, mean: 0.79953, std: 0.02792, params: {'colsample_bytree': 0.7, 'learning_rate': 0.01, 'nthread': 4, 'min_child_weight': 5, 'n_estimators': 100, 'subsample': 0.8, 'max_depth': 5, 'gamma': 2}, mean: 0.79953, std: 0.02792, params: {'colsample_bytree': 0.7, 'learning_rate': 0.01, 'nthread': 4, 'min_child_weight': 5, 'n_estimators': 100, 'subsample': 0.9, 'max_depth': 5, 'gamma': 2}, mean: 0.80420, std: 0.02618, params: {'colsample_bytree': 0.7, 'learning_rate': 0.01, 'nthread': 4, 'min_child_weight': 5, 'n_estimators': 300, 'subsample': 0.8, 'max_depth': 5, 'gamma': 2}, mean: 0.80186, std: 0.02656, params: {'colsample_bytree': 0.7, 'learning_rate': 0.01, 'nthread': 4, 'min_child_weight': 5, 'n_estimators': 300, 'subsample': 0.9, 'max_depth': 5, 'gamma': 2}, mean: 0.78788, std: 0.01479, params: {'colsample_bytree': 0.7, 'learning_rate': 0.01, 'nthread': 4, 'min_child_weight': 10, 'n_estimators': 100, 'subsample': 0.8, 'max_depth': 5, 'gamma': 2}, mean: 0.79953, std: 0.02792, params: {'colsample_bytree': 0.7, 'learning_rate': 0.01, 'nthread': 4, 'min_child_weight': 10, 'n_estimators': 100, 'subsample': 0.9, 'max_depth': 5, 'gamma': 2}, mean: 0.76224, std: 0.04214, params: {'colsample_bytree': 0.7, 'learning_rate': 0.01, 'nthread': 4, 'min_child_weight': 10, 'n_estimators': 300, 'subsample': 0.8, 'max_depth': 5, 'gamma': 2}, mean: 0.79254, std: 0.01912, params: {'colsample_bytree': 0.7, 'learning_rate': 0.01, 'nthread': 4, 'min_child_weight': 10, 'n_estimators': 300, 'subsample': 0.9, 'max_depth': 5, 'gamma': 2}, mean: 0.80420, std: 0.03287, params: {'colsample_bytree': 0.7, 'learning_rate': 0.01, 'nthread': 4, 'min_child_weight': 1, 'n_estimators': 100, 'subsample': 0.8, 'max_depth': 7, 'gamma': 2}, mean: 0.79254, std: 0.02675, params: {'colsample_bytree': 0.7, 'learning_rate': 0.01, 'nthread': 4, 'min_child_weight': 1, 'n_estimators': 100, 'subsample': 0.9, 'max_depth': 7, 'gamma': 2}, mean: 0.78788, std: 0.03755, params: {'colsample_bytree': 0.7, 'learning_rate': 0.01, 'nthread': 4, 'min_child_weight': 1, 'n_estimators': 300, 'subsample': 0.8, 'max_depth': 7, 'gamma': 2}, mean: 0.78322, std: 0.03700, params: {'colsample_bytree': 0.7, 'learning_rate': 0.01, 'nthread': 4, 'min_child_weight': 1, 'n_estimators': 300, 'subsample': 0.9, 'max_depth': 7, 'gamma': 2}, mean: 0.79953, std: 0.02792, params: {'colsample_bytree': 0.7, 'learning_rate': 0.01, 'nthread': 4, 'min_child_weight': 5, 'n_estimators': 100, 'subsample': 0.8, 'max_depth': 7, 'gamma': 2}, mean: 0.79953, std: 0.02792, params: {'colsample_bytree': 0.7, 'learning_rate': 0.01, 'nthread': 4, 'min_child_weight': 5, 'n_estimators': 100, 'subsample': 0.9, 'max_depth': 7, 'gamma': 2}, mean: 0.80420, std: 0.02618, params: {'colsample_bytree': 0.7, 'learning_rate': 0.01, 'nthread': 4, 'min_child_weight': 5, 'n_estimators': 300, 'subsample': 0.8, 'max_depth': 7, 'gamma': 2}, mean: 0.80186, std: 0.02656, params: {'colsample_bytree': 0.7, 'learning_rate': 0.01, 'nthread': 4, 'min_child_weight': 5, 'n_estimators': 300, 'subsample': 0.9, 'max_depth': 7, 'gamma': 2}, mean: 0.78788, std: 0.01479, params: {'colsample_bytree': 0.7, 'learning_rate': 0.01, 'nthread': 4, 'min_child_weight': 10, 'n_estimators': 100, 'subsample': 0.8, 'max_depth': 7, 'gamma': 2}, mean: 0.79953, std: 0.02792, params: {'colsample_bytree': 0.7, 'learning_rate': 0.01, 'nthread': 4, 'min_child_weight': 10, 'n_estimators': 100, 'subsample': 0.9, 'max_depth': 7, 'gamma': 2}, mean: 0.76224, std: 0.04214, params: {'colsample_bytree': 0.7, 'learning_rate': 0.01, 'nthread': 4, 'min_child_weight': 10, 'n_estimators': 300, 'subsample': 0.8, 'max_depth': 7, 'gamma': 2}, mean: 0.79254, std: 0.01912, params: {'colsample_bytree': 0.7, 'learning_rate': 0.01, 'nthread': 4, 'min_child_weight': 10, 'n_estimators': 300, 'subsample': 0.9, 'max_depth': 7, 'gamma': 2}, mean: 0.79953, std: 0.02792, params: {'colsample_bytree': 0.7, 'learning_rate': 0.01, 'nthread': 4, 'min_child_weight': 1, 'n_estimators': 100, 'subsample': 0.8, 'max_depth': 3, 'gamma': 3}, mean: 0.79720, std: 0.02995, params: {'colsample_bytree': 0.7, 'learning_rate': 0.01, 'nthread': 4, 'min_child_weight': 1, 'n_estimators': 100, 'subsample': 0.9, 'max_depth': 3, 'gamma': 3}, mean: 0.80186, std: 0.02656, params: {'colsample_bytree': 0.7, 'learning_rate': 0.01, 'nthread': 4, 'min_child_weight': 1, 'n_estimators': 300, 'subsample': 0.8, 'max_depth': 3, 'gamma': 3}, mean: 0.80186, std: 0.02656, params: {'colsample_bytree': 0.7, 'learning_rate': 0.01, 'nthread': 4, 'min_child_weight': 1, 'n_estimators': 300, 'subsample': 0.9, 'max_depth': 3, 'gamma': 3}, mean: 0.79953, std: 0.02792, params: {'colsample_bytree': 0.7, 'learning_rate': 0.01, 'nthread': 4, 'min_child_weight': 5, 'n_estimators': 100, 'subsample': 0.8, 'max_depth': 3, 'gamma': 3}, mean: 0.79953, std: 0.02792, params: {'colsample_bytree': 0.7, 'learning_rate': 0.01, 'nthread': 4, 'min_child_weight': 5, 'n_estimators': 100, 'subsample': 0.9, 'max_depth': 3, 'gamma': 3}, mean: 0.79953, std: 0.02792, params: {'colsample_bytree': 0.7, 'learning_rate': 0.01, 'nthread': 4, 'min_child_weight': 5, 'n_estimators': 300, 'subsample': 0.8, 'max_depth': 3, 'gamma': 3}, mean: 0.79953, std: 0.02792, params: {'colsample_bytree': 0.7, 'learning_rate': 0.01, 'nthread': 4, 'min_child_weight': 5, 'n_estimators': 300, 'subsample': 0.9, 'max_depth': 3, 'gamma': 3}, mean: 0.78322, std: 0.01176, params: {'colsample_bytree': 0.7, 'learning_rate': 0.01, 'nthread': 4, 'min_child_weight': 10, 'n_estimators': 100, 'subsample': 0.8, 'max_depth': 3, 'gamma': 3}, mean: 0.79953, std: 0.02792, params: {'colsample_bytree': 0.7, 'learning_rate': 0.01, 'nthread': 4, 'min_child_weight': 10, 'n_estimators': 100, 'subsample': 0.9, 'max_depth': 3, 'gamma': 3}, mean: 0.76224, std: 0.04106, params: {'colsample_bytree': 0.7, 'learning_rate': 0.01, 'nthread': 4, 'min_child_weight': 10, 'n_estimators': 300, 'subsample': 0.8, 'max_depth': 3, 'gamma': 3}, mean: 0.79720, std: 0.02406, params: {'colsample_bytree': 0.7, 'learning_rate': 0.01, 'nthread': 4, 'min_child_weight': 10, 'n_estimators': 300, 'subsample': 0.9, 'max_depth': 3, 'gamma': 3}, mean: 0.80186, std: 0.02656, params: {'colsample_bytree': 0.7, 'learning_rate': 0.01, 'nthread': 4, 'min_child_weight': 1, 'n_estimators': 100, 'subsample': 0.8, 'max_depth': 5, 'gamma': 3}, mean: 0.79487, std: 0.02489, params: {'colsample_bytree': 0.7, 'learning_rate': 0.01, 'nthread': 4, 'min_child_weight': 1, 'n_estimators': 100, 'subsample': 0.9, 'max_depth': 5, 'gamma': 3}, mean: 0.79720, std: 0.02707, params: {'colsample_bytree': 0.7, 'learning_rate': 0.01, 'nthread': 4, 'min_child_weight': 1, 'n_estimators': 300, 'subsample': 0.8, 'max_depth': 5, 'gamma': 3}, mean: 0.79953, std: 0.02770, params: {'colsample_bytree': 0.7, 'learning_rate': 0.01, 'nthread': 4, 'min_child_weight': 1, 'n_estimators': 300, 'subsample': 0.9, 'max_depth': 5, 'gamma': 3}, mean: 0.79953, std: 0.02792, params: {'colsample_bytree': 0.7, 'learning_rate': 0.01, 'nthread': 4, 'min_child_weight': 5, 'n_estimators': 100, 'subsample': 0.8, 'max_depth': 5, 'gamma': 3}, mean: 0.79953, std: 0.02792, params: {'colsample_bytree': 0.7, 'learning_rate': 0.01, 'nthread': 4, 'min_child_weight': 5, 'n_estimators': 100, 'subsample': 0.9, 'max_depth': 5, 'gamma': 3}, mean: 0.79953, std: 0.02792, params: {'colsample_bytree': 0.7, 'learning_rate': 0.01, 'nthread': 4, 'min_child_weight': 5, 'n_estimators': 300, 'subsample': 0.8, 'max_depth': 5, 'gamma': 3}, mean: 0.79953, std: 0.02792, params: {'colsample_bytree': 0.7, 'learning_rate': 0.01, 'nthread': 4, 'min_child_weight': 5, 'n_estimators': 300, 'subsample': 0.9, 'max_depth': 5, 'gamma': 3}, mean: 0.78322, std: 0.01176, params: {'colsample_bytree': 0.7, 'learning_rate': 0.01, 'nthread': 4, 'min_child_weight': 10, 'n_estimators': 100, 'subsample': 0.8, 'max_depth': 5, 'gamma': 3}, mean: 0.79953, std: 0.02792, params: {'colsample_bytree': 0.7, 'learning_rate': 0.01, 'nthread': 4, 'min_child_weight': 10, 'n_estimators': 100, 'subsample': 0.9, 'max_depth': 5, 'gamma': 3}, mean: 0.76224, std: 0.04106, params: {'colsample_bytree': 0.7, 'learning_rate': 0.01, 'nthread': 4, 'min_child_weight': 10, 'n_estimators': 300, 'subsample': 0.8, 'max_depth': 5, 'gamma': 3}, mean: 0.79720, std: 0.02406, params: {'colsample_bytree': 0.7, 'learning_rate': 0.01, 'nthread': 4, 'min_child_weight': 10, 'n_estimators': 300, 'subsample': 0.9, 'max_depth': 5, 'gamma': 3}, mean: 0.79953, std: 0.02770, params: {'colsample_bytree': 0.7, 'learning_rate': 0.01, 'nthread': 4, 'min_child_weight': 1, 'n_estimators': 100, 'subsample': 0.8, 'max_depth': 7, 'gamma': 3}, mean: 0.79720, std: 0.02883, params: {'colsample_bytree': 0.7, 'learning_rate': 0.01, 'nthread': 4, 'min_child_weight': 1, 'n_estimators': 100, 'subsample': 0.9, 'max_depth': 7, 'gamma': 3}, mean: 0.79953, std: 0.03297, params: {'colsample_bytree': 0.7, 'learning_rate': 0.01, 'nthread': 4, 'min_child_weight': 1, 'n_estimators': 300, 'subsample': 0.8, 'max_depth': 7, 'gamma': 3}, mean: 0.79720, std: 0.02883, params: {'colsample_bytree': 0.7, 'learning_rate': 0.01, 'nthread': 4, 'min_child_weight': 1, 'n_estimators': 300, 'subsample': 0.9, 'max_depth': 7, 'gamma': 3}, mean: 0.79953, std: 0.02792, params: {'colsample_bytree': 0.7, 'learning_rate': 0.01, 'nthread': 4, 'min_child_weight': 5, 'n_estimators': 100, 'subsample': 0.8, 'max_depth': 7, 'gamma': 3}, mean: 0.79953, std: 0.02792, params: {'colsample_bytree': 0.7, 'learning_rate': 0.01, 'nthread': 4, 'min_child_weight': 5, 'n_estimators': 100, 'subsample': 0.9, 'max_depth': 7, 'gamma': 3}, mean: 0.79953, std: 0.02792, params: {'colsample_bytree': 0.7, 'learning_rate': 0.01, 'nthread': 4, 'min_child_weight': 5, 'n_estimators': 300, 'subsample': 0.8, 'max_depth': 7, 'gamma': 3}, mean: 0.79953, std: 0.02792, params: {'colsample_bytree': 0.7, 'learning_rate': 0.01, 'nthread': 4, 'min_child_weight': 5, 'n_estimators': 300, 'subsample': 0.9, 'max_depth': 7, 'gamma': 3}, mean: 0.78322, std: 0.01176, params: {'colsample_bytree': 0.7, 'learning_rate': 0.01, 'nthread': 4, 'min_child_weight': 10, 'n_estimators': 100, 'subsample': 0.8, 'max_depth': 7, 'gamma': 3}, mean: 0.79953, std: 0.02792, params: {'colsample_bytree': 0.7, 'learning_rate': 0.01, 'nthread': 4, 'min_child_weight': 10, 'n_estimators': 100, 'subsample': 0.9, 'max_depth': 7, 'gamma': 3}, mean: 0.76224, std: 0.04106, params: {'colsample_bytree': 0.7, 'learning_rate': 0.01, 'nthread': 4, 'min_child_weight': 10, 'n_estimators': 300, 'subsample': 0.8, 'max_depth': 7, 'gamma': 3}, mean: 0.79720, std: 0.02406, params: {'colsample_bytree': 0.7, 'learning_rate': 0.01, 'nthread': 4, 'min_child_weight': 10, 'n_estimators': 300, 'subsample': 0.9, 'max_depth': 7, 'gamma': 3}, mean: 0.80186, std: 0.03201, params: {'colsample_bytree': 0.8, 'learning_rate': 0.01, 'nthread': 4, 'min_child_weight': 1, 'n_estimators': 100, 'subsample': 0.8, 'max_depth': 3, 'gamma': 1}, mean: 0.79720, std: 0.02995, params: {'colsample_bytree': 0.8, 'learning_rate': 0.01, 'nthread': 4, 'min_child_weight': 1, 'n_estimators': 100, 'subsample': 0.9, 'max_depth': 3, 'gamma': 1}, mean: 0.79953, std: 0.03164, params: {'colsample_bytree': 0.8, 'learning_rate': 0.01, 'nthread': 4, 'min_child_weight': 1, 'n_estimators': 300, 'subsample': 0.8, 'max_depth': 3, 'gamma': 1}, mean: 0.79487, std: 0.02803, params: {'colsample_bytree': 0.8, 'learning_rate': 0.01, 'nthread': 4, 'min_child_weight': 1, 'n_estimators': 300, 'subsample': 0.9, 'max_depth': 3, 'gamma': 1}, mean: 0.79953, std: 0.02792, params: {'colsample_bytree': 0.8, 'learning_rate': 0.01, 'nthread': 4, 'min_child_weight': 5, 'n_estimators': 100, 'subsample': 0.8, 'max_depth': 3, 'gamma': 1}, mean: 0.79953, std: 0.02792, params: {'colsample_bytree': 0.8, 'learning_rate': 0.01, 'nthread': 4, 'min_child_weight': 5, 'n_estimators': 100, 'subsample': 0.9, 'max_depth': 3, 'gamma': 1}, mean: 0.80420, std: 0.02618, params: {'colsample_bytree': 0.8, 'learning_rate': 0.01, 'nthread': 4, 'min_child_weight': 5, 'n_estimators': 300, 'subsample': 0.8, 'max_depth': 3, 'gamma': 1}, mean: 0.80420, std: 0.02618, params: {'colsample_bytree': 0.8, 'learning_rate': 0.01, 'nthread': 4, 'min_child_weight': 5, 'n_estimators': 300, 'subsample': 0.9, 'max_depth': 3, 'gamma': 1}, mean: 0.78555, std: 0.01547, params: {'colsample_bytree': 0.8, 'learning_rate': 0.01, 'nthread': 4, 'min_child_weight': 10, 'n_estimators': 100, 'subsample': 0.8, 'max_depth': 3, 'gamma': 1}, mean: 0.79953, std: 0.02792, params: {'colsample_bytree': 0.8, 'learning_rate': 0.01, 'nthread': 4, 'min_child_weight': 10, 'n_estimators': 100, 'subsample': 0.9, 'max_depth': 3, 'gamma': 1}, mean: 0.76224, std: 0.04413, params: {'colsample_bytree': 0.8, 'learning_rate': 0.01, 'nthread': 4, 'min_child_weight': 10, 'n_estimators': 300, 'subsample': 0.8, 'max_depth': 3, 'gamma': 1}, mean: 0.79021, std: 0.02563, params: {'colsample_bytree': 0.8, 'learning_rate': 0.01, 'nthread': 4, 'min_child_weight': 10, 'n_estimators': 300, 'subsample': 0.9, 'max_depth': 3, 'gamma': 1}, mean: 0.78788, std: 0.02264, params: {'colsample_bytree': 0.8, 'learning_rate': 0.01, 'nthread': 4, 'min_child_weight': 1, 'n_estimators': 100, 'subsample': 0.8, 'max_depth': 5, 'gamma': 1}, mean: 0.78788, std: 0.02008, params: {'colsample_bytree': 0.8, 'learning_rate': 0.01, 'nthread': 4, 'min_child_weight': 1, 'n_estimators': 100, 'subsample': 0.9, 'max_depth': 5, 'gamma': 1}, mean: 0.78322, std: 0.03700, params: {'colsample_bytree': 0.8, 'learning_rate': 0.01, 'nthread': 4, 'min_child_weight': 1, 'n_estimators': 300, 'subsample': 0.8, 'max_depth': 5, 'gamma': 1}, mean: 0.77389, std: 0.03424, params: {'colsample_bytree': 0.8, 'learning_rate': 0.01, 'nthread': 4, 'min_child_weight': 1, 'n_estimators': 300, 'subsample': 0.9, 'max_depth': 5, 'gamma': 1}, mean: 0.79953, std: 0.02792, params: {'colsample_bytree': 0.8, 'learning_rate': 0.01, 'nthread': 4, 'min_child_weight': 5, 'n_estimators': 100, 'subsample': 0.8, 'max_depth': 5, 'gamma': 1}, mean: 0.79953, std: 0.02792, params: {'colsample_bytree': 0.8, 'learning_rate': 0.01, 'nthread': 4, 'min_child_weight': 5, 'n_estimators': 100, 'subsample': 0.9, 'max_depth': 5, 'gamma': 1}, mean: 0.80186, std: 0.03127, params: {'colsample_bytree': 0.8, 'learning_rate': 0.01, 'nthread': 4, 'min_child_weight': 5, 'n_estimators': 300, 'subsample': 0.8, 'max_depth': 5, 'gamma': 1}, mean: 0.79953, std: 0.02998, params: {'colsample_bytree': 0.8, 'learning_rate': 0.01, 'nthread': 4, 'min_child_weight': 5, 'n_estimators': 300, 'subsample': 0.9, 'max_depth': 5, 'gamma': 1}, mean: 0.78555, std: 0.01547, params: {'colsample_bytree': 0.8, 'learning_rate': 0.01, 'nthread': 4, 'min_child_weight': 10, 'n_estimators': 100, 'subsample': 0.8, 'max_depth': 5, 'gamma': 1}, mean: 0.79953, std: 0.02792, params: {'colsample_bytree': 0.8, 'learning_rate': 0.01, 'nthread': 4, 'min_child_weight': 10, 'n_estimators': 100, 'subsample': 0.9, 'max_depth': 5, 'gamma': 1}, mean: 0.75991, std: 0.04168, params: {'colsample_bytree': 0.8, 'learning_rate': 0.01, 'nthread': 4, 'min_child_weight': 10, 'n_estimators': 300, 'subsample': 0.8, 'max_depth': 5, 'gamma': 1}, mean: 0.79021, std: 0.02563, params: {'colsample_bytree': 0.8, 'learning_rate': 0.01, 'nthread': 4, 'min_child_weight': 10, 'n_estimators': 300, 'subsample': 0.9, 'max_depth': 5, 'gamma': 1}, mean: 0.78788, std: 0.02786, params: {'colsample_bytree': 0.8, 'learning_rate': 0.01, 'nthread': 4, 'min_child_weight': 1, 'n_estimators': 100, 'subsample': 0.8, 'max_depth': 7, 'gamma': 1}, mean: 0.78788, std: 0.02264, params: {'colsample_bytree': 0.8, 'learning_rate': 0.01, 'nthread': 4, 'min_child_weight': 1, 'n_estimators': 100, 'subsample': 0.9, 'max_depth': 7, 'gamma': 1}, mean: 0.78322, std: 0.03247, params: {'colsample_bytree': 0.8, 'learning_rate': 0.01, 'nthread': 4, 'min_child_weight': 1, 'n_estimators': 300, 'subsample': 0.8, 'max_depth': 7, 'gamma': 1}, mean: 0.77156, std: 0.02546, params: {'colsample_bytree': 0.8, 'learning_rate': 0.01, 'nthread': 4, 'min_child_weight': 1, 'n_estimators': 300, 'subsample': 0.9, 'max_depth': 7, 'gamma': 1}, mean: 0.79953, std: 0.02792, params: {'colsample_bytree': 0.8, 'learning_rate': 0.01, 'nthread': 4, 'min_child_weight': 5, 'n_estimators': 100, 'subsample': 0.8, 'max_depth': 7, 'gamma': 1}, mean: 0.79953, std: 0.02792, params: {'colsample_bytree': 0.8, 'learning_rate': 0.01, 'nthread': 4, 'min_child_weight': 5, 'n_estimators': 100, 'subsample': 0.9, 'max_depth': 7, 'gamma': 1}, mean: 0.79953, std: 0.02998, params: {'colsample_bytree': 0.8, 'learning_rate': 0.01, 'nthread': 4, 'min_child_weight': 5, 'n_estimators': 300, 'subsample': 0.8, 'max_depth': 7, 'gamma': 1}, mean: 0.79953, std: 0.02998, params: {'colsample_bytree': 0.8, 'learning_rate': 0.01, 'nthread': 4, 'min_child_weight': 5, 'n_estimators': 300, 'subsample': 0.9, 'max_depth': 7, 'gamma': 1}, mean: 0.78555, std: 0.01547, params: {'colsample_bytree': 0.8, 'learning_rate': 0.01, 'nthread': 4, 'min_child_weight': 10, 'n_estimators': 100, 'subsample': 0.8, 'max_depth': 7, 'gamma': 1}, mean: 0.79953, std: 0.02792, params: {'colsample_bytree': 0.8, 'learning_rate': 0.01, 'nthread': 4, 'min_child_weight': 10, 'n_estimators': 100, 'subsample': 0.9, 'max_depth': 7, 'gamma': 1}, mean: 0.75991, std: 0.04168, params: {'colsample_bytree': 0.8, 'learning_rate': 0.01, 'nthread': 4, 'min_child_weight': 10, 'n_estimators': 300, 'subsample': 0.8, 'max_depth': 7, 'gamma': 1}, mean: 0.79021, std: 0.02563, params: {'colsample_bytree': 0.8, 'learning_rate': 0.01, 'nthread': 4, 'min_child_weight': 10, 'n_estimators': 300, 'subsample': 0.9, 'max_depth': 7, 'gamma': 1}, mean: 0.80186, std: 0.03201, params: {'colsample_bytree': 0.8, 'learning_rate': 0.01, 'nthread': 4, 'min_child_weight': 1, 'n_estimators': 100, 'subsample': 0.8, 'max_depth': 3, 'gamma': 2}, mean: 0.79953, std: 0.03396, params: {'colsample_bytree': 0.8, 'learning_rate': 0.01, 'nthread': 4, 'min_child_weight': 1, 'n_estimators': 100, 'subsample': 0.9, 'max_depth': 3, 'gamma': 2}, mean: 0.79953, std: 0.03164, params: {'colsample_bytree': 0.8, 'learning_rate': 0.01, 'nthread': 4, 'min_child_weight': 1, 'n_estimators': 300, 'subsample': 0.8, 'max_depth': 3, 'gamma': 2}, mean: 0.79487, std: 0.02803, params: {'colsample_bytree': 0.8, 'learning_rate': 0.01, 'nthread': 4, 'min_child_weight': 1, 'n_estimators': 300, 'subsample': 0.9, 'max_depth': 3, 'gamma': 2}, mean: 0.79953, std: 0.02792, params: {'colsample_bytree': 0.8, 'learning_rate': 0.01, 'nthread': 4, 'min_child_weight': 5, 'n_estimators': 100, 'subsample': 0.8, 'max_depth': 3, 'gamma': 2}, mean: 0.79953, std: 0.02792, params: {'colsample_bytree': 0.8, 'learning_rate': 0.01, 'nthread': 4, 'min_child_weight': 5, 'n_estimators': 100, 'subsample': 0.9, 'max_depth': 3, 'gamma': 2}, mean: 0.80420, std: 0.02618, params: {'colsample_bytree': 0.8, 'learning_rate': 0.01, 'nthread': 4, 'min_child_weight': 5, 'n_estimators': 300, 'subsample': 0.8, 'max_depth': 3, 'gamma': 2}, mean: 0.80186, std: 0.02656, params: {'colsample_bytree': 0.8, 'learning_rate': 0.01, 'nthread': 4, 'min_child_weight': 5, 'n_estimators': 300, 'subsample': 0.9, 'max_depth': 3, 'gamma': 2}, mean: 0.78555, std: 0.01547, params: {'colsample_bytree': 0.8, 'learning_rate': 0.01, 'nthread': 4, 'min_child_weight': 10, 'n_estimators': 100, 'subsample': 0.8, 'max_depth': 3, 'gamma': 2}, mean: 0.79953, std: 0.02792, params: {'colsample_bytree': 0.8, 'learning_rate': 0.01, 'nthread': 4, 'min_child_weight': 10, 'n_estimators': 100, 'subsample': 0.9, 'max_depth': 3, 'gamma': 2}, mean: 0.76457, std: 0.04693, params: {'colsample_bytree': 0.8, 'learning_rate': 0.01, 'nthread': 4, 'min_child_weight': 10, 'n_estimators': 300, 'subsample': 0.8, 'max_depth': 3, 'gamma': 2}, mean: 0.79254, std: 0.01912, params: {'colsample_bytree': 0.8, 'learning_rate': 0.01, 'nthread': 4, 'min_child_weight': 10, 'n_estimators': 300, 'subsample': 0.9, 'max_depth': 3, 'gamma': 2}, mean: 0.79254, std: 0.01881, params: {'colsample_bytree': 0.8, 'learning_rate': 0.01, 'nthread': 4, 'min_child_weight': 1, 'n_estimators': 100, 'subsample': 0.8, 'max_depth': 5, 'gamma': 2}, mean: 0.79254, std: 0.02675, params: {'colsample_bytree': 0.8, 'learning_rate': 0.01, 'nthread': 4, 'min_child_weight': 1, 'n_estimators': 100, 'subsample': 0.9, 'max_depth': 5, 'gamma': 2}, mean: 0.79254, std: 0.03894, params: {'colsample_bytree': 0.8, 'learning_rate': 0.01, 'nthread': 4, 'min_child_weight': 1, 'n_estimators': 300, 'subsample': 0.8, 'max_depth': 5, 'gamma': 2}, mean: 0.78788, std: 0.04412, params: {'colsample_bytree': 0.8, 'learning_rate': 0.01, 'nthread': 4, 'min_child_weight': 1, 'n_estimators': 300, 'subsample': 0.9, 'max_depth': 5, 'gamma': 2}, mean: 0.79953, std: 0.02792, params: {'colsample_bytree': 0.8, 'learning_rate': 0.01, 'nthread': 4, 'min_child_weight': 5, 'n_estimators': 100, 'subsample': 0.8, 'max_depth': 5, 'gamma': 2}, mean: 0.79953, std: 0.02792, params: {'colsample_bytree': 0.8, 'learning_rate': 0.01, 'nthread': 4, 'min_child_weight': 5, 'n_estimators': 100, 'subsample': 0.9, 'max_depth': 5, 'gamma': 2}, mean: 0.80420, std: 0.02618, params: {'colsample_bytree': 0.8, 'learning_rate': 0.01, 'nthread': 4, 'min_child_weight': 5, 'n_estimators': 300, 'subsample': 0.8, 'max_depth': 5, 'gamma': 2}, mean: 0.80420, std: 0.02618, params: {'colsample_bytree': 0.8, 'learning_rate': 0.01, 'nthread': 4, 'min_child_weight': 5, 'n_estimators': 300, 'subsample': 0.9, 'max_depth': 5, 'gamma': 2}, mean: 0.78555, std: 0.01547, params: {'colsample_bytree': 0.8, 'learning_rate': 0.01, 'nthread': 4, 'min_child_weight': 10, 'n_estimators': 100, 'subsample': 0.8, 'max_depth': 5, 'gamma': 2}, mean: 0.79953, std: 0.02792, params: {'colsample_bytree': 0.8, 'learning_rate': 0.01, 'nthread': 4, 'min_child_weight': 10, 'n_estimators': 100, 'subsample': 0.9, 'max_depth': 5, 'gamma': 2}, mean: 0.76224, std: 0.04413, params: {'colsample_bytree': 0.8, 'learning_rate': 0.01, 'nthread': 4, 'min_child_weight': 10, 'n_estimators': 300, 'subsample': 0.8, 'max_depth': 5, 'gamma': 2}, mean: 0.79254, std: 0.01912, params: {'colsample_bytree': 0.8, 'learning_rate': 0.01, 'nthread': 4, 'min_child_weight': 10, 'n_estimators': 300, 'subsample': 0.9, 'max_depth': 5, 'gamma': 2}, mean: 0.78788, std: 0.02579, params: {'colsample_bytree': 0.8, 'learning_rate': 0.01, 'nthread': 4, 'min_child_weight': 1, 'n_estimators': 100, 'subsample': 0.8, 'max_depth': 7, 'gamma': 2}, mean: 0.78788, std: 0.03135, params: {'colsample_bytree': 0.8, 'learning_rate': 0.01, 'nthread': 4, 'min_child_weight': 1, 'n_estimators': 100, 'subsample': 0.9, 'max_depth': 7, 'gamma': 2}, mean: 0.78555, std: 0.04044, params: {'colsample_bytree': 0.8, 'learning_rate': 0.01, 'nthread': 4, 'min_child_weight': 1, 'n_estimators': 300, 'subsample': 0.8, 'max_depth': 7, 'gamma': 2}, mean: 0.78555, std: 0.04044, params: {'colsample_bytree': 0.8, 'learning_rate': 0.01, 'nthread': 4, 'min_child_weight': 1, 'n_estimators': 300, 'subsample': 0.9, 'max_depth': 7, 'gamma': 2}, mean: 0.79953, std: 0.02792, params: {'colsample_bytree': 0.8, 'learning_rate': 0.01, 'nthread': 4, 'min_child_weight': 5, 'n_estimators': 100, 'subsample': 0.8, 'max_depth': 7, 'gamma': 2}, mean: 0.79953, std: 0.02792, params: {'colsample_bytree': 0.8, 'learning_rate': 0.01, 'nthread': 4, 'min_child_weight': 5, 'n_estimators': 100, 'subsample': 0.9, 'max_depth': 7, 'gamma': 2}, mean: 0.80420, std: 0.02618, params: {'colsample_bytree': 0.8, 'learning_rate': 0.01, 'nthread': 4, 'min_child_weight': 5, 'n_estimators': 300, 'subsample': 0.8, 'max_depth': 7, 'gamma': 2}, mean: 0.80420, std: 0.02618, params: {'colsample_bytree': 0.8, 'learning_rate': 0.01, 'nthread': 4, 'min_child_weight': 5, 'n_estimators': 300, 'subsample': 0.9, 'max_depth': 7, 'gamma': 2}, mean: 0.78555, std: 0.01547, params: {'colsample_bytree': 0.8, 'learning_rate': 0.01, 'nthread': 4, 'min_child_weight': 10, 'n_estimators': 100, 'subsample': 0.8, 'max_depth': 7, 'gamma': 2}, mean: 0.79953, std: 0.02792, params: {'colsample_bytree': 0.8, 'learning_rate': 0.01, 'nthread': 4, 'min_child_weight': 10, 'n_estimators': 100, 'subsample': 0.9, 'max_depth': 7, 'gamma': 2}, mean: 0.76224, std: 0.04413, params: {'colsample_bytree': 0.8, 'learning_rate': 0.01, 'nthread': 4, 'min_child_weight': 10, 'n_estimators': 300, 'subsample': 0.8, 'max_depth': 7, 'gamma': 2}, mean: 0.79254, std: 0.01912, params: {'colsample_bytree': 0.8, 'learning_rate': 0.01, 'nthread': 4, 'min_child_weight': 10, 'n_estimators': 300, 'subsample': 0.9, 'max_depth': 7, 'gamma': 2}, mean: 0.79953, std: 0.02792, params: {'colsample_bytree': 0.8, 'learning_rate': 0.01, 'nthread': 4, 'min_child_weight': 1, 'n_estimators': 100, 'subsample': 0.8, 'max_depth': 3, 'gamma': 3}, mean: 0.79720, std: 0.02995, params: {'colsample_bytree': 0.8, 'learning_rate': 0.01, 'nthread': 4, 'min_child_weight': 1, 'n_estimators': 100, 'subsample': 0.9, 'max_depth': 3, 'gamma': 3}, mean: 0.79720, std: 0.02729, params: {'colsample_bytree': 0.8, 'learning_rate': 0.01, 'nthread': 4, 'min_child_weight': 1, 'n_estimators': 300, 'subsample': 0.8, 'max_depth': 3, 'gamma': 3}, mean: 0.79953, std: 0.02792, params: {'colsample_bytree': 0.8, 'learning_rate': 0.01, 'nthread': 4, 'min_child_weight': 1, 'n_estimators': 300, 'subsample': 0.9, 'max_depth': 3, 'gamma': 3}, mean: 0.79953, std: 0.02792, params: {'colsample_bytree': 0.8, 'learning_rate': 0.01, 'nthread': 4, 'min_child_weight': 5, 'n_estimators': 100, 'subsample': 0.8, 'max_depth': 3, 'gamma': 3}, mean: 0.79953, std: 0.02792, params: {'colsample_bytree': 0.8, 'learning_rate': 0.01, 'nthread': 4, 'min_child_weight': 5, 'n_estimators': 100, 'subsample': 0.9, 'max_depth': 3, 'gamma': 3}, mean: 0.80186, std: 0.02656, params: {'colsample_bytree': 0.8, 'learning_rate': 0.01, 'nthread': 4, 'min_child_weight': 5, 'n_estimators': 300, 'subsample': 0.8, 'max_depth': 3, 'gamma': 3}, mean: 0.80186, std: 0.02656, params: {'colsample_bytree': 0.8, 'learning_rate': 0.01, 'nthread': 4, 'min_child_weight': 5, 'n_estimators': 300, 'subsample': 0.9, 'max_depth': 3, 'gamma': 3}, mean: 0.78555, std: 0.01547, params: {'colsample_bytree': 0.8, 'learning_rate': 0.01, 'nthread': 4, 'min_child_weight': 10, 'n_estimators': 100, 'subsample': 0.8, 'max_depth': 3, 'gamma': 3}, mean: 0.79953, std: 0.02792, params: {'colsample_bytree': 0.8, 'learning_rate': 0.01, 'nthread': 4, 'min_child_weight': 10, 'n_estimators': 100, 'subsample': 0.9, 'max_depth': 3, 'gamma': 3}, mean: 0.76457, std: 0.04342, params: {'colsample_bytree': 0.8, 'learning_rate': 0.01, 'nthread': 4, 'min_child_weight': 10, 'n_estimators': 300, 'subsample': 0.8, 'max_depth': 3, 'gamma': 3}, mean: 0.79254, std: 0.01912, params: {'colsample_bytree': 0.8, 'learning_rate': 0.01, 'nthread': 4, 'min_child_weight': 10, 'n_estimators': 300, 'subsample': 0.9, 'max_depth': 3, 'gamma': 3}, mean: 0.79953, std: 0.03145, params: {'colsample_bytree': 0.8, 'learning_rate': 0.01, 'nthread': 4, 'min_child_weight': 1, 'n_estimators': 100, 'subsample': 0.8, 'max_depth': 5, 'gamma': 3}, mean: 0.79487, std: 0.03405, params: {'colsample_bytree': 0.8, 'learning_rate': 0.01, 'nthread': 4, 'min_child_weight': 1, 'n_estimators': 100, 'subsample': 0.9, 'max_depth': 5, 'gamma': 3}, mean: 0.79720, std: 0.02883, params: {'colsample_bytree': 0.8, 'learning_rate': 0.01, 'nthread': 4, 'min_child_weight': 1, 'n_estimators': 300, 'subsample': 0.8, 'max_depth': 5, 'gamma': 3}, mean: 0.79720, std: 0.02883, params: {'colsample_bytree': 0.8, 'learning_rate': 0.01, 'nthread': 4, 'min_child_weight': 1, 'n_estimators': 300, 'subsample': 0.9, 'max_depth': 5, 'gamma': 3}, mean: 0.79953, std: 0.02792, params: {'colsample_bytree': 0.8, 'learning_rate': 0.01, 'nthread': 4, 'min_child_weight': 5, 'n_estimators': 100, 'subsample': 0.8, 'max_depth': 5, 'gamma': 3}, mean: 0.79953, std: 0.02792, params: {'colsample_bytree': 0.8, 'learning_rate': 0.01, 'nthread': 4, 'min_child_weight': 5, 'n_estimators': 100, 'subsample': 0.9, 'max_depth': 5, 'gamma': 3}, mean: 0.80186, std: 0.02656, params: {'colsample_bytree': 0.8, 'learning_rate': 0.01, 'nthread': 4, 'min_child_weight': 5, 'n_estimators': 300, 'subsample': 0.8, 'max_depth': 5, 'gamma': 3}, mean: 0.80186, std: 0.02656, params: {'colsample_bytree': 0.8, 'learning_rate': 0.01, 'nthread': 4, 'min_child_weight': 5, 'n_estimators': 300, 'subsample': 0.9, 'max_depth': 5, 'gamma': 3}, mean: 0.78322, std: 0.01176, params: {'colsample_bytree': 0.8, 'learning_rate': 0.01, 'nthread': 4, 'min_child_weight': 10, 'n_estimators': 100, 'subsample': 0.8, 'max_depth': 5, 'gamma': 3}, mean: 0.79953, std: 0.02792, params: {'colsample_bytree': 0.8, 'learning_rate': 0.01, 'nthread': 4, 'min_child_weight': 10, 'n_estimators': 100, 'subsample': 0.9, 'max_depth': 5, 'gamma': 3}, mean: 0.76457, std: 0.04342, params: {'colsample_bytree': 0.8, 'learning_rate': 0.01, 'nthread': 4, 'min_child_weight': 10, 'n_estimators': 300, 'subsample': 0.8, 'max_depth': 5, 'gamma': 3}, mean: 0.79487, std: 0.01800, params: {'colsample_bytree': 0.8, 'learning_rate': 0.01, 'nthread': 4, 'min_child_weight': 10, 'n_estimators': 300, 'subsample': 0.9, 'max_depth': 5, 'gamma': 3}, mean: 0.79953, std: 0.03145, params: {'colsample_bytree': 0.8, 'learning_rate': 0.01, 'nthread': 4, 'min_child_weight': 1, 'n_estimators': 100, 'subsample': 0.8, 'max_depth': 7, 'gamma': 3}, mean: 0.79720, std: 0.03471, params: {'colsample_bytree': 0.8, 'learning_rate': 0.01, 'nthread': 4, 'min_child_weight': 1, 'n_estimators': 100, 'subsample': 0.9, 'max_depth': 7, 'gamma': 3}, mean: 0.79953, std: 0.03297, params: {'colsample_bytree': 0.8, 'learning_rate': 0.01, 'nthread': 4, 'min_child_weight': 1, 'n_estimators': 300, 'subsample': 0.8, 'max_depth': 7, 'gamma': 3}, mean: 0.79953, std: 0.03893, params: {'colsample_bytree': 0.8, 'learning_rate': 0.01, 'nthread': 4, 'min_child_weight': 1, 'n_estimators': 300, 'subsample': 0.9, 'max_depth': 7, 'gamma': 3}, mean: 0.79953, std: 0.02792, params: {'colsample_bytree': 0.8, 'learning_rate': 0.01, 'nthread': 4, 'min_child_weight': 5, 'n_estimators': 100, 'subsample': 0.8, 'max_depth': 7, 'gamma': 3}, mean: 0.79953, std: 0.02792, params: {'colsample_bytree': 0.8, 'learning_rate': 0.01, 'nthread': 4, 'min_child_weight': 5, 'n_estimators': 100, 'subsample': 0.9, 'max_depth': 7, 'gamma': 3}, mean: 0.80186, std: 0.02656, params: {'colsample_bytree': 0.8, 'learning_rate': 0.01, 'nthread': 4, 'min_child_weight': 5, 'n_estimators': 300, 'subsample': 0.8, 'max_depth': 7, 'gamma': 3}, mean: 0.80186, std: 0.02656, params: {'colsample_bytree': 0.8, 'learning_rate': 0.01, 'nthread': 4, 'min_child_weight': 5, 'n_estimators': 300, 'subsample': 0.9, 'max_depth': 7, 'gamma': 3}, mean: 0.78322, std: 0.01176, params: {'colsample_bytree': 0.8, 'learning_rate': 0.01, 'nthread': 4, 'min_child_weight': 10, 'n_estimators': 100, 'subsample': 0.8, 'max_depth': 7, 'gamma': 3}, mean: 0.79953, std: 0.02792, params: {'colsample_bytree': 0.8, 'learning_rate': 0.01, 'nthread': 4, 'min_child_weight': 10, 'n_estimators': 100, 'subsample': 0.9, 'max_depth': 7, 'gamma': 3}, mean: 0.76457, std: 0.04342, params: {'colsample_bytree': 0.8, 'learning_rate': 0.01, 'nthread': 4, 'min_child_weight': 10, 'n_estimators': 300, 'subsample': 0.8, 'max_depth': 7, 'gamma': 3}, mean: 0.79487, std: 0.01800, params: {'colsample_bytree': 0.8, 'learning_rate': 0.01, 'nthread': 4, 'min_child_weight': 10, 'n_estimators': 300, 'subsample': 0.9, 'max_depth': 7, 'gamma': 3}] \n"
     ]
    }
   ],
   "source": [
    "print 'best model is %s \\n best params are %s \\n best score is %s \\n and grid scores are %s ' %(best_model, best_params,\n",
    "                                                                                               best_score, grid_scores)"
   ]
  },
  {
   "cell_type": "markdown",
   "metadata": {},
   "source": [
    "## Train Models"
   ]
  },
  {
   "cell_type": "code",
   "execution_count": 1581,
   "metadata": {
    "collapsed": false
   },
   "outputs": [],
   "source": [
    "# train 3 models on the training examples\n",
    "lr_final_enc = LogisticRegression(C=0.001).fit(X_train_encode, y_train)\n",
    "lr_final_hot = LogisticRegression(C=0.1).fit(X_train_hot, y_train)\n",
    "\n",
    "rf_final_enc = RandomForestClassifier(n_estimators=500, criterion='entropy', min_samples_leaf=3).fit(X_train_encode, y_train)\n",
    "rf_final_hot = RandomForestClassifier(n_estimators=100, criterion='entropy', min_samples_leaf=3).fit(X_train_hot, y_train)\n",
    "\n",
    "etc_final_enc = ExtraTreesClassifier(n_estimators=100, criterion='entropy', min_samples_leaf=2).fit(X_train_encode, y_train)\n",
    "etc_final_hot = ExtraTreesClassifier(n_estimators=100, criterion='gini', min_samples_leaf=2).fit(X_train_hot, y_train)\n",
    "\n",
    "gbc_final_enc = GradientBoostingClassifier(n_estimators=200, learning_rate=.01, subsample=0.8).fit(X_train_encode, y_train)\n",
    "gbc_final_hot = GradientBoostingClassifier(n_estimators=200, learning_rate=.01, subsample=0.8).fit(X_train_hot.toarray(), y_train)\n",
    "\n",
    "xgb_est_final_enc = xgb.XGBClassifier(n_estimators=300, learning_rate=.01, min_child_weight=5, \n",
    "                                  subsample=0.7, colsample_bytree=0.6).fit(X_train_encode, y_train)"
   ]
  },
  {
   "cell_type": "code",
   "execution_count": 1582,
   "metadata": {
    "collapsed": true
   },
   "outputs": [],
   "source": [
    "lr_predict_enc = lr_final_enc.predict(X_train_encode).reshape(-1, 1)\n",
    "lr_predict_hot = lr_final_hot.predict(X_train_hot).reshape(-1, 1)\n",
    "\n",
    "rf_predict_enc = rf_final_enc.predict(X_train_encode).reshape(-1, 1)\n",
    "rf_predict_hot = rf_final_hot.predict(X_train_hot).reshape(-1, 1)\n",
    "\n",
    "etc_predict_enc = etc_final_enc.predict(X_train_encode).reshape(-1, 1)\n",
    "etc_predict_hot = etc_final_hot.predict(X_train_hot).reshape(-1, 1)\n",
    "\n",
    "gbc_predict_enc = gbc_final_enc.predict(X_train_encode).reshape(-1, 1)\n",
    "gbc_predict_hot = gbc_final_hot.predict(X_train_hot.toarray()).reshape(-1, 1)\n",
    "\n",
    "xgb_predict_enc = xgb_est_final_enc.predict(X_train_encode).reshape(-1, 1)"
   ]
  },
  {
   "cell_type": "code",
   "execution_count": 1470,
   "metadata": {
    "collapsed": true
   },
   "outputs": [],
   "source": [
    "# lr_predict_enc = lr_final_enc.predict_proba(X_train_encode)\n",
    "# lr_predict_hot = lr_final_hot.predict_proba(X_train_hot)\n",
    "\n",
    "# rf_predict_enc = rf_final_enc.predict_proba(X_train_encode)\n",
    "# rf_predict_hot = rf_final_hot.predict_proba(X_train_hot)\n",
    "\n",
    "# etc_predict_enc = etc_final_enc.predict_proba(X_train_encode)\n",
    "# etc_predict_hot = etc_final_hot.predict_proba(X_train_hot)\n",
    "\n",
    "# gbc_predict_enc = gbc_final_enc.predict_proba(X_train_encode)\n",
    "# gbc_predict_hot = gbc_final_hot.predict_proba(X_train_hot.toarray())\n",
    "\n",
    "# xgb_predict_enc = xgb_est_final_enc.predict_proba(X_train_encode)"
   ]
  },
  {
   "cell_type": "code",
   "execution_count": 1589,
   "metadata": {
    "collapsed": false
   },
   "outputs": [],
   "source": [
    "all_preds = np.hstack([rf_predict_enc, gbc_predict_enc, xgb_predict_enc])"
   ]
  },
  {
   "cell_type": "markdown",
   "metadata": {},
   "source": [
    "## Second Stage Classifier"
   ]
  },
  {
   "cell_type": "code",
   "execution_count": 1613,
   "metadata": {
    "collapsed": false
   },
   "outputs": [
    {
     "data": {
      "text/plain": [
       "LogisticRegression(C=0.01, class_weight=None, dual=False, fit_intercept=True,\n",
       "          intercept_scaling=1, max_iter=100, multi_class='ovr',\n",
       "          penalty='l2', random_state=None, solver='liblinear', tol=0.0001,\n",
       "          verbose=0)"
      ]
     },
     "execution_count": 1613,
     "metadata": {},
     "output_type": "execute_result"
    }
   ],
   "source": [
    "lr_meta = LogisticRegression(C=0.01)\n",
    "lr_meta.fit(all_preds, y_train)"
   ]
  },
  {
   "cell_type": "code",
   "execution_count": 1614,
   "metadata": {
    "collapsed": false
   },
   "outputs": [],
   "source": [
    "lr_predict_test_enc = lr_final_enc.predict(X_test_encode).reshape(-1, 1)\n",
    "lr_predict_test_hot = lr_final_hot.predict(X_test_hot).reshape(-1, 1)\n",
    "\n",
    "rf_predict_test_enc = rf_final_enc.predict(X_test_encode).reshape(-1, 1)\n",
    "rf_predict_test_hot = rf_final_hot.predict(X_test_hot).reshape(-1, 1)\n",
    "\n",
    "etc_predict_test_enc = etc_final_enc.predict(X_test_encode).reshape(-1, 1)\n",
    "etc_predict_test_hot = etc_final_hot.predict(X_test_hot).reshape(-1, 1)\n",
    "\n",
    "gbc_predict_test_enc = gbc_final_enc.predict(X_test_encode).reshape(-1, 1)\n",
    "gbc_predict_test_hot = gbc_final_hot.predict(X_test_hot.toarray()).reshape(-1, 1)\n",
    "\n",
    "xgb_est_predict_test_enc = xgb_est_final_enc.predict(X_test_encode).reshape(-1, 1)"
   ]
  },
  {
   "cell_type": "code",
   "execution_count": 1615,
   "metadata": {
    "collapsed": true
   },
   "outputs": [],
   "source": [
    "# lr_predict_test_enc = lr_final_enc.predict_proba(X_test_encode)\n",
    "# lr_predict_test_hot = lr_final_hot.predict_proba(X_test_hot)\n",
    "\n",
    "# rf_predict_test_enc = rf_final_enc.predict_proba(X_test_encode)\n",
    "# rf_predict_test_hot = rf_final_hot.predict_proba(X_test_hot)\n",
    "\n",
    "# etc_predict_test_enc = etc_final_enc.predict_proba(X_test_encode)\n",
    "# etc_predict_test_hot = etc_final_hot.predict_proba(X_test_hot)\n",
    "\n",
    "# gbc_predict_test_enc = gbc_final_enc.predict_proba(X_test_encode)\n",
    "# gbc_predict_test_hot = gbc_final_hot.predict_proba(X_test_hot.toarray())\n",
    "\n",
    "# xgb_est_predict_test_enc = xgb_est_final_enc.predict_proba(X_test_encode)"
   ]
  },
  {
   "cell_type": "code",
   "execution_count": 1616,
   "metadata": {
    "collapsed": true
   },
   "outputs": [],
   "source": [
    "all_preds_test = np.hstack([rf_predict_test_enc, gbc_predict_test_enc, xgb_est_predict_test_enc])"
   ]
  },
  {
   "cell_type": "code",
   "execution_count": 1617,
   "metadata": {
    "collapsed": false
   },
   "outputs": [
    {
     "name": "stdout",
     "output_type": "stream",
     "text": [
      "score of logistic regression 0.702703 \n",
      "score of logistic regression 0.691892 \n",
      "score of random forest classifier 0.805405 \n",
      "score of random forest classifier 0.670270 \n",
      "score of extra trees classifier 0.767568 \n",
      "score of extra trees classifier 0.637838 \n",
      "score of gradient boosting classifier 0.805405 \n",
      "score of gradient boosting classifier 0.670270 \n",
      "score of extreme gradient boosting classifier 0.832432 \n"
     ]
    }
   ],
   "source": [
    "# scores of individual model on the hold out set\n",
    "print 'score of logistic regression %f ' %(lr_final_enc.score(X_test_encode, y_test))\n",
    "print 'score of logistic regression %f ' %(lr_final_hot.score(X_test_hot, y_test))\n",
    "\n",
    "print 'score of random forest classifier %f ' %(rf_final_enc.score(X_test_encode, y_test))\n",
    "print 'score of random forest classifier %f ' %(rf_final_hot.score(X_test_hot, y_test))\n",
    "\n",
    "print 'score of extra trees classifier %f ' %(etc_final_enc.score(X_test_encode, y_test))\n",
    "print 'score of extra trees classifier %f ' %(etc_final_hot.score(X_test_hot, y_test))\n",
    "\n",
    "print 'score of gradient boosting classifier %f ' %(gbc_final_enc.score(X_test_encode, y_test))\n",
    "print 'score of gradient boosting classifier %f ' %(gbc_final_hot.score(X_test_hot.toarray(), y_test))\n",
    "\n",
    "print 'score of extreme gradient boosting classifier %f ' %(xgb_est_final_enc.score(X_test_encode, y_test))\n"
   ]
  },
  {
   "cell_type": "code",
   "execution_count": 1618,
   "metadata": {
    "collapsed": false
   },
   "outputs": [
    {
     "name": "stdout",
     "output_type": "stream",
     "text": [
      "score on the hold out examples 0.821622 \n"
     ]
    }
   ],
   "source": [
    "print 'score on the hold out examples %f ' %(lr_meta.score(all_preds_test, y_test))"
   ]
  },
  {
   "cell_type": "code",
   "execution_count": 1560,
   "metadata": {
    "collapsed": false
   },
   "outputs": [],
   "source": [
    "all_preds_test_ensemble = .25 * all_preds_test[:, 1] + .15 * all_preds_test[:, 3] + \\\n",
    "                          .25 * all_preds_test[:, 5] + .35 * all_preds_test[:, 7]"
   ]
  },
  {
   "cell_type": "code",
   "execution_count": 1561,
   "metadata": {
    "collapsed": false
   },
   "outputs": [],
   "source": [
    "def pred_with_threshold(preds, threshold=0.40):\n",
    "    return [1.0 if pred >= threshold else 0.0 for pred in preds]"
   ]
  },
  {
   "cell_type": "code",
   "execution_count": 1562,
   "metadata": {
    "collapsed": true
   },
   "outputs": [],
   "source": [
    "all_preds_test_ensemble_binary = pred_with_threshold(all_preds_test_ensemble)"
   ]
  },
  {
   "cell_type": "code",
   "execution_count": 1563,
   "metadata": {
    "collapsed": false
   },
   "outputs": [
    {
     "name": "stdout",
     "output_type": "stream",
     "text": [
      "score on the hold out example 0.821622 \n"
     ]
    }
   ],
   "source": [
    "print 'score on the hold out example %f ' %(accuracy_score(y_test, all_preds_test_ensemble_binary))"
   ]
  },
  {
   "cell_type": "code",
   "execution_count": null,
   "metadata": {
    "collapsed": true
   },
   "outputs": [],
   "source": []
  },
  {
   "cell_type": "code",
   "execution_count": 1484,
   "metadata": {
    "collapsed": true
   },
   "outputs": [],
   "source": [
    "# Train Extreme Gradient Boosting Classifier on full training dataset\n",
    "train_df_encode, test_df_encode = encode(train_df, test_df)"
   ]
  },
  {
   "cell_type": "code",
   "execution_count": 1620,
   "metadata": {
    "collapsed": false
   },
   "outputs": [],
   "source": [
    "rf_est_whole = RandomForestClassifier(n_estimators=500, \n",
    "                                      criterion='entropy', min_samples_leaf=3).fit(train_df_encode, train_target)\n",
    "etc_est_whole = ExtraTreesClassifier(n_estimators=100, \n",
    "                                     criterion='entropy', min_samples_leaf=2).fit(train_df_encode, train_target)\n",
    "gbc_est_whole = GradientBoostingClassifier(n_estimators=200, \n",
    "                                           learning_rate=.01, subsample=0.8).fit(train_df_encode, train_target)\n",
    "xgb_est_whole = xgb.XGBClassifier(n_estimators=300, learning_rate=.01, min_child_weight=5,\n",
    "                                  subsample=0.7, colsample_bytree=0.6).fit(train_df_encode, train_target)"
   ]
  },
  {
   "cell_type": "code",
   "execution_count": 1626,
   "metadata": {
    "collapsed": true
   },
   "outputs": [],
   "source": [
    "rf_pred_second_stage = rf_est_whole.predict(train_df_encode).reshape(-1, 1)\n",
    "etc_pred_second_stage = etc_est_whole.predict(train_df_encode).reshape(-1, 1)\n",
    "gbc_pred_second_stage = gbc_est_whole.predict(train_df_encode).reshape(-1, 1)\n",
    "xgb_pred_second_stage = xgb_est_whole.predict(train_df_encode).reshape(-1, 1)"
   ]
  },
  {
   "cell_type": "code",
   "execution_count": 1627,
   "metadata": {
    "collapsed": true
   },
   "outputs": [],
   "source": [
    "second_stage_preds = np.hstack([rf_pred_second_stage, gbc_pred_second_stage, xgb_pred_second_stage])"
   ]
  },
  {
   "cell_type": "code",
   "execution_count": 1629,
   "metadata": {
    "collapsed": false
   },
   "outputs": [
    {
     "data": {
      "text/plain": [
       "LogisticRegression(C=0.01, class_weight=None, dual=False, fit_intercept=True,\n",
       "          intercept_scaling=1, max_iter=100, multi_class='ovr',\n",
       "          penalty='l2', random_state=None, solver='liblinear', tol=0.0001,\n",
       "          verbose=0)"
      ]
     },
     "execution_count": 1629,
     "metadata": {},
     "output_type": "execute_result"
    }
   ],
   "source": [
    "lr_meta.fit(second_stage_preds, train_target)"
   ]
  },
  {
   "cell_type": "code",
   "execution_count": 1630,
   "metadata": {
    "collapsed": true
   },
   "outputs": [],
   "source": [
    "rf_pred = rf_est_whole.predict(test_df_encode).reshape(-1, 1)\n",
    "etc_pred = etc_est_whole.predict(test_df_encode).reshape(-1, 1)\n",
    "gbc_pred = gbc_est_whole.predict(test_df_encode).reshape(-1, 1)\n",
    "xgb_pred = xgb_est_whole.predict(test_df_encode).reshape(-1, 1)"
   ]
  },
  {
   "cell_type": "code",
   "execution_count": 1631,
   "metadata": {
    "collapsed": true
   },
   "outputs": [],
   "source": [
    "second_stage_test_preds = np.hstack([rf_pred, gbc_pred, xgb_pred])"
   ]
  },
  {
   "cell_type": "code",
   "execution_count": 1633,
   "metadata": {
    "collapsed": false
   },
   "outputs": [],
   "source": [
    "l2_classifier_preds = lr_meta.predict(second_stage_test_preds)"
   ]
  },
  {
   "cell_type": "code",
   "execution_count": 1564,
   "metadata": {
    "collapsed": true
   },
   "outputs": [],
   "source": [
    "# ensemble_preds = .25 * rf_pred + .15 * etc_pred + .25 * gbc_pred + 0.35 * xgb_pred"
   ]
  },
  {
   "cell_type": "code",
   "execution_count": 1565,
   "metadata": {
    "collapsed": true
   },
   "outputs": [],
   "source": [
    "# ensemble_preds_binary = pred_with_threshold(ensemble_preds)"
   ]
  },
  {
   "cell_type": "code",
   "execution_count": 1635,
   "metadata": {
    "collapsed": false
   },
   "outputs": [],
   "source": [
    "xgb_predictions_labels = map(inverse_mapping, l2_classifier_preds)"
   ]
  },
  {
   "cell_type": "code",
   "execution_count": 1636,
   "metadata": {
    "collapsed": true
   },
   "outputs": [],
   "source": [
    "create_submissions(loan_test.index.values, xgb_predictions_labels, 'l2_classifier_preds_lr_meta.csv')"
   ]
  },
  {
   "cell_type": "code",
   "execution_count": null,
   "metadata": {
    "collapsed": true
   },
   "outputs": [],
   "source": []
  }
 ],
 "metadata": {
  "kernelspec": {
   "display_name": "Python 2",
   "language": "python",
   "name": "python2"
  },
  "language_info": {
   "codemirror_mode": {
    "name": "ipython",
    "version": 2
   },
   "file_extension": ".py",
   "mimetype": "text/x-python",
   "name": "python",
   "nbconvert_exporter": "python",
   "pygments_lexer": "ipython2",
   "version": "2.7.10"
  }
 },
 "nbformat": 4,
 "nbformat_minor": 0
}
