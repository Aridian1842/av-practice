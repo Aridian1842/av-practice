{
 "cells": [
  {
   "cell_type": "code",
   "execution_count": 1,
   "metadata": {
    "collapsed": true
   },
   "outputs": [],
   "source": [
    "# display inline plots\n",
    "%matplotlib inline\n",
    "\n",
    "# import libraries for numerical and scientific computing\n",
    "import numpy as np\n",
    "import scipy as sp\n",
    "\n",
    "# import matplotlib for plotting\n",
    "import matplotlib as mpl\n",
    "import matplotlib.cm as cm\n",
    "import matplotlib.pyplot as plt\n",
    "\n",
    "# import pandas for data wrangling and munging\n",
    "import pandas as pd\n",
    "\n",
    "# set some options for better view\n",
    "pd.set_option('display.width', 500)\n",
    "pd.set_option('display.max_columns', 100)\n",
    "pd.set_option('display.notebook_repr_html', True)\n",
    "\n",
    "# import plotting library built on top of matplotlib\n",
    "import seaborn as sns\n",
    "\n",
    "# set some settings related to style of plots that will render\n",
    "sns.set_style(\"whitegrid\")\n",
    "sns.set_context(\"poster\")"
   ]
  },
  {
   "cell_type": "code",
   "execution_count": 1245,
   "metadata": {
    "collapsed": true
   },
   "outputs": [],
   "source": [
    "from sklearn.linear_model import LogisticRegression\n",
    "from sklearn.ensemble import RandomForestClassifier, GradientBoostingClassifier\n",
    "from sklearn.metrics import accuracy_score"
   ]
  },
  {
   "cell_type": "code",
   "execution_count": 795,
   "metadata": {
    "collapsed": true
   },
   "outputs": [],
   "source": [
    "# load training and test examples\n",
    "\n",
    "loan_train = pd.read_csv('./data/train_u6lujuX.csv', index_col='Loan_ID')\n",
    "loan_test = pd.read_csv('./data/test_Y3wMUE5.csv', index_col='Loan_ID')"
   ]
  },
  {
   "cell_type": "code",
   "execution_count": 796,
   "metadata": {
    "collapsed": false
   },
   "outputs": [
    {
     "data": {
      "text/html": [
       "<div>\n",
       "<table border=\"1\" class=\"dataframe\">\n",
       "  <thead>\n",
       "    <tr style=\"text-align: right;\">\n",
       "      <th></th>\n",
       "      <th>Gender</th>\n",
       "      <th>Married</th>\n",
       "      <th>Dependents</th>\n",
       "      <th>Education</th>\n",
       "      <th>Self_Employed</th>\n",
       "      <th>ApplicantIncome</th>\n",
       "      <th>CoapplicantIncome</th>\n",
       "      <th>LoanAmount</th>\n",
       "      <th>Loan_Amount_Term</th>\n",
       "      <th>Credit_History</th>\n",
       "      <th>Property_Area</th>\n",
       "      <th>Loan_Status</th>\n",
       "    </tr>\n",
       "    <tr>\n",
       "      <th>Loan_ID</th>\n",
       "      <th></th>\n",
       "      <th></th>\n",
       "      <th></th>\n",
       "      <th></th>\n",
       "      <th></th>\n",
       "      <th></th>\n",
       "      <th></th>\n",
       "      <th></th>\n",
       "      <th></th>\n",
       "      <th></th>\n",
       "      <th></th>\n",
       "      <th></th>\n",
       "    </tr>\n",
       "  </thead>\n",
       "  <tbody>\n",
       "    <tr>\n",
       "      <th>LP001002</th>\n",
       "      <td>Male</td>\n",
       "      <td>No</td>\n",
       "      <td>0</td>\n",
       "      <td>Graduate</td>\n",
       "      <td>No</td>\n",
       "      <td>5849</td>\n",
       "      <td>0</td>\n",
       "      <td>NaN</td>\n",
       "      <td>360</td>\n",
       "      <td>1</td>\n",
       "      <td>Urban</td>\n",
       "      <td>Y</td>\n",
       "    </tr>\n",
       "    <tr>\n",
       "      <th>LP001003</th>\n",
       "      <td>Male</td>\n",
       "      <td>Yes</td>\n",
       "      <td>1</td>\n",
       "      <td>Graduate</td>\n",
       "      <td>No</td>\n",
       "      <td>4583</td>\n",
       "      <td>1508</td>\n",
       "      <td>128</td>\n",
       "      <td>360</td>\n",
       "      <td>1</td>\n",
       "      <td>Rural</td>\n",
       "      <td>N</td>\n",
       "    </tr>\n",
       "    <tr>\n",
       "      <th>LP001005</th>\n",
       "      <td>Male</td>\n",
       "      <td>Yes</td>\n",
       "      <td>0</td>\n",
       "      <td>Graduate</td>\n",
       "      <td>Yes</td>\n",
       "      <td>3000</td>\n",
       "      <td>0</td>\n",
       "      <td>66</td>\n",
       "      <td>360</td>\n",
       "      <td>1</td>\n",
       "      <td>Urban</td>\n",
       "      <td>Y</td>\n",
       "    </tr>\n",
       "    <tr>\n",
       "      <th>LP001006</th>\n",
       "      <td>Male</td>\n",
       "      <td>Yes</td>\n",
       "      <td>0</td>\n",
       "      <td>Not Graduate</td>\n",
       "      <td>No</td>\n",
       "      <td>2583</td>\n",
       "      <td>2358</td>\n",
       "      <td>120</td>\n",
       "      <td>360</td>\n",
       "      <td>1</td>\n",
       "      <td>Urban</td>\n",
       "      <td>Y</td>\n",
       "    </tr>\n",
       "    <tr>\n",
       "      <th>LP001008</th>\n",
       "      <td>Male</td>\n",
       "      <td>No</td>\n",
       "      <td>0</td>\n",
       "      <td>Graduate</td>\n",
       "      <td>No</td>\n",
       "      <td>6000</td>\n",
       "      <td>0</td>\n",
       "      <td>141</td>\n",
       "      <td>360</td>\n",
       "      <td>1</td>\n",
       "      <td>Urban</td>\n",
       "      <td>Y</td>\n",
       "    </tr>\n",
       "  </tbody>\n",
       "</table>\n",
       "</div>"
      ],
      "text/plain": [
       "         Gender Married Dependents     Education Self_Employed  ApplicantIncome  CoapplicantIncome  LoanAmount  Loan_Amount_Term  Credit_History Property_Area Loan_Status\n",
       "Loan_ID                                                                                                                                                                   \n",
       "LP001002   Male      No          0      Graduate            No             5849                  0         NaN               360               1         Urban           Y\n",
       "LP001003   Male     Yes          1      Graduate            No             4583               1508         128               360               1         Rural           N\n",
       "LP001005   Male     Yes          0      Graduate           Yes             3000                  0          66               360               1         Urban           Y\n",
       "LP001006   Male     Yes          0  Not Graduate            No             2583               2358         120               360               1         Urban           Y\n",
       "LP001008   Male      No          0      Graduate            No             6000                  0         141               360               1         Urban           Y"
      ]
     },
     "execution_count": 796,
     "metadata": {},
     "output_type": "execute_result"
    }
   ],
   "source": [
    "# take a sneak peak at some of the examples\n",
    "loan_train.head()"
   ]
  },
  {
   "cell_type": "code",
   "execution_count": 797,
   "metadata": {
    "collapsed": false
   },
   "outputs": [
    {
     "name": "stdout",
     "output_type": "stream",
     "text": [
      "Number of training examples 614 \n"
     ]
    }
   ],
   "source": [
    "# number of training examples\n",
    "print 'Number of training examples {0} '.format(loan_train.shape[0])"
   ]
  },
  {
   "cell_type": "code",
   "execution_count": 798,
   "metadata": {
    "collapsed": false
   },
   "outputs": [
    {
     "name": "stdout",
     "output_type": "stream",
     "text": [
      "Number of test examples 367 \n"
     ]
    }
   ],
   "source": [
    "# number of test examples\n",
    "print 'Number of test examples {0} '.format(loan_test.shape[0])"
   ]
  },
  {
   "cell_type": "code",
   "execution_count": 799,
   "metadata": {
    "collapsed": false
   },
   "outputs": [
    {
     "data": {
      "text/plain": [
       "Y    422\n",
       "N    192\n",
       "dtype: int64"
      ]
     },
     "execution_count": 799,
     "metadata": {},
     "output_type": "execute_result"
    }
   ],
   "source": [
    "# class distribution\n",
    "loan_train.Loan_Status.value_counts()"
   ]
  },
  {
   "cell_type": "markdown",
   "metadata": {},
   "source": [
    "** Most of the applications for loan were accepted. **"
   ]
  },
  {
   "cell_type": "code",
   "execution_count": 1226,
   "metadata": {
    "collapsed": false
   },
   "outputs": [
    {
     "data": {
      "text/plain": [
       "No     500\n",
       "Yes     82\n",
       "dtype: int64"
      ]
     },
     "execution_count": 1226,
     "metadata": {},
     "output_type": "execute_result"
    }
   ],
   "source": [
    "loan_train.Self_Employed.value_counts()"
   ]
  },
  {
   "cell_type": "markdown",
   "metadata": {},
   "source": [
    "## Importing external scripts"
   ]
  },
  {
   "cell_type": "code",
   "execution_count": 1248,
   "metadata": {
    "collapsed": false
   },
   "outputs": [],
   "source": [
    "%run scripts/helper.py\n",
    "%run scripts/model.py\n",
    "%run scripts/data.py"
   ]
  },
  {
   "cell_type": "code",
   "execution_count": 1237,
   "metadata": {
    "collapsed": true
   },
   "outputs": [],
   "source": [
    "data = Data(loan_train, loan_test, 'Loan_Status')\n",
    "\n",
    "# preprocessing incluedes replacing missing values with mean of the values\n",
    "# and encoding categorical variables\n",
    "data.pre_processing()"
   ]
  },
  {
   "cell_type": "code",
   "execution_count": 1238,
   "metadata": {
    "collapsed": true
   },
   "outputs": [],
   "source": [
    "train_df = data.get_train_X()\n",
    "train_target = data.get_train_Y()\n",
    "test_df = data.get_test_X()"
   ]
  },
  {
   "cell_type": "code",
   "execution_count": 1240,
   "metadata": {
    "collapsed": false
   },
   "outputs": [],
   "source": [
    "# split into training and hold out set\n",
    "X_train, X_test, y_train, y_test = split_dataset(train_df, train_target) "
   ]
  },
  {
   "cell_type": "markdown",
   "metadata": {},
   "source": [
    "## Logistic Regression"
   ]
  },
  {
   "cell_type": "code",
   "execution_count": 1249,
   "metadata": {
    "collapsed": false
   },
   "outputs": [],
   "source": [
    "lr = LogisticRegression()\n",
    "parameters = {\"C\": [0.0001, 0.001, 0.1, 1, 10, 100]}\n",
    "\n",
    "model = Model()\n",
    "\n",
    "best_model, best_params, best_score, grid_scores = model.grid_search(X_train, y_train, lr, parameters, 'accuracy')"
   ]
  },
  {
   "cell_type": "code",
   "execution_count": 1251,
   "metadata": {
    "collapsed": false
   },
   "outputs": [
    {
     "name": "stdout",
     "output_type": "stream",
     "text": [
      "best model is LogisticRegression(C=0.0001, class_weight=None, dual=False,\n",
      "          fit_intercept=True, intercept_scaling=1, max_iter=100,\n",
      "          multi_class='ovr', penalty='l2', random_state=None,\n",
      "          solver='liblinear', tol=0.0001, verbose=0) \n",
      " best params are {'C': 0.0001} \n",
      " best score is 0.701631701632 \n",
      " and grid scores are [mean: 0.70163, std: 0.00368, params: {'C': 0.0001}, mean: 0.69930, std: 0.00397, params: {'C': 0.001}, mean: 0.69464, std: 0.00651, params: {'C': 0.1}, mean: 0.68998, std: 0.01164, params: {'C': 1}, mean: 0.68065, std: 0.01737, params: {'C': 10}, mean: 0.69231, std: 0.00705, params: {'C': 100}] \n"
     ]
    }
   ],
   "source": [
    "print 'best model is %s \\n best params are %s \\n best score is %s \\n and grid scores are %s ' %(best_model, best_params,\n",
    "                                                                                               best_score, grid_scores)"
   ]
  },
  {
   "cell_type": "markdown",
   "metadata": {},
   "source": [
    "## Random Forest Classifier"
   ]
  },
  {
   "cell_type": "code",
   "execution_count": 1252,
   "metadata": {
    "collapsed": true
   },
   "outputs": [],
   "source": [
    "rf = RandomForestClassifier()\n",
    "parameters = {\"n_estimators\": [50, 100, 200, 500, 1000]}\n",
    "\n",
    "model = Model()\n",
    "best_model, best_params, best_score, grid_scores = model.grid_search(X_train, y_train, rf, parameters, 'accuracy')"
   ]
  },
  {
   "cell_type": "code",
   "execution_count": 1253,
   "metadata": {
    "collapsed": false
   },
   "outputs": [
    {
     "name": "stdout",
     "output_type": "stream",
     "text": [
      "best model is RandomForestClassifier(bootstrap=True, class_weight=None, criterion='gini',\n",
      "            max_depth=None, max_features='auto', max_leaf_nodes=None,\n",
      "            min_samples_leaf=1, min_samples_split=2,\n",
      "            min_weight_fraction_leaf=0.0, n_estimators=200, n_jobs=1,\n",
      "            oob_score=False, random_state=None, verbose=0,\n",
      "            warm_start=False) \n",
      " best params are {'n_estimators': 200} \n",
      " best score is 0.799533799534 \n",
      " and grid scores are [mean: 0.77622, std: 0.02521, params: {'n_estimators': 50}, mean: 0.78555, std: 0.02880, params: {'n_estimators': 100}, mean: 0.79953, std: 0.02280, params: {'n_estimators': 200}, mean: 0.79021, std: 0.03251, params: {'n_estimators': 500}, mean: 0.79021, std: 0.02552, params: {'n_estimators': 1000}] \n"
     ]
    }
   ],
   "source": [
    "print 'best model is %s \\n best params are %s \\n best score is %s \\n and grid scores are %s ' %(best_model, best_params,\n",
    "                                                                                               best_score, grid_scores)"
   ]
  },
  {
   "cell_type": "markdown",
   "metadata": {},
   "source": [
    "## Gradient Boosting Classifier"
   ]
  },
  {
   "cell_type": "code",
   "execution_count": 1255,
   "metadata": {
    "collapsed": false
   },
   "outputs": [],
   "source": [
    "gbc = GradientBoostingClassifier()\n",
    "parameters = {\"n_estimators\": [100, 300, 500, 700, 1000],\n",
    "              \"learning_rate\": [0.3, 0.1, 0.05, 0.01],\n",
    "              \"subsample\": [.7, .8, .9]\n",
    "             }\n",
    "\n",
    "model = Model()\n",
    "best_model, best_params, best_score, grid_scores = model.grid_search(X_train, y_train, gbc, parameters, 'accuracy')"
   ]
  },
  {
   "cell_type": "code",
   "execution_count": 1256,
   "metadata": {
    "collapsed": false
   },
   "outputs": [
    {
     "name": "stdout",
     "output_type": "stream",
     "text": [
      "best model is GradientBoostingClassifier(init=None, learning_rate=0.01, loss='deviance',\n",
      "              max_depth=3, max_features=None, max_leaf_nodes=None,\n",
      "              min_samples_leaf=1, min_samples_split=2,\n",
      "              min_weight_fraction_leaf=0.0, n_estimators=100,\n",
      "              random_state=None, subsample=0.7, verbose=0,\n",
      "              warm_start=False) \n",
      " best params are {'n_estimators': 100, 'subsample': 0.7, 'learning_rate': 0.01} \n",
      " best score is 0.825174825175 \n",
      " and grid scores are [mean: 0.77389, std: 0.03999, params: {'n_estimators': 100, 'subsample': 0.7, 'learning_rate': 0.3}, mean: 0.78788, std: 0.05166, params: {'n_estimators': 100, 'subsample': 0.8, 'learning_rate': 0.3}, mean: 0.76923, std: 0.05807, params: {'n_estimators': 100, 'subsample': 0.9, 'learning_rate': 0.3}, mean: 0.78788, std: 0.06645, params: {'n_estimators': 300, 'subsample': 0.7, 'learning_rate': 0.3}, mean: 0.76923, std: 0.05589, params: {'n_estimators': 300, 'subsample': 0.8, 'learning_rate': 0.3}, mean: 0.77156, std: 0.05314, params: {'n_estimators': 300, 'subsample': 0.9, 'learning_rate': 0.3}, mean: 0.79254, std: 0.06392, params: {'n_estimators': 500, 'subsample': 0.7, 'learning_rate': 0.3}, mean: 0.76923, std: 0.04930, params: {'n_estimators': 500, 'subsample': 0.8, 'learning_rate': 0.3}, mean: 0.78322, std: 0.04221, params: {'n_estimators': 500, 'subsample': 0.9, 'learning_rate': 0.3}, mean: 0.78788, std: 0.05593, params: {'n_estimators': 700, 'subsample': 0.7, 'learning_rate': 0.3}, mean: 0.78089, std: 0.05310, params: {'n_estimators': 700, 'subsample': 0.8, 'learning_rate': 0.3}, mean: 0.77156, std: 0.05882, params: {'n_estimators': 700, 'subsample': 0.9, 'learning_rate': 0.3}, mean: 0.78322, std: 0.05260, params: {'n_estimators': 1000, 'subsample': 0.7, 'learning_rate': 0.3}, mean: 0.78089, std: 0.06690, params: {'n_estimators': 1000, 'subsample': 0.8, 'learning_rate': 0.3}, mean: 0.78089, std: 0.06392, params: {'n_estimators': 1000, 'subsample': 0.9, 'learning_rate': 0.3}, mean: 0.80420, std: 0.03842, params: {'n_estimators': 100, 'subsample': 0.7, 'learning_rate': 0.1}, mean: 0.79487, std: 0.03348, params: {'n_estimators': 100, 'subsample': 0.8, 'learning_rate': 0.1}, mean: 0.78788, std: 0.04132, params: {'n_estimators': 100, 'subsample': 0.9, 'learning_rate': 0.1}, mean: 0.78555, std: 0.05284, params: {'n_estimators': 300, 'subsample': 0.7, 'learning_rate': 0.1}, mean: 0.79487, std: 0.04909, params: {'n_estimators': 300, 'subsample': 0.8, 'learning_rate': 0.1}, mean: 0.78788, std: 0.05939, params: {'n_estimators': 300, 'subsample': 0.9, 'learning_rate': 0.1}, mean: 0.79021, std: 0.06059, params: {'n_estimators': 500, 'subsample': 0.7, 'learning_rate': 0.1}, mean: 0.78788, std: 0.05913, params: {'n_estimators': 500, 'subsample': 0.8, 'learning_rate': 0.1}, mean: 0.78788, std: 0.05940, params: {'n_estimators': 500, 'subsample': 0.9, 'learning_rate': 0.1}, mean: 0.79021, std: 0.05886, params: {'n_estimators': 700, 'subsample': 0.7, 'learning_rate': 0.1}, mean: 0.78089, std: 0.05186, params: {'n_estimators': 700, 'subsample': 0.8, 'learning_rate': 0.1}, mean: 0.79021, std: 0.04904, params: {'n_estimators': 700, 'subsample': 0.9, 'learning_rate': 0.1}, mean: 0.78322, std: 0.05646, params: {'n_estimators': 1000, 'subsample': 0.7, 'learning_rate': 0.1}, mean: 0.78555, std: 0.05910, params: {'n_estimators': 1000, 'subsample': 0.8, 'learning_rate': 0.1}, mean: 0.78089, std: 0.05239, params: {'n_estimators': 1000, 'subsample': 0.9, 'learning_rate': 0.1}, mean: 0.80420, std: 0.03878, params: {'n_estimators': 100, 'subsample': 0.7, 'learning_rate': 0.05}, mean: 0.81119, std: 0.03623, params: {'n_estimators': 100, 'subsample': 0.8, 'learning_rate': 0.05}, mean: 0.81119, std: 0.03170, params: {'n_estimators': 100, 'subsample': 0.9, 'learning_rate': 0.05}, mean: 0.79254, std: 0.04697, params: {'n_estimators': 300, 'subsample': 0.7, 'learning_rate': 0.05}, mean: 0.78788, std: 0.04757, params: {'n_estimators': 300, 'subsample': 0.8, 'learning_rate': 0.05}, mean: 0.78788, std: 0.04291, params: {'n_estimators': 300, 'subsample': 0.9, 'learning_rate': 0.05}, mean: 0.78089, std: 0.04518, params: {'n_estimators': 500, 'subsample': 0.7, 'learning_rate': 0.05}, mean: 0.79254, std: 0.04828, params: {'n_estimators': 500, 'subsample': 0.8, 'learning_rate': 0.05}, mean: 0.78322, std: 0.04821, params: {'n_estimators': 500, 'subsample': 0.9, 'learning_rate': 0.05}, mean: 0.79720, std: 0.05522, params: {'n_estimators': 700, 'subsample': 0.7, 'learning_rate': 0.05}, mean: 0.78322, std: 0.04458, params: {'n_estimators': 700, 'subsample': 0.8, 'learning_rate': 0.05}, mean: 0.78322, std: 0.05945, params: {'n_estimators': 700, 'subsample': 0.9, 'learning_rate': 0.05}, mean: 0.78555, std: 0.06660, params: {'n_estimators': 1000, 'subsample': 0.7, 'learning_rate': 0.05}, mean: 0.78555, std: 0.05661, params: {'n_estimators': 1000, 'subsample': 0.8, 'learning_rate': 0.05}, mean: 0.79254, std: 0.04554, params: {'n_estimators': 1000, 'subsample': 0.9, 'learning_rate': 0.05}, mean: 0.82517, std: 0.03433, params: {'n_estimators': 100, 'subsample': 0.7, 'learning_rate': 0.01}, mean: 0.82284, std: 0.03053, params: {'n_estimators': 100, 'subsample': 0.8, 'learning_rate': 0.01}, mean: 0.82517, std: 0.03433, params: {'n_estimators': 100, 'subsample': 0.9, 'learning_rate': 0.01}, mean: 0.81352, std: 0.03671, params: {'n_estimators': 300, 'subsample': 0.7, 'learning_rate': 0.01}, mean: 0.81352, std: 0.03671, params: {'n_estimators': 300, 'subsample': 0.8, 'learning_rate': 0.01}, mean: 0.81352, std: 0.03671, params: {'n_estimators': 300, 'subsample': 0.9, 'learning_rate': 0.01}, mean: 0.81352, std: 0.03511, params: {'n_estimators': 500, 'subsample': 0.7, 'learning_rate': 0.01}, mean: 0.81119, std: 0.03903, params: {'n_estimators': 500, 'subsample': 0.8, 'learning_rate': 0.01}, mean: 0.81818, std: 0.03319, params: {'n_estimators': 500, 'subsample': 0.9, 'learning_rate': 0.01}, mean: 0.81352, std: 0.03035, params: {'n_estimators': 700, 'subsample': 0.7, 'learning_rate': 0.01}, mean: 0.80886, std: 0.03414, params: {'n_estimators': 700, 'subsample': 0.8, 'learning_rate': 0.01}, mean: 0.80420, std: 0.03841, params: {'n_estimators': 700, 'subsample': 0.9, 'learning_rate': 0.01}, mean: 0.79254, std: 0.04442, params: {'n_estimators': 1000, 'subsample': 0.7, 'learning_rate': 0.01}, mean: 0.79254, std: 0.03232, params: {'n_estimators': 1000, 'subsample': 0.8, 'learning_rate': 0.01}, mean: 0.79254, std: 0.04380, params: {'n_estimators': 1000, 'subsample': 0.9, 'learning_rate': 0.01}] \n"
     ]
    }
   ],
   "source": [
    "print 'best model is %s \\n best params are %s \\n best score is %s \\n and grid scores are %s ' %(best_model, best_params,\n",
    "                                                                                               best_score, grid_scores)"
   ]
  },
  {
   "cell_type": "code",
   "execution_count": 1257,
   "metadata": {
    "collapsed": true
   },
   "outputs": [],
   "source": [
    "# train 3 models on the training examples\n",
    "lr_final = LogisticRegression(C=0.0001).fit(X_train, y_train)\n",
    "rf_final = RandomForestClassifier(n_estimators=200).fit(X_train, y_train)\n",
    "gbc_final = GradientBoostingClassifier(n_estimators=100, learning_rate=.01, subsample=0.7).fit(X_train, y_train)"
   ]
  },
  {
   "cell_type": "code",
   "execution_count": 1274,
   "metadata": {
    "collapsed": true
   },
   "outputs": [],
   "source": [
    "lr_preds = lr_final.predict(X_train).reshape(-1, 1)\n",
    "rf_preds = rf_final.predict(X_train).reshape(-1, 1)\n",
    "gbc_preds = gbc_final.predict(X_train).reshape(-1, 1)"
   ]
  },
  {
   "cell_type": "code",
   "execution_count": 1275,
   "metadata": {
    "collapsed": true
   },
   "outputs": [],
   "source": [
    "all_preds = np.hstack([lr_preds, rf_preds, gbc_preds])"
   ]
  },
  {
   "cell_type": "markdown",
   "metadata": {},
   "source": [
    "## Second Stage Classifier"
   ]
  },
  {
   "cell_type": "code",
   "execution_count": 1278,
   "metadata": {
    "collapsed": true
   },
   "outputs": [],
   "source": [
    "rf_meta = RandomForestClassifier()\n",
    "parameters = {\"n_estimators\": [100]}\n",
    "\n",
    "model = Model()\n",
    "best_model, best_params, best_score, grid_scores = model.grid_search(all_preds, y_train, rf_meta, parameters, 'accuracy')"
   ]
  },
  {
   "cell_type": "code",
   "execution_count": 1279,
   "metadata": {
    "collapsed": false
   },
   "outputs": [
    {
     "name": "stdout",
     "output_type": "stream",
     "text": [
      "best model is RandomForestClassifier(bootstrap=True, class_weight=None, criterion='gini',\n",
      "            max_depth=None, max_features='auto', max_leaf_nodes=None,\n",
      "            min_samples_leaf=1, min_samples_split=2,\n",
      "            min_weight_fraction_leaf=0.0, n_estimators=100, n_jobs=1,\n",
      "            oob_score=False, random_state=None, verbose=0,\n",
      "            warm_start=False) \n",
      " best params are {'n_estimators': 100} \n",
      " best score is 1.0 \n",
      " and grid scores are [mean: 1.00000, std: 0.00000, params: {'n_estimators': 100}] \n"
     ]
    }
   ],
   "source": [
    "print 'best model is %s \\n best params are %s \\n best score is %s \\n and grid scores are %s ' %(best_model, best_params,\n",
    "                                                                                               best_score, grid_scores)"
   ]
  },
  {
   "cell_type": "code",
   "execution_count": 1282,
   "metadata": {
    "collapsed": true
   },
   "outputs": [],
   "source": [
    "lr_predict_test = lr_final.predict(X_test).reshape(-1, 1)\n",
    "rf_predict_test = rf_final.predict(X_test).reshape(-1, 1)\n",
    "gbc_predict_test = gbc_final.predict(X_test).reshape(-1, 1)\n",
    "\n",
    "all_preds_test = np.hstack([lr_predict_test, rf_predict_test, gbc_predict_test])"
   ]
  },
  {
   "cell_type": "code",
   "execution_count": 1284,
   "metadata": {
    "collapsed": false
   },
   "outputs": [
    {
     "name": "stdout",
     "output_type": "stream",
     "text": [
      "score of logistic regression 0.654054 \n",
      "score of random forest classifier 0.735135 \n",
      "score of gradient boosting classifier 0.762162 \n"
     ]
    }
   ],
   "source": [
    "# scores of individual model on the hold out set\n",
    "print 'score of logistic regression %f ' %(lr_final.score(X_test, y_test))\n",
    "print 'score of random forest classifier %f ' %(rf_final.score(X_test, y_test))\n",
    "print 'score of gradient boosting classifier %f ' %(gbc_final.score(X_test, y_test))"
   ]
  },
  {
   "cell_type": "code",
   "execution_count": 1283,
   "metadata": {
    "collapsed": false
   },
   "outputs": [
    {
     "name": "stdout",
     "output_type": "stream",
     "text": [
      "score on the hold out examples 0.735135 \n"
     ]
    }
   ],
   "source": [
    "print 'score on the hold out examples %f ' %(best_model.score(all_preds_test, y_test))"
   ]
  },
  {
   "cell_type": "code",
   "execution_count": null,
   "metadata": {
    "collapsed": true
   },
   "outputs": [],
   "source": []
  },
  {
   "cell_type": "code",
   "execution_count": 1194,
   "metadata": {
    "collapsed": false
   },
   "outputs": [],
   "source": [
    "# create instance of logistic regression model\n",
    "log_reg = LogRegression(loan_train, loan_test, 'Loan_Status')"
   ]
  },
  {
   "cell_type": "code",
   "execution_count": 1195,
   "metadata": {
    "collapsed": false
   },
   "outputs": [],
   "source": [
    "# do the require preprocessing\n",
    "log_reg.pre_processing()\n",
    "\n",
    "# split dataset\n",
    "log_reg.split_dataset()\n",
    "\n",
    "# feature selection\n",
    "log_reg.feature_selection()"
   ]
  },
  {
   "cell_type": "code",
   "execution_count": 1196,
   "metadata": {
    "collapsed": true
   },
   "outputs": [],
   "source": [
    "# model\n",
    "est = LogisticRegression(C=10.)"
   ]
  },
  {
   "cell_type": "code",
   "execution_count": 1197,
   "metadata": {
    "collapsed": false
   },
   "outputs": [],
   "source": [
    "# cross validation scores\n",
    "scores = log_reg.get_cross_validation_scores(est)"
   ]
  },
  {
   "cell_type": "code",
   "execution_count": 1198,
   "metadata": {
    "collapsed": false
   },
   "outputs": [
    {
     "name": "stdout",
     "output_type": "stream",
     "text": [
      "Logistic Regression Minimum 0.716666666667, Maximum 0.783333333333 and Mean 0.746666666667 \n"
     ]
    }
   ],
   "source": [
    "# print min, max and mean of scores\n",
    "print 'Logistic Regression Minimum {0}, Maximum {1} and Mean {2} '.format(scores.min(), scores.max(), scores.mean())"
   ]
  },
  {
   "cell_type": "code",
   "execution_count": 1199,
   "metadata": {
    "collapsed": false
   },
   "outputs": [],
   "source": [
    "# Train the model\n",
    "logreg = log_reg.fit_model(est)"
   ]
  },
  {
   "cell_type": "code",
   "execution_count": 1200,
   "metadata": {
    "collapsed": false
   },
   "outputs": [
    {
     "name": "stdout",
     "output_type": "stream",
     "text": [
      "Accuracy on the hold out set is  0.67027027027\n"
     ]
    }
   ],
   "source": [
    "# lets test it out on the hold out examples\n",
    "test_preds_lr, test_score_lr = log_reg.test(logreg)\n",
    "print 'Accuracy on the hold out set is ', test_score_lr"
   ]
  },
  {
   "cell_type": "code",
   "execution_count": 1163,
   "metadata": {
    "collapsed": true
   },
   "outputs": [],
   "source": [
    "# Train on whole dataset\n",
    "final_model = log_reg.train_model(est, 'Loan_Status')"
   ]
  },
  {
   "cell_type": "code",
   "execution_count": 1164,
   "metadata": {
    "collapsed": false
   },
   "outputs": [],
   "source": [
    "predictions_lr = log_reg.predict(final_model)"
   ]
  },
  {
   "cell_type": "code",
   "execution_count": 276,
   "metadata": {
    "collapsed": false
   },
   "outputs": [],
   "source": [
    "# create submission for logistic regression model\n",
    "create_submissions(loan_test.index.values, predictions, 'logistic_regression.csv')"
   ]
  },
  {
   "cell_type": "markdown",
   "metadata": {},
   "source": [
    "## Random Forest Classifier"
   ]
  },
  {
   "cell_type": "code",
   "execution_count": 1201,
   "metadata": {
    "collapsed": true
   },
   "outputs": [],
   "source": [
    "rf_model = RandomForestModel(loan_train, loan_test, 'Loan_Status')"
   ]
  },
  {
   "cell_type": "code",
   "execution_count": 1202,
   "metadata": {
    "collapsed": false
   },
   "outputs": [],
   "source": [
    "# do the require preprocessing\n",
    "rf_model.pre_processing()\n",
    "\n",
    "# split dataset\n",
    "rf_model.split_dataset()\n",
    "\n",
    "# feature selection\n",
    "rf_model.feature_selection()"
   ]
  },
  {
   "cell_type": "code",
   "execution_count": 1203,
   "metadata": {
    "collapsed": false
   },
   "outputs": [],
   "source": [
    "# model\n",
    "est = RandomForestClassifier(n_estimators=500, min_samples_leaf=10, n_jobs=-1)"
   ]
  },
  {
   "cell_type": "code",
   "execution_count": 1204,
   "metadata": {
    "collapsed": true
   },
   "outputs": [],
   "source": [
    "# cross validation scores\n",
    "scores = rf_model.get_cross_validation_scores(est)"
   ]
  },
  {
   "cell_type": "code",
   "execution_count": 1205,
   "metadata": {
    "collapsed": false
   },
   "outputs": [
    {
     "name": "stdout",
     "output_type": "stream",
     "text": [
      "Random Forest Classifier Minimum 0.716666666667, Maximum 0.783333333333 and Mean 0.746666666667 \n"
     ]
    }
   ],
   "source": [
    "print 'Random Forest Classifier Minimum {0}, Maximum {1} and Mean {2} '.format(scores.min(), scores.max(), scores.mean())"
   ]
  },
  {
   "cell_type": "code",
   "execution_count": 1206,
   "metadata": {
    "collapsed": true
   },
   "outputs": [],
   "source": [
    "# Train model\n",
    "rf = rf_model.fit_model(est)"
   ]
  },
  {
   "cell_type": "code",
   "execution_count": 1207,
   "metadata": {
    "collapsed": false
   },
   "outputs": [
    {
     "name": "stdout",
     "output_type": "stream",
     "text": [
      "Accuracy on the hold out set is  0.778378378378\n"
     ]
    }
   ],
   "source": [
    "# lets test it out on the hold out examples\n",
    "test_preds_rf, test_score_rf = rf_model.test(rf)\n",
    "print 'Accuracy on the hold out set is ', test_score_rf"
   ]
  },
  {
   "cell_type": "code",
   "execution_count": 1079,
   "metadata": {
    "collapsed": true
   },
   "outputs": [],
   "source": [
    "# Train on full dataset\n",
    "final_model = rf_model.train_model(est, 'Loan_Status')"
   ]
  },
  {
   "cell_type": "code",
   "execution_count": 879,
   "metadata": {
    "collapsed": true
   },
   "outputs": [],
   "source": [
    "predictions_rf = rf_model.predict(final_model)"
   ]
  },
  {
   "cell_type": "code",
   "execution_count": 435,
   "metadata": {
    "collapsed": true
   },
   "outputs": [],
   "source": [
    "# create submission for random forest model\n",
    "create_submissions(loan_test.index.values, predictions, 'random_forest_200_trees.csv')"
   ]
  },
  {
   "cell_type": "markdown",
   "metadata": {},
   "source": [
    "## Gradient Boosting Classifier"
   ]
  },
  {
   "cell_type": "code",
   "execution_count": 1208,
   "metadata": {
    "collapsed": false
   },
   "outputs": [],
   "source": [
    "gbm_model = GradientBoostingModel(loan_train, loan_test, 'Loan_Status')"
   ]
  },
  {
   "cell_type": "code",
   "execution_count": 1209,
   "metadata": {
    "collapsed": true
   },
   "outputs": [],
   "source": [
    "# preprocessing\n",
    "gbm_model.pre_processing()\n",
    "\n",
    "# split dataset\n",
    "gbm_model.split_dataset()\n",
    "\n",
    "# feature selection\n",
    "gbm_model.feature_selection()"
   ]
  },
  {
   "cell_type": "code",
   "execution_count": 1210,
   "metadata": {
    "collapsed": false
   },
   "outputs": [],
   "source": [
    "est = GradientBoostingClassifier(learning_rate=0.01, min_samples_leaf=3, \n",
    "                                 n_estimators=500, subsample=0.9, min_weight_fraction_leaf=0.005)"
   ]
  },
  {
   "cell_type": "code",
   "execution_count": 1211,
   "metadata": {
    "collapsed": true
   },
   "outputs": [],
   "source": [
    "# cross validation scores\n",
    "scores = gbm_model.get_cross_validation_scores(est)"
   ]
  },
  {
   "cell_type": "code",
   "execution_count": 1212,
   "metadata": {
    "collapsed": false
   },
   "outputs": [
    {
     "name": "stdout",
     "output_type": "stream",
     "text": [
      "Gradient Boosting Classifier Minimum 0.75, Maximum 0.85 and Mean 0.79 \n"
     ]
    }
   ],
   "source": [
    "print 'Gradient Boosting Classifier Minimum {0}, Maximum {1} and Mean {2} '.format(scores.min(), scores.max(), scores.mean())"
   ]
  },
  {
   "cell_type": "code",
   "execution_count": 1213,
   "metadata": {
    "collapsed": false
   },
   "outputs": [],
   "source": [
    "# Fit the model\n",
    "gbc = gbm_model.fit_model(est)"
   ]
  },
  {
   "cell_type": "code",
   "execution_count": 1215,
   "metadata": {
    "collapsed": false
   },
   "outputs": [
    {
     "name": "stdout",
     "output_type": "stream",
     "text": [
      "Accuracy on the hold out set is  0.837837837838\n"
     ]
    }
   ],
   "source": [
    "# lets test it out on the hold out examples\n",
    "test_preds_gbc, test_scores_gbc = gbm_model.test(gbc)\n",
    "print 'Accuracy on the hold out set is ', test_scores_gbc"
   ]
  },
  {
   "cell_type": "code",
   "execution_count": 1095,
   "metadata": {
    "collapsed": true
   },
   "outputs": [],
   "source": [
    "# Train on full dataset\n",
    "final_model = gbm_model.train_model(est, 'Loan_Status')"
   ]
  },
  {
   "cell_type": "code",
   "execution_count": 1096,
   "metadata": {
    "collapsed": true
   },
   "outputs": [],
   "source": [
    "predictions_gbc = gbm_model.predict(final_model)"
   ]
  },
  {
   "cell_type": "code",
   "execution_count": 1097,
   "metadata": {
    "collapsed": true
   },
   "outputs": [],
   "source": [
    "create_submissions(loan_test.index.values, predictions_gbc, 'gbm_point4_threshold.csv')"
   ]
  },
  {
   "cell_type": "markdown",
   "metadata": {},
   "source": [
    "## Extreme Gradient Boosting"
   ]
  },
  {
   "cell_type": "code",
   "execution_count": 936,
   "metadata": {
    "collapsed": true
   },
   "outputs": [],
   "source": [
    "import xgboost as xgb"
   ]
  },
  {
   "cell_type": "code",
   "execution_count": 937,
   "metadata": {
    "collapsed": true
   },
   "outputs": [],
   "source": [
    "xgb_model = GradientBoostingModel(loan_train, loan_test, 'Loan_Status')"
   ]
  },
  {
   "cell_type": "code",
   "execution_count": 938,
   "metadata": {
    "collapsed": true
   },
   "outputs": [],
   "source": [
    "# preprocessing\n",
    "xgb_model.pre_processing()\n",
    "\n",
    "# split dataset\n",
    "xgb_model.split_dataset()\n",
    "\n",
    "# feature selection\n",
    "xgb_model.feature_selection()"
   ]
  },
  {
   "cell_type": "code",
   "execution_count": 989,
   "metadata": {
    "collapsed": true
   },
   "outputs": [],
   "source": [
    "param = {'bst:max_depth':6, 'bst:eta':.01,\n",
    "         'silent':1, 'objective':'binary:logistic',\n",
    "         'bst:subsample': 0.9, 'bst:colsample_bytree': 0.8,\n",
    "         'bst:gamma': 5, 'bst:min_child_weight': 5}\n",
    "param['nthread'] = 4\n",
    "param['eval_metric'] = 'error'"
   ]
  },
  {
   "cell_type": "code",
   "execution_count": 990,
   "metadata": {
    "collapsed": false
   },
   "outputs": [],
   "source": [
    "# training and validation\n",
    "dtrain = xgb.DMatrix(xgb_model.X_train, xgb_model.y_train)\n",
    "dval = xgb.DMatrix(xgb_model.X_val, xgb_model.y_val)"
   ]
  },
  {
   "cell_type": "code",
   "execution_count": 991,
   "metadata": {
    "collapsed": false
   },
   "outputs": [],
   "source": [
    "evallist  = [(dval,'eval'), (dtrain,'train')]"
   ]
  },
  {
   "cell_type": "code",
   "execution_count": 992,
   "metadata": {
    "collapsed": true
   },
   "outputs": [
    {
     "name": "stderr",
     "output_type": "stream",
     "text": [
      "[0]\teval-error:0.194595\ttrain-error:0.188811\n",
      "[1]\teval-error:0.194595\ttrain-error:0.188811\n",
      "[2]\teval-error:0.194595\ttrain-error:0.188811\n",
      "[3]\teval-error:0.194595\ttrain-error:0.188811\n",
      "[4]\teval-error:0.194595\ttrain-error:0.188811\n",
      "[5]\teval-error:0.194595\ttrain-error:0.188811\n",
      "[6]\teval-error:0.194595\ttrain-error:0.188811\n",
      "[7]\teval-error:0.194595\ttrain-error:0.188811\n",
      "[8]\teval-error:0.194595\ttrain-error:0.188811\n",
      "[9]\teval-error:0.194595\ttrain-error:0.188811\n",
      "[10]\teval-error:0.194595\ttrain-error:0.188811\n",
      "[11]\teval-error:0.194595\ttrain-error:0.188811\n",
      "[12]\teval-error:0.194595\ttrain-error:0.188811\n",
      "[13]\teval-error:0.194595\ttrain-error:0.188811\n",
      "[14]\teval-error:0.194595\ttrain-error:0.188811\n",
      "[15]\teval-error:0.194595\ttrain-error:0.188811\n",
      "[16]\teval-error:0.194595\ttrain-error:0.188811\n",
      "[17]\teval-error:0.194595\ttrain-error:0.188811\n",
      "[18]\teval-error:0.194595\ttrain-error:0.188811\n",
      "[19]\teval-error:0.194595\ttrain-error:0.188811\n",
      "[20]\teval-error:0.194595\ttrain-error:0.188811\n",
      "[21]\teval-error:0.194595\ttrain-error:0.188811\n",
      "[22]\teval-error:0.194595\ttrain-error:0.188811\n",
      "[23]\teval-error:0.194595\ttrain-error:0.188811\n",
      "[24]\teval-error:0.194595\ttrain-error:0.188811\n",
      "[25]\teval-error:0.194595\ttrain-error:0.188811\n",
      "[26]\teval-error:0.194595\ttrain-error:0.188811\n",
      "[27]\teval-error:0.194595\ttrain-error:0.188811\n",
      "[28]\teval-error:0.194595\ttrain-error:0.188811\n",
      "[29]\teval-error:0.194595\ttrain-error:0.188811\n",
      "[30]\teval-error:0.194595\ttrain-error:0.188811\n",
      "[31]\teval-error:0.194595\ttrain-error:0.188811\n",
      "[32]\teval-error:0.194595\ttrain-error:0.188811\n",
      "[33]\teval-error:0.194595\ttrain-error:0.188811\n",
      "[34]\teval-error:0.194595\ttrain-error:0.188811\n",
      "[35]\teval-error:0.194595\ttrain-error:0.188811\n",
      "[36]\teval-error:0.194595\ttrain-error:0.188811\n",
      "[37]\teval-error:0.194595\ttrain-error:0.188811\n",
      "[38]\teval-error:0.194595\ttrain-error:0.188811\n",
      "[39]\teval-error:0.194595\ttrain-error:0.188811\n",
      "[40]\teval-error:0.194595\ttrain-error:0.188811\n",
      "[41]\teval-error:0.194595\ttrain-error:0.188811\n",
      "[42]\teval-error:0.194595\ttrain-error:0.188811\n",
      "[43]\teval-error:0.194595\ttrain-error:0.188811\n",
      "[44]\teval-error:0.194595\ttrain-error:0.188811\n",
      "[45]\teval-error:0.194595\ttrain-error:0.188811\n",
      "[46]\teval-error:0.194595\ttrain-error:0.188811\n",
      "[47]\teval-error:0.194595\ttrain-error:0.188811\n",
      "[48]\teval-error:0.194595\ttrain-error:0.188811\n",
      "[49]\teval-error:0.194595\ttrain-error:0.188811\n",
      "[50]\teval-error:0.194595\ttrain-error:0.188811\n",
      "[51]\teval-error:0.194595\ttrain-error:0.188811\n",
      "[52]\teval-error:0.194595\ttrain-error:0.188811\n",
      "[53]\teval-error:0.194595\ttrain-error:0.188811\n",
      "[54]\teval-error:0.194595\ttrain-error:0.188811\n",
      "[55]\teval-error:0.194595\ttrain-error:0.188811\n",
      "[56]\teval-error:0.194595\ttrain-error:0.188811\n",
      "[57]\teval-error:0.194595\ttrain-error:0.188811\n",
      "[58]\teval-error:0.194595\ttrain-error:0.188811\n",
      "[59]\teval-error:0.194595\ttrain-error:0.188811\n",
      "[60]\teval-error:0.194595\ttrain-error:0.188811\n",
      "[61]\teval-error:0.194595\ttrain-error:0.188811\n",
      "[62]\teval-error:0.194595\ttrain-error:0.188811\n",
      "[63]\teval-error:0.194595\ttrain-error:0.188811\n",
      "[64]\teval-error:0.194595\ttrain-error:0.188811\n",
      "[65]\teval-error:0.194595\ttrain-error:0.188811\n",
      "[66]\teval-error:0.194595\ttrain-error:0.188811\n",
      "[67]\teval-error:0.194595\ttrain-error:0.188811\n",
      "[68]\teval-error:0.194595\ttrain-error:0.188811\n",
      "[69]\teval-error:0.194595\ttrain-error:0.188811\n",
      "[70]\teval-error:0.194595\ttrain-error:0.188811\n",
      "[71]\teval-error:0.194595\ttrain-error:0.188811\n",
      "[72]\teval-error:0.194595\ttrain-error:0.188811\n",
      "[73]\teval-error:0.194595\ttrain-error:0.188811\n",
      "[74]\teval-error:0.194595\ttrain-error:0.188811\n",
      "[75]\teval-error:0.194595\ttrain-error:0.188811\n",
      "[76]\teval-error:0.194595\ttrain-error:0.188811\n",
      "[77]\teval-error:0.194595\ttrain-error:0.188811\n",
      "[78]\teval-error:0.194595\ttrain-error:0.188811\n",
      "[79]\teval-error:0.194595\ttrain-error:0.188811\n",
      "[80]\teval-error:0.194595\ttrain-error:0.188811\n",
      "[81]\teval-error:0.194595\ttrain-error:0.188811\n",
      "[82]\teval-error:0.194595\ttrain-error:0.188811\n",
      "[83]\teval-error:0.194595\ttrain-error:0.188811\n",
      "[84]\teval-error:0.194595\ttrain-error:0.188811\n",
      "[85]\teval-error:0.194595\ttrain-error:0.188811\n",
      "[86]\teval-error:0.194595\ttrain-error:0.188811\n",
      "[87]\teval-error:0.194595\ttrain-error:0.188811\n",
      "[88]\teval-error:0.194595\ttrain-error:0.188811\n",
      "[89]\teval-error:0.194595\ttrain-error:0.188811\n",
      "[90]\teval-error:0.194595\ttrain-error:0.188811\n",
      "[91]\teval-error:0.194595\ttrain-error:0.188811\n",
      "[92]\teval-error:0.194595\ttrain-error:0.188811\n",
      "[93]\teval-error:0.194595\ttrain-error:0.188811\n",
      "[94]\teval-error:0.194595\ttrain-error:0.188811\n",
      "[95]\teval-error:0.194595\ttrain-error:0.188811\n",
      "[96]\teval-error:0.194595\ttrain-error:0.188811\n",
      "[97]\teval-error:0.194595\ttrain-error:0.188811\n",
      "[98]\teval-error:0.194595\ttrain-error:0.188811\n",
      "[99]\teval-error:0.194595\ttrain-error:0.188811\n",
      "[100]\teval-error:0.194595\ttrain-error:0.188811\n",
      "[101]\teval-error:0.194595\ttrain-error:0.188811\n",
      "[102]\teval-error:0.194595\ttrain-error:0.188811\n",
      "[103]\teval-error:0.194595\ttrain-error:0.188811\n",
      "[104]\teval-error:0.194595\ttrain-error:0.188811\n",
      "[105]\teval-error:0.194595\ttrain-error:0.188811\n",
      "[106]\teval-error:0.194595\ttrain-error:0.188811\n",
      "[107]\teval-error:0.194595\ttrain-error:0.188811\n",
      "[108]\teval-error:0.194595\ttrain-error:0.188811\n",
      "[109]\teval-error:0.194595\ttrain-error:0.188811\n",
      "[110]\teval-error:0.194595\ttrain-error:0.188811\n",
      "[111]\teval-error:0.194595\ttrain-error:0.188811\n",
      "[112]\teval-error:0.194595\ttrain-error:0.188811\n",
      "[113]\teval-error:0.194595\ttrain-error:0.188811\n",
      "[114]\teval-error:0.194595\ttrain-error:0.188811\n",
      "[115]\teval-error:0.194595\ttrain-error:0.188811\n",
      "[116]\teval-error:0.194595\ttrain-error:0.188811\n",
      "[117]\teval-error:0.194595\ttrain-error:0.188811\n",
      "[118]\teval-error:0.194595\ttrain-error:0.188811\n",
      "[119]\teval-error:0.194595\ttrain-error:0.188811\n",
      "[120]\teval-error:0.194595\ttrain-error:0.188811\n",
      "[121]\teval-error:0.194595\ttrain-error:0.188811\n",
      "[122]\teval-error:0.194595\ttrain-error:0.188811\n",
      "[123]\teval-error:0.194595\ttrain-error:0.188811\n",
      "[124]\teval-error:0.194595\ttrain-error:0.188811\n",
      "[125]\teval-error:0.194595\ttrain-error:0.188811\n",
      "[126]\teval-error:0.194595\ttrain-error:0.188811\n",
      "[127]\teval-error:0.194595\ttrain-error:0.188811\n",
      "[128]\teval-error:0.194595\ttrain-error:0.188811\n",
      "[129]\teval-error:0.194595\ttrain-error:0.188811\n",
      "[130]\teval-error:0.194595\ttrain-error:0.188811\n",
      "[131]\teval-error:0.194595\ttrain-error:0.188811\n",
      "[132]\teval-error:0.194595\ttrain-error:0.188811\n",
      "[133]\teval-error:0.194595\ttrain-error:0.188811\n",
      "[134]\teval-error:0.194595\ttrain-error:0.188811\n",
      "[135]\teval-error:0.194595\ttrain-error:0.188811\n",
      "[136]\teval-error:0.194595\ttrain-error:0.188811\n",
      "[137]\teval-error:0.194595\ttrain-error:0.188811\n",
      "[138]\teval-error:0.194595\ttrain-error:0.188811\n",
      "[139]\teval-error:0.194595\ttrain-error:0.188811\n",
      "[140]\teval-error:0.194595\ttrain-error:0.188811\n",
      "[141]\teval-error:0.194595\ttrain-error:0.188811\n",
      "[142]\teval-error:0.194595\ttrain-error:0.188811\n",
      "[143]\teval-error:0.194595\ttrain-error:0.188811\n",
      "[144]\teval-error:0.194595\ttrain-error:0.188811\n",
      "[145]\teval-error:0.194595\ttrain-error:0.188811\n",
      "[146]\teval-error:0.194595\ttrain-error:0.188811\n",
      "[147]\teval-error:0.194595\ttrain-error:0.188811\n",
      "[148]\teval-error:0.194595\ttrain-error:0.188811\n",
      "[149]\teval-error:0.194595\ttrain-error:0.188811\n"
     ]
    }
   ],
   "source": [
    "num_round = 150\n",
    "bst = xgb.train( param, dtrain, num_round, evallist )"
   ]
  },
  {
   "cell_type": "code",
   "execution_count": 1218,
   "metadata": {
    "collapsed": false
   },
   "outputs": [],
   "source": [
    "dval_preds_probs = bst.predict(dval)"
   ]
  },
  {
   "cell_type": "code",
   "execution_count": 1219,
   "metadata": {
    "collapsed": true
   },
   "outputs": [],
   "source": [
    "test_preds_xgb = binary_from_prob(dval_preds_probs)"
   ]
  },
  {
   "cell_type": "code",
   "execution_count": 996,
   "metadata": {
    "collapsed": false
   },
   "outputs": [],
   "source": [
    "# full dataset\n",
    "X_full = xgb_model.train_df[xgb_model.train_df.columns.drop('Loan_Status')]\n",
    "y_full = xgb_model.train_df.Loan_Status\n",
    "\n",
    "X_test_full = xgb_model.test_df\n",
    "\n",
    "\n",
    "dfull = xgb.DMatrix(X_full, y_full)\n",
    "dtest = xgb.DMatrix(X_test_full)"
   ]
  },
  {
   "cell_type": "code",
   "execution_count": 997,
   "metadata": {
    "collapsed": true
   },
   "outputs": [],
   "source": [
    "final_model = xgb.train(param, dfull, num_round)"
   ]
  },
  {
   "cell_type": "code",
   "execution_count": 998,
   "metadata": {
    "collapsed": true
   },
   "outputs": [],
   "source": [
    "xgb_predictions = final_model.predict(dtest)"
   ]
  },
  {
   "cell_type": "code",
   "execution_count": 1006,
   "metadata": {
    "collapsed": false
   },
   "outputs": [],
   "source": [
    "xgb_predictions_binary = binary_from_prob(xgb_predictions)"
   ]
  },
  {
   "cell_type": "code",
   "execution_count": 1008,
   "metadata": {
    "collapsed": false
   },
   "outputs": [],
   "source": [
    "create_submissions(loan_test.index.values, xgb_predictions_binary, 'xgboost.csv')"
   ]
  },
  {
   "cell_type": "markdown",
   "metadata": {},
   "source": [
    "## Meta Classifier"
   ]
  },
  {
   "cell_type": "code",
   "execution_count": 1223,
   "metadata": {
    "collapsed": true
   },
   "outputs": [],
   "source": [
    "X_second_stage = np.hstack([test_preds_lr, test_preds_rf, test_preds_gbc, test_preds_xgb])\n",
    "y_second_stage = gbm_model.X_val"
   ]
  },
  {
   "cell_type": "code",
   "execution_count": 1224,
   "metadata": {
    "collapsed": true
   },
   "outputs": [],
   "source": [
    "c = np.hstack([a, b])"
   ]
  },
  {
   "cell_type": "code",
   "execution_count": 1225,
   "metadata": {
    "collapsed": false
   },
   "outputs": [
    {
     "data": {
      "text/plain": [
       "array([[1, 2, 3, 3, 4, 5],\n",
       "       [7, 8, 9, 1, 2, 3]])"
      ]
     },
     "execution_count": 1225,
     "metadata": {},
     "output_type": "execute_result"
    }
   ],
   "source": [
    "c"
   ]
  },
  {
   "cell_type": "markdown",
   "metadata": {},
   "source": [
    "## Exploratory Data Analysis"
   ]
  },
  {
   "cell_type": "code",
   "execution_count": 495,
   "metadata": {
    "collapsed": false
   },
   "outputs": [
    {
     "data": {
      "text/plain": [
       "Gender  Loan_Status\n",
       "Female  N               37\n",
       "        Y               75\n",
       "Male    N              150\n",
       "        Y              339\n",
       "dtype: int64"
      ]
     },
     "execution_count": 495,
     "metadata": {},
     "output_type": "execute_result"
    }
   ],
   "source": [
    "# Relationship with Gender and Loan Status\n",
    "loan_train.groupby(['Gender', 'Loan_Status']).size()"
   ]
  },
  {
   "cell_type": "markdown",
   "metadata": {},
   "source": [
    "** 50% of the loan applications for both gender were rejected **"
   ]
  },
  {
   "cell_type": "code",
   "execution_count": 498,
   "metadata": {
    "collapsed": false
   },
   "outputs": [
    {
     "data": {
      "text/plain": [
       "Loan_Status\n",
       "N    5446.078125\n",
       "Y    5384.068720\n",
       "Name: ApplicantIncome, dtype: float64"
      ]
     },
     "execution_count": 498,
     "metadata": {},
     "output_type": "execute_result"
    }
   ],
   "source": [
    "# Relationship between Applicant Income and Loan Status\n",
    "loan_train.groupby('Loan_Status')['ApplicantIncome'].mean()"
   ]
  },
  {
   "cell_type": "code",
   "execution_count": 499,
   "metadata": {
    "collapsed": false
   },
   "outputs": [
    {
     "data": {
      "text/plain": [
       "Loan_Status\n",
       "N    1877.807292\n",
       "Y    1504.516398\n",
       "Name: CoapplicantIncome, dtype: float64"
      ]
     },
     "execution_count": 499,
     "metadata": {},
     "output_type": "execute_result"
    }
   ],
   "source": [
    "# Relationship between Co-applicant income and Loan Status\n",
    "loan_train.groupby('Loan_Status')['CoapplicantIncome'].mean()"
   ]
  },
  {
   "cell_type": "code",
   "execution_count": null,
   "metadata": {
    "collapsed": true
   },
   "outputs": [],
   "source": []
  },
  {
   "cell_type": "code",
   "execution_count": null,
   "metadata": {
    "collapsed": true
   },
   "outputs": [],
   "source": []
  },
  {
   "cell_type": "code",
   "execution_count": null,
   "metadata": {
    "collapsed": true
   },
   "outputs": [],
   "source": []
  },
  {
   "cell_type": "code",
   "execution_count": null,
   "metadata": {
    "collapsed": true
   },
   "outputs": [],
   "source": []
  },
  {
   "cell_type": "code",
   "execution_count": null,
   "metadata": {
    "collapsed": true
   },
   "outputs": [],
   "source": []
  }
 ],
 "metadata": {
  "kernelspec": {
   "display_name": "Python 2",
   "language": "python",
   "name": "python2"
  },
  "language_info": {
   "codemirror_mode": {
    "name": "ipython",
    "version": 2
   },
   "file_extension": ".py",
   "mimetype": "text/x-python",
   "name": "python",
   "nbconvert_exporter": "python",
   "pygments_lexer": "ipython2",
   "version": "2.7.10"
  }
 },
 "nbformat": 4,
 "nbformat_minor": 0
}
