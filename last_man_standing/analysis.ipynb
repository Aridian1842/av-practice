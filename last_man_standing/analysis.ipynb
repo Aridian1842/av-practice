{
 "cells": [
  {
   "cell_type": "code",
   "execution_count": 178,
   "metadata": {
    "collapsed": false
   },
   "outputs": [],
   "source": [
    "import pandas as pd\n",
    "import numpy as np\n",
    "\n",
    "import matplotlib.pyplot as plt\n",
    "\n",
    "from matplotlib import collections as collections\n",
    "from matplotlib.patches import Rectangle\n",
    "from itertools import izip, cycle\n",
    "\n",
    "import seaborn as sns\n",
    "\n",
    "pd.set_option('display.max_columns', 80)\n",
    "\n",
    "%matplotlib inline"
   ]
  },
  {
   "cell_type": "code",
   "execution_count": 126,
   "metadata": {
    "collapsed": true
   },
   "outputs": [],
   "source": [
    "train = pd.read_csv('./data/Train_Fyxd0t8.csv', index_col='ID')\n",
    "test = pd.read_csv('./data/Test_C1XBIYq.csv', index_col='ID')"
   ]
  },
  {
   "cell_type": "code",
   "execution_count": 5,
   "metadata": {
    "collapsed": true
   },
   "outputs": [],
   "source": [
    "# http://stackoverflow.com/questions/21925114/is-there-an-implementation-of-missingmaps-in-pythons-ecosystem\n",
    "\n",
    "def missmap(df, ax=None, colors=None, aspect=4, sort='descending',\n",
    "            title=None, **kwargs):\n",
    "    \"\"\"\n",
    "    Plot the missing values of df.\n",
    "\n",
    "    Parameters\n",
    "    ----------\n",
    "    df : pandas DataFrame\n",
    "    ax : matplotlib axes\n",
    "        if None then a new figure and axes will be created\n",
    "    colors : dict\n",
    "        dict with {True: c1, False: c2} where the values are\n",
    "        matplotlib colors.\n",
    "    aspect : int\n",
    "        the width to height ratio for each rectangle.\n",
    "    sort : one of {'descending', 'ascending', None}\n",
    "    title : str\n",
    "    kwargs : dict\n",
    "        matplotlib.axes.bar kwargs\n",
    "\n",
    "    Returns\n",
    "    -------\n",
    "    ax : matplotlib axes\n",
    "\n",
    "    \"\"\"\n",
    "    if ax is None:\n",
    "        fig, ax = plt.subplots()\n",
    "\n",
    "    # setup the axes\n",
    "    dfn = pd.isnull(df)\n",
    "\n",
    "    if sort in ('ascending', 'descending'):\n",
    "        counts = dfn.sum()\n",
    "        sort_dict = {'ascending': True, 'descending': False}\n",
    "        counts.sort_values(ascending=sort_dict[sort], inplace=True)\n",
    "        dfn = dfn[counts.index]\n",
    "\n",
    "    ny = len(df)\n",
    "    nx = len(df.columns)\n",
    "    # each column is a stacked bar made up of ny patches.\n",
    "    xgrid = np.tile(np.arange(len(df.columns)), (ny, 1)).T\n",
    "    ygrid = np.tile(np.arange(ny), (nx, 1))\n",
    "    # xys is the lower left corner of each patch\n",
    "    xys = (zip(x, y) for x, y in izip(xgrid, ygrid))\n",
    "\n",
    "    if colors is None:\n",
    "        colors = {True: '#EAF205', False: 'k'}\n",
    "\n",
    "    widths = cycle([aspect])\n",
    "    heights = cycle([1])\n",
    "\n",
    "    for xy, width, height, col in izip(xys, widths, heights, dfn.columns):\n",
    "        color_array = dfn[col].map(colors)\n",
    "\n",
    "        rects = [Rectangle(xyc, width, height, **kwargs)\n",
    "                 for xyc, c in zip(xy, color_array)]\n",
    "\n",
    "        p_coll = collections.PatchCollection(rects, color=color_array,\n",
    "                                             edgecolor=color_array, **kwargs)\n",
    "        ax.add_collection(p_coll, autolim=False)\n",
    "\n",
    "    # post plot aesthetics\n",
    "    ax.set_xlim(0, nx)\n",
    "    ax.set_ylim(0, ny)\n",
    "\n",
    "    ax.set_xticks(.5 + np.arange(nx))  # center the ticks\n",
    "    ax.set_xticklabels(dfn.columns)\n",
    "    for t in ax.get_xticklabels():\n",
    "        t.set_rotation(90)\n",
    "\n",
    "    # remove tick lines\n",
    "    ax.tick_params(axis='both', which='both', bottom='off', left='off',\n",
    "                   labelleft='off')\n",
    "    ax.grid(False)\n",
    "\n",
    "    if title:\n",
    "        ax.set_title(title)\n",
    "    return ax"
   ]
  },
  {
   "cell_type": "code",
   "execution_count": 9,
   "metadata": {
    "collapsed": false
   },
   "outputs": [
    {
     "data": {
      "image/png": "[encoded data removed]",
      "text/plain": [
       "<matplotlib.figure.Figure at 0x2125de80>"
      ]
     },
     "metadata": {},
     "output_type": "display_data"
    }
   ],
   "source": [
    "ax = missmap(train[:1000]);"
   ]
  },
  {
   "cell_type": "markdown",
   "metadata": {},
   "source": [
    "### As you can see number of weeks used feature has lot of missing values"
   ]
  },
  {
   "cell_type": "code",
   "execution_count": 19,
   "metadata": {
    "collapsed": false
   },
   "outputs": [
    {
     "name": "stdout",
     "output_type": "stream",
     "text": [
      "10.128520 percent missing values for feature number of weeks used \n"
     ]
    }
   ],
   "source": [
    "print '%f percent missing values for feature number of weeks used ' %(train.Number_Weeks_Used.isnull().sum() * 1. / len(train) * 100)"
   ]
  },
  {
   "cell_type": "markdown",
   "metadata": {},
   "source": [
    "## Histograms of features to get a sense of distribution of those features"
   ]
  },
  {
   "cell_type": "code",
   "execution_count": 20,
   "metadata": {
    "collapsed": false
   },
   "outputs": [
    {
     "data": {
      "image/png": "[encoded data removed]",
      "text/plain": [
       "<matplotlib.figure.Figure at 0x1f814518>"
      ]
     },
     "metadata": {},
     "output_type": "display_data"
    }
   ],
   "source": [
    "# Estimated Insects Count\n",
    "sns.distplot(train.Estimated_Insects_Count);"
   ]
  },
  {
   "cell_type": "code",
   "execution_count": 42,
   "metadata": {
    "collapsed": false
   },
   "outputs": [
    {
     "data": {
      "image/png": "[encoded data removed]",
      "text/plain": [
       "<matplotlib.figure.Figure at 0x21405780>"
      ]
     },
     "metadata": {},
     "output_type": "display_data"
    }
   ],
   "source": [
    "# Number of doses per week\n",
    "sns.distplot(np.log1p(train.Number_Doses_Week));"
   ]
  },
  {
   "cell_type": "code",
   "execution_count": 23,
   "metadata": {
    "collapsed": false
   },
   "outputs": [
    {
     "data": {
      "image/png": "[encoded data removed]",
      "text/plain": [
       "<matplotlib.figure.Figure at 0x1f46da90>"
      ]
     },
     "metadata": {},
     "output_type": "display_data"
    }
   ],
   "source": [
    "# Number of weeks used\n",
    "sns.distplot(train[train.Number_Weeks_Used.notnull()].Number_Weeks_Used);"
   ]
  },
  {
   "cell_type": "code",
   "execution_count": 24,
   "metadata": {
    "collapsed": false
   },
   "outputs": [
    {
     "data": {
      "image/png": "[encoded data removed]",
      "text/plain": [
       "<matplotlib.figure.Figure at 0x20089710>"
      ]
     },
     "metadata": {},
     "output_type": "display_data"
    }
   ],
   "source": [
    "# Number of weeks quit\n",
    "sns.distplot(train.Number_Weeks_Quit);"
   ]
  },
  {
   "cell_type": "code",
   "execution_count": 25,
   "metadata": {
    "collapsed": true
   },
   "outputs": [],
   "source": [
    "# mosaic plots\n",
    "from statsmodels.graphics.mosaicplot import mosaic"
   ]
  },
  {
   "cell_type": "code",
   "execution_count": 26,
   "metadata": {
    "collapsed": false
   },
   "outputs": [
    {
     "data": {
      "image/png": "[encoded data removed]",
      "text/plain": [
       "<matplotlib.figure.Figure at 0x1f9b5e10>"
      ]
     },
     "metadata": {},
     "output_type": "display_data"
    }
   ],
   "source": [
    "mosaic(train, ['Crop_Type', 'Crop_Damage']);"
   ]
  },
  {
   "cell_type": "markdown",
   "metadata": {},
   "source": [
    "** Width of the rectangles determines the number of examples for that particular type. **"
   ]
  },
  {
   "cell_type": "code",
   "execution_count": 27,
   "metadata": {
    "collapsed": false
   },
   "outputs": [
    {
     "data": {
      "image/png": "[encoded data removed]",
      "text/plain": [
       "<matplotlib.figure.Figure at 0x21dfc780>"
      ]
     },
     "metadata": {},
     "output_type": "display_data"
    }
   ],
   "source": [
    "mosaic(train, ['Soil_Type', 'Crop_Damage']);"
   ]
  },
  {
   "cell_type": "markdown",
   "metadata": {},
   "source": [
    "** Soil Type - 1 has a slightly higher chance of staying alive **"
   ]
  },
  {
   "cell_type": "code",
   "execution_count": 28,
   "metadata": {
    "collapsed": false
   },
   "outputs": [
    {
     "data": {
      "image/png": "[encoded data removed]",
      "text/plain": [
       "<matplotlib.figure.Figure at 0x21961da0>"
      ]
     },
     "metadata": {},
     "output_type": "display_data"
    }
   ],
   "source": [
    "mosaic(train, ['Season', 'Crop_Damage']);"
   ]
  },
  {
   "cell_type": "markdown",
   "metadata": {},
   "source": [
    "** Season does not seem have to much of an impact on the outcome **"
   ]
  },
  {
   "cell_type": "code",
   "execution_count": 29,
   "metadata": {
    "collapsed": false
   },
   "outputs": [
    {
     "data": {
      "image/png": "[encoded data removed]",
      "text/plain": [
       "<matplotlib.figure.Figure at 0x21961978>"
      ]
     },
     "metadata": {},
     "output_type": "display_data"
    }
   ],
   "source": [
    "mosaic(train, ['Pesticide_Use_Category', 'Crop_Damage']);"
   ]
  },
  {
   "cell_type": "markdown",
   "metadata": {},
   "source": [
    "** So of you have never used pesticide, harvest has a low chance of survival, and if you are currently using pesticides then there are considerable chances of damage due to these pesticides. **"
   ]
  },
  {
   "cell_type": "markdown",
   "metadata": {},
   "source": [
    "## Boxplots"
   ]
  },
  {
   "cell_type": "code",
   "execution_count": 31,
   "metadata": {
    "collapsed": false
   },
   "outputs": [
    {
     "data": {
      "image/png": "[encoded data removed]",
      "text/plain": [
       "<matplotlib.figure.Figure at 0x21de5e80>"
      ]
     },
     "metadata": {},
     "output_type": "display_data"
    }
   ],
   "source": [
    "train.boxplot(column='Estimated_Insects_Count', by='Crop_Damage');"
   ]
  },
  {
   "cell_type": "code",
   "execution_count": 33,
   "metadata": {
    "collapsed": false
   },
   "outputs": [
    {
     "data": {
      "image/png": "[encoded data removed]",
      "text/plain": [
       "<matplotlib.figure.Figure at 0x21407e10>"
      ]
     },
     "metadata": {},
     "output_type": "display_data"
    }
   ],
   "source": [
    "train.boxplot(column='Number_Doses_Week', by='Crop_Damage');"
   ]
  },
  {
   "cell_type": "code",
   "execution_count": 34,
   "metadata": {
    "collapsed": false
   },
   "outputs": [
    {
     "data": {
      "image/png": "[encoded data removed]",
      "text/plain": [
       "<matplotlib.figure.Figure at 0x209ede48>"
      ]
     },
     "metadata": {},
     "output_type": "display_data"
    }
   ],
   "source": [
    "train[train.Number_Weeks_Used.notnull()].boxplot(column='Number_Weeks_Used', by='Crop_Damage');"
   ]
  },
  {
   "cell_type": "code",
   "execution_count": 8,
   "metadata": {
    "collapsed": false
   },
   "outputs": [
    {
     "data": {
      "text/plain": [
       "37.0"
      ]
     },
     "execution_count": 8,
     "metadata": {},
     "output_type": "execute_result"
    }
   ],
   "source": [
    "train.Number_Weeks_Used.quantile(q=0.75)"
   ]
  },
  {
   "cell_type": "code",
   "execution_count": 35,
   "metadata": {
    "collapsed": false
   },
   "outputs": [
    {
     "data": {
      "image/png": "[encoded data removed]",
      "text/plain": [
       "<matplotlib.figure.Figure at 0x1f424668>"
      ]
     },
     "metadata": {},
     "output_type": "display_data"
    }
   ],
   "source": [
    "train.boxplot(column='Number_Weeks_Quit', by='Crop_Damage');"
   ]
  },
  {
   "cell_type": "code",
   "execution_count": 36,
   "metadata": {
    "collapsed": true
   },
   "outputs": [],
   "source": [
    "## Crop Damage vs missing values in Num_Weeks_Used\n",
    "train = train.fillna(-1)"
   ]
  },
  {
   "cell_type": "code",
   "execution_count": 41,
   "metadata": {
    "collapsed": false
   },
   "outputs": [
    {
     "data": {
      "text/html": [
       "<div>\n",
       "<table border=\"1\" class=\"dataframe\">\n",
       "  <thead>\n",
       "    <tr style=\"text-align: right;\">\n",
       "      <th>Crop_Damage</th>\n",
       "      <th>0</th>\n",
       "      <th>1</th>\n",
       "      <th>2</th>\n",
       "      <th>All</th>\n",
       "    </tr>\n",
       "    <tr>\n",
       "      <th>Number_Weeks_Used</th>\n",
       "      <th></th>\n",
       "      <th></th>\n",
       "      <th></th>\n",
       "      <th></th>\n",
       "    </tr>\n",
       "  </thead>\n",
       "  <tbody>\n",
       "    <tr>\n",
       "      <th>-1.0</th>\n",
       "      <td>7495</td>\n",
       "      <td>1248</td>\n",
       "      <td>257</td>\n",
       "      <td>9000</td>\n",
       "    </tr>\n",
       "    <tr>\n",
       "      <th>All</th>\n",
       "      <td>7495</td>\n",
       "      <td>1248</td>\n",
       "      <td>257</td>\n",
       "      <td>9000</td>\n",
       "    </tr>\n",
       "  </tbody>\n",
       "</table>\n",
       "</div>"
      ],
      "text/plain": [
       "Crop_Damage           0     1    2   All\n",
       "Number_Weeks_Used                       \n",
       "-1.0               7495  1248  257  9000\n",
       "All                7495  1248  257  9000"
      ]
     },
     "execution_count": 41,
     "metadata": {},
     "output_type": "execute_result"
    }
   ],
   "source": [
    "pd.crosstab(train[train.Number_Weeks_Used==-1].Number_Weeks_Used, train[train.Number_Weeks_Used==-1].Crop_Damage, margins=True)"
   ]
  },
  {
   "cell_type": "markdown",
   "metadata": {},
   "source": [
    "## Pairplots"
   ]
  },
  {
   "cell_type": "code",
   "execution_count": 5,
   "metadata": {
    "collapsed": false
   },
   "outputs": [
    {
     "name": "stderr",
     "output_type": "stream",
     "text": [
      "C:\\Users\\Abhishek\\Anaconda2\\lib\\site-packages\\matplotlib\\__init__.py:892: UserWarning: axes.color_cycle is deprecated and replaced with axes.prop_cycle; please use the latter.\n",
      "  warnings.warn(self.msg_depr % (key, alt_key))\n"
     ]
    },
    {
     "data": {
      "image/png": "[encoded data removed]",
      "text/plain": [
       "<matplotlib.figure.Figure at 0x1a820da0>"
      ]
     },
     "metadata": {},
     "output_type": "display_data"
    }
   ],
   "source": [
    "features = ['Estimated_Insects_Count', 'Number_Doses_Week', 'Number_Weeks_Quit', 'Crop_Damage']\n",
    "\n",
    "sns.pairplot(train[features], hue='Crop_Damage');"
   ]
  },
  {
   "cell_type": "markdown",
   "metadata": {},
   "source": [
    "## Pivot tables"
   ]
  },
  {
   "cell_type": "code",
   "execution_count": 12,
   "metadata": {
    "collapsed": false
   },
   "outputs": [
    {
     "data": {
      "text/html": [
       "<div>\n",
       "<table border=\"1\" class=\"dataframe\">\n",
       "  <thead>\n",
       "    <tr style=\"text-align: right;\">\n",
       "      <th>Pesticide_Use_Category</th>\n",
       "      <th>1</th>\n",
       "      <th>2</th>\n",
       "      <th>3</th>\n",
       "    </tr>\n",
       "    <tr>\n",
       "      <th>Crop_Damage</th>\n",
       "      <th></th>\n",
       "      <th></th>\n",
       "      <th></th>\n",
       "    </tr>\n",
       "  </thead>\n",
       "  <tbody>\n",
       "    <tr>\n",
       "      <th>0</th>\n",
       "      <td>1508.889831</td>\n",
       "      <td>1361.284543</td>\n",
       "      <td>1163.115663</td>\n",
       "    </tr>\n",
       "    <tr>\n",
       "      <th>1</th>\n",
       "      <td>1565.214801</td>\n",
       "      <td>2071.961462</td>\n",
       "      <td>1616.933814</td>\n",
       "    </tr>\n",
       "    <tr>\n",
       "      <th>2</th>\n",
       "      <td>2039.006061</td>\n",
       "      <td>2025.141384</td>\n",
       "      <td>1560.622873</td>\n",
       "    </tr>\n",
       "  </tbody>\n",
       "</table>\n",
       "</div>"
      ],
      "text/plain": [
       "Pesticide_Use_Category            1            2            3\n",
       "Crop_Damage                                                  \n",
       "0                       1508.889831  1361.284543  1163.115663\n",
       "1                       1565.214801  2071.961462  1616.933814\n",
       "2                       2039.006061  2025.141384  1560.622873"
      ]
     },
     "execution_count": 12,
     "metadata": {},
     "output_type": "execute_result"
    }
   ],
   "source": [
    "train.pivot_table(index='Crop_Damage', columns='Pesticide_Use_Category', values='Estimated_Insects_Count')"
   ]
  },
  {
   "cell_type": "code",
   "execution_count": 102,
   "metadata": {
    "collapsed": false
   },
   "outputs": [
    {
     "data": {
      "text/plain": [
       "2138.0"
      ]
     },
     "execution_count": 102,
     "metadata": {},
     "output_type": "execute_result"
    }
   ],
   "source": [
    "train.Estimated_Insects_Count.quantile(q=0.80)"
   ]
  },
  {
   "cell_type": "code",
   "execution_count": 13,
   "metadata": {
    "collapsed": false
   },
   "outputs": [
    {
     "data": {
      "text/html": [
       "<div>\n",
       "<table border=\"1\" class=\"dataframe\">\n",
       "  <thead>\n",
       "    <tr style=\"text-align: right;\">\n",
       "      <th>Pesticide_Use_Category</th>\n",
       "      <th>1</th>\n",
       "      <th>2</th>\n",
       "      <th>3</th>\n",
       "    </tr>\n",
       "    <tr>\n",
       "      <th>Crop_Damage</th>\n",
       "      <th></th>\n",
       "      <th></th>\n",
       "      <th></th>\n",
       "    </tr>\n",
       "  </thead>\n",
       "  <tbody>\n",
       "    <tr>\n",
       "      <th>0</th>\n",
       "      <td>0</td>\n",
       "      <td>26.456161</td>\n",
       "      <td>25.180632</td>\n",
       "    </tr>\n",
       "    <tr>\n",
       "      <th>1</th>\n",
       "      <td>0</td>\n",
       "      <td>27.024868</td>\n",
       "      <td>23.488822</td>\n",
       "    </tr>\n",
       "    <tr>\n",
       "      <th>2</th>\n",
       "      <td>0</td>\n",
       "      <td>31.509573</td>\n",
       "      <td>26.552076</td>\n",
       "    </tr>\n",
       "  </tbody>\n",
       "</table>\n",
       "</div>"
      ],
      "text/plain": [
       "Pesticide_Use_Category  1          2          3\n",
       "Crop_Damage                                    \n",
       "0                       0  26.456161  25.180632\n",
       "1                       0  27.024868  23.488822\n",
       "2                       0  31.509573  26.552076"
      ]
     },
     "execution_count": 13,
     "metadata": {},
     "output_type": "execute_result"
    }
   ],
   "source": [
    "train.pivot_table(index='Crop_Damage', columns='Pesticide_Use_Category', values='Number_Doses_Week')"
   ]
  },
  {
   "cell_type": "code",
   "execution_count": 17,
   "metadata": {
    "collapsed": false
   },
   "outputs": [
    {
     "data": {
      "text/html": [
       "<div>\n",
       "<table border=\"1\" class=\"dataframe\">\n",
       "  <thead>\n",
       "    <tr style=\"text-align: right;\">\n",
       "      <th>Pesticide_Use_Category</th>\n",
       "      <th>1</th>\n",
       "      <th>2</th>\n",
       "      <th>3</th>\n",
       "    </tr>\n",
       "    <tr>\n",
       "      <th>Crop_Damage</th>\n",
       "      <th></th>\n",
       "      <th></th>\n",
       "      <th></th>\n",
       "    </tr>\n",
       "  </thead>\n",
       "  <tbody>\n",
       "    <tr>\n",
       "      <th>0</th>\n",
       "      <td>0</td>\n",
       "      <td>13.178026</td>\n",
       "      <td>0</td>\n",
       "    </tr>\n",
       "    <tr>\n",
       "      <th>1</th>\n",
       "      <td>0</td>\n",
       "      <td>15.466238</td>\n",
       "      <td>0</td>\n",
       "    </tr>\n",
       "    <tr>\n",
       "      <th>2</th>\n",
       "      <td>0</td>\n",
       "      <td>11.254786</td>\n",
       "      <td>0</td>\n",
       "    </tr>\n",
       "  </tbody>\n",
       "</table>\n",
       "</div>"
      ],
      "text/plain": [
       "Pesticide_Use_Category  1          2  3\n",
       "Crop_Damage                            \n",
       "0                       0  13.178026  0\n",
       "1                       0  15.466238  0\n",
       "2                       0  11.254786  0"
      ]
     },
     "execution_count": 17,
     "metadata": {},
     "output_type": "execute_result"
    }
   ],
   "source": [
    "train.pivot_table(index='Crop_Damage', columns='Pesticide_Use_Category', values='Number_Weeks_Quit')"
   ]
  },
  {
   "cell_type": "code",
   "execution_count": 23,
   "metadata": {
    "collapsed": false
   },
   "outputs": [
    {
     "data": {
      "text/plain": [
       "count    88858.000000\n",
       "mean         9.589986\n",
       "std          9.900631\n",
       "min          0.000000\n",
       "25%          0.000000\n",
       "50%          7.000000\n",
       "75%         16.000000\n",
       "max         50.000000\n",
       "Name: Number_Weeks_Quit, dtype: float64"
      ]
     },
     "execution_count": 23,
     "metadata": {},
     "output_type": "execute_result"
    }
   ],
   "source": [
    "train.Number_Weeks_Quit.describe()"
   ]
  },
  {
   "cell_type": "code",
   "execution_count": 18,
   "metadata": {
    "collapsed": false
   },
   "outputs": [
    {
     "data": {
      "text/html": [
       "<div>\n",
       "<table border=\"1\" class=\"dataframe\">\n",
       "  <thead>\n",
       "    <tr style=\"text-align: right;\">\n",
       "      <th>Pesticide_Use_Category</th>\n",
       "      <th>1</th>\n",
       "      <th>2</th>\n",
       "      <th>3</th>\n",
       "    </tr>\n",
       "    <tr>\n",
       "      <th>Crop_Damage</th>\n",
       "      <th></th>\n",
       "      <th></th>\n",
       "      <th></th>\n",
       "    </tr>\n",
       "  </thead>\n",
       "  <tbody>\n",
       "    <tr>\n",
       "      <th>0</th>\n",
       "      <td>0</td>\n",
       "      <td>25.976496</td>\n",
       "      <td>32.087103</td>\n",
       "    </tr>\n",
       "    <tr>\n",
       "      <th>1</th>\n",
       "      <td>0</td>\n",
       "      <td>31.533223</td>\n",
       "      <td>41.163126</td>\n",
       "    </tr>\n",
       "    <tr>\n",
       "      <th>2</th>\n",
       "      <td>0</td>\n",
       "      <td>36.460912</td>\n",
       "      <td>42.592791</td>\n",
       "    </tr>\n",
       "  </tbody>\n",
       "</table>\n",
       "</div>"
      ],
      "text/plain": [
       "Pesticide_Use_Category  1          2          3\n",
       "Crop_Damage                                    \n",
       "0                       0  25.976496  32.087103\n",
       "1                       0  31.533223  41.163126\n",
       "2                       0  36.460912  42.592791"
      ]
     },
     "execution_count": 18,
     "metadata": {},
     "output_type": "execute_result"
    }
   ],
   "source": [
    "train.pivot_table(index='Crop_Damage', columns='Pesticide_Use_Category', values='Number_Weeks_Used')"
   ]
  },
  {
   "cell_type": "code",
   "execution_count": 20,
   "metadata": {
    "collapsed": false
   },
   "outputs": [
    {
     "data": {
      "text/html": [
       "<div>\n",
       "<table border=\"1\" class=\"dataframe\">\n",
       "  <thead>\n",
       "    <tr style=\"text-align: right;\">\n",
       "      <th>Season</th>\n",
       "      <th>1</th>\n",
       "      <th>2</th>\n",
       "      <th>3</th>\n",
       "    </tr>\n",
       "    <tr>\n",
       "      <th>Crop_Damage</th>\n",
       "      <th></th>\n",
       "      <th></th>\n",
       "      <th></th>\n",
       "    </tr>\n",
       "  </thead>\n",
       "  <tbody>\n",
       "    <tr>\n",
       "      <th>0</th>\n",
       "      <td>10.112435</td>\n",
       "      <td>10.130853</td>\n",
       "      <td>10.057791</td>\n",
       "    </tr>\n",
       "    <tr>\n",
       "      <th>1</th>\n",
       "      <td>7.625400</td>\n",
       "      <td>7.451349</td>\n",
       "      <td>8.087561</td>\n",
       "    </tr>\n",
       "    <tr>\n",
       "      <th>2</th>\n",
       "      <td>3.391831</td>\n",
       "      <td>3.149094</td>\n",
       "      <td>3.600457</td>\n",
       "    </tr>\n",
       "  </tbody>\n",
       "</table>\n",
       "</div>"
      ],
      "text/plain": [
       "Season               1          2          3\n",
       "Crop_Damage                                 \n",
       "0            10.112435  10.130853  10.057791\n",
       "1             7.625400   7.451349   8.087561\n",
       "2             3.391831   3.149094   3.600457"
      ]
     },
     "execution_count": 20,
     "metadata": {},
     "output_type": "execute_result"
    }
   ],
   "source": [
    "train.pivot_table(index='Crop_Damage', columns='Season', values='Number_Weeks_Used')"
   ]
  },
  {
   "cell_type": "code",
   "execution_count": 21,
   "metadata": {
    "collapsed": false
   },
   "outputs": [
    {
     "data": {
      "text/html": [
       "<div>\n",
       "<table border=\"1\" class=\"dataframe\">\n",
       "  <thead>\n",
       "    <tr style=\"text-align: right;\">\n",
       "      <th>Season</th>\n",
       "      <th>1</th>\n",
       "      <th>2</th>\n",
       "      <th>3</th>\n",
       "    </tr>\n",
       "    <tr>\n",
       "      <th>Crop_Damage</th>\n",
       "      <th></th>\n",
       "      <th></th>\n",
       "      <th></th>\n",
       "    </tr>\n",
       "  </thead>\n",
       "  <tbody>\n",
       "    <tr>\n",
       "      <th>0</th>\n",
       "      <td>10.112435</td>\n",
       "      <td>10.130853</td>\n",
       "      <td>10.057791</td>\n",
       "    </tr>\n",
       "    <tr>\n",
       "      <th>1</th>\n",
       "      <td>7.625400</td>\n",
       "      <td>7.451349</td>\n",
       "      <td>8.087561</td>\n",
       "    </tr>\n",
       "    <tr>\n",
       "      <th>2</th>\n",
       "      <td>3.391831</td>\n",
       "      <td>3.149094</td>\n",
       "      <td>3.600457</td>\n",
       "    </tr>\n",
       "  </tbody>\n",
       "</table>\n",
       "</div>"
      ],
      "text/plain": [
       "Season               1          2          3\n",
       "Crop_Damage                                 \n",
       "0            10.112435  10.130853  10.057791\n",
       "1             7.625400   7.451349   8.087561\n",
       "2             3.391831   3.149094   3.600457"
      ]
     },
     "execution_count": 21,
     "metadata": {},
     "output_type": "execute_result"
    }
   ],
   "source": [
    "train.pivot_table(index='Crop_Damage', columns='Season', values='Number_Weeks_Quit')"
   ]
  },
  {
   "cell_type": "code",
   "execution_count": 22,
   "metadata": {
    "collapsed": false
   },
   "outputs": [
    {
     "data": {
      "text/html": [
       "<div>\n",
       "<table border=\"1\" class=\"dataframe\">\n",
       "  <thead>\n",
       "    <tr style=\"text-align: right;\">\n",
       "      <th>Season</th>\n",
       "      <th>1</th>\n",
       "      <th>2</th>\n",
       "      <th>3</th>\n",
       "    </tr>\n",
       "    <tr>\n",
       "      <th>Crop_Damage</th>\n",
       "      <th></th>\n",
       "      <th></th>\n",
       "      <th></th>\n",
       "    </tr>\n",
       "  </thead>\n",
       "  <tbody>\n",
       "    <tr>\n",
       "      <th>0</th>\n",
       "      <td>26.198817</td>\n",
       "      <td>26.098804</td>\n",
       "      <td>26.049516</td>\n",
       "    </tr>\n",
       "    <tr>\n",
       "      <th>1</th>\n",
       "      <td>24.018143</td>\n",
       "      <td>24.201962</td>\n",
       "      <td>24.353519</td>\n",
       "    </tr>\n",
       "    <tr>\n",
       "      <th>2</th>\n",
       "      <td>25.658094</td>\n",
       "      <td>26.301483</td>\n",
       "      <td>26.278539</td>\n",
       "    </tr>\n",
       "  </tbody>\n",
       "</table>\n",
       "</div>"
      ],
      "text/plain": [
       "Season               1          2          3\n",
       "Crop_Damage                                 \n",
       "0            26.198817  26.098804  26.049516\n",
       "1            24.018143  24.201962  24.353519\n",
       "2            25.658094  26.301483  26.278539"
      ]
     },
     "execution_count": 22,
     "metadata": {},
     "output_type": "execute_result"
    }
   ],
   "source": [
    "train.pivot_table(index='Crop_Damage', columns='Season', values='Number_Doses_Week')"
   ]
  },
  {
   "cell_type": "code",
   "execution_count": 24,
   "metadata": {
    "collapsed": false
   },
   "outputs": [
    {
     "data": {
      "text/html": [
       "<div>\n",
       "<table border=\"1\" class=\"dataframe\">\n",
       "  <thead>\n",
       "    <tr style=\"text-align: right;\">\n",
       "      <th>Crop_Type</th>\n",
       "      <th>0</th>\n",
       "      <th>1</th>\n",
       "    </tr>\n",
       "    <tr>\n",
       "      <th>Crop_Damage</th>\n",
       "      <th></th>\n",
       "      <th></th>\n",
       "    </tr>\n",
       "  </thead>\n",
       "  <tbody>\n",
       "    <tr>\n",
       "      <th>0</th>\n",
       "      <td>28.020861</td>\n",
       "      <td>21.442451</td>\n",
       "    </tr>\n",
       "    <tr>\n",
       "      <th>1</th>\n",
       "      <td>25.992503</td>\n",
       "      <td>18.788269</td>\n",
       "    </tr>\n",
       "    <tr>\n",
       "      <th>2</th>\n",
       "      <td>28.291848</td>\n",
       "      <td>21.154391</td>\n",
       "    </tr>\n",
       "  </tbody>\n",
       "</table>\n",
       "</div>"
      ],
      "text/plain": [
       "Crop_Type            0          1\n",
       "Crop_Damage                      \n",
       "0            28.020861  21.442451\n",
       "1            25.992503  18.788269\n",
       "2            28.291848  21.154391"
      ]
     },
     "execution_count": 24,
     "metadata": {},
     "output_type": "execute_result"
    }
   ],
   "source": [
    "train.pivot_table(index='Crop_Damage', columns='Crop_Type', values='Number_Doses_Week')"
   ]
  },
  {
   "cell_type": "code",
   "execution_count": 25,
   "metadata": {
    "collapsed": false
   },
   "outputs": [
    {
     "data": {
      "text/html": [
       "<div>\n",
       "<table border=\"1\" class=\"dataframe\">\n",
       "  <thead>\n",
       "    <tr style=\"text-align: right;\">\n",
       "      <th>Crop_Type</th>\n",
       "      <th>0</th>\n",
       "      <th>1</th>\n",
       "    </tr>\n",
       "    <tr>\n",
       "      <th>Crop_Damage</th>\n",
       "      <th></th>\n",
       "      <th></th>\n",
       "    </tr>\n",
       "  </thead>\n",
       "  <tbody>\n",
       "    <tr>\n",
       "      <th>0</th>\n",
       "      <td>1355.943177</td>\n",
       "      <td>1216.752842</td>\n",
       "    </tr>\n",
       "    <tr>\n",
       "      <th>1</th>\n",
       "      <td>1902.597349</td>\n",
       "      <td>1650.781180</td>\n",
       "    </tr>\n",
       "    <tr>\n",
       "      <th>2</th>\n",
       "      <td>1810.561917</td>\n",
       "      <td>1550.267705</td>\n",
       "    </tr>\n",
       "  </tbody>\n",
       "</table>\n",
       "</div>"
      ],
      "text/plain": [
       "Crop_Type              0            1\n",
       "Crop_Damage                          \n",
       "0            1355.943177  1216.752842\n",
       "1            1902.597349  1650.781180\n",
       "2            1810.561917  1550.267705"
      ]
     },
     "execution_count": 25,
     "metadata": {},
     "output_type": "execute_result"
    }
   ],
   "source": [
    "train.pivot_table(index='Crop_Damage', columns='Crop_Type', values='Estimated_Insects_Count')"
   ]
  },
  {
   "cell_type": "code",
   "execution_count": 27,
   "metadata": {
    "collapsed": false
   },
   "outputs": [
    {
     "data": {
      "text/html": [
       "<div>\n",
       "<table border=\"1\" class=\"dataframe\">\n",
       "  <thead>\n",
       "    <tr style=\"text-align: right;\">\n",
       "      <th>Crop_Type</th>\n",
       "      <th>0</th>\n",
       "      <th>1</th>\n",
       "    </tr>\n",
       "    <tr>\n",
       "      <th>Crop_Damage</th>\n",
       "      <th></th>\n",
       "      <th></th>\n",
       "    </tr>\n",
       "  </thead>\n",
       "  <tbody>\n",
       "    <tr>\n",
       "      <th>0</th>\n",
       "      <td>27.541620</td>\n",
       "      <td>26.876130</td>\n",
       "    </tr>\n",
       "    <tr>\n",
       "      <th>1</th>\n",
       "      <td>35.218349</td>\n",
       "      <td>32.732928</td>\n",
       "    </tr>\n",
       "    <tr>\n",
       "      <th>2</th>\n",
       "      <td>40.104788</td>\n",
       "      <td>32.743089</td>\n",
       "    </tr>\n",
       "  </tbody>\n",
       "</table>\n",
       "</div>"
      ],
      "text/plain": [
       "Crop_Type            0          1\n",
       "Crop_Damage                      \n",
       "0            27.541620  26.876130\n",
       "1            35.218349  32.732928\n",
       "2            40.104788  32.743089"
      ]
     },
     "execution_count": 27,
     "metadata": {},
     "output_type": "execute_result"
    }
   ],
   "source": [
    "train.pivot_table(index='Crop_Damage', columns='Crop_Type', values='Number_Weeks_Used')"
   ]
  },
  {
   "cell_type": "code",
   "execution_count": 28,
   "metadata": {
    "collapsed": false
   },
   "outputs": [
    {
     "data": {
      "text/html": [
       "<div>\n",
       "<table border=\"1\" class=\"dataframe\">\n",
       "  <thead>\n",
       "    <tr style=\"text-align: right;\">\n",
       "      <th>Crop_Type</th>\n",
       "      <th>0</th>\n",
       "      <th>1</th>\n",
       "    </tr>\n",
       "    <tr>\n",
       "      <th>Crop_Damage</th>\n",
       "      <th></th>\n",
       "      <th></th>\n",
       "    </tr>\n",
       "  </thead>\n",
       "  <tbody>\n",
       "    <tr>\n",
       "      <th>0</th>\n",
       "      <td>11.551631</td>\n",
       "      <td>6.566729</td>\n",
       "    </tr>\n",
       "    <tr>\n",
       "      <th>1</th>\n",
       "      <td>9.312799</td>\n",
       "      <td>2.641315</td>\n",
       "    </tr>\n",
       "    <tr>\n",
       "      <th>2</th>\n",
       "      <td>4.391413</td>\n",
       "      <td>0.828612</td>\n",
       "    </tr>\n",
       "  </tbody>\n",
       "</table>\n",
       "</div>"
      ],
      "text/plain": [
       "Crop_Type            0         1\n",
       "Crop_Damage                     \n",
       "0            11.551631  6.566729\n",
       "1             9.312799  2.641315\n",
       "2             4.391413  0.828612"
      ]
     },
     "execution_count": 28,
     "metadata": {},
     "output_type": "execute_result"
    }
   ],
   "source": [
    "train.pivot_table(index='Crop_Damage', columns='Crop_Type', values='Number_Weeks_Quit')"
   ]
  },
  {
   "cell_type": "code",
   "execution_count": 30,
   "metadata": {
    "collapsed": false
   },
   "outputs": [
    {
     "data": {
      "text/html": [
       "<div>\n",
       "<table border=\"1\" class=\"dataframe\">\n",
       "  <thead>\n",
       "    <tr style=\"text-align: right;\">\n",
       "      <th>Soil_Type</th>\n",
       "      <th>0</th>\n",
       "      <th>1</th>\n",
       "    </tr>\n",
       "    <tr>\n",
       "      <th>Crop_Damage</th>\n",
       "      <th></th>\n",
       "      <th></th>\n",
       "    </tr>\n",
       "  </thead>\n",
       "  <tbody>\n",
       "    <tr>\n",
       "      <th>0</th>\n",
       "      <td>1351.692051</td>\n",
       "      <td>1274.027444</td>\n",
       "    </tr>\n",
       "    <tr>\n",
       "      <th>1</th>\n",
       "      <td>1898.119804</td>\n",
       "      <td>1762.467874</td>\n",
       "    </tr>\n",
       "    <tr>\n",
       "      <th>2</th>\n",
       "      <td>1800.677444</td>\n",
       "      <td>1636.989827</td>\n",
       "    </tr>\n",
       "  </tbody>\n",
       "</table>\n",
       "</div>"
      ],
      "text/plain": [
       "Soil_Type              0            1\n",
       "Crop_Damage                          \n",
       "0            1351.692051  1274.027444\n",
       "1            1898.119804  1762.467874\n",
       "2            1800.677444  1636.989827"
      ]
     },
     "execution_count": 30,
     "metadata": {},
     "output_type": "execute_result"
    }
   ],
   "source": [
    "train.pivot_table(index='Crop_Damage', columns='Soil_Type', values='Estimated_Insects_Count')"
   ]
  },
  {
   "cell_type": "code",
   "execution_count": 41,
   "metadata": {
    "collapsed": false
   },
   "outputs": [
    {
     "data": {
      "text/html": [
       "<div>\n",
       "<table border=\"1\" class=\"dataframe\">\n",
       "  <thead>\n",
       "    <tr style=\"text-align: right;\">\n",
       "      <th>Soil_Type</th>\n",
       "      <th>0</th>\n",
       "      <th>1</th>\n",
       "    </tr>\n",
       "    <tr>\n",
       "      <th>Crop_Damage</th>\n",
       "      <th></th>\n",
       "      <th></th>\n",
       "    </tr>\n",
       "  </thead>\n",
       "  <tbody>\n",
       "    <tr>\n",
       "      <th>0</th>\n",
       "      <td>24.899475</td>\n",
       "      <td>27.532052</td>\n",
       "    </tr>\n",
       "    <tr>\n",
       "      <th>1</th>\n",
       "      <td>23.440242</td>\n",
       "      <td>25.131677</td>\n",
       "    </tr>\n",
       "    <tr>\n",
       "      <th>2</th>\n",
       "      <td>25.781955</td>\n",
       "      <td>26.561546</td>\n",
       "    </tr>\n",
       "  </tbody>\n",
       "</table>\n",
       "</div>"
      ],
      "text/plain": [
       "Soil_Type            0          1\n",
       "Crop_Damage                      \n",
       "0            24.899475  27.532052\n",
       "1            23.440242  25.131677\n",
       "2            25.781955  26.561546"
      ]
     },
     "execution_count": 41,
     "metadata": {},
     "output_type": "execute_result"
    }
   ],
   "source": [
    "train.pivot_table(index='Crop_Damage', columns='Soil_Type', values='Number_Doses_Week')"
   ]
  },
  {
   "cell_type": "code",
   "execution_count": 42,
   "metadata": {
    "collapsed": false
   },
   "outputs": [
    {
     "data": {
      "text/html": [
       "<div>\n",
       "<table border=\"1\" class=\"dataframe\">\n",
       "  <thead>\n",
       "    <tr style=\"text-align: right;\">\n",
       "      <th>Soil_Type</th>\n",
       "      <th>0</th>\n",
       "      <th>1</th>\n",
       "    </tr>\n",
       "    <tr>\n",
       "      <th>Crop_Damage</th>\n",
       "      <th></th>\n",
       "      <th></th>\n",
       "    </tr>\n",
       "  </thead>\n",
       "  <tbody>\n",
       "    <tr>\n",
       "      <th>0</th>\n",
       "      <td>27.963253</td>\n",
       "      <td>26.643803</td>\n",
       "    </tr>\n",
       "    <tr>\n",
       "      <th>1</th>\n",
       "      <td>35.842231</td>\n",
       "      <td>32.946906</td>\n",
       "    </tr>\n",
       "    <tr>\n",
       "      <th>2</th>\n",
       "      <td>39.470439</td>\n",
       "      <td>35.774083</td>\n",
       "    </tr>\n",
       "  </tbody>\n",
       "</table>\n",
       "</div>"
      ],
      "text/plain": [
       "Soil_Type            0          1\n",
       "Crop_Damage                      \n",
       "0            27.963253  26.643803\n",
       "1            35.842231  32.946906\n",
       "2            39.470439  35.774083"
      ]
     },
     "execution_count": 42,
     "metadata": {},
     "output_type": "execute_result"
    }
   ],
   "source": [
    "train.pivot_table(index='Crop_Damage', columns='Soil_Type', values='Number_Weeks_Used')"
   ]
  },
  {
   "cell_type": "code",
   "execution_count": 43,
   "metadata": {
    "collapsed": false
   },
   "outputs": [
    {
     "data": {
      "text/html": [
       "<div>\n",
       "<table border=\"1\" class=\"dataframe\">\n",
       "  <thead>\n",
       "    <tr style=\"text-align: right;\">\n",
       "      <th>Soil_Type</th>\n",
       "      <th>0</th>\n",
       "      <th>1</th>\n",
       "    </tr>\n",
       "    <tr>\n",
       "      <th>Crop_Damage</th>\n",
       "      <th></th>\n",
       "      <th></th>\n",
       "    </tr>\n",
       "  </thead>\n",
       "  <tbody>\n",
       "    <tr>\n",
       "      <th>0</th>\n",
       "      <td>10.074320</td>\n",
       "      <td>10.152717</td>\n",
       "    </tr>\n",
       "    <tr>\n",
       "      <th>1</th>\n",
       "      <td>7.464260</td>\n",
       "      <td>7.846843</td>\n",
       "    </tr>\n",
       "    <tr>\n",
       "      <th>2</th>\n",
       "      <td>3.108271</td>\n",
       "      <td>3.568667</td>\n",
       "    </tr>\n",
       "  </tbody>\n",
       "</table>\n",
       "</div>"
      ],
      "text/plain": [
       "Soil_Type            0          1\n",
       "Crop_Damage                      \n",
       "0            10.074320  10.152717\n",
       "1             7.464260   7.846843\n",
       "2             3.108271   3.568667"
      ]
     },
     "execution_count": 43,
     "metadata": {},
     "output_type": "execute_result"
    }
   ],
   "source": [
    "train.pivot_table(index='Crop_Damage', columns='Soil_Type', values='Number_Weeks_Quit')"
   ]
  },
  {
   "cell_type": "code",
   "execution_count": 104,
   "metadata": {
    "collapsed": false
   },
   "outputs": [
    {
     "data": {
      "text/html": [
       "<div>\n",
       "<table border=\"1\" class=\"dataframe\">\n",
       "  <thead>\n",
       "    <tr style=\"text-align: right;\">\n",
       "      <th></th>\n",
       "      <th></th>\n",
       "      <th>Estimated_Insects_Count</th>\n",
       "      <th>Number_Doses_Week</th>\n",
       "      <th>Number_Weeks_Used</th>\n",
       "      <th>Number_Weeks_Quit</th>\n",
       "    </tr>\n",
       "    <tr>\n",
       "      <th>Crop_Damage</th>\n",
       "      <th>Pesticide_Use_Category</th>\n",
       "      <th></th>\n",
       "      <th></th>\n",
       "      <th></th>\n",
       "      <th></th>\n",
       "    </tr>\n",
       "  </thead>\n",
       "  <tbody>\n",
       "    <tr>\n",
       "      <th rowspan=\"3\" valign=\"top\">0</th>\n",
       "      <th>1</th>\n",
       "      <td>1508.889831</td>\n",
       "      <td>0.000000</td>\n",
       "      <td>0.000000</td>\n",
       "      <td>0.000000</td>\n",
       "    </tr>\n",
       "    <tr>\n",
       "      <th>2</th>\n",
       "      <td>1361.284543</td>\n",
       "      <td>26.456161</td>\n",
       "      <td>25.976496</td>\n",
       "      <td>13.178026</td>\n",
       "    </tr>\n",
       "    <tr>\n",
       "      <th>3</th>\n",
       "      <td>1163.115663</td>\n",
       "      <td>25.180632</td>\n",
       "      <td>32.087103</td>\n",
       "      <td>0.000000</td>\n",
       "    </tr>\n",
       "    <tr>\n",
       "      <th rowspan=\"3\" valign=\"top\">1</th>\n",
       "      <th>1</th>\n",
       "      <td>1565.214801</td>\n",
       "      <td>0.000000</td>\n",
       "      <td>0.000000</td>\n",
       "      <td>0.000000</td>\n",
       "    </tr>\n",
       "    <tr>\n",
       "      <th>2</th>\n",
       "      <td>2071.961462</td>\n",
       "      <td>27.024868</td>\n",
       "      <td>31.533223</td>\n",
       "      <td>15.466238</td>\n",
       "    </tr>\n",
       "    <tr>\n",
       "      <th>3</th>\n",
       "      <td>1616.933814</td>\n",
       "      <td>23.488822</td>\n",
       "      <td>41.163126</td>\n",
       "      <td>0.000000</td>\n",
       "    </tr>\n",
       "    <tr>\n",
       "      <th rowspan=\"3\" valign=\"top\">2</th>\n",
       "      <th>1</th>\n",
       "      <td>2039.006061</td>\n",
       "      <td>0.000000</td>\n",
       "      <td>0.000000</td>\n",
       "      <td>0.000000</td>\n",
       "    </tr>\n",
       "    <tr>\n",
       "      <th>2</th>\n",
       "      <td>2025.141384</td>\n",
       "      <td>31.509573</td>\n",
       "      <td>36.460912</td>\n",
       "      <td>11.254786</td>\n",
       "    </tr>\n",
       "    <tr>\n",
       "      <th>3</th>\n",
       "      <td>1560.622873</td>\n",
       "      <td>26.552076</td>\n",
       "      <td>42.592791</td>\n",
       "      <td>0.000000</td>\n",
       "    </tr>\n",
       "  </tbody>\n",
       "</table>\n",
       "</div>"
      ],
      "text/plain": [
       "                                    Estimated_Insects_Count  \\\n",
       "Crop_Damage Pesticide_Use_Category                            \n",
       "0           1                                   1508.889831   \n",
       "            2                                   1361.284543   \n",
       "            3                                   1163.115663   \n",
       "1           1                                   1565.214801   \n",
       "            2                                   2071.961462   \n",
       "            3                                   1616.933814   \n",
       "2           1                                   2039.006061   \n",
       "            2                                   2025.141384   \n",
       "            3                                   1560.622873   \n",
       "\n",
       "                                    Number_Doses_Week  Number_Weeks_Used  \\\n",
       "Crop_Damage Pesticide_Use_Category                                         \n",
       "0           1                                0.000000           0.000000   \n",
       "            2                               26.456161          25.976496   \n",
       "            3                               25.180632          32.087103   \n",
       "1           1                                0.000000           0.000000   \n",
       "            2                               27.024868          31.533223   \n",
       "            3                               23.488822          41.163126   \n",
       "2           1                                0.000000           0.000000   \n",
       "            2                               31.509573          36.460912   \n",
       "            3                               26.552076          42.592791   \n",
       "\n",
       "                                    Number_Weeks_Quit  \n",
       "Crop_Damage Pesticide_Use_Category                     \n",
       "0           1                                0.000000  \n",
       "            2                               13.178026  \n",
       "            3                                0.000000  \n",
       "1           1                                0.000000  \n",
       "            2                               15.466238  \n",
       "            3                                0.000000  \n",
       "2           1                                0.000000  \n",
       "            2                               11.254786  \n",
       "            3                                0.000000  "
      ]
     },
     "execution_count": 104,
     "metadata": {},
     "output_type": "execute_result"
    }
   ],
   "source": [
    "numeric_features = ['Estimated_Insects_Count', 'Number_Doses_Week', 'Number_Weeks_Used', 'Number_Weeks_Quit']\n",
    "train.groupby(['Crop_Damage', 'Pesticide_Use_Category'])[numeric_features].mean()"
   ]
  },
  {
   "cell_type": "code",
   "execution_count": 113,
   "metadata": {
    "collapsed": false
   },
   "outputs": [
    {
     "data": {
      "text/html": [
       "<div>\n",
       "<table border=\"1\" class=\"dataframe\">\n",
       "  <thead>\n",
       "    <tr>\n",
       "      <th>Pesticide_Use_Category</th>\n",
       "      <th colspan=\"3\" halign=\"left\">1</th>\n",
       "      <th colspan=\"3\" halign=\"left\">2</th>\n",
       "      <th colspan=\"3\" halign=\"left\">3</th>\n",
       "      <th>All</th>\n",
       "    </tr>\n",
       "    <tr>\n",
       "      <th>Season</th>\n",
       "      <th>1</th>\n",
       "      <th>2</th>\n",
       "      <th>3</th>\n",
       "      <th>1</th>\n",
       "      <th>2</th>\n",
       "      <th>3</th>\n",
       "      <th>1</th>\n",
       "      <th>2</th>\n",
       "      <th>3</th>\n",
       "      <th></th>\n",
       "    </tr>\n",
       "    <tr>\n",
       "      <th>Crop_Damage</th>\n",
       "      <th></th>\n",
       "      <th></th>\n",
       "      <th></th>\n",
       "      <th></th>\n",
       "      <th></th>\n",
       "      <th></th>\n",
       "      <th></th>\n",
       "      <th></th>\n",
       "      <th></th>\n",
       "      <th></th>\n",
       "    </tr>\n",
       "  </thead>\n",
       "  <tbody>\n",
       "    <tr>\n",
       "      <th>0</th>\n",
       "      <td>31</td>\n",
       "      <td>66</td>\n",
       "      <td>21</td>\n",
       "      <td>17258</td>\n",
       "      <td>28312</td>\n",
       "      <td>11388</td>\n",
       "      <td>5204</td>\n",
       "      <td>8503</td>\n",
       "      <td>3455</td>\n",
       "      <td>74238</td>\n",
       "    </tr>\n",
       "    <tr>\n",
       "      <th>1</th>\n",
       "      <td>180</td>\n",
       "      <td>297</td>\n",
       "      <td>77</td>\n",
       "      <td>1852</td>\n",
       "      <td>2997</td>\n",
       "      <td>1223</td>\n",
       "      <td>1716</td>\n",
       "      <td>2821</td>\n",
       "      <td>1144</td>\n",
       "      <td>12307</td>\n",
       "    </tr>\n",
       "    <tr>\n",
       "      <th>2</th>\n",
       "      <td>46</td>\n",
       "      <td>86</td>\n",
       "      <td>33</td>\n",
       "      <td>200</td>\n",
       "      <td>346</td>\n",
       "      <td>133</td>\n",
       "      <td>415</td>\n",
       "      <td>782</td>\n",
       "      <td>272</td>\n",
       "      <td>2313</td>\n",
       "    </tr>\n",
       "    <tr>\n",
       "      <th>All</th>\n",
       "      <td>257</td>\n",
       "      <td>449</td>\n",
       "      <td>131</td>\n",
       "      <td>19310</td>\n",
       "      <td>31655</td>\n",
       "      <td>12744</td>\n",
       "      <td>7335</td>\n",
       "      <td>12106</td>\n",
       "      <td>4871</td>\n",
       "      <td>88858</td>\n",
       "    </tr>\n",
       "  </tbody>\n",
       "</table>\n",
       "</div>"
      ],
      "text/plain": [
       "Pesticide_Use_Category    1                2                   3               \\\n",
       "Season                    1    2    3      1      2      3     1      2     3   \n",
       "Crop_Damage                                                                     \n",
       "0                        31   66   21  17258  28312  11388  5204   8503  3455   \n",
       "1                       180  297   77   1852   2997   1223  1716   2821  1144   \n",
       "2                        46   86   33    200    346    133   415    782   272   \n",
       "All                     257  449  131  19310  31655  12744  7335  12106  4871   \n",
       "\n",
       "Pesticide_Use_Category    All  \n",
       "Season                         \n",
       "Crop_Damage                    \n",
       "0                       74238  \n",
       "1                       12307  \n",
       "2                        2313  \n",
       "All                     88858  "
      ]
     },
     "execution_count": 113,
     "metadata": {},
     "output_type": "execute_result"
    }
   ],
   "source": [
    "pd.crosstab(index=train.Crop_Damage, columns=[train.Pesticide_Use_Category, train.Season], margins=True)"
   ]
  },
  {
   "cell_type": "code",
   "execution_count": 114,
   "metadata": {
    "collapsed": false
   },
   "outputs": [
    {
     "data": {
      "text/html": [
       "<div>\n",
       "<table border=\"1\" class=\"dataframe\">\n",
       "  <thead>\n",
       "    <tr>\n",
       "      <th>Pesticide_Use_Category</th>\n",
       "      <th colspan=\"2\" halign=\"left\">1</th>\n",
       "      <th colspan=\"2\" halign=\"left\">2</th>\n",
       "      <th colspan=\"2\" halign=\"left\">3</th>\n",
       "      <th>All</th>\n",
       "    </tr>\n",
       "    <tr>\n",
       "      <th>Crop_Type</th>\n",
       "      <th>0</th>\n",
       "      <th>1</th>\n",
       "      <th>0</th>\n",
       "      <th>1</th>\n",
       "      <th>0</th>\n",
       "      <th>1</th>\n",
       "      <th></th>\n",
       "    </tr>\n",
       "    <tr>\n",
       "      <th>Crop_Damage</th>\n",
       "      <th></th>\n",
       "      <th></th>\n",
       "      <th></th>\n",
       "      <th></th>\n",
       "      <th></th>\n",
       "      <th></th>\n",
       "      <th></th>\n",
       "    </tr>\n",
       "  </thead>\n",
       "  <tbody>\n",
       "    <tr>\n",
       "      <th>0</th>\n",
       "      <td>57</td>\n",
       "      <td>61</td>\n",
       "      <td>44368</td>\n",
       "      <td>12590</td>\n",
       "      <td>8353</td>\n",
       "      <td>8809</td>\n",
       "      <td>74238</td>\n",
       "    </tr>\n",
       "    <tr>\n",
       "      <th>1</th>\n",
       "      <td>261</td>\n",
       "      <td>293</td>\n",
       "      <td>5431</td>\n",
       "      <td>641</td>\n",
       "      <td>3512</td>\n",
       "      <td>2169</td>\n",
       "      <td>12307</td>\n",
       "    </tr>\n",
       "    <tr>\n",
       "      <th>2</th>\n",
       "      <td>54</td>\n",
       "      <td>111</td>\n",
       "      <td>611</td>\n",
       "      <td>68</td>\n",
       "      <td>942</td>\n",
       "      <td>527</td>\n",
       "      <td>2313</td>\n",
       "    </tr>\n",
       "    <tr>\n",
       "      <th>All</th>\n",
       "      <td>372</td>\n",
       "      <td>465</td>\n",
       "      <td>50410</td>\n",
       "      <td>13299</td>\n",
       "      <td>12807</td>\n",
       "      <td>11505</td>\n",
       "      <td>88858</td>\n",
       "    </tr>\n",
       "  </tbody>\n",
       "</table>\n",
       "</div>"
      ],
      "text/plain": [
       "Pesticide_Use_Category    1           2             3           All\n",
       "Crop_Type                 0    1      0      1      0      1       \n",
       "Crop_Damage                                                        \n",
       "0                        57   61  44368  12590   8353   8809  74238\n",
       "1                       261  293   5431    641   3512   2169  12307\n",
       "2                        54  111    611     68    942    527   2313\n",
       "All                     372  465  50410  13299  12807  11505  88858"
      ]
     },
     "execution_count": 114,
     "metadata": {},
     "output_type": "execute_result"
    }
   ],
   "source": [
    "pd.crosstab(index=train.Crop_Damage, columns=[train.Pesticide_Use_Category, train.Crop_Type], margins=True)"
   ]
  },
  {
   "cell_type": "code",
   "execution_count": 117,
   "metadata": {
    "collapsed": false
   },
   "outputs": [
    {
     "data": {
      "text/html": [
       "<div>\n",
       "<table border=\"1\" class=\"dataframe\">\n",
       "  <thead>\n",
       "    <tr>\n",
       "      <th>Pesticide_Use_Category</th>\n",
       "      <th colspan=\"2\" halign=\"left\">1</th>\n",
       "      <th colspan=\"2\" halign=\"left\">2</th>\n",
       "      <th colspan=\"2\" halign=\"left\">3</th>\n",
       "    </tr>\n",
       "    <tr>\n",
       "      <th>Crop_Type</th>\n",
       "      <th>0</th>\n",
       "      <th>1</th>\n",
       "      <th>0</th>\n",
       "      <th>1</th>\n",
       "      <th>0</th>\n",
       "      <th>1</th>\n",
       "    </tr>\n",
       "    <tr>\n",
       "      <th>Crop_Damage</th>\n",
       "      <th></th>\n",
       "      <th></th>\n",
       "      <th></th>\n",
       "      <th></th>\n",
       "      <th></th>\n",
       "      <th></th>\n",
       "    </tr>\n",
       "  </thead>\n",
       "  <tbody>\n",
       "    <tr>\n",
       "      <th>0</th>\n",
       "      <td>0</td>\n",
       "      <td>0</td>\n",
       "      <td>13.741255</td>\n",
       "      <td>11.193169</td>\n",
       "      <td>0</td>\n",
       "      <td>0</td>\n",
       "    </tr>\n",
       "    <tr>\n",
       "      <th>1</th>\n",
       "      <td>0</td>\n",
       "      <td>0</td>\n",
       "      <td>15.782545</td>\n",
       "      <td>12.786271</td>\n",
       "      <td>0</td>\n",
       "      <td>0</td>\n",
       "    </tr>\n",
       "    <tr>\n",
       "      <th>2</th>\n",
       "      <td>0</td>\n",
       "      <td>0</td>\n",
       "      <td>11.549918</td>\n",
       "      <td>8.602941</td>\n",
       "      <td>0</td>\n",
       "      <td>0</td>\n",
       "    </tr>\n",
       "  </tbody>\n",
       "</table>\n",
       "</div>"
      ],
      "text/plain": [
       "Pesticide_Use_Category  1             2             3   \n",
       "Crop_Type               0  1          0          1  0  1\n",
       "Crop_Damage                                             \n",
       "0                       0  0  13.741255  11.193169  0  0\n",
       "1                       0  0  15.782545  12.786271  0  0\n",
       "2                       0  0  11.549918   8.602941  0  0"
      ]
     },
     "execution_count": 117,
     "metadata": {},
     "output_type": "execute_result"
    }
   ],
   "source": [
    "train.pivot_table(index='Crop_Damage', columns=['Pesticide_Use_Category', 'Crop_Type'], values='Number_Weeks_Quit')"
   ]
  },
  {
   "cell_type": "code",
   "execution_count": 154,
   "metadata": {
    "collapsed": false
   },
   "outputs": [
    {
     "data": {
      "text/html": [
       "<div>\n",
       "<table border=\"1\" class=\"dataframe\">\n",
       "  <thead>\n",
       "    <tr>\n",
       "      <th></th>\n",
       "      <th colspan=\"3\" halign=\"left\">Estimated_Insects_Count</th>\n",
       "      <th colspan=\"3\" halign=\"left\">Number_Weeks_Used</th>\n",
       "    </tr>\n",
       "    <tr>\n",
       "      <th>Pesticide_Use_Category</th>\n",
       "      <th>1</th>\n",
       "      <th>2</th>\n",
       "      <th>3</th>\n",
       "      <th>1</th>\n",
       "      <th>2</th>\n",
       "      <th>3</th>\n",
       "    </tr>\n",
       "    <tr>\n",
       "      <th>Crop_Damage</th>\n",
       "      <th></th>\n",
       "      <th></th>\n",
       "      <th></th>\n",
       "      <th></th>\n",
       "      <th></th>\n",
       "      <th></th>\n",
       "    </tr>\n",
       "  </thead>\n",
       "  <tbody>\n",
       "    <tr>\n",
       "      <th>0</th>\n",
       "      <td>1508.889831</td>\n",
       "      <td>1361.284543</td>\n",
       "      <td>1163.115663</td>\n",
       "      <td>0</td>\n",
       "      <td>25.976496</td>\n",
       "      <td>32.087103</td>\n",
       "    </tr>\n",
       "    <tr>\n",
       "      <th>1</th>\n",
       "      <td>1565.214801</td>\n",
       "      <td>2071.961462</td>\n",
       "      <td>1616.933814</td>\n",
       "      <td>0</td>\n",
       "      <td>31.533223</td>\n",
       "      <td>41.163126</td>\n",
       "    </tr>\n",
       "    <tr>\n",
       "      <th>2</th>\n",
       "      <td>2039.006061</td>\n",
       "      <td>2025.141384</td>\n",
       "      <td>1560.622873</td>\n",
       "      <td>0</td>\n",
       "      <td>36.460912</td>\n",
       "      <td>42.592791</td>\n",
       "    </tr>\n",
       "  </tbody>\n",
       "</table>\n",
       "</div>"
      ],
      "text/plain": [
       "                       Estimated_Insects_Count                            \\\n",
       "Pesticide_Use_Category                       1            2            3   \n",
       "Crop_Damage                                                                \n",
       "0                                  1508.889831  1361.284543  1163.115663   \n",
       "1                                  1565.214801  2071.961462  1616.933814   \n",
       "2                                  2039.006061  2025.141384  1560.622873   \n",
       "\n",
       "                       Number_Weeks_Used                        \n",
       "Pesticide_Use_Category                 1          2          3  \n",
       "Crop_Damage                                                     \n",
       "0                                      0  25.976496  32.087103  \n",
       "1                                      0  31.533223  41.163126  \n",
       "2                                      0  36.460912  42.592791  "
      ]
     },
     "execution_count": 154,
     "metadata": {},
     "output_type": "execute_result"
    }
   ],
   "source": [
    "train.pivot_table(index='Crop_Damage', columns='Pesticide_Use_Category', values=['Estimated_Insects_Count', 'Number_Weeks_Used'])"
   ]
  },
  {
   "cell_type": "code",
   "execution_count": 132,
   "metadata": {
    "collapsed": false
   },
   "outputs": [
    {
     "data": {
      "text/plain": [
       "Crop_Damage  Pesticide_Use_Category\n",
       "0            1                          0.000000\n",
       "             2                         13.178026\n",
       "             3                          0.000000\n",
       "1            1                          0.000000\n",
       "             2                         15.466238\n",
       "             3                          0.000000\n",
       "2            1                          0.000000\n",
       "             2                         11.254786\n",
       "             3                          0.000000\n",
       "Name: Number_Weeks_Quit, dtype: float64"
      ]
     },
     "execution_count": 132,
     "metadata": {},
     "output_type": "execute_result"
    }
   ],
   "source": [
    "train.groupby(['Crop_Damage', 'Pesticide_Use_Category'])['Number_Weeks_Quit'].mean()"
   ]
  },
  {
   "cell_type": "code",
   "execution_count": 130,
   "metadata": {
    "collapsed": false
   },
   "outputs": [
    {
     "data": {
      "text/plain": [
       "Crop_Damage  Pesticide_Use_Category\n",
       "0            1                          0.000000\n",
       "             2                         25.976496\n",
       "             3                         32.087103\n",
       "1            1                          0.000000\n",
       "             2                         31.533223\n",
       "             3                         41.163126\n",
       "2            1                          0.000000\n",
       "             2                         36.460912\n",
       "             3                         42.592791\n",
       "Name: Number_Weeks_Used, dtype: float64"
      ]
     },
     "execution_count": 130,
     "metadata": {},
     "output_type": "execute_result"
    }
   ],
   "source": [
    "train.groupby(['Crop_Damage', 'Pesticide_Use_Category'])['Number_Weeks_Used'].mean()"
   ]
  },
  {
   "cell_type": "code",
   "execution_count": 131,
   "metadata": {
    "collapsed": false
   },
   "outputs": [
    {
     "data": {
      "text/plain": [
       "Crop_Damage  Pesticide_Use_Category\n",
       "0            1                          0.000000\n",
       "             2                         26.456161\n",
       "             3                         25.180632\n",
       "1            1                          0.000000\n",
       "             2                         27.024868\n",
       "             3                         23.488822\n",
       "2            1                          0.000000\n",
       "             2                         31.509573\n",
       "             3                         26.552076\n",
       "Name: Number_Doses_Week, dtype: float64"
      ]
     },
     "execution_count": 131,
     "metadata": {},
     "output_type": "execute_result"
    }
   ],
   "source": [
    "train.groupby(['Crop_Damage', 'Pesticide_Use_Category'])['Number_Doses_Week'].mean()"
   ]
  },
  {
   "cell_type": "code",
   "execution_count": 133,
   "metadata": {
    "collapsed": false
   },
   "outputs": [
    {
     "data": {
      "text/plain": [
       "Crop_Damage  Pesticide_Use_Category\n",
       "0            1                         1508.889831\n",
       "             2                         1361.284543\n",
       "             3                         1163.115663\n",
       "1            1                         1565.214801\n",
       "             2                         2071.961462\n",
       "             3                         1616.933814\n",
       "2            1                         2039.006061\n",
       "             2                         2025.141384\n",
       "             3                         1560.622873\n",
       "Name: Estimated_Insects_Count, dtype: float64"
      ]
     },
     "execution_count": 133,
     "metadata": {},
     "output_type": "execute_result"
    }
   ],
   "source": [
    "train.groupby(['Crop_Damage', 'Pesticide_Use_Category'])['Estimated_Insects_Count'].mean()"
   ]
  },
  {
   "cell_type": "code",
   "execution_count": 157,
   "metadata": {
    "collapsed": false
   },
   "outputs": [
    {
     "data": {
      "text/plain": [
       "Crop_Damage  Crop_Type\n",
       "0            0            52778\n",
       "             1            21460\n",
       "1            0             9204\n",
       "             1             3103\n",
       "2            0             1607\n",
       "             1              706\n",
       "dtype: int64"
      ]
     },
     "execution_count": 157,
     "metadata": {},
     "output_type": "execute_result"
    }
   ],
   "source": [
    "train.groupby(['Crop_Damage', 'Crop_Type']).size()"
   ]
  },
  {
   "cell_type": "code",
   "execution_count": 156,
   "metadata": {
    "collapsed": false
   },
   "outputs": [
    {
     "data": {
      "text/plain": [
       "0    74238\n",
       "1    12307\n",
       "2     2313\n",
       "Name: Crop_Damage, dtype: int64"
      ]
     },
     "execution_count": 156,
     "metadata": {},
     "output_type": "execute_result"
    }
   ],
   "source": [
    "train.Crop_Damage.value_counts()"
   ]
  },
  {
   "cell_type": "code",
   "execution_count": 179,
   "metadata": {
    "collapsed": false
   },
   "outputs": [
    {
     "data": {
      "text/html": [
       "<div>\n",
       "<table border=\"1\" class=\"dataframe\">\n",
       "  <thead>\n",
       "    <tr style=\"text-align: right;\">\n",
       "      <th>Number_Weeks_Used</th>\n",
       "      <th>0.0</th>\n",
       "      <th>5.0</th>\n",
       "      <th>6.0</th>\n",
       "      <th>7.0</th>\n",
       "      <th>8.0</th>\n",
       "      <th>9.0</th>\n",
       "      <th>10.0</th>\n",
       "      <th>11.0</th>\n",
       "      <th>12.0</th>\n",
       "      <th>13.0</th>\n",
       "      <th>14.0</th>\n",
       "      <th>15.0</th>\n",
       "      <th>16.0</th>\n",
       "      <th>17.0</th>\n",
       "      <th>18.0</th>\n",
       "      <th>19.0</th>\n",
       "      <th>20.0</th>\n",
       "      <th>21.0</th>\n",
       "      <th>22.0</th>\n",
       "      <th>23.0</th>\n",
       "      <th>24.0</th>\n",
       "      <th>25.0</th>\n",
       "      <th>26.0</th>\n",
       "      <th>27.0</th>\n",
       "      <th>28.0</th>\n",
       "      <th>29.0</th>\n",
       "      <th>30.0</th>\n",
       "      <th>31.0</th>\n",
       "      <th>32.0</th>\n",
       "      <th>33.0</th>\n",
       "      <th>34.0</th>\n",
       "      <th>35.0</th>\n",
       "      <th>36.0</th>\n",
       "      <th>37.0</th>\n",
       "      <th>38.0</th>\n",
       "      <th>39.0</th>\n",
       "      <th>40.0</th>\n",
       "      <th>41.0</th>\n",
       "      <th>42.0</th>\n",
       "      <th>43.0</th>\n",
       "      <th>44.0</th>\n",
       "      <th>45.0</th>\n",
       "      <th>46.0</th>\n",
       "      <th>47.0</th>\n",
       "      <th>48.0</th>\n",
       "      <th>49.0</th>\n",
       "      <th>50.0</th>\n",
       "      <th>51.0</th>\n",
       "      <th>52.0</th>\n",
       "      <th>53.0</th>\n",
       "      <th>54.0</th>\n",
       "      <th>55.0</th>\n",
       "      <th>56.0</th>\n",
       "      <th>57.0</th>\n",
       "      <th>58.0</th>\n",
       "      <th>59.0</th>\n",
       "      <th>60.0</th>\n",
       "      <th>61.0</th>\n",
       "      <th>62.0</th>\n",
       "      <th>63.0</th>\n",
       "      <th>64.0</th>\n",
       "      <th>65.0</th>\n",
       "      <th>66.0</th>\n",
       "      <th>67.0</th>\n",
       "      <th>All</th>\n",
       "    </tr>\n",
       "    <tr>\n",
       "      <th>Crop_Damage</th>\n",
       "      <th></th>\n",
       "      <th></th>\n",
       "      <th></th>\n",
       "      <th></th>\n",
       "      <th></th>\n",
       "      <th></th>\n",
       "      <th></th>\n",
       "      <th></th>\n",
       "      <th></th>\n",
       "      <th></th>\n",
       "      <th></th>\n",
       "      <th></th>\n",
       "      <th></th>\n",
       "      <th></th>\n",
       "      <th></th>\n",
       "      <th></th>\n",
       "      <th></th>\n",
       "      <th></th>\n",
       "      <th></th>\n",
       "      <th></th>\n",
       "      <th></th>\n",
       "      <th></th>\n",
       "      <th></th>\n",
       "      <th></th>\n",
       "      <th></th>\n",
       "      <th></th>\n",
       "      <th></th>\n",
       "      <th></th>\n",
       "      <th></th>\n",
       "      <th></th>\n",
       "      <th></th>\n",
       "      <th></th>\n",
       "      <th></th>\n",
       "      <th></th>\n",
       "      <th></th>\n",
       "      <th></th>\n",
       "      <th></th>\n",
       "      <th></th>\n",
       "      <th></th>\n",
       "      <th></th>\n",
       "      <th></th>\n",
       "      <th></th>\n",
       "      <th></th>\n",
       "      <th></th>\n",
       "      <th></th>\n",
       "      <th></th>\n",
       "      <th></th>\n",
       "      <th></th>\n",
       "      <th></th>\n",
       "      <th></th>\n",
       "      <th></th>\n",
       "      <th></th>\n",
       "      <th></th>\n",
       "      <th></th>\n",
       "      <th></th>\n",
       "      <th></th>\n",
       "      <th></th>\n",
       "      <th></th>\n",
       "      <th></th>\n",
       "      <th></th>\n",
       "      <th></th>\n",
       "      <th></th>\n",
       "      <th></th>\n",
       "      <th></th>\n",
       "      <th></th>\n",
       "    </tr>\n",
       "  </thead>\n",
       "  <tbody>\n",
       "    <tr>\n",
       "      <th>0</th>\n",
       "      <td>107</td>\n",
       "      <td>539</td>\n",
       "      <td>356</td>\n",
       "      <td>401</td>\n",
       "      <td>528</td>\n",
       "      <td>462</td>\n",
       "      <td>1717</td>\n",
       "      <td>757</td>\n",
       "      <td>1259</td>\n",
       "      <td>1155</td>\n",
       "      <td>1430</td>\n",
       "      <td>2323</td>\n",
       "      <td>1669</td>\n",
       "      <td>1739</td>\n",
       "      <td>1889</td>\n",
       "      <td>1679</td>\n",
       "      <td>3509</td>\n",
       "      <td>1797</td>\n",
       "      <td>2136</td>\n",
       "      <td>1966</td>\n",
       "      <td>1966</td>\n",
       "      <td>2789</td>\n",
       "      <td>1830</td>\n",
       "      <td>1773</td>\n",
       "      <td>1872</td>\n",
       "      <td>1586</td>\n",
       "      <td>3042</td>\n",
       "      <td>1506</td>\n",
       "      <td>1719</td>\n",
       "      <td>1535</td>\n",
       "      <td>1582</td>\n",
       "      <td>1909</td>\n",
       "      <td>1422</td>\n",
       "      <td>1366</td>\n",
       "      <td>1292</td>\n",
       "      <td>1082</td>\n",
       "      <td>1834</td>\n",
       "      <td>861</td>\n",
       "      <td>981</td>\n",
       "      <td>835</td>\n",
       "      <td>760</td>\n",
       "      <td>884</td>\n",
       "      <td>615</td>\n",
       "      <td>548</td>\n",
       "      <td>535</td>\n",
       "      <td>389</td>\n",
       "      <td>756</td>\n",
       "      <td>290</td>\n",
       "      <td>316</td>\n",
       "      <td>280</td>\n",
       "      <td>227</td>\n",
       "      <td>236</td>\n",
       "      <td>141</td>\n",
       "      <td>114</td>\n",
       "      <td>107</td>\n",
       "      <td>64</td>\n",
       "      <td>119</td>\n",
       "      <td>38</td>\n",
       "      <td>39</td>\n",
       "      <td>31</td>\n",
       "      <td>26</td>\n",
       "      <td>12</td>\n",
       "      <td>11</td>\n",
       "      <td>5</td>\n",
       "      <td>74238</td>\n",
       "    </tr>\n",
       "    <tr>\n",
       "      <th>1</th>\n",
       "      <td>495</td>\n",
       "      <td>33</td>\n",
       "      <td>15</td>\n",
       "      <td>16</td>\n",
       "      <td>30</td>\n",
       "      <td>21</td>\n",
       "      <td>111</td>\n",
       "      <td>25</td>\n",
       "      <td>83</td>\n",
       "      <td>46</td>\n",
       "      <td>68</td>\n",
       "      <td>156</td>\n",
       "      <td>88</td>\n",
       "      <td>90</td>\n",
       "      <td>123</td>\n",
       "      <td>87</td>\n",
       "      <td>343</td>\n",
       "      <td>92</td>\n",
       "      <td>167</td>\n",
       "      <td>108</td>\n",
       "      <td>167</td>\n",
       "      <td>295</td>\n",
       "      <td>199</td>\n",
       "      <td>154</td>\n",
       "      <td>196</td>\n",
       "      <td>156</td>\n",
       "      <td>627</td>\n",
       "      <td>202</td>\n",
       "      <td>283</td>\n",
       "      <td>221</td>\n",
       "      <td>277</td>\n",
       "      <td>432</td>\n",
       "      <td>275</td>\n",
       "      <td>286</td>\n",
       "      <td>271</td>\n",
       "      <td>256</td>\n",
       "      <td>706</td>\n",
       "      <td>232</td>\n",
       "      <td>283</td>\n",
       "      <td>249</td>\n",
       "      <td>254</td>\n",
       "      <td>352</td>\n",
       "      <td>233</td>\n",
       "      <td>218</td>\n",
       "      <td>192</td>\n",
       "      <td>188</td>\n",
       "      <td>465</td>\n",
       "      <td>123</td>\n",
       "      <td>172</td>\n",
       "      <td>113</td>\n",
       "      <td>125</td>\n",
       "      <td>164</td>\n",
       "      <td>94</td>\n",
       "      <td>78</td>\n",
       "      <td>68</td>\n",
       "      <td>34</td>\n",
       "      <td>122</td>\n",
       "      <td>26</td>\n",
       "      <td>20</td>\n",
       "      <td>17</td>\n",
       "      <td>15</td>\n",
       "      <td>15</td>\n",
       "      <td>4</td>\n",
       "      <td>3</td>\n",
       "      <td>12307</td>\n",
       "    </tr>\n",
       "    <tr>\n",
       "      <th>2</th>\n",
       "      <td>138</td>\n",
       "      <td>0</td>\n",
       "      <td>0</td>\n",
       "      <td>1</td>\n",
       "      <td>1</td>\n",
       "      <td>0</td>\n",
       "      <td>7</td>\n",
       "      <td>1</td>\n",
       "      <td>4</td>\n",
       "      <td>2</td>\n",
       "      <td>4</td>\n",
       "      <td>7</td>\n",
       "      <td>5</td>\n",
       "      <td>6</td>\n",
       "      <td>5</td>\n",
       "      <td>3</td>\n",
       "      <td>26</td>\n",
       "      <td>7</td>\n",
       "      <td>7</td>\n",
       "      <td>12</td>\n",
       "      <td>19</td>\n",
       "      <td>36</td>\n",
       "      <td>17</td>\n",
       "      <td>25</td>\n",
       "      <td>29</td>\n",
       "      <td>22</td>\n",
       "      <td>96</td>\n",
       "      <td>34</td>\n",
       "      <td>47</td>\n",
       "      <td>30</td>\n",
       "      <td>53</td>\n",
       "      <td>69</td>\n",
       "      <td>52</td>\n",
       "      <td>50</td>\n",
       "      <td>63</td>\n",
       "      <td>43</td>\n",
       "      <td>167</td>\n",
       "      <td>70</td>\n",
       "      <td>63</td>\n",
       "      <td>57</td>\n",
       "      <td>57</td>\n",
       "      <td>76</td>\n",
       "      <td>59</td>\n",
       "      <td>51</td>\n",
       "      <td>65</td>\n",
       "      <td>42</td>\n",
       "      <td>130</td>\n",
       "      <td>34</td>\n",
       "      <td>46</td>\n",
       "      <td>38</td>\n",
       "      <td>33</td>\n",
       "      <td>39</td>\n",
       "      <td>20</td>\n",
       "      <td>22</td>\n",
       "      <td>8</td>\n",
       "      <td>7</td>\n",
       "      <td>28</td>\n",
       "      <td>6</td>\n",
       "      <td>6</td>\n",
       "      <td>2</td>\n",
       "      <td>3</td>\n",
       "      <td>4</td>\n",
       "      <td>2</td>\n",
       "      <td>0</td>\n",
       "      <td>2313</td>\n",
       "    </tr>\n",
       "    <tr>\n",
       "      <th>All</th>\n",
       "      <td>740</td>\n",
       "      <td>572</td>\n",
       "      <td>371</td>\n",
       "      <td>418</td>\n",
       "      <td>559</td>\n",
       "      <td>483</td>\n",
       "      <td>1835</td>\n",
       "      <td>783</td>\n",
       "      <td>1346</td>\n",
       "      <td>1203</td>\n",
       "      <td>1502</td>\n",
       "      <td>2486</td>\n",
       "      <td>1762</td>\n",
       "      <td>1835</td>\n",
       "      <td>2017</td>\n",
       "      <td>1769</td>\n",
       "      <td>3878</td>\n",
       "      <td>1896</td>\n",
       "      <td>2310</td>\n",
       "      <td>2086</td>\n",
       "      <td>2152</td>\n",
       "      <td>3120</td>\n",
       "      <td>2046</td>\n",
       "      <td>1952</td>\n",
       "      <td>2097</td>\n",
       "      <td>1764</td>\n",
       "      <td>3765</td>\n",
       "      <td>1742</td>\n",
       "      <td>2049</td>\n",
       "      <td>1786</td>\n",
       "      <td>1912</td>\n",
       "      <td>2410</td>\n",
       "      <td>1749</td>\n",
       "      <td>1702</td>\n",
       "      <td>1626</td>\n",
       "      <td>1381</td>\n",
       "      <td>2707</td>\n",
       "      <td>1163</td>\n",
       "      <td>1327</td>\n",
       "      <td>1141</td>\n",
       "      <td>1071</td>\n",
       "      <td>1312</td>\n",
       "      <td>907</td>\n",
       "      <td>817</td>\n",
       "      <td>792</td>\n",
       "      <td>619</td>\n",
       "      <td>1351</td>\n",
       "      <td>447</td>\n",
       "      <td>534</td>\n",
       "      <td>431</td>\n",
       "      <td>385</td>\n",
       "      <td>439</td>\n",
       "      <td>255</td>\n",
       "      <td>214</td>\n",
       "      <td>183</td>\n",
       "      <td>105</td>\n",
       "      <td>269</td>\n",
       "      <td>70</td>\n",
       "      <td>65</td>\n",
       "      <td>50</td>\n",
       "      <td>44</td>\n",
       "      <td>31</td>\n",
       "      <td>17</td>\n",
       "      <td>8</td>\n",
       "      <td>88858</td>\n",
       "    </tr>\n",
       "  </tbody>\n",
       "</table>\n",
       "</div>"
      ],
      "text/plain": [
       "Number_Weeks_Used  0.0  5.0  6.0  7.0  8.0  9.0  10.0  11.0  12.0  13.0  14.0  \\\n",
       "Crop_Damage                                                                     \n",
       "0                  107  539  356  401  528  462  1717   757  1259  1155  1430   \n",
       "1                  495   33   15   16   30   21   111    25    83    46    68   \n",
       "2                  138    0    0    1    1    0     7     1     4     2     4   \n",
       "All                740  572  371  418  559  483  1835   783  1346  1203  1502   \n",
       "\n",
       "Number_Weeks_Used  15.0  16.0  17.0  18.0  19.0  20.0  21.0  22.0  23.0  24.0  \\\n",
       "Crop_Damage                                                                     \n",
       "0                  2323  1669  1739  1889  1679  3509  1797  2136  1966  1966   \n",
       "1                   156    88    90   123    87   343    92   167   108   167   \n",
       "2                     7     5     6     5     3    26     7     7    12    19   \n",
       "All                2486  1762  1835  2017  1769  3878  1896  2310  2086  2152   \n",
       "\n",
       "Number_Weeks_Used  25.0  26.0  27.0  28.0  29.0  30.0  31.0  32.0  33.0  34.0  \\\n",
       "Crop_Damage                                                                     \n",
       "0                  2789  1830  1773  1872  1586  3042  1506  1719  1535  1582   \n",
       "1                   295   199   154   196   156   627   202   283   221   277   \n",
       "2                    36    17    25    29    22    96    34    47    30    53   \n",
       "All                3120  2046  1952  2097  1764  3765  1742  2049  1786  1912   \n",
       "\n",
       "Number_Weeks_Used  35.0  36.0  37.0  38.0  39.0  40.0  41.0  42.0  43.0  44.0  \\\n",
       "Crop_Damage                                                                     \n",
       "0                  1909  1422  1366  1292  1082  1834   861   981   835   760   \n",
       "1                   432   275   286   271   256   706   232   283   249   254   \n",
       "2                    69    52    50    63    43   167    70    63    57    57   \n",
       "All                2410  1749  1702  1626  1381  2707  1163  1327  1141  1071   \n",
       "\n",
       "Number_Weeks_Used  45.0  46.0  47.0  48.0  49.0  50.0  51.0  52.0  53.0  54.0  \\\n",
       "Crop_Damage                                                                     \n",
       "0                   884   615   548   535   389   756   290   316   280   227   \n",
       "1                   352   233   218   192   188   465   123   172   113   125   \n",
       "2                    76    59    51    65    42   130    34    46    38    33   \n",
       "All                1312   907   817   792   619  1351   447   534   431   385   \n",
       "\n",
       "Number_Weeks_Used  55.0  56.0  57.0  58.0  59.0  60.0  61.0  62.0  63.0  64.0  \\\n",
       "Crop_Damage                                                                     \n",
       "0                   236   141   114   107    64   119    38    39    31    26   \n",
       "1                   164    94    78    68    34   122    26    20    17    15   \n",
       "2                    39    20    22     8     7    28     6     6     2     3   \n",
       "All                 439   255   214   183   105   269    70    65    50    44   \n",
       "\n",
       "Number_Weeks_Used  65.0  66.0  67.0    All  \n",
       "Crop_Damage                                 \n",
       "0                    12    11     5  74238  \n",
       "1                    15     4     3  12307  \n",
       "2                     4     2     0   2313  \n",
       "All                  31    17     8  88858  "
      ]
     },
     "execution_count": 179,
     "metadata": {},
     "output_type": "execute_result"
    }
   ],
   "source": [
    "pd.crosstab(train.Crop_Damage, train.Number_Weeks_Used, margins=True)"
   ]
  },
  {
   "cell_type": "code",
   "execution_count": 180,
   "metadata": {
    "collapsed": false
   },
   "outputs": [
    {
     "data": {
      "text/html": [
       "<div>\n",
       "<table border=\"1\" class=\"dataframe\">\n",
       "  <thead>\n",
       "    <tr style=\"text-align: right;\">\n",
       "      <th>Number_Weeks_Quit</th>\n",
       "      <th>0</th>\n",
       "      <th>1</th>\n",
       "      <th>2</th>\n",
       "      <th>3</th>\n",
       "      <th>4</th>\n",
       "      <th>5</th>\n",
       "      <th>6</th>\n",
       "      <th>7</th>\n",
       "      <th>8</th>\n",
       "      <th>9</th>\n",
       "      <th>10</th>\n",
       "      <th>11</th>\n",
       "      <th>12</th>\n",
       "      <th>13</th>\n",
       "      <th>14</th>\n",
       "      <th>15</th>\n",
       "      <th>16</th>\n",
       "      <th>17</th>\n",
       "      <th>18</th>\n",
       "      <th>19</th>\n",
       "      <th>20</th>\n",
       "      <th>21</th>\n",
       "      <th>22</th>\n",
       "      <th>23</th>\n",
       "      <th>24</th>\n",
       "      <th>25</th>\n",
       "      <th>26</th>\n",
       "      <th>27</th>\n",
       "      <th>28</th>\n",
       "      <th>29</th>\n",
       "      <th>30</th>\n",
       "      <th>31</th>\n",
       "      <th>32</th>\n",
       "      <th>33</th>\n",
       "      <th>34</th>\n",
       "      <th>35</th>\n",
       "      <th>36</th>\n",
       "      <th>37</th>\n",
       "      <th>38</th>\n",
       "      <th>39</th>\n",
       "      <th>40</th>\n",
       "      <th>41</th>\n",
       "      <th>42</th>\n",
       "      <th>43</th>\n",
       "      <th>44</th>\n",
       "      <th>45</th>\n",
       "      <th>46</th>\n",
       "      <th>47</th>\n",
       "      <th>48</th>\n",
       "      <th>49</th>\n",
       "      <th>50</th>\n",
       "      <th>All</th>\n",
       "    </tr>\n",
       "    <tr>\n",
       "      <th>Crop_Damage</th>\n",
       "      <th></th>\n",
       "      <th></th>\n",
       "      <th></th>\n",
       "      <th></th>\n",
       "      <th></th>\n",
       "      <th></th>\n",
       "      <th></th>\n",
       "      <th></th>\n",
       "      <th></th>\n",
       "      <th></th>\n",
       "      <th></th>\n",
       "      <th></th>\n",
       "      <th></th>\n",
       "      <th></th>\n",
       "      <th></th>\n",
       "      <th></th>\n",
       "      <th></th>\n",
       "      <th></th>\n",
       "      <th></th>\n",
       "      <th></th>\n",
       "      <th></th>\n",
       "      <th></th>\n",
       "      <th></th>\n",
       "      <th></th>\n",
       "      <th></th>\n",
       "      <th></th>\n",
       "      <th></th>\n",
       "      <th></th>\n",
       "      <th></th>\n",
       "      <th></th>\n",
       "      <th></th>\n",
       "      <th></th>\n",
       "      <th></th>\n",
       "      <th></th>\n",
       "      <th></th>\n",
       "      <th></th>\n",
       "      <th></th>\n",
       "      <th></th>\n",
       "      <th></th>\n",
       "      <th></th>\n",
       "      <th></th>\n",
       "      <th></th>\n",
       "      <th></th>\n",
       "      <th></th>\n",
       "      <th></th>\n",
       "      <th></th>\n",
       "      <th></th>\n",
       "      <th></th>\n",
       "      <th></th>\n",
       "      <th></th>\n",
       "      <th></th>\n",
       "      <th></th>\n",
       "    </tr>\n",
       "  </thead>\n",
       "  <tbody>\n",
       "    <tr>\n",
       "      <th>0</th>\n",
       "      <td>19359</td>\n",
       "      <td>2490</td>\n",
       "      <td>2535</td>\n",
       "      <td>2330</td>\n",
       "      <td>2286</td>\n",
       "      <td>2496</td>\n",
       "      <td>2298</td>\n",
       "      <td>2147</td>\n",
       "      <td>2048</td>\n",
       "      <td>1686</td>\n",
       "      <td>2546</td>\n",
       "      <td>1871</td>\n",
       "      <td>2421</td>\n",
       "      <td>2237</td>\n",
       "      <td>2318</td>\n",
       "      <td>2362</td>\n",
       "      <td>1887</td>\n",
       "      <td>1811</td>\n",
       "      <td>1846</td>\n",
       "      <td>1615</td>\n",
       "      <td>1949</td>\n",
       "      <td>1275</td>\n",
       "      <td>1261</td>\n",
       "      <td>1029</td>\n",
       "      <td>940</td>\n",
       "      <td>960</td>\n",
       "      <td>774</td>\n",
       "      <td>736</td>\n",
       "      <td>698</td>\n",
       "      <td>624</td>\n",
       "      <td>654</td>\n",
       "      <td>451</td>\n",
       "      <td>445</td>\n",
       "      <td>321</td>\n",
       "      <td>292</td>\n",
       "      <td>251</td>\n",
       "      <td>222</td>\n",
       "      <td>178</td>\n",
       "      <td>136</td>\n",
       "      <td>92</td>\n",
       "      <td>103</td>\n",
       "      <td>66</td>\n",
       "      <td>60</td>\n",
       "      <td>43</td>\n",
       "      <td>29</td>\n",
       "      <td>23</td>\n",
       "      <td>12</td>\n",
       "      <td>14</td>\n",
       "      <td>4</td>\n",
       "      <td>2</td>\n",
       "      <td>5</td>\n",
       "      <td>74238</td>\n",
       "    </tr>\n",
       "    <tr>\n",
       "      <th>1</th>\n",
       "      <td>6273</td>\n",
       "      <td>113</td>\n",
       "      <td>175</td>\n",
       "      <td>210</td>\n",
       "      <td>206</td>\n",
       "      <td>280</td>\n",
       "      <td>246</td>\n",
       "      <td>234</td>\n",
       "      <td>215</td>\n",
       "      <td>191</td>\n",
       "      <td>301</td>\n",
       "      <td>191</td>\n",
       "      <td>244</td>\n",
       "      <td>219</td>\n",
       "      <td>268</td>\n",
       "      <td>272</td>\n",
       "      <td>203</td>\n",
       "      <td>193</td>\n",
       "      <td>172</td>\n",
       "      <td>204</td>\n",
       "      <td>233</td>\n",
       "      <td>148</td>\n",
       "      <td>142</td>\n",
       "      <td>132</td>\n",
       "      <td>108</td>\n",
       "      <td>146</td>\n",
       "      <td>115</td>\n",
       "      <td>81</td>\n",
       "      <td>108</td>\n",
       "      <td>90</td>\n",
       "      <td>92</td>\n",
       "      <td>77</td>\n",
       "      <td>58</td>\n",
       "      <td>46</td>\n",
       "      <td>49</td>\n",
       "      <td>49</td>\n",
       "      <td>26</td>\n",
       "      <td>43</td>\n",
       "      <td>25</td>\n",
       "      <td>17</td>\n",
       "      <td>29</td>\n",
       "      <td>20</td>\n",
       "      <td>15</td>\n",
       "      <td>8</td>\n",
       "      <td>8</td>\n",
       "      <td>7</td>\n",
       "      <td>10</td>\n",
       "      <td>6</td>\n",
       "      <td>6</td>\n",
       "      <td>2</td>\n",
       "      <td>1</td>\n",
       "      <td>12307</td>\n",
       "    </tr>\n",
       "    <tr>\n",
       "      <th>2</th>\n",
       "      <td>1642</td>\n",
       "      <td>17</td>\n",
       "      <td>33</td>\n",
       "      <td>38</td>\n",
       "      <td>36</td>\n",
       "      <td>55</td>\n",
       "      <td>40</td>\n",
       "      <td>37</td>\n",
       "      <td>31</td>\n",
       "      <td>20</td>\n",
       "      <td>46</td>\n",
       "      <td>28</td>\n",
       "      <td>36</td>\n",
       "      <td>29</td>\n",
       "      <td>24</td>\n",
       "      <td>34</td>\n",
       "      <td>18</td>\n",
       "      <td>14</td>\n",
       "      <td>12</td>\n",
       "      <td>22</td>\n",
       "      <td>27</td>\n",
       "      <td>13</td>\n",
       "      <td>11</td>\n",
       "      <td>5</td>\n",
       "      <td>6</td>\n",
       "      <td>3</td>\n",
       "      <td>5</td>\n",
       "      <td>3</td>\n",
       "      <td>2</td>\n",
       "      <td>5</td>\n",
       "      <td>5</td>\n",
       "      <td>2</td>\n",
       "      <td>2</td>\n",
       "      <td>3</td>\n",
       "      <td>4</td>\n",
       "      <td>1</td>\n",
       "      <td>0</td>\n",
       "      <td>0</td>\n",
       "      <td>1</td>\n",
       "      <td>0</td>\n",
       "      <td>1</td>\n",
       "      <td>0</td>\n",
       "      <td>0</td>\n",
       "      <td>0</td>\n",
       "      <td>1</td>\n",
       "      <td>0</td>\n",
       "      <td>0</td>\n",
       "      <td>1</td>\n",
       "      <td>0</td>\n",
       "      <td>0</td>\n",
       "      <td>0</td>\n",
       "      <td>2313</td>\n",
       "    </tr>\n",
       "    <tr>\n",
       "      <th>All</th>\n",
       "      <td>27274</td>\n",
       "      <td>2620</td>\n",
       "      <td>2743</td>\n",
       "      <td>2578</td>\n",
       "      <td>2528</td>\n",
       "      <td>2831</td>\n",
       "      <td>2584</td>\n",
       "      <td>2418</td>\n",
       "      <td>2294</td>\n",
       "      <td>1897</td>\n",
       "      <td>2893</td>\n",
       "      <td>2090</td>\n",
       "      <td>2701</td>\n",
       "      <td>2485</td>\n",
       "      <td>2610</td>\n",
       "      <td>2668</td>\n",
       "      <td>2108</td>\n",
       "      <td>2018</td>\n",
       "      <td>2030</td>\n",
       "      <td>1841</td>\n",
       "      <td>2209</td>\n",
       "      <td>1436</td>\n",
       "      <td>1414</td>\n",
       "      <td>1166</td>\n",
       "      <td>1054</td>\n",
       "      <td>1109</td>\n",
       "      <td>894</td>\n",
       "      <td>820</td>\n",
       "      <td>808</td>\n",
       "      <td>719</td>\n",
       "      <td>751</td>\n",
       "      <td>530</td>\n",
       "      <td>505</td>\n",
       "      <td>370</td>\n",
       "      <td>345</td>\n",
       "      <td>301</td>\n",
       "      <td>248</td>\n",
       "      <td>221</td>\n",
       "      <td>162</td>\n",
       "      <td>109</td>\n",
       "      <td>133</td>\n",
       "      <td>86</td>\n",
       "      <td>75</td>\n",
       "      <td>51</td>\n",
       "      <td>38</td>\n",
       "      <td>30</td>\n",
       "      <td>22</td>\n",
       "      <td>21</td>\n",
       "      <td>10</td>\n",
       "      <td>4</td>\n",
       "      <td>6</td>\n",
       "      <td>88858</td>\n",
       "    </tr>\n",
       "  </tbody>\n",
       "</table>\n",
       "</div>"
      ],
      "text/plain": [
       "Number_Weeks_Quit      0     1     2     3     4     5     6     7     8  \\\n",
       "Crop_Damage                                                                \n",
       "0                  19359  2490  2535  2330  2286  2496  2298  2147  2048   \n",
       "1                   6273   113   175   210   206   280   246   234   215   \n",
       "2                   1642    17    33    38    36    55    40    37    31   \n",
       "All                27274  2620  2743  2578  2528  2831  2584  2418  2294   \n",
       "\n",
       "Number_Weeks_Quit     9    10    11    12    13    14    15    16    17    18  \\\n",
       "Crop_Damage                                                                     \n",
       "0                  1686  2546  1871  2421  2237  2318  2362  1887  1811  1846   \n",
       "1                   191   301   191   244   219   268   272   203   193   172   \n",
       "2                    20    46    28    36    29    24    34    18    14    12   \n",
       "All                1897  2893  2090  2701  2485  2610  2668  2108  2018  2030   \n",
       "\n",
       "Number_Weeks_Quit    19    20    21    22    23    24    25   26   27   28  \\\n",
       "Crop_Damage                                                                  \n",
       "0                  1615  1949  1275  1261  1029   940   960  774  736  698   \n",
       "1                   204   233   148   142   132   108   146  115   81  108   \n",
       "2                    22    27    13    11     5     6     3    5    3    2   \n",
       "All                1841  2209  1436  1414  1166  1054  1109  894  820  808   \n",
       "\n",
       "Number_Weeks_Quit   29   30   31   32   33   34   35   36   37   38   39   40  \\\n",
       "Crop_Damage                                                                     \n",
       "0                  624  654  451  445  321  292  251  222  178  136   92  103   \n",
       "1                   90   92   77   58   46   49   49   26   43   25   17   29   \n",
       "2                    5    5    2    2    3    4    1    0    0    1    0    1   \n",
       "All                719  751  530  505  370  345  301  248  221  162  109  133   \n",
       "\n",
       "Number_Weeks_Quit  41  42  43  44  45  46  47  48  49  50    All  \n",
       "Crop_Damage                                                       \n",
       "0                  66  60  43  29  23  12  14   4   2   5  74238  \n",
       "1                  20  15   8   8   7  10   6   6   2   1  12307  \n",
       "2                   0   0   0   1   0   0   1   0   0   0   2313  \n",
       "All                86  75  51  38  30  22  21  10   4   6  88858  "
      ]
     },
     "execution_count": 180,
     "metadata": {},
     "output_type": "execute_result"
    }
   ],
   "source": [
    "pd.crosstab(train.Crop_Damage, train.Number_Weeks_Quit, margins=True)"
   ]
  },
  {
   "cell_type": "code",
   "execution_count": 181,
   "metadata": {
    "collapsed": false
   },
   "outputs": [
    {
     "data": {
      "text/html": [
       "<div>\n",
       "<table border=\"1\" class=\"dataframe\">\n",
       "  <thead>\n",
       "    <tr style=\"text-align: right;\">\n",
       "      <th>Number_Doses_Week</th>\n",
       "      <th>0</th>\n",
       "      <th>5</th>\n",
       "      <th>10</th>\n",
       "      <th>15</th>\n",
       "      <th>20</th>\n",
       "      <th>25</th>\n",
       "      <th>30</th>\n",
       "      <th>35</th>\n",
       "      <th>40</th>\n",
       "      <th>45</th>\n",
       "      <th>50</th>\n",
       "      <th>55</th>\n",
       "      <th>60</th>\n",
       "      <th>65</th>\n",
       "      <th>70</th>\n",
       "      <th>75</th>\n",
       "      <th>80</th>\n",
       "      <th>85</th>\n",
       "      <th>90</th>\n",
       "      <th>95</th>\n",
       "      <th>All</th>\n",
       "    </tr>\n",
       "    <tr>\n",
       "      <th>Crop_Damage</th>\n",
       "      <th></th>\n",
       "      <th></th>\n",
       "      <th></th>\n",
       "      <th></th>\n",
       "      <th></th>\n",
       "      <th></th>\n",
       "      <th></th>\n",
       "      <th></th>\n",
       "      <th></th>\n",
       "      <th></th>\n",
       "      <th></th>\n",
       "      <th></th>\n",
       "      <th></th>\n",
       "      <th></th>\n",
       "      <th></th>\n",
       "      <th></th>\n",
       "      <th></th>\n",
       "      <th></th>\n",
       "      <th></th>\n",
       "      <th></th>\n",
       "      <th></th>\n",
       "    </tr>\n",
       "  </thead>\n",
       "  <tbody>\n",
       "    <tr>\n",
       "      <th>0</th>\n",
       "      <td>118</td>\n",
       "      <td>5007</td>\n",
       "      <td>10422</td>\n",
       "      <td>7108</td>\n",
       "      <td>17789</td>\n",
       "      <td>4310</td>\n",
       "      <td>8708</td>\n",
       "      <td>1647</td>\n",
       "      <td>10092</td>\n",
       "      <td>868</td>\n",
       "      <td>2995</td>\n",
       "      <td>250</td>\n",
       "      <td>3836</td>\n",
       "      <td>57</td>\n",
       "      <td>275</td>\n",
       "      <td>56</td>\n",
       "      <td>590</td>\n",
       "      <td>9</td>\n",
       "      <td>73</td>\n",
       "      <td>28</td>\n",
       "      <td>74238</td>\n",
       "    </tr>\n",
       "    <tr>\n",
       "      <th>1</th>\n",
       "      <td>554</td>\n",
       "      <td>473</td>\n",
       "      <td>1542</td>\n",
       "      <td>950</td>\n",
       "      <td>4042</td>\n",
       "      <td>468</td>\n",
       "      <td>1399</td>\n",
       "      <td>155</td>\n",
       "      <td>1797</td>\n",
       "      <td>55</td>\n",
       "      <td>300</td>\n",
       "      <td>25</td>\n",
       "      <td>435</td>\n",
       "      <td>7</td>\n",
       "      <td>21</td>\n",
       "      <td>5</td>\n",
       "      <td>68</td>\n",
       "      <td>1</td>\n",
       "      <td>8</td>\n",
       "      <td>2</td>\n",
       "      <td>12307</td>\n",
       "    </tr>\n",
       "    <tr>\n",
       "      <th>2</th>\n",
       "      <td>165</td>\n",
       "      <td>40</td>\n",
       "      <td>147</td>\n",
       "      <td>120</td>\n",
       "      <td>758</td>\n",
       "      <td>112</td>\n",
       "      <td>331</td>\n",
       "      <td>30</td>\n",
       "      <td>409</td>\n",
       "      <td>13</td>\n",
       "      <td>66</td>\n",
       "      <td>2</td>\n",
       "      <td>96</td>\n",
       "      <td>0</td>\n",
       "      <td>7</td>\n",
       "      <td>0</td>\n",
       "      <td>14</td>\n",
       "      <td>1</td>\n",
       "      <td>2</td>\n",
       "      <td>0</td>\n",
       "      <td>2313</td>\n",
       "    </tr>\n",
       "    <tr>\n",
       "      <th>All</th>\n",
       "      <td>837</td>\n",
       "      <td>5520</td>\n",
       "      <td>12111</td>\n",
       "      <td>8178</td>\n",
       "      <td>22589</td>\n",
       "      <td>4890</td>\n",
       "      <td>10438</td>\n",
       "      <td>1832</td>\n",
       "      <td>12298</td>\n",
       "      <td>936</td>\n",
       "      <td>3361</td>\n",
       "      <td>277</td>\n",
       "      <td>4367</td>\n",
       "      <td>64</td>\n",
       "      <td>303</td>\n",
       "      <td>61</td>\n",
       "      <td>672</td>\n",
       "      <td>11</td>\n",
       "      <td>83</td>\n",
       "      <td>30</td>\n",
       "      <td>88858</td>\n",
       "    </tr>\n",
       "  </tbody>\n",
       "</table>\n",
       "</div>"
      ],
      "text/plain": [
       "Number_Doses_Week    0     5     10    15     20    25     30    35     40  \\\n",
       "Crop_Damage                                                                  \n",
       "0                  118  5007  10422  7108  17789  4310   8708  1647  10092   \n",
       "1                  554   473   1542   950   4042   468   1399   155   1797   \n",
       "2                  165    40    147   120    758   112    331    30    409   \n",
       "All                837  5520  12111  8178  22589  4890  10438  1832  12298   \n",
       "\n",
       "Number_Doses_Week   45    50   55    60  65   70  75   80  85  90  95    All  \n",
       "Crop_Damage                                                                   \n",
       "0                  868  2995  250  3836  57  275  56  590   9  73  28  74238  \n",
       "1                   55   300   25   435   7   21   5   68   1   8   2  12307  \n",
       "2                   13    66    2    96   0    7   0   14   1   2   0   2313  \n",
       "All                936  3361  277  4367  64  303  61  672  11  83  30  88858  "
      ]
     },
     "execution_count": 181,
     "metadata": {},
     "output_type": "execute_result"
    }
   ],
   "source": [
    "pd.crosstab(train.Crop_Damage, train.Number_Doses_Week, margins=True)"
   ]
  },
  {
   "cell_type": "code",
   "execution_count": null,
   "metadata": {
    "collapsed": true
   },
   "outputs": [],
   "source": []
  }
 ],
 "metadata": {
  "kernelspec": {
   "display_name": "Python 2",
   "language": "python",
   "name": "python2"
  },
  "language_info": {
   "codemirror_mode": {
    "name": "ipython",
    "version": 2
   },
   "file_extension": ".py",
   "mimetype": "text/x-python",
   "name": "python",
   "nbconvert_exporter": "python",
   "pygments_lexer": "ipython2",
   "version": "2.7.11"
  }
 },
 "nbformat": 4,
 "nbformat_minor": 0
}
