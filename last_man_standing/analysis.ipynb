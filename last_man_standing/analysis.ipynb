{
 "cells": [
  {
   "cell_type": "code",
   "execution_count": 1,
   "metadata": {
    "collapsed": false
   },
   "outputs": [
    {
     "name": "stderr",
     "output_type": "stream",
     "text": [
      "C:\\Users\\Abhishek\\Anaconda2\\lib\\site-packages\\matplotlib\\__init__.py:872: UserWarning: axes.color_cycle is deprecated and replaced with axes.prop_cycle; please use the latter.\n",
      "  warnings.warn(self.msg_depr % (key, alt_key))\n"
     ]
    }
   ],
   "source": [
    "import pandas as pd\n",
    "import numpy as np\n",
    "\n",
    "import matplotlib.pyplot as plt\n",
    "\n",
    "from matplotlib import collections as collections\n",
    "from matplotlib.patches import Rectangle\n",
    "from itertools import izip, cycle\n",
    "\n",
    "import seaborn as sns\n",
    "\n",
    "%matplotlib inline"
   ]
  },
  {
   "cell_type": "code",
   "execution_count": null,
   "metadata": {
    "collapsed": true
   },
   "outputs": [],
   "source": [
    "train = pd.read_csv('./data/Train_Fyxd0t8.csv', index_col='ID')\n",
    "test = pd.read_csv('./data/Test_C1XBIYq.csv', index_col='ID')"
   ]
  },
  {
   "cell_type": "code",
   "execution_count": null,
   "metadata": {
    "collapsed": true
   },
   "outputs": [],
   "source": [
    "# shamelessly stole from http://stackoverflow.com/questions/21925114/is-there-an-implementation-of-missingmaps-in-pythons-ecosystem\n",
    "def missmap(df, ax=None, colors=None, aspect=4, sort='descending',\n",
    "            title=None, **kwargs):\n",
    "    \"\"\"\n",
    "    Plot the missing values of df.\n",
    "\n",
    "    Parameters\n",
    "    ----------\n",
    "    df : pandas DataFrame\n",
    "    ax : matplotlib axes\n",
    "        if None then a new figure and axes will be created\n",
    "    colors : dict\n",
    "        dict with {True: c1, False: c2} where the values are\n",
    "        matplotlib colors.\n",
    "    aspect : int\n",
    "        the width to height ratio for each rectangle.\n",
    "    sort : one of {'descending', 'ascending', None}\n",
    "    title : str\n",
    "    kwargs : dict\n",
    "        matplotlib.axes.bar kwargs\n",
    "\n",
    "    Returns\n",
    "    -------\n",
    "    ax : matplotlib axes\n",
    "\n",
    "    \"\"\"\n",
    "    if ax is None:\n",
    "        fig, ax = plt.subplots()\n",
    "\n",
    "    # setup the axes\n",
    "    dfn = pd.isnull(df)\n",
    "\n",
    "    if sort in ('ascending', 'descending'):\n",
    "        counts = dfn.sum()\n",
    "        sort_dict = {'ascending': True, 'descending': False}\n",
    "        counts.sort(ascending=sort_dict[sort])\n",
    "        dfn = dfn[counts.index]\n",
    "\n",
    "    ny = len(df)\n",
    "    nx = len(df.columns)\n",
    "    # each column is a stacked bar made up of ny patches.\n",
    "    xgrid = np.tile(np.arange(len(df.columns)), (ny, 1)).T\n",
    "    ygrid = np.tile(np.arange(ny), (nx, 1))\n",
    "    # xys is the lower left corner of each patch\n",
    "    xys = (zip(x, y) for x, y in izip(xgrid, ygrid))\n",
    "\n",
    "    if colors is None:\n",
    "        colors = {True: '#EAF205', False: 'k'}\n",
    "\n",
    "    widths = cycle([aspect])\n",
    "    heights = cycle([1])\n",
    "\n",
    "    for xy, width, height, col in izip(xys, widths, heights, dfn.columns):\n",
    "        color_array = dfn[col].map(colors)\n",
    "\n",
    "        rects = [Rectangle(xyc, width, height, **kwargs)\n",
    "                 for xyc, c in zip(xy, color_array)]\n",
    "\n",
    "        p_coll = collections.PatchCollection(rects, color=color_array,\n",
    "                                             edgecolor=color_array, **kwargs)\n",
    "        ax.add_collection(p_coll, autolim=False)\n",
    "\n",
    "    # post plot aesthetics\n",
    "    ax.set_xlim(0, nx)\n",
    "    ax.set_ylim(0, ny)\n",
    "\n",
    "    ax.set_xticks(.5 + np.arange(nx))  # center the ticks\n",
    "    ax.set_xticklabels(dfn.columns)\n",
    "    for t in ax.get_xticklabels():\n",
    "        t.set_rotation(90)\n",
    "\n",
    "    # remove tick lines\n",
    "    ax.tick_params(axis='both', which='both', bottom='off', left='off',\n",
    "                   labelleft='off')\n",
    "    ax.grid(False)\n",
    "\n",
    "    if title:\n",
    "        ax.set_title(title)\n",
    "    return ax"
   ]
  },
  {
   "cell_type": "code",
   "execution_count": null,
   "metadata": {
    "collapsed": true
   },
   "outputs": [],
   "source": [
    "missmap(train);"
   ]
  },
  {
   "cell_type": "code",
   "execution_count": null,
   "metadata": {
    "collapsed": true
   },
   "outputs": [],
   "source": []
  },
  {
   "cell_type": "code",
   "execution_count": null,
   "metadata": {
    "collapsed": true
   },
   "outputs": [],
   "source": []
  },
  {
   "cell_type": "code",
   "execution_count": null,
   "metadata": {
    "collapsed": true
   },
   "outputs": [],
   "source": []
  },
  {
   "cell_type": "code",
   "execution_count": null,
   "metadata": {
    "collapsed": true
   },
   "outputs": [],
   "source": []
  },
  {
   "cell_type": "code",
   "execution_count": null,
   "metadata": {
    "collapsed": true
   },
   "outputs": [],
   "source": []
  },
  {
   "cell_type": "code",
   "execution_count": null,
   "metadata": {
    "collapsed": true
   },
   "outputs": [],
   "source": []
  },
  {
   "cell_type": "code",
   "execution_count": null,
   "metadata": {
    "collapsed": true
   },
   "outputs": [],
   "source": []
  },
  {
   "cell_type": "code",
   "execution_count": null,
   "metadata": {
    "collapsed": true
   },
   "outputs": [],
   "source": []
  },
  {
   "cell_type": "code",
   "execution_count": null,
   "metadata": {
    "collapsed": true
   },
   "outputs": [],
   "source": []
  },
  {
   "cell_type": "code",
   "execution_count": null,
   "metadata": {
    "collapsed": true
   },
   "outputs": [],
   "source": []
  },
  {
   "cell_type": "code",
   "execution_count": null,
   "metadata": {
    "collapsed": true
   },
   "outputs": [],
   "source": []
  },
  {
   "cell_type": "code",
   "execution_count": null,
   "metadata": {
    "collapsed": true
   },
   "outputs": [],
   "source": []
  },
  {
   "cell_type": "code",
   "execution_count": null,
   "metadata": {
    "collapsed": true
   },
   "outputs": [],
   "source": []
  },
  {
   "cell_type": "code",
   "execution_count": null,
   "metadata": {
    "collapsed": true
   },
   "outputs": [],
   "source": []
  },
  {
   "cell_type": "code",
   "execution_count": null,
   "metadata": {
    "collapsed": true
   },
   "outputs": [],
   "source": []
  },
  {
   "cell_type": "code",
   "execution_count": null,
   "metadata": {
    "collapsed": true
   },
   "outputs": [],
   "source": []
  },
  {
   "cell_type": "code",
   "execution_count": null,
   "metadata": {
    "collapsed": true
   },
   "outputs": [],
   "source": []
  },
  {
   "cell_type": "code",
   "execution_count": null,
   "metadata": {
    "collapsed": true
   },
   "outputs": [],
   "source": []
  },
  {
   "cell_type": "code",
   "execution_count": null,
   "metadata": {
    "collapsed": true
   },
   "outputs": [],
   "source": []
  },
  {
   "cell_type": "code",
   "execution_count": null,
   "metadata": {
    "collapsed": true
   },
   "outputs": [],
   "source": []
  },
  {
   "cell_type": "code",
   "execution_count": null,
   "metadata": {
    "collapsed": true
   },
   "outputs": [],
   "source": []
  },
  {
   "cell_type": "code",
   "execution_count": null,
   "metadata": {
    "collapsed": true
   },
   "outputs": [],
   "source": []
  },
  {
   "cell_type": "code",
   "execution_count": null,
   "metadata": {
    "collapsed": true
   },
   "outputs": [],
   "source": []
  }
 ],
 "metadata": {
  "kernelspec": {
   "display_name": "Python 2",
   "language": "python",
   "name": "python2"
  },
  "language_info": {
   "codemirror_mode": {
    "name": "ipython",
    "version": 2
   },
   "file_extension": ".py",
   "mimetype": "text/x-python",
   "name": "python",
   "nbconvert_exporter": "python",
   "pygments_lexer": "ipython2",
   "version": "2.7.11"
  }
 },
 "nbformat": 4,
 "nbformat_minor": 0
}
