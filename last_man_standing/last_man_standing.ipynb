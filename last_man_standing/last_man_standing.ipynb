{
 "cells": [
  {
   "cell_type": "code",
   "execution_count": 1,
   "metadata": {
    "collapsed": false
   },
   "outputs": [],
   "source": [
    "import pandas as pd\n",
    "import numpy as np\n",
    "\n",
    "import matplotlib.pyplot as plt\n",
    "\n",
    "%matplotlib inline"
   ]
  },
  {
   "cell_type": "code",
   "execution_count": 2,
   "metadata": {
    "collapsed": true
   },
   "outputs": [],
   "source": [
    "train = pd.read_csv('./data/Train_Fyxd0t8.csv', index_col='ID')\n",
    "test = pd.read_csv('./data/Test_C1XBIYq.csv', index_col='ID')"
   ]
  },
  {
   "cell_type": "code",
   "execution_count": 44,
   "metadata": {
    "collapsed": false
   },
   "outputs": [],
   "source": [
    "%run scripts/features.py\n",
    "%run scripts/eval.py"
   ]
  },
  {
   "cell_type": "code",
   "execution_count": 4,
   "metadata": {
    "collapsed": false
   },
   "outputs": [],
   "source": [
    "# impute missing values based on Pesticide_Use_Category\n",
    "\n",
    "# mean_per_pesticide_use_category_train = train.groupby('Pesticide_Use_Category')['Number_Weeks_Used'].mean()\n",
    "\n",
    "# def impute_values_train(row):\n",
    "#     if pd.isnull(row.Number_Weeks_Used):\n",
    "#         return mean_per_pesticide_use_category_train.ix[row.Pesticide_Use_Category]\n",
    "#     else:\n",
    "#         return row.Number_Weeks_Used\n",
    "\n",
    "# train['Number_Weeks_Used'] = train.apply(impute_values_train, axis=1)\n",
    "median_num_weeks_used_train = int(train.Number_Weeks_Used.median())\n",
    "median_num_weeks_used_test = int(test.Number_Weeks_Used.median())\n",
    "\n",
    "train = train.fillna(median_num_weeks_used_train)\n",
    "test = test.fillna(median_num_weeks_used_test)"
   ]
  },
  {
   "cell_type": "code",
   "execution_count": 5,
   "metadata": {
    "collapsed": true
   },
   "outputs": [],
   "source": [
    "# mean_per_pesticide_use_category_test = test.groupby('Pesticide_Use_Category')['Number_Weeks_Used'].mean()\n",
    "\n",
    "# def impute_values_test(row):\n",
    "#     if pd.isnull(row.Number_Weeks_Used):\n",
    "#         return mean_per_pesticide_use_category_test.ix[row.Pesticide_Use_Category]\n",
    "#     else:\n",
    "#         return row.Number_Weeks_Used\n",
    "\n",
    "# test['Number_Weeks_Used'] = test.apply(impute_values_test, axis=1)"
   ]
  },
  {
   "cell_type": "code",
   "execution_count": 6,
   "metadata": {
    "collapsed": true
   },
   "outputs": [],
   "source": [
    "y = train.Crop_Damage"
   ]
  },
  {
   "cell_type": "code",
   "execution_count": 7,
   "metadata": {
    "collapsed": true
   },
   "outputs": [],
   "source": [
    "from sklearn.cross_validation import train_test_split"
   ]
  },
  {
   "cell_type": "code",
   "execution_count": 8,
   "metadata": {
    "collapsed": true
   },
   "outputs": [],
   "source": [
    "X_train, X_test, y_train, y_test = train_test_split(train, y, test_size=0.2, random_state=44)"
   ]
  },
  {
   "cell_type": "code",
   "execution_count": 9,
   "metadata": {
    "collapsed": true
   },
   "outputs": [],
   "source": [
    "from sklearn.pipeline import Pipeline\n",
    "from sklearn.grid_search import GridSearchCV\n",
    "from sklearn.linear_model import LogisticRegression\n",
    "\n",
    "from sklearn.neighbors import KNeighborsClassifier\n",
    "from sklearn.ensemble import RandomForestClassifier\n",
    "\n",
    "from sklearn.preprocessing import StandardScaler, MinMaxScaler\n",
    "from sklearn.metrics import classification_report, confusion_matrix\n",
    "\n",
    "import xgboost as xgb"
   ]
  },
  {
   "cell_type": "code",
   "execution_count": 45,
   "metadata": {
    "collapsed": false
   },
   "outputs": [],
   "source": [
    "ft = FeatureTransformer()\n",
    "# scaler = MinMaxScaler()\n",
    "# clf = LogisticRegression(C=0.001)\n",
    "# clf = KNeighborsClassifier()\n",
    "# clf = RandomForestClassifier()\n",
    "clf = xgb.XGBClassifier()\n",
    "\n",
    "pipeline = Pipeline([('ft', ft), ('clf', clf)])"
   ]
  },
  {
   "cell_type": "code",
   "execution_count": 38,
   "metadata": {
    "collapsed": false
   },
   "outputs": [
    {
     "data": {
      "text/plain": [
       "Pipeline(steps=[('ft', FeatureTransformer()), ('clf', XGBClassifier(base_score=0.5, colsample_bylevel=1, colsample_bytree=1,\n",
       "       gamma=0, learning_rate=0.1, max_delta_step=0, max_depth=3,\n",
       "       min_child_weight=1, missing=None, n_estimators=100, nthread=-1,\n",
       "       objective='multi:softprob', reg_alpha=0, reg_lambda=1,\n",
       "       scale_pos_weight=1, seed=0, silent=True, subsample=1))])"
      ]
     },
     "execution_count": 38,
     "metadata": {},
     "output_type": "execute_result"
    }
   ],
   "source": [
    "pipeline.fit(X_train, y_train)"
   ]
  },
  {
   "cell_type": "code",
   "execution_count": 39,
   "metadata": {
    "collapsed": false
   },
   "outputs": [
    {
     "name": "stdout",
     "output_type": "stream",
     "text": [
      "accuracy score: 0.837319\n",
      "combined score: 0.837319\n",
      "accuracy score: 0.837319\n",
      "combined score: 0.837319\n",
      "accuracy score: 0.840273\n",
      "combined score: 0.840273\n",
      "accuracy score: 0.839218\n",
      "combined score: 0.839218\n",
      "accuracy score: 0.836545\n",
      "combined score: 0.836545\n"
     ]
    }
   ],
   "source": [
    "# cross validation\n",
    "scores = eval_models([pipeline], X_train, y_train)"
   ]
  },
  {
   "cell_type": "code",
   "execution_count": 40,
   "metadata": {
    "collapsed": false
   },
   "outputs": [
    {
     "name": "stdout",
     "output_type": "stream",
     "text": [
      "Mean Scores 0.838135 \n"
     ]
    }
   ],
   "source": [
    "print 'Mean Scores %f ' %(np.mean(scores))"
   ]
  },
  {
   "cell_type": "code",
   "execution_count": 41,
   "metadata": {
    "collapsed": false
   },
   "outputs": [
    {
     "name": "stdout",
     "output_type": "stream",
     "text": [
      "Classification report              precision    recall  f1-score   support\n",
      "\n",
      "          0       0.84      1.00      0.91     14837\n",
      "          1       0.64      0.04      0.07      2457\n",
      "          2       0.00      0.00      0.00       478\n",
      "\n",
      "avg / total       0.79      0.84      0.77     17772\n",
      " \n"
     ]
    }
   ],
   "source": [
    "predsTest = pipeline.predict(X_test)\n",
    "print 'Classification report %s ' %(classification_report(y_test, predsTest))"
   ]
  },
  {
   "cell_type": "code",
   "execution_count": 42,
   "metadata": {
    "collapsed": false
   },
   "outputs": [
    {
     "data": {
      "text/plain": [
       "array([[14817,    20,     0],\n",
       "       [ 2363,    94,     0],\n",
       "       [  445,    33,     0]])"
      ]
     },
     "execution_count": 42,
     "metadata": {},
     "output_type": "execute_result"
    }
   ],
   "source": [
    "confusion_matrix(y_test, predsTest)"
   ]
  },
  {
   "cell_type": "code",
   "execution_count": 43,
   "metadata": {
    "collapsed": false
   },
   "outputs": [
    {
     "data": {
      "text/plain": [
       "Pipeline(steps=[('ft', FeatureTransformer()), ('clf', XGBClassifier(base_score=0.5, colsample_bylevel=1, colsample_bytree=1,\n",
       "       gamma=0, learning_rate=0.1, max_delta_step=0, max_depth=3,\n",
       "       min_child_weight=1, missing=None, n_estimators=100, nthread=-1,\n",
       "       objective='multi:softprob', reg_alpha=0, reg_lambda=1,\n",
       "       scale_pos_weight=1, seed=0, silent=True, subsample=1))])"
      ]
     },
     "execution_count": 43,
     "metadata": {},
     "output_type": "execute_result"
    }
   ],
   "source": [
    "# fit on the whole dataset\n",
    "pipeline.fit(train, y)"
   ]
  },
  {
   "cell_type": "code",
   "execution_count": 64,
   "metadata": {
    "collapsed": true
   },
   "outputs": [],
   "source": [
    "predictions = pipeline.predict(test)"
   ]
  },
  {
   "cell_type": "code",
   "execution_count": 65,
   "metadata": {
    "collapsed": true
   },
   "outputs": [],
   "source": [
    "submissions = pd.read_csv('./data/Sample_Submission_Psj3sjG.csv')"
   ]
  },
  {
   "cell_type": "code",
   "execution_count": 66,
   "metadata": {
    "collapsed": false
   },
   "outputs": [],
   "source": [
    "submissions['ID'] = test.index.values\n",
    "submissions['Crop_Damage'] = predictions"
   ]
  },
  {
   "cell_type": "code",
   "execution_count": 67,
   "metadata": {
    "collapsed": true
   },
   "outputs": [],
   "source": [
    "submissions.to_csv('./submissions/tenth.csv', index=False)"
   ]
  },
  {
   "cell_type": "code",
   "execution_count": null,
   "metadata": {
    "collapsed": true
   },
   "outputs": [],
   "source": []
  }
 ],
 "metadata": {
  "kernelspec": {
   "display_name": "Python 2",
   "language": "python",
   "name": "python2"
  },
  "language_info": {
   "codemirror_mode": {
    "name": "ipython",
    "version": 2
   },
   "file_extension": ".py",
   "mimetype": "text/x-python",
   "name": "python",
   "nbconvert_exporter": "python",
   "pygments_lexer": "ipython2",
   "version": "2.7.11"
  }
 },
 "nbformat": 4,
 "nbformat_minor": 0
}
