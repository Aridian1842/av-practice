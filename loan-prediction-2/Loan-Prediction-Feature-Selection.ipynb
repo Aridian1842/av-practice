{
 "cells": [
  {
   "cell_type": "markdown",
   "metadata": {},
   "source": [
    "## Loan Prediction"
   ]
  },
  {
   "cell_type": "markdown",
   "metadata": {},
   "source": [
    "** Objectives **\n",
    "\n",
    "* Feature Selection"
   ]
  },
  {
   "cell_type": "code",
   "execution_count": 188,
   "metadata": {
    "collapsed": false
   },
   "outputs": [],
   "source": [
    "import pandas as pd\n",
    "import numpy as np\n",
    "import matplotlib.pyplot as plt\n",
    "import seaborn as sns\n",
    "import itertools\n",
    "\n",
    "from sklearn.metrics import roc_auc_score, accuracy_score\n",
    "from sklearn.cross_validation import StratifiedKFold, cross_val_score, LeaveOneOut\n",
    "\n",
    "from sklearn.linear_model import LogisticRegression\n",
    "from sklearn.ensemble import RandomForestClassifier, GradientBoostingClassifier, ExtraTreesClassifier\n",
    "from sklearn.preprocessing import LabelEncoder\n",
    "\n",
    "from xgboost import XGBClassifier\n",
    "\n",
    "\n",
    "%matplotlib inline"
   ]
  },
  {
   "cell_type": "code",
   "execution_count": 189,
   "metadata": {
    "collapsed": true
   },
   "outputs": [],
   "source": [
    "train = pd.read_csv('./data/synthesized/train_mean.csv')\n",
    "test = pd.read_csv('./data/synthesized/test_mean.csv')\n",
    "sub = pd.read_csv('./data/Sample_Submission_ZAuTl8O.csv')\n",
    "\n",
    "train_original = pd.read_csv('./data/train_u6lujuX.csv', index_col='Loan_ID')\n",
    "test_original = pd.read_csv('./data/test_Y3wMUE5.csv', index_col='Loan_ID')\n",
    "feature_names = train_original.columns[:-1]"
   ]
  },
  {
   "cell_type": "code",
   "execution_count": 190,
   "metadata": {
    "collapsed": false
   },
   "outputs": [],
   "source": [
    "def get_data(df, dataset_type='train'):\n",
    "    if dataset_type == 'train':\n",
    "        features = get_train_features(df)\n",
    "        X = df[features]\n",
    "        y = df.Loan_Status\n",
    "        return X, y\n",
    "    else:\n",
    "        features = get_test_features(df)\n",
    "        X = df[features]\n",
    "        return X\n",
    "\n",
    "def get_train_features(df):\n",
    "    features = df.columns[1:-1]\n",
    "    return features\n",
    "\n",
    "def get_test_features(df):\n",
    "    features = df.columns[1:]\n",
    "    return features"
   ]
  },
  {
   "cell_type": "code",
   "execution_count": 191,
   "metadata": {
    "collapsed": true
   },
   "outputs": [],
   "source": [
    "# X, y = get_data(train, dataset_type='train')\n",
    "# X_test = get_data(test, dataset_type='test')\n",
    "\n",
    "X = train_original[train_original.columns.drop('Loan_Status')]\n",
    "y = train_original.Loan_Status\n",
    "\n",
    "X_test = test_original"
   ]
  },
  {
   "cell_type": "code",
   "execution_count": 192,
   "metadata": {
    "collapsed": false
   },
   "outputs": [
    {
     "name": "stderr",
     "output_type": "stream",
     "text": [
      "/Users/abhishek/anaconda/lib/python2.7/site-packages/ipykernel/__main__.py:8: SettingWithCopyWarning: \n",
      "A value is trying to be set on a copy of a slice from a DataFrame.\n",
      "Try using .loc[row_indexer,col_indexer] = value instead\n",
      "\n",
      "See the caveats in the documentation: http://pandas.pydata.org/pandas-docs/stable/indexing.html#indexing-view-versus-copy\n"
     ]
    }
   ],
   "source": [
    "obj_cols = X.select_dtypes(include=['object'])\n",
    "\n",
    "for col in obj_cols:\n",
    "    feature = pd.concat([X[col], X_test[col]], axis=0)\n",
    "    lbl = LabelEncoder()\n",
    "    lbl.fit(feature)\n",
    "    \n",
    "    X[col] = lbl.transform(X[col])\n",
    "    X_test[col] = lbl.transform(X_test[col])"
   ]
  },
  {
   "cell_type": "code",
   "execution_count": 193,
   "metadata": {
    "collapsed": false
   },
   "outputs": [],
   "source": [
    "assert (X.shape[1] == X_test.shape[1]), 'Mismatch in number of features'"
   ]
  },
  {
   "cell_type": "code",
   "execution_count": 194,
   "metadata": {
    "collapsed": false
   },
   "outputs": [],
   "source": [
    "X = X.fillna(-9999)\n",
    "X_test = X_test.fillna(-9999)"
   ]
  },
  {
   "cell_type": "markdown",
   "metadata": {},
   "source": [
    "## Cross validation"
   ]
  },
  {
   "cell_type": "code",
   "execution_count": 195,
   "metadata": {
    "collapsed": true
   },
   "outputs": [],
   "source": [
    "def skfold_scorer(scoring = 'accuracy', n_folds = 5):\n",
    "    def score(model, X, y):\n",
    "        return np.mean(cross_val_score(model, X, y, cv = n_folds, scoring = scoring, n_jobs = -1))\n",
    "    return score\n",
    "\n",
    "def loo_scorer(scoring = 'accuracy'):\n",
    "    def score(model, X, y):\n",
    "        return np.mean(cross_val_score(model, X, y, cv = LeaveOneOut(X.shape[0]), scoring = scoring, n_jobs = -1))\n",
    "    return score"
   ]
  },
  {
   "cell_type": "markdown",
   "metadata": {},
   "source": [
    "## Models"
   ]
  },
  {
   "cell_type": "code",
   "execution_count": 214,
   "metadata": {
    "collapsed": true
   },
   "outputs": [],
   "source": [
    "logreg = LogisticRegression()\n",
    "rf = RandomForestClassifier(n_jobs=-1)\n",
    "gbm = GradientBoostingClassifier()\n",
    "xgb_clf = XGBClassifier(n_estimators=300, seed=123)"
   ]
  },
  {
   "cell_type": "markdown",
   "metadata": {},
   "source": [
    "## Feature Selection"
   ]
  },
  {
   "cell_type": "code",
   "execution_count": 197,
   "metadata": {
    "collapsed": true
   },
   "outputs": [],
   "source": [
    "def exhaustive_search(X_train, y_train, model, scorer, d = 0.1):\n",
    "    q_max = 0\n",
    "    n_features = X_train.shape[1] \n",
    "    best_features = []\n",
    "    \n",
    "    for j in range(1, n_features + 1):\n",
    "        feature_indices = itertools.combinations(range(n_features), j)\n",
    "        for features_list in feature_indices:\n",
    "            sub_data = X_train.iloc[:, features_list]\n",
    "            q = scorer(model, sub_data, y_train)\n",
    "            if q > q_max:\n",
    "                if abs(q - q_max) < d*q_max:\n",
    "                    q_max = q\n",
    "                    j_min = j\n",
    "                    best_features = features_list\n",
    "                    return best_features, q_max\n",
    "                else:\n",
    "                    q_max = q\n",
    "                    j_min = j\n",
    "                    best_features = features_list\n",
    "                    \n",
    "    return best_features, q_max"
   ]
  },
  {
   "cell_type": "code",
   "execution_count": 59,
   "metadata": {
    "collapsed": false
   },
   "outputs": [],
   "source": [
    "def show_results(algorithm, data, target, model, scorer):\n",
    "    best_features, best_Q = algorithm(data, target, model, scorer)\n",
    "    print 'Best score = ' + str(best_Q)\n",
    "    print 'Best features:'  + str(best_features)\n",
    "    print '----------'"
   ]
  },
  {
   "cell_type": "code",
   "execution_count": 60,
   "metadata": {
    "collapsed": false
   },
   "outputs": [
    {
     "name": "stdout",
     "output_type": "stream",
     "text": [
      "Best score = 0.688921205711\n",
      "Best features:(1, 9, 12, 13)\n",
      "----------\n"
     ]
    }
   ],
   "source": [
    "show_results(exhaustive_search, X, y, logreg, skfold_scorer())"
   ]
  },
  {
   "cell_type": "code",
   "execution_count": 61,
   "metadata": {
    "collapsed": false
   },
   "outputs": [
    {
     "name": "stdout",
     "output_type": "stream",
     "text": [
      "Best score = 0.687308302485\n",
      "Best features:(1,)\n",
      "----------\n"
     ]
    }
   ],
   "source": [
    "show_results(exhaustive_search, X, y, rf, skfold_scorer())"
   ]
  },
  {
   "cell_type": "code",
   "execution_count": 62,
   "metadata": {
    "collapsed": false
   },
   "outputs": [
    {
     "name": "stdout",
     "output_type": "stream",
     "text": [
      "Best score = 0.687308302485\n",
      "Best features:(1,)\n",
      "----------\n"
     ]
    }
   ],
   "source": [
    "show_results(exhaustive_search, X, y, gbm, skfold_scorer())"
   ]
  },
  {
   "cell_type": "code",
   "execution_count": 215,
   "metadata": {
    "collapsed": false
   },
   "outputs": [
    {
     "name": "stdout",
     "output_type": "stream",
     "text": [
      "Best score = 0.811184558435\n",
      "Best features:(4, 9)\n",
      "----------\n"
     ]
    }
   ],
   "source": [
    "show_results(exhaustive_search, X, y, xgb_clf, skfold_scorer())"
   ]
  },
  {
   "cell_type": "markdown",
   "metadata": {},
   "source": [
    "## Training"
   ]
  },
  {
   "cell_type": "code",
   "execution_count": 216,
   "metadata": {
    "collapsed": true
   },
   "outputs": [],
   "source": [
    "model = XGBClassifier(n_estimators=300, seed=123)"
   ]
  },
  {
   "cell_type": "code",
   "execution_count": 217,
   "metadata": {
    "collapsed": true
   },
   "outputs": [],
   "source": [
    "X_sub = X[[4, 9]]\n",
    "test_sub = X_test[[4, 9]]"
   ]
  },
  {
   "cell_type": "code",
   "execution_count": 218,
   "metadata": {
    "collapsed": true
   },
   "outputs": [],
   "source": [
    "assert ( X_sub.shape[1] == test_sub.shape[1] ), 'Mismatch in number of features'"
   ]
  },
  {
   "cell_type": "code",
   "execution_count": 219,
   "metadata": {
    "collapsed": false
   },
   "outputs": [
    {
     "data": {
      "text/plain": [
       "XGBClassifier(base_score=0.5, colsample_bylevel=1, colsample_bytree=1,\n",
       "       gamma=0, learning_rate=0.1, max_delta_step=0, max_depth=3,\n",
       "       min_child_weight=1, missing=None, n_estimators=300, nthread=-1,\n",
       "       objective='binary:logistic', reg_alpha=0, reg_lambda=1,\n",
       "       scale_pos_weight=1, seed=123, silent=True, subsample=1)"
      ]
     },
     "execution_count": 219,
     "metadata": {},
     "output_type": "execute_result"
    }
   ],
   "source": [
    "model.fit(X_sub, y)"
   ]
  },
  {
   "cell_type": "code",
   "execution_count": 225,
   "metadata": {
    "collapsed": false
   },
   "outputs": [],
   "source": [
    "prediction = model.predict(test_sub)"
   ]
  },
  {
   "cell_type": "code",
   "execution_count": 207,
   "metadata": {
    "collapsed": false
   },
   "outputs": [],
   "source": [
    "prediction_num = map(lambda x: 1 if x == 'Y' else 0, prediction)"
   ]
  },
  {
   "cell_type": "code",
   "execution_count": 227,
   "metadata": {
    "collapsed": false
   },
   "outputs": [],
   "source": [
    "sub['Loan_ID'] = test_original.index.values\n",
    "sub['Loan_Status'] = prediction"
   ]
  },
  {
   "cell_type": "code",
   "execution_count": 228,
   "metadata": {
    "collapsed": true
   },
   "outputs": [],
   "source": [
    "sub.to_csv('./submissions/xgb_submission300_label_encoding.csv', index=False)"
   ]
  },
  {
   "cell_type": "code",
   "execution_count": null,
   "metadata": {
    "collapsed": true
   },
   "outputs": [],
   "source": []
  }
 ],
 "metadata": {
  "kernelspec": {
   "display_name": "Python 2",
   "language": "python",
   "name": "python2"
  },
  "language_info": {
   "codemirror_mode": {
    "name": "ipython",
    "version": 2
   },
   "file_extension": ".py",
   "mimetype": "text/x-python",
   "name": "python",
   "nbconvert_exporter": "python",
   "pygments_lexer": "ipython2",
   "version": "2.7.11"
  }
 },
 "nbformat": 4,
 "nbformat_minor": 0
}
