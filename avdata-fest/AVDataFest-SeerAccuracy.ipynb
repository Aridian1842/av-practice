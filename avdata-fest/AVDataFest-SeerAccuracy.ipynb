{
 "cells": [
  {
   "cell_type": "code",
   "execution_count": 1,
   "metadata": {
    "collapsed": true
   },
   "outputs": [],
   "source": [
    "import numpy as np\n",
    "import pandas as pd\n",
    "\n",
    "import matplotlib.pyplot as plt\n",
    "import seaborn as sns\n",
    "\n",
    "from sklearn.cross_validation import train_test_split\n",
    "from sklearn.metrics import roc_auc_score\n",
    "\n",
    "from sklearn.linear_model import LogisticRegression\n",
    "from sklearn.linear_model import RidgeClassifier\n",
    "from sklearn.linear_model import Lasso\n",
    "\n",
    "from sklearn.ensemble import RandomForestClassifier\n",
    "from sklearn.ensemble import GradientBoostingClassifier\n",
    "from sklearn.ensemble import ExtraTreesClassifier\n",
    "\n",
    "import warnings\n",
    "warnings.filterwarnings('ignore')\n",
    "\n",
    "%matplotlib inline"
   ]
  },
  {
   "cell_type": "code",
   "execution_count": 2,
   "metadata": {
    "collapsed": true
   },
   "outputs": [],
   "source": [
    "# date-parser\n",
    "date_parser_func = lambda x: pd.datetime.strptime(x, '%d-%b-%y')"
   ]
  },
  {
   "cell_type": "code",
   "execution_count": 3,
   "metadata": {
    "collapsed": true
   },
   "outputs": [],
   "source": [
    "data = pd.read_csv('./data/Train_seers_accuracy.csv', parse_dates=['Transaction_Date', 'DOB'], date_parser=date_parser_func)\n",
    "sub = pd.read_csv('./data/Sample_K7zT2mf.csv')"
   ]
  },
  {
   "cell_type": "code",
   "execution_count": 4,
   "metadata": {
    "collapsed": false
   },
   "outputs": [
    {
     "data": {
      "text/html": [
       "<div>\n",
       "<table border=\"1\" class=\"dataframe\">\n",
       "  <thead>\n",
       "    <tr style=\"text-align: right;\">\n",
       "      <th></th>\n",
       "      <th>Transaction_ID</th>\n",
       "      <th>Transaction_Date</th>\n",
       "      <th>Store_ID</th>\n",
       "      <th>Number_of_EMI</th>\n",
       "      <th>Purchased_in_Sale</th>\n",
       "      <th>Var1</th>\n",
       "      <th>Var2</th>\n",
       "      <th>Var3</th>\n",
       "      <th>Client_ID</th>\n",
       "      <th>Gender</th>\n",
       "      <th>DOB</th>\n",
       "      <th>Referred_Friend</th>\n",
       "      <th>Sales_Executive_ID</th>\n",
       "      <th>Sales_Executive_Category</th>\n",
       "      <th>Lead_Source_Category</th>\n",
       "      <th>Payment_Mode</th>\n",
       "      <th>Product_Category</th>\n",
       "      <th>Transaction_Amount</th>\n",
       "    </tr>\n",
       "  </thead>\n",
       "  <tbody>\n",
       "    <tr>\n",
       "      <th>0</th>\n",
       "      <td>TRA98825550</td>\n",
       "      <td>2003-01-01</td>\n",
       "      <td>STO1281</td>\n",
       "      <td>2</td>\n",
       "      <td>N</td>\n",
       "      <td>1</td>\n",
       "      <td>1</td>\n",
       "      <td>1</td>\n",
       "      <td>345821599</td>\n",
       "      <td>F</td>\n",
       "      <td>1971-08-19</td>\n",
       "      <td>NO</td>\n",
       "      <td>SD23011859</td>\n",
       "      <td>B</td>\n",
       "      <td>Advertisment</td>\n",
       "      <td>Credit/Debit Card</td>\n",
       "      <td>Cat A</td>\n",
       "      <td>17455</td>\n",
       "    </tr>\n",
       "    <tr>\n",
       "      <th>1</th>\n",
       "      <td>TRA98825710</td>\n",
       "      <td>2003-01-01</td>\n",
       "      <td>STO1247</td>\n",
       "      <td>2</td>\n",
       "      <td>N</td>\n",
       "      <td>1</td>\n",
       "      <td>2</td>\n",
       "      <td>1</td>\n",
       "      <td>345821734</td>\n",
       "      <td>M</td>\n",
       "      <td>1976-07-03</td>\n",
       "      <td>NO</td>\n",
       "      <td>SD23000293</td>\n",
       "      <td>B</td>\n",
       "      <td>Advertisment</td>\n",
       "      <td>Credit/Debit Card</td>\n",
       "      <td>Cat A</td>\n",
       "      <td>16503</td>\n",
       "    </tr>\n",
       "    <tr>\n",
       "      <th>2</th>\n",
       "      <td>TRA98823874</td>\n",
       "      <td>2003-01-01</td>\n",
       "      <td>STO1244</td>\n",
       "      <td>2</td>\n",
       "      <td>N</td>\n",
       "      <td>1</td>\n",
       "      <td>1</td>\n",
       "      <td>1</td>\n",
       "      <td>345820365</td>\n",
       "      <td>F</td>\n",
       "      <td>2059-01-04</td>\n",
       "      <td>NO</td>\n",
       "      <td>SD23011768</td>\n",
       "      <td>B</td>\n",
       "      <td>Advertisment</td>\n",
       "      <td>Credit/Debit Card</td>\n",
       "      <td>Cat A</td>\n",
       "      <td>15012</td>\n",
       "    </tr>\n",
       "    <tr>\n",
       "      <th>3</th>\n",
       "      <td>TRA98823889</td>\n",
       "      <td>2003-01-01</td>\n",
       "      <td>STO1256</td>\n",
       "      <td>2</td>\n",
       "      <td>N</td>\n",
       "      <td>1</td>\n",
       "      <td>1</td>\n",
       "      <td>1</td>\n",
       "      <td>345820377</td>\n",
       "      <td>M</td>\n",
       "      <td>2060-05-11</td>\n",
       "      <td>NO</td>\n",
       "      <td>SD23011691</td>\n",
       "      <td>B</td>\n",
       "      <td>Advertisment</td>\n",
       "      <td>Credit/Debit Card</td>\n",
       "      <td>Cat A</td>\n",
       "      <td>16051</td>\n",
       "    </tr>\n",
       "    <tr>\n",
       "      <th>4</th>\n",
       "      <td>TRA98824521</td>\n",
       "      <td>2003-01-01</td>\n",
       "      <td>STO1445</td>\n",
       "      <td>2</td>\n",
       "      <td>N</td>\n",
       "      <td>1</td>\n",
       "      <td>2</td>\n",
       "      <td>1</td>\n",
       "      <td>345820841</td>\n",
       "      <td>F</td>\n",
       "      <td>2062-03-24</td>\n",
       "      <td>NO</td>\n",
       "      <td>SD23003031</td>\n",
       "      <td>B</td>\n",
       "      <td>Reference</td>\n",
       "      <td>Cheque</td>\n",
       "      <td>Cat A</td>\n",
       "      <td>15108</td>\n",
       "    </tr>\n",
       "  </tbody>\n",
       "</table>\n",
       "</div>"
      ],
      "text/plain": [
       "  Transaction_ID Transaction_Date Store_ID  Number_of_EMI Purchased_in_Sale  \\\n",
       "0    TRA98825550       2003-01-01  STO1281              2                 N   \n",
       "1    TRA98825710       2003-01-01  STO1247              2                 N   \n",
       "2    TRA98823874       2003-01-01  STO1244              2                 N   \n",
       "3    TRA98823889       2003-01-01  STO1256              2                 N   \n",
       "4    TRA98824521       2003-01-01  STO1445              2                 N   \n",
       "\n",
       "   Var1  Var2  Var3  Client_ID Gender        DOB Referred_Friend  \\\n",
       "0     1     1     1  345821599      F 1971-08-19              NO   \n",
       "1     1     2     1  345821734      M 1976-07-03              NO   \n",
       "2     1     1     1  345820365      F 2059-01-04              NO   \n",
       "3     1     1     1  345820377      M 2060-05-11              NO   \n",
       "4     1     2     1  345820841      F 2062-03-24              NO   \n",
       "\n",
       "  Sales_Executive_ID Sales_Executive_Category Lead_Source_Category  \\\n",
       "0         SD23011859                        B         Advertisment   \n",
       "1         SD23000293                        B         Advertisment   \n",
       "2         SD23011768                        B         Advertisment   \n",
       "3         SD23011691                        B         Advertisment   \n",
       "4         SD23003031                        B            Reference   \n",
       "\n",
       "        Payment_Mode Product_Category  Transaction_Amount  \n",
       "0  Credit/Debit Card            Cat A               17455  \n",
       "1  Credit/Debit Card            Cat A               16503  \n",
       "2  Credit/Debit Card            Cat A               15012  \n",
       "3  Credit/Debit Card            Cat A               16051  \n",
       "4             Cheque            Cat A               15108  "
      ]
     },
     "execution_count": 4,
     "metadata": {},
     "output_type": "execute_result"
    }
   ],
   "source": [
    "data.head()"
   ]
  },
  {
   "cell_type": "code",
   "execution_count": 5,
   "metadata": {
    "collapsed": false
   },
   "outputs": [],
   "source": [
    "data.loc[:, 'transaction_year'] = data.Transaction_Date.dt.year\n",
    "data.loc[:, 'transaction_month'] = data.Transaction_Date.dt.month\n",
    "data.loc[:, 'store_id_number'] = data.Store_ID.map(lambda x: int(x[3:]))"
   ]
  },
  {
   "cell_type": "code",
   "execution_count": 6,
   "metadata": {
    "collapsed": false
   },
   "outputs": [],
   "source": [
    "transaction_count_map = data.Client_ID.value_counts().to_dict()"
   ]
  },
  {
   "cell_type": "code",
   "execution_count": 7,
   "metadata": {
    "collapsed": true
   },
   "outputs": [],
   "source": [
    "data.loc[:, 'transaction_count'] = data.Client_ID.map(lambda x: int(transaction_count_map[x] > 1))"
   ]
  },
  {
   "cell_type": "code",
   "execution_count": 8,
   "metadata": {
    "collapsed": false
   },
   "outputs": [],
   "source": [
    "mask = (data.Transaction_Date >= pd.to_datetime('2006-01-01')) & (data.Transaction_Date <= pd.to_datetime('2006-12-31'))"
   ]
  },
  {
   "cell_type": "code",
   "execution_count": 9,
   "metadata": {
    "collapsed": false
   },
   "outputs": [],
   "source": [
    "data_train = data[~mask]\n",
    "data_test = data[mask]"
   ]
  },
  {
   "cell_type": "code",
   "execution_count": 10,
   "metadata": {
    "collapsed": false
   },
   "outputs": [
    {
     "data": {
      "text/plain": [
       "((364000, 22), (75541, 22))"
      ]
     },
     "execution_count": 10,
     "metadata": {},
     "output_type": "execute_result"
    }
   ],
   "source": [
    "data_train.shape, data_test.shape"
   ]
  },
  {
   "cell_type": "code",
   "execution_count": 11,
   "metadata": {
    "collapsed": false
   },
   "outputs": [],
   "source": [
    "features = ['Client_ID', 'transaction_year']"
   ]
  },
  {
   "cell_type": "code",
   "execution_count": 12,
   "metadata": {
    "collapsed": false
   },
   "outputs": [],
   "source": [
    "X_train = data_train[features]\n",
    "y_train =  data_train.transaction_count\n",
    "\n",
    "X_test = data_test[features]\n",
    "y_test = data_test.transaction_count"
   ]
  },
  {
   "cell_type": "code",
   "execution_count": 13,
   "metadata": {
    "collapsed": false
   },
   "outputs": [
    {
     "data": {
      "text/plain": [
       "((364000, 2), (75541, 2), (364000,), (75541,))"
      ]
     },
     "execution_count": 13,
     "metadata": {},
     "output_type": "execute_result"
    }
   ],
   "source": [
    "X_train.shape, X_test.shape, y_train.shape, y_test.shape"
   ]
  },
  {
   "cell_type": "code",
   "execution_count": 26,
   "metadata": {
    "collapsed": false
   },
   "outputs": [
    {
     "data": {
      "text/plain": [
       "RandomForestClassifier(bootstrap=True, class_weight=None, criterion='gini',\n",
       "            max_depth=4, max_features='auto', max_leaf_nodes=None,\n",
       "            min_samples_leaf=1, min_samples_split=2,\n",
       "            min_weight_fraction_leaf=0.0, n_estimators=100, n_jobs=-1,\n",
       "            oob_score=False, random_state=None, verbose=0,\n",
       "            warm_start=False)"
      ]
     },
     "execution_count": 26,
     "metadata": {},
     "output_type": "execute_result"
    }
   ],
   "source": [
    "model = RandomForestClassifier(n_estimators=100, max_depth=4, n_jobs=-1)\n",
    "model.fit(X_train, y_train)"
   ]
  },
  {
   "cell_type": "code",
   "execution_count": 27,
   "metadata": {
    "collapsed": true
   },
   "outputs": [],
   "source": [
    "predsTrain = model.predict_proba(X_train)[:, 1]\n",
    "predsTest = model.predict_proba(X_test)[:, 1]"
   ]
  },
  {
   "cell_type": "code",
   "execution_count": 28,
   "metadata": {
    "collapsed": false
   },
   "outputs": [
    {
     "name": "stdout",
     "output_type": "stream",
     "text": [
      "ROC AUC Score on training set 0.657612 \n",
      "ROC AUC Score on test set 0.648783 \n"
     ]
    }
   ],
   "source": [
    "print 'ROC AUC Score on training set %f ' %(roc_auc_score(y_train, predsTrain))\n",
    "print 'ROC AUC Score on test set %f ' %(roc_auc_score(y_test, predsTest))"
   ]
  },
  {
   "cell_type": "code",
   "execution_count": 29,
   "metadata": {
    "collapsed": false
   },
   "outputs": [],
   "source": [
    "test = data.Client_ID.value_counts().reset_index().rename(columns={'index': 'Client_ID', 'Client_ID': 'freq'})"
   ]
  },
  {
   "cell_type": "code",
   "execution_count": 30,
   "metadata": {
    "collapsed": false
   },
   "outputs": [],
   "source": [
    "test.loc[:, 'transaction_year'] = 2007"
   ]
  },
  {
   "cell_type": "code",
   "execution_count": 31,
   "metadata": {
    "collapsed": false
   },
   "outputs": [],
   "source": [
    "test.loc[:, 'Cross_Sell'] = model.predict_proba(test[features])[:, 1]"
   ]
  },
  {
   "cell_type": "code",
   "execution_count": 32,
   "metadata": {
    "collapsed": false
   },
   "outputs": [],
   "source": [
    "test[['Client_ID', 'Cross_Sell']].to_csv('./submissions/hundred_estimators_max_depth_4.csv', index=False)"
   ]
  },
  {
   "cell_type": "code",
   "execution_count": 33,
   "metadata": {
    "collapsed": false
   },
   "outputs": [
    {
     "data": {
      "text/html": [
       "<div>\n",
       "<table border=\"1\" class=\"dataframe\">\n",
       "  <thead>\n",
       "    <tr style=\"text-align: right;\">\n",
       "      <th></th>\n",
       "      <th>Client_ID</th>\n",
       "      <th>transaction_year</th>\n",
       "    </tr>\n",
       "  </thead>\n",
       "  <tbody>\n",
       "    <tr>\n",
       "      <th>0</th>\n",
       "      <td>345629580</td>\n",
       "      <td>2007</td>\n",
       "    </tr>\n",
       "    <tr>\n",
       "      <th>1</th>\n",
       "      <td>345724132</td>\n",
       "      <td>2007</td>\n",
       "    </tr>\n",
       "    <tr>\n",
       "      <th>2</th>\n",
       "      <td>346234361</td>\n",
       "      <td>2007</td>\n",
       "    </tr>\n",
       "    <tr>\n",
       "      <th>3</th>\n",
       "      <td>346021065</td>\n",
       "      <td>2007</td>\n",
       "    </tr>\n",
       "    <tr>\n",
       "      <th>4</th>\n",
       "      <td>345913383</td>\n",
       "      <td>2007</td>\n",
       "    </tr>\n",
       "    <tr>\n",
       "      <th>5</th>\n",
       "      <td>346100533</td>\n",
       "      <td>2007</td>\n",
       "    </tr>\n",
       "    <tr>\n",
       "      <th>6</th>\n",
       "      <td>345709003</td>\n",
       "      <td>2007</td>\n",
       "    </tr>\n",
       "    <tr>\n",
       "      <th>7</th>\n",
       "      <td>346008305</td>\n",
       "      <td>2007</td>\n",
       "    </tr>\n",
       "    <tr>\n",
       "      <th>8</th>\n",
       "      <td>346159301</td>\n",
       "      <td>2007</td>\n",
       "    </tr>\n",
       "    <tr>\n",
       "      <th>9</th>\n",
       "      <td>345844309</td>\n",
       "      <td>2007</td>\n",
       "    </tr>\n",
       "    <tr>\n",
       "      <th>10</th>\n",
       "      <td>345841935</td>\n",
       "      <td>2007</td>\n",
       "    </tr>\n",
       "    <tr>\n",
       "      <th>11</th>\n",
       "      <td>345871358</td>\n",
       "      <td>2007</td>\n",
       "    </tr>\n",
       "    <tr>\n",
       "      <th>12</th>\n",
       "      <td>346432633</td>\n",
       "      <td>2007</td>\n",
       "    </tr>\n",
       "    <tr>\n",
       "      <th>13</th>\n",
       "      <td>345643174</td>\n",
       "      <td>2007</td>\n",
       "    </tr>\n",
       "    <tr>\n",
       "      <th>14</th>\n",
       "      <td>345988144</td>\n",
       "      <td>2007</td>\n",
       "    </tr>\n",
       "    <tr>\n",
       "      <th>15</th>\n",
       "      <td>345967973</td>\n",
       "      <td>2007</td>\n",
       "    </tr>\n",
       "    <tr>\n",
       "      <th>16</th>\n",
       "      <td>346488684</td>\n",
       "      <td>2007</td>\n",
       "    </tr>\n",
       "    <tr>\n",
       "      <th>17</th>\n",
       "      <td>345710365</td>\n",
       "      <td>2007</td>\n",
       "    </tr>\n",
       "    <tr>\n",
       "      <th>18</th>\n",
       "      <td>346316621</td>\n",
       "      <td>2007</td>\n",
       "    </tr>\n",
       "    <tr>\n",
       "      <th>19</th>\n",
       "      <td>346220609</td>\n",
       "      <td>2007</td>\n",
       "    </tr>\n",
       "    <tr>\n",
       "      <th>20</th>\n",
       "      <td>346078203</td>\n",
       "      <td>2007</td>\n",
       "    </tr>\n",
       "    <tr>\n",
       "      <th>21</th>\n",
       "      <td>346219677</td>\n",
       "      <td>2007</td>\n",
       "    </tr>\n",
       "    <tr>\n",
       "      <th>22</th>\n",
       "      <td>345856079</td>\n",
       "      <td>2007</td>\n",
       "    </tr>\n",
       "    <tr>\n",
       "      <th>23</th>\n",
       "      <td>345676356</td>\n",
       "      <td>2007</td>\n",
       "    </tr>\n",
       "    <tr>\n",
       "      <th>24</th>\n",
       "      <td>346167074</td>\n",
       "      <td>2007</td>\n",
       "    </tr>\n",
       "    <tr>\n",
       "      <th>25</th>\n",
       "      <td>345951552</td>\n",
       "      <td>2007</td>\n",
       "    </tr>\n",
       "    <tr>\n",
       "      <th>26</th>\n",
       "      <td>346231732</td>\n",
       "      <td>2007</td>\n",
       "    </tr>\n",
       "    <tr>\n",
       "      <th>27</th>\n",
       "      <td>345855099</td>\n",
       "      <td>2007</td>\n",
       "    </tr>\n",
       "    <tr>\n",
       "      <th>28</th>\n",
       "      <td>346181588</td>\n",
       "      <td>2007</td>\n",
       "    </tr>\n",
       "    <tr>\n",
       "      <th>29</th>\n",
       "      <td>345919529</td>\n",
       "      <td>2007</td>\n",
       "    </tr>\n",
       "    <tr>\n",
       "      <th>...</th>\n",
       "      <td>...</td>\n",
       "      <td>...</td>\n",
       "    </tr>\n",
       "    <tr>\n",
       "      <th>417077</th>\n",
       "      <td>346099568</td>\n",
       "      <td>2007</td>\n",
       "    </tr>\n",
       "    <tr>\n",
       "      <th>417078</th>\n",
       "      <td>346097521</td>\n",
       "      <td>2007</td>\n",
       "    </tr>\n",
       "    <tr>\n",
       "      <th>417079</th>\n",
       "      <td>346101619</td>\n",
       "      <td>2007</td>\n",
       "    </tr>\n",
       "    <tr>\n",
       "      <th>417080</th>\n",
       "      <td>346107764</td>\n",
       "      <td>2007</td>\n",
       "    </tr>\n",
       "    <tr>\n",
       "      <th>417081</th>\n",
       "      <td>346105717</td>\n",
       "      <td>2007</td>\n",
       "    </tr>\n",
       "    <tr>\n",
       "      <th>417082</th>\n",
       "      <td>346255164</td>\n",
       "      <td>2007</td>\n",
       "    </tr>\n",
       "    <tr>\n",
       "      <th>417083</th>\n",
       "      <td>346249019</td>\n",
       "      <td>2007</td>\n",
       "    </tr>\n",
       "    <tr>\n",
       "      <th>417084</th>\n",
       "      <td>346236725</td>\n",
       "      <td>2007</td>\n",
       "    </tr>\n",
       "    <tr>\n",
       "      <th>417085</th>\n",
       "      <td>346191647</td>\n",
       "      <td>2007</td>\n",
       "    </tr>\n",
       "    <tr>\n",
       "      <th>417086</th>\n",
       "      <td>346224399</td>\n",
       "      <td>2007</td>\n",
       "    </tr>\n",
       "    <tr>\n",
       "      <th>417087</th>\n",
       "      <td>346165008</td>\n",
       "      <td>2007</td>\n",
       "    </tr>\n",
       "    <tr>\n",
       "      <th>417088</th>\n",
       "      <td>346167059</td>\n",
       "      <td>2007</td>\n",
       "    </tr>\n",
       "    <tr>\n",
       "      <th>417089</th>\n",
       "      <td>346173204</td>\n",
       "      <td>2007</td>\n",
       "    </tr>\n",
       "    <tr>\n",
       "      <th>417090</th>\n",
       "      <td>346177302</td>\n",
       "      <td>2007</td>\n",
       "    </tr>\n",
       "    <tr>\n",
       "      <th>417091</th>\n",
       "      <td>346179353</td>\n",
       "      <td>2007</td>\n",
       "    </tr>\n",
       "    <tr>\n",
       "      <th>417092</th>\n",
       "      <td>346183451</td>\n",
       "      <td>2007</td>\n",
       "    </tr>\n",
       "    <tr>\n",
       "      <th>417093</th>\n",
       "      <td>346189596</td>\n",
       "      <td>2007</td>\n",
       "    </tr>\n",
       "    <tr>\n",
       "      <th>417094</th>\n",
       "      <td>346187549</td>\n",
       "      <td>2007</td>\n",
       "    </tr>\n",
       "    <tr>\n",
       "      <th>417095</th>\n",
       "      <td>346263328</td>\n",
       "      <td>2007</td>\n",
       "    </tr>\n",
       "    <tr>\n",
       "      <th>417096</th>\n",
       "      <td>346238772</td>\n",
       "      <td>2007</td>\n",
       "    </tr>\n",
       "    <tr>\n",
       "      <th>417097</th>\n",
       "      <td>346261281</td>\n",
       "      <td>2007</td>\n",
       "    </tr>\n",
       "    <tr>\n",
       "      <th>417098</th>\n",
       "      <td>346265379</td>\n",
       "      <td>2007</td>\n",
       "    </tr>\n",
       "    <tr>\n",
       "      <th>417099</th>\n",
       "      <td>346275622</td>\n",
       "      <td>2007</td>\n",
       "    </tr>\n",
       "    <tr>\n",
       "      <th>417100</th>\n",
       "      <td>346283818</td>\n",
       "      <td>2007</td>\n",
       "    </tr>\n",
       "    <tr>\n",
       "      <th>417101</th>\n",
       "      <td>346289967</td>\n",
       "      <td>2007</td>\n",
       "    </tr>\n",
       "    <tr>\n",
       "      <th>417102</th>\n",
       "      <td>346230576</td>\n",
       "      <td>2007</td>\n",
       "    </tr>\n",
       "    <tr>\n",
       "      <th>417103</th>\n",
       "      <td>346228529</td>\n",
       "      <td>2007</td>\n",
       "    </tr>\n",
       "    <tr>\n",
       "      <th>417104</th>\n",
       "      <td>346234674</td>\n",
       "      <td>2007</td>\n",
       "    </tr>\n",
       "    <tr>\n",
       "      <th>417105</th>\n",
       "      <td>346232627</td>\n",
       "      <td>2007</td>\n",
       "    </tr>\n",
       "    <tr>\n",
       "      <th>417106</th>\n",
       "      <td>346038276</td>\n",
       "      <td>2007</td>\n",
       "    </tr>\n",
       "  </tbody>\n",
       "</table>\n",
       "<p>417107 rows × 2 columns</p>\n",
       "</div>"
      ],
      "text/plain": [
       "        Client_ID  transaction_year\n",
       "0       345629580              2007\n",
       "1       345724132              2007\n",
       "2       346234361              2007\n",
       "3       346021065              2007\n",
       "4       345913383              2007\n",
       "5       346100533              2007\n",
       "6       345709003              2007\n",
       "7       346008305              2007\n",
       "8       346159301              2007\n",
       "9       345844309              2007\n",
       "10      345841935              2007\n",
       "11      345871358              2007\n",
       "12      346432633              2007\n",
       "13      345643174              2007\n",
       "14      345988144              2007\n",
       "15      345967973              2007\n",
       "16      346488684              2007\n",
       "17      345710365              2007\n",
       "18      346316621              2007\n",
       "19      346220609              2007\n",
       "20      346078203              2007\n",
       "21      346219677              2007\n",
       "22      345856079              2007\n",
       "23      345676356              2007\n",
       "24      346167074              2007\n",
       "25      345951552              2007\n",
       "26      346231732              2007\n",
       "27      345855099              2007\n",
       "28      346181588              2007\n",
       "29      345919529              2007\n",
       "...           ...               ...\n",
       "417077  346099568              2007\n",
       "417078  346097521              2007\n",
       "417079  346101619              2007\n",
       "417080  346107764              2007\n",
       "417081  346105717              2007\n",
       "417082  346255164              2007\n",
       "417083  346249019              2007\n",
       "417084  346236725              2007\n",
       "417085  346191647              2007\n",
       "417086  346224399              2007\n",
       "417087  346165008              2007\n",
       "417088  346167059              2007\n",
       "417089  346173204              2007\n",
       "417090  346177302              2007\n",
       "417091  346179353              2007\n",
       "417092  346183451              2007\n",
       "417093  346189596              2007\n",
       "417094  346187549              2007\n",
       "417095  346263328              2007\n",
       "417096  346238772              2007\n",
       "417097  346261281              2007\n",
       "417098  346265379              2007\n",
       "417099  346275622              2007\n",
       "417100  346283818              2007\n",
       "417101  346289967              2007\n",
       "417102  346230576              2007\n",
       "417103  346228529              2007\n",
       "417104  346234674              2007\n",
       "417105  346232627              2007\n",
       "417106  346038276              2007\n",
       "\n",
       "[417107 rows x 2 columns]"
      ]
     },
     "execution_count": 33,
     "metadata": {},
     "output_type": "execute_result"
    }
   ],
   "source": [
    "test[features]"
   ]
  },
  {
   "cell_type": "code",
   "execution_count": null,
   "metadata": {
    "collapsed": true
   },
   "outputs": [],
   "source": []
  }
 ],
 "metadata": {
  "kernelspec": {
   "display_name": "Python 2",
   "language": "python",
   "name": "python2"
  },
  "language_info": {
   "codemirror_mode": {
    "name": "ipython",
    "version": 2
   },
   "file_extension": ".py",
   "mimetype": "text/x-python",
   "name": "python",
   "nbconvert_exporter": "python",
   "pygments_lexer": "ipython2",
   "version": "2.7.11"
  }
 },
 "nbformat": 4,
 "nbformat_minor": 0
}
