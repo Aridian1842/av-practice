{
 "cells": [
  {
   "cell_type": "code",
   "execution_count": 1,
   "metadata": {
    "collapsed": true
   },
   "outputs": [],
   "source": [
    "import numpy as np\n",
    "import pandas as pd\n",
    "\n",
    "import matplotlib.pyplot as plt\n",
    "import seaborn as sns\n",
    "\n",
    "from sklearn.cross_validation import train_test_split\n",
    "from sklearn.metrics import roc_auc_score\n",
    "\n",
    "from sklearn.linear_model import LogisticRegression\n",
    "from sklearn.linear_model import RidgeClassifier\n",
    "from sklearn.linear_model import Lasso\n",
    "\n",
    "from sklearn.ensemble import RandomForestClassifier\n",
    "from sklearn.ensemble import GradientBoostingClassifier\n",
    "from sklearn.ensemble import ExtraTreesClassifier\n",
    "\n",
    "import warnings\n",
    "warnings.filterwarnings('ignore')\n",
    "\n",
    "%matplotlib inline"
   ]
  },
  {
   "cell_type": "code",
   "execution_count": 2,
   "metadata": {
    "collapsed": true
   },
   "outputs": [],
   "source": [
    "# date-parser\n",
    "date_parser_func = lambda x: pd.datetime.strptime(x, '%d-%b-%y')"
   ]
  },
  {
   "cell_type": "code",
   "execution_count": 3,
   "metadata": {
    "collapsed": true
   },
   "outputs": [],
   "source": [
    "data = pd.read_csv('./data/Train_seers_accuracy.csv', parse_dates=['Transaction_Date', 'DOB'], date_parser=date_parser_func)\n",
    "sub = pd.read_csv('./data/Sample_K7zT2mf.csv')"
   ]
  },
  {
   "cell_type": "code",
   "execution_count": 4,
   "metadata": {
    "collapsed": false
   },
   "outputs": [
    {
     "data": {
      "text/html": [
       "<div>\n",
       "<table border=\"1\" class=\"dataframe\">\n",
       "  <thead>\n",
       "    <tr style=\"text-align: right;\">\n",
       "      <th></th>\n",
       "      <th>Transaction_ID</th>\n",
       "      <th>Transaction_Date</th>\n",
       "      <th>Store_ID</th>\n",
       "      <th>Number_of_EMI</th>\n",
       "      <th>Purchased_in_Sale</th>\n",
       "      <th>Var1</th>\n",
       "      <th>Var2</th>\n",
       "      <th>Var3</th>\n",
       "      <th>Client_ID</th>\n",
       "      <th>Gender</th>\n",
       "      <th>DOB</th>\n",
       "      <th>Referred_Friend</th>\n",
       "      <th>Sales_Executive_ID</th>\n",
       "      <th>Sales_Executive_Category</th>\n",
       "      <th>Lead_Source_Category</th>\n",
       "      <th>Payment_Mode</th>\n",
       "      <th>Product_Category</th>\n",
       "      <th>Transaction_Amount</th>\n",
       "    </tr>\n",
       "  </thead>\n",
       "  <tbody>\n",
       "    <tr>\n",
       "      <th>0</th>\n",
       "      <td>TRA98825550</td>\n",
       "      <td>2003-01-01</td>\n",
       "      <td>STO1281</td>\n",
       "      <td>2</td>\n",
       "      <td>N</td>\n",
       "      <td>1</td>\n",
       "      <td>1</td>\n",
       "      <td>1</td>\n",
       "      <td>345821599</td>\n",
       "      <td>F</td>\n",
       "      <td>1971-08-19</td>\n",
       "      <td>NO</td>\n",
       "      <td>SD23011859</td>\n",
       "      <td>B</td>\n",
       "      <td>Advertisment</td>\n",
       "      <td>Credit/Debit Card</td>\n",
       "      <td>Cat A</td>\n",
       "      <td>17455</td>\n",
       "    </tr>\n",
       "    <tr>\n",
       "      <th>1</th>\n",
       "      <td>TRA98825710</td>\n",
       "      <td>2003-01-01</td>\n",
       "      <td>STO1247</td>\n",
       "      <td>2</td>\n",
       "      <td>N</td>\n",
       "      <td>1</td>\n",
       "      <td>2</td>\n",
       "      <td>1</td>\n",
       "      <td>345821734</td>\n",
       "      <td>M</td>\n",
       "      <td>1976-07-03</td>\n",
       "      <td>NO</td>\n",
       "      <td>SD23000293</td>\n",
       "      <td>B</td>\n",
       "      <td>Advertisment</td>\n",
       "      <td>Credit/Debit Card</td>\n",
       "      <td>Cat A</td>\n",
       "      <td>16503</td>\n",
       "    </tr>\n",
       "    <tr>\n",
       "      <th>2</th>\n",
       "      <td>TRA98823874</td>\n",
       "      <td>2003-01-01</td>\n",
       "      <td>STO1244</td>\n",
       "      <td>2</td>\n",
       "      <td>N</td>\n",
       "      <td>1</td>\n",
       "      <td>1</td>\n",
       "      <td>1</td>\n",
       "      <td>345820365</td>\n",
       "      <td>F</td>\n",
       "      <td>2059-01-04</td>\n",
       "      <td>NO</td>\n",
       "      <td>SD23011768</td>\n",
       "      <td>B</td>\n",
       "      <td>Advertisment</td>\n",
       "      <td>Credit/Debit Card</td>\n",
       "      <td>Cat A</td>\n",
       "      <td>15012</td>\n",
       "    </tr>\n",
       "    <tr>\n",
       "      <th>3</th>\n",
       "      <td>TRA98823889</td>\n",
       "      <td>2003-01-01</td>\n",
       "      <td>STO1256</td>\n",
       "      <td>2</td>\n",
       "      <td>N</td>\n",
       "      <td>1</td>\n",
       "      <td>1</td>\n",
       "      <td>1</td>\n",
       "      <td>345820377</td>\n",
       "      <td>M</td>\n",
       "      <td>2060-05-11</td>\n",
       "      <td>NO</td>\n",
       "      <td>SD23011691</td>\n",
       "      <td>B</td>\n",
       "      <td>Advertisment</td>\n",
       "      <td>Credit/Debit Card</td>\n",
       "      <td>Cat A</td>\n",
       "      <td>16051</td>\n",
       "    </tr>\n",
       "    <tr>\n",
       "      <th>4</th>\n",
       "      <td>TRA98824521</td>\n",
       "      <td>2003-01-01</td>\n",
       "      <td>STO1445</td>\n",
       "      <td>2</td>\n",
       "      <td>N</td>\n",
       "      <td>1</td>\n",
       "      <td>2</td>\n",
       "      <td>1</td>\n",
       "      <td>345820841</td>\n",
       "      <td>F</td>\n",
       "      <td>2062-03-24</td>\n",
       "      <td>NO</td>\n",
       "      <td>SD23003031</td>\n",
       "      <td>B</td>\n",
       "      <td>Reference</td>\n",
       "      <td>Cheque</td>\n",
       "      <td>Cat A</td>\n",
       "      <td>15108</td>\n",
       "    </tr>\n",
       "  </tbody>\n",
       "</table>\n",
       "</div>"
      ],
      "text/plain": [
       "  Transaction_ID Transaction_Date Store_ID  Number_of_EMI Purchased_in_Sale  \\\n",
       "0    TRA98825550       2003-01-01  STO1281              2                 N   \n",
       "1    TRA98825710       2003-01-01  STO1247              2                 N   \n",
       "2    TRA98823874       2003-01-01  STO1244              2                 N   \n",
       "3    TRA98823889       2003-01-01  STO1256              2                 N   \n",
       "4    TRA98824521       2003-01-01  STO1445              2                 N   \n",
       "\n",
       "   Var1  Var2  Var3  Client_ID Gender        DOB Referred_Friend  \\\n",
       "0     1     1     1  345821599      F 1971-08-19              NO   \n",
       "1     1     2     1  345821734      M 1976-07-03              NO   \n",
       "2     1     1     1  345820365      F 2059-01-04              NO   \n",
       "3     1     1     1  345820377      M 2060-05-11              NO   \n",
       "4     1     2     1  345820841      F 2062-03-24              NO   \n",
       "\n",
       "  Sales_Executive_ID Sales_Executive_Category Lead_Source_Category  \\\n",
       "0         SD23011859                        B         Advertisment   \n",
       "1         SD23000293                        B         Advertisment   \n",
       "2         SD23011768                        B         Advertisment   \n",
       "3         SD23011691                        B         Advertisment   \n",
       "4         SD23003031                        B            Reference   \n",
       "\n",
       "        Payment_Mode Product_Category  Transaction_Amount  \n",
       "0  Credit/Debit Card            Cat A               17455  \n",
       "1  Credit/Debit Card            Cat A               16503  \n",
       "2  Credit/Debit Card            Cat A               15012  \n",
       "3  Credit/Debit Card            Cat A               16051  \n",
       "4             Cheque            Cat A               15108  "
      ]
     },
     "execution_count": 4,
     "metadata": {},
     "output_type": "execute_result"
    }
   ],
   "source": [
    "data.head()"
   ]
  },
  {
   "cell_type": "code",
   "execution_count": 5,
   "metadata": {
    "collapsed": false
   },
   "outputs": [],
   "source": [
    "data.loc[:, 'transaction_year'] = data.Transaction_Date.dt.year\n",
    "data.loc[:, 'transaction_month'] = data.Transaction_Date.dt.month\n",
    "data.loc[:, 'store_id_number'] = data.Store_ID.map(lambda x: int(x[3:]))"
   ]
  },
  {
   "cell_type": "code",
   "execution_count": 6,
   "metadata": {
    "collapsed": false
   },
   "outputs": [],
   "source": [
    "transaction_count_map = data.Client_ID.value_counts().to_dict()"
   ]
  },
  {
   "cell_type": "code",
   "execution_count": 7,
   "metadata": {
    "collapsed": true
   },
   "outputs": [],
   "source": [
    "data.loc[:, 'transaction_count'] = data.Client_ID.map(lambda x: int(transaction_count_map[x] > 1))"
   ]
  },
  {
   "cell_type": "code",
   "execution_count": 8,
   "metadata": {
    "collapsed": false
   },
   "outputs": [],
   "source": [
    "mask = (data.Transaction_Date >= pd.to_datetime('2006-01-01')) & (data.Transaction_Date <= pd.to_datetime('2006-12-31'))"
   ]
  },
  {
   "cell_type": "code",
   "execution_count": 9,
   "metadata": {
    "collapsed": false
   },
   "outputs": [],
   "source": [
    "data_train = data[~mask]\n",
    "data_test = data[mask]"
   ]
  },
  {
   "cell_type": "code",
   "execution_count": 10,
   "metadata": {
    "collapsed": false
   },
   "outputs": [
    {
     "data": {
      "text/plain": [
       "((364000, 22), (75541, 22))"
      ]
     },
     "execution_count": 10,
     "metadata": {},
     "output_type": "execute_result"
    }
   ],
   "source": [
    "data_train.shape, data_test.shape"
   ]
  },
  {
   "cell_type": "code",
   "execution_count": 34,
   "metadata": {
    "collapsed": false
   },
   "outputs": [],
   "source": [
    "features = ['Client_ID']"
   ]
  },
  {
   "cell_type": "code",
   "execution_count": 38,
   "metadata": {
    "collapsed": false
   },
   "outputs": [],
   "source": [
    "X_train = data_train[features]\n",
    "y_train =  data_train.transaction_count\n",
    "\n",
    "X_test = data_test[features]\n",
    "y_test = data_test.transaction_count"
   ]
  },
  {
   "cell_type": "code",
   "execution_count": 39,
   "metadata": {
    "collapsed": false
   },
   "outputs": [
    {
     "data": {
      "text/plain": [
       "((364000, 1), (75541, 1), (364000,), (75541,))"
      ]
     },
     "execution_count": 39,
     "metadata": {},
     "output_type": "execute_result"
    }
   ],
   "source": [
    "X_train.shape, X_test.shape, y_train.shape, y_test.shape"
   ]
  },
  {
   "cell_type": "code",
   "execution_count": 40,
   "metadata": {
    "collapsed": false
   },
   "outputs": [
    {
     "data": {
      "text/plain": [
       "RandomForestClassifier(bootstrap=True, class_weight=None, criterion='gini',\n",
       "            max_depth=4, max_features='auto', max_leaf_nodes=None,\n",
       "            min_samples_leaf=1, min_samples_split=2,\n",
       "            min_weight_fraction_leaf=0.0, n_estimators=100, n_jobs=-1,\n",
       "            oob_score=False, random_state=None, verbose=0,\n",
       "            warm_start=False)"
      ]
     },
     "execution_count": 40,
     "metadata": {},
     "output_type": "execute_result"
    }
   ],
   "source": [
    "model = RandomForestClassifier(n_estimators=100, max_depth=4, n_jobs=-1)\n",
    "model.fit(X_train, y_train)"
   ]
  },
  {
   "cell_type": "code",
   "execution_count": 41,
   "metadata": {
    "collapsed": true
   },
   "outputs": [],
   "source": [
    "predsTrain = model.predict_proba(X_train)[:, 1]\n",
    "predsTest = model.predict_proba(X_test)[:, 1]"
   ]
  },
  {
   "cell_type": "code",
   "execution_count": 42,
   "metadata": {
    "collapsed": false
   },
   "outputs": [
    {
     "name": "stdout",
     "output_type": "stream",
     "text": [
      "ROC AUC Score on training set 0.614642 \n",
      "ROC AUC Score on test set 0.647866 \n"
     ]
    }
   ],
   "source": [
    "print 'ROC AUC Score on training set %f ' %(roc_auc_score(y_train, predsTrain))\n",
    "print 'ROC AUC Score on test set %f ' %(roc_auc_score(y_test, predsTest))"
   ]
  },
  {
   "cell_type": "code",
   "execution_count": 43,
   "metadata": {
    "collapsed": false
   },
   "outputs": [],
   "source": [
    "test = data.Client_ID.value_counts().reset_index().rename(columns={'index': 'Client_ID', 'Client_ID': 'freq'})"
   ]
  },
  {
   "cell_type": "code",
   "execution_count": 44,
   "metadata": {
    "collapsed": false
   },
   "outputs": [],
   "source": [
    "test.loc[:, 'Cross_Sell'] = model.predict_proba(test[features])[:, 1]"
   ]
  },
  {
   "cell_type": "code",
   "execution_count": 45,
   "metadata": {
    "collapsed": false
   },
   "outputs": [],
   "source": [
    "test[['Client_ID', 'Cross_Sell']].to_csv('./submissions/only_client_id.csv', index=False)"
   ]
  },
  {
   "cell_type": "code",
   "execution_count": null,
   "metadata": {
    "collapsed": true
   },
   "outputs": [],
   "source": []
  }
 ],
 "metadata": {
  "kernelspec": {
   "display_name": "Python 2",
   "language": "python",
   "name": "python2"
  },
  "language_info": {
   "codemirror_mode": {
    "name": "ipython",
    "version": 2
   },
   "file_extension": ".py",
   "mimetype": "text/x-python",
   "name": "python",
   "nbconvert_exporter": "python",
   "pygments_lexer": "ipython2",
   "version": "2.7.11"
  }
 },
 "nbformat": 4,
 "nbformat_minor": 0
}
