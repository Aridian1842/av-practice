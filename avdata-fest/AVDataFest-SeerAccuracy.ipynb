{
 "cells": [
  {
   "cell_type": "code",
   "execution_count": 1,
   "metadata": {
    "collapsed": true
   },
   "outputs": [],
   "source": [
    "import numpy as np\n",
    "import pandas as pd\n",
    "\n",
    "import matplotlib.pyplot as plt\n",
    "import seaborn as sns\n",
    "\n",
    "from sklearn.cross_validation import train_test_split\n",
    "from sklearn.metrics import roc_auc_score\n",
    "\n",
    "from sklearn.linear_model import LogisticRegression\n",
    "from sklearn.linear_model import RidgeClassifier\n",
    "from sklearn.linear_model import Lasso\n",
    "\n",
    "from sklearn.ensemble import RandomForestClassifier\n",
    "from sklearn.ensemble import GradientBoostingClassifier\n",
    "from sklearn.ensemble import ExtraTreesClassifier\n",
    "\n",
    "import warnings\n",
    "warnings.filterwarnings('ignore')\n",
    "\n",
    "%matplotlib inline"
   ]
  },
  {
   "cell_type": "code",
   "execution_count": 123,
   "metadata": {
    "collapsed": true
   },
   "outputs": [],
   "source": [
    "# date-parser\n",
    "date_parser_func = lambda x: pd.datetime.strptime(x, '%d-%b-%y')"
   ]
  },
  {
   "cell_type": "code",
   "execution_count": 124,
   "metadata": {
    "collapsed": true
   },
   "outputs": [],
   "source": [
    "data = pd.read_csv('./data/Train_seers_accuracy.csv', parse_dates=['Transaction_Date', 'DOB'], date_parser=date_parser_func)\n",
    "sub = pd.read_csv('./data/Sample_K7zT2mf.csv')"
   ]
  },
  {
   "cell_type": "code",
   "execution_count": 125,
   "metadata": {
    "collapsed": false
   },
   "outputs": [
    {
     "data": {
      "text/html": [
       "<div>\n",
       "<table border=\"1\" class=\"dataframe\">\n",
       "  <thead>\n",
       "    <tr style=\"text-align: right;\">\n",
       "      <th></th>\n",
       "      <th>Transaction_ID</th>\n",
       "      <th>Transaction_Date</th>\n",
       "      <th>Store_ID</th>\n",
       "      <th>Number_of_EMI</th>\n",
       "      <th>Purchased_in_Sale</th>\n",
       "      <th>Var1</th>\n",
       "      <th>Var2</th>\n",
       "      <th>Var3</th>\n",
       "      <th>Client_ID</th>\n",
       "      <th>Gender</th>\n",
       "      <th>DOB</th>\n",
       "      <th>Referred_Friend</th>\n",
       "      <th>Sales_Executive_ID</th>\n",
       "      <th>Sales_Executive_Category</th>\n",
       "      <th>Lead_Source_Category</th>\n",
       "      <th>Payment_Mode</th>\n",
       "      <th>Product_Category</th>\n",
       "      <th>Transaction_Amount</th>\n",
       "    </tr>\n",
       "  </thead>\n",
       "  <tbody>\n",
       "    <tr>\n",
       "      <th>0</th>\n",
       "      <td>TRA98825550</td>\n",
       "      <td>2003-01-01</td>\n",
       "      <td>STO1281</td>\n",
       "      <td>2</td>\n",
       "      <td>N</td>\n",
       "      <td>1</td>\n",
       "      <td>1</td>\n",
       "      <td>1</td>\n",
       "      <td>345821599</td>\n",
       "      <td>F</td>\n",
       "      <td>1971-08-19</td>\n",
       "      <td>NO</td>\n",
       "      <td>SD23011859</td>\n",
       "      <td>B</td>\n",
       "      <td>Advertisment</td>\n",
       "      <td>Credit/Debit Card</td>\n",
       "      <td>Cat A</td>\n",
       "      <td>17455</td>\n",
       "    </tr>\n",
       "    <tr>\n",
       "      <th>1</th>\n",
       "      <td>TRA98825710</td>\n",
       "      <td>2003-01-01</td>\n",
       "      <td>STO1247</td>\n",
       "      <td>2</td>\n",
       "      <td>N</td>\n",
       "      <td>1</td>\n",
       "      <td>2</td>\n",
       "      <td>1</td>\n",
       "      <td>345821734</td>\n",
       "      <td>M</td>\n",
       "      <td>1976-07-03</td>\n",
       "      <td>NO</td>\n",
       "      <td>SD23000293</td>\n",
       "      <td>B</td>\n",
       "      <td>Advertisment</td>\n",
       "      <td>Credit/Debit Card</td>\n",
       "      <td>Cat A</td>\n",
       "      <td>16503</td>\n",
       "    </tr>\n",
       "    <tr>\n",
       "      <th>2</th>\n",
       "      <td>TRA98823874</td>\n",
       "      <td>2003-01-01</td>\n",
       "      <td>STO1244</td>\n",
       "      <td>2</td>\n",
       "      <td>N</td>\n",
       "      <td>1</td>\n",
       "      <td>1</td>\n",
       "      <td>1</td>\n",
       "      <td>345820365</td>\n",
       "      <td>F</td>\n",
       "      <td>2059-01-04</td>\n",
       "      <td>NO</td>\n",
       "      <td>SD23011768</td>\n",
       "      <td>B</td>\n",
       "      <td>Advertisment</td>\n",
       "      <td>Credit/Debit Card</td>\n",
       "      <td>Cat A</td>\n",
       "      <td>15012</td>\n",
       "    </tr>\n",
       "    <tr>\n",
       "      <th>3</th>\n",
       "      <td>TRA98823889</td>\n",
       "      <td>2003-01-01</td>\n",
       "      <td>STO1256</td>\n",
       "      <td>2</td>\n",
       "      <td>N</td>\n",
       "      <td>1</td>\n",
       "      <td>1</td>\n",
       "      <td>1</td>\n",
       "      <td>345820377</td>\n",
       "      <td>M</td>\n",
       "      <td>2060-05-11</td>\n",
       "      <td>NO</td>\n",
       "      <td>SD23011691</td>\n",
       "      <td>B</td>\n",
       "      <td>Advertisment</td>\n",
       "      <td>Credit/Debit Card</td>\n",
       "      <td>Cat A</td>\n",
       "      <td>16051</td>\n",
       "    </tr>\n",
       "    <tr>\n",
       "      <th>4</th>\n",
       "      <td>TRA98824521</td>\n",
       "      <td>2003-01-01</td>\n",
       "      <td>STO1445</td>\n",
       "      <td>2</td>\n",
       "      <td>N</td>\n",
       "      <td>1</td>\n",
       "      <td>2</td>\n",
       "      <td>1</td>\n",
       "      <td>345820841</td>\n",
       "      <td>F</td>\n",
       "      <td>2062-03-24</td>\n",
       "      <td>NO</td>\n",
       "      <td>SD23003031</td>\n",
       "      <td>B</td>\n",
       "      <td>Reference</td>\n",
       "      <td>Cheque</td>\n",
       "      <td>Cat A</td>\n",
       "      <td>15108</td>\n",
       "    </tr>\n",
       "  </tbody>\n",
       "</table>\n",
       "</div>"
      ],
      "text/plain": [
       "  Transaction_ID Transaction_Date Store_ID  Number_of_EMI Purchased_in_Sale  \\\n",
       "0    TRA98825550       2003-01-01  STO1281              2                 N   \n",
       "1    TRA98825710       2003-01-01  STO1247              2                 N   \n",
       "2    TRA98823874       2003-01-01  STO1244              2                 N   \n",
       "3    TRA98823889       2003-01-01  STO1256              2                 N   \n",
       "4    TRA98824521       2003-01-01  STO1445              2                 N   \n",
       "\n",
       "   Var1  Var2  Var3  Client_ID Gender        DOB Referred_Friend  \\\n",
       "0     1     1     1  345821599      F 1971-08-19              NO   \n",
       "1     1     2     1  345821734      M 1976-07-03              NO   \n",
       "2     1     1     1  345820365      F 2059-01-04              NO   \n",
       "3     1     1     1  345820377      M 2060-05-11              NO   \n",
       "4     1     2     1  345820841      F 2062-03-24              NO   \n",
       "\n",
       "  Sales_Executive_ID Sales_Executive_Category Lead_Source_Category  \\\n",
       "0         SD23011859                        B         Advertisment   \n",
       "1         SD23000293                        B         Advertisment   \n",
       "2         SD23011768                        B         Advertisment   \n",
       "3         SD23011691                        B         Advertisment   \n",
       "4         SD23003031                        B            Reference   \n",
       "\n",
       "        Payment_Mode Product_Category  Transaction_Amount  \n",
       "0  Credit/Debit Card            Cat A               17455  \n",
       "1  Credit/Debit Card            Cat A               16503  \n",
       "2  Credit/Debit Card            Cat A               15012  \n",
       "3  Credit/Debit Card            Cat A               16051  \n",
       "4             Cheque            Cat A               15108  "
      ]
     },
     "execution_count": 125,
     "metadata": {},
     "output_type": "execute_result"
    }
   ],
   "source": [
    "data.head()"
   ]
  },
  {
   "cell_type": "markdown",
   "metadata": {},
   "source": [
    "## Exploratory Data Analysis"
   ]
  },
  {
   "cell_type": "code",
   "execution_count": 126,
   "metadata": {
    "collapsed": false
   },
   "outputs": [],
   "source": [
    "data.loc[:, 'transaction_year'] = data.Transaction_Date.dt.year"
   ]
  },
  {
   "cell_type": "code",
   "execution_count": 201,
   "metadata": {
    "collapsed": false
   },
   "outputs": [],
   "source": [
    "processed_df = data.groupby(['Client_ID', 'transaction_year']).size().unstack(1).fillna(0)"
   ]
  },
  {
   "cell_type": "code",
   "execution_count": 204,
   "metadata": {
    "collapsed": false
   },
   "outputs": [
    {
     "data": {
      "text/plain": [
       "1.0"
      ]
     },
     "execution_count": 204,
     "metadata": {},
     "output_type": "execute_result"
    }
   ],
   "source": [
    "processed_df.ix[345612161][2003]"
   ]
  },
  {
   "cell_type": "code",
   "execution_count": 205,
   "metadata": {
    "collapsed": false
   },
   "outputs": [
    {
     "data": {
      "text/html": [
       "<div>\n",
       "<table border=\"1\" class=\"dataframe\">\n",
       "  <thead>\n",
       "    <tr style=\"text-align: right;\">\n",
       "      <th>transaction_year</th>\n",
       "      <th>2003</th>\n",
       "      <th>2004</th>\n",
       "      <th>2005</th>\n",
       "      <th>2006</th>\n",
       "    </tr>\n",
       "    <tr>\n",
       "      <th>Client_ID</th>\n",
       "      <th></th>\n",
       "      <th></th>\n",
       "      <th></th>\n",
       "      <th></th>\n",
       "    </tr>\n",
       "  </thead>\n",
       "  <tbody>\n",
       "    <tr>\n",
       "      <th>345612161</th>\n",
       "      <td>1</td>\n",
       "      <td>0</td>\n",
       "      <td>0</td>\n",
       "      <td>0</td>\n",
       "    </tr>\n",
       "    <tr>\n",
       "      <th>345612467</th>\n",
       "      <td>1</td>\n",
       "      <td>0</td>\n",
       "      <td>0</td>\n",
       "      <td>0</td>\n",
       "    </tr>\n",
       "    <tr>\n",
       "      <th>345612552</th>\n",
       "      <td>0</td>\n",
       "      <td>0</td>\n",
       "      <td>1</td>\n",
       "      <td>0</td>\n",
       "    </tr>\n",
       "    <tr>\n",
       "      <th>345612557</th>\n",
       "      <td>0</td>\n",
       "      <td>1</td>\n",
       "      <td>0</td>\n",
       "      <td>0</td>\n",
       "    </tr>\n",
       "    <tr>\n",
       "      <th>345612625</th>\n",
       "      <td>1</td>\n",
       "      <td>0</td>\n",
       "      <td>1</td>\n",
       "      <td>0</td>\n",
       "    </tr>\n",
       "  </tbody>\n",
       "</table>\n",
       "</div>"
      ],
      "text/plain": [
       "transaction_year  2003  2004  2005  2006\n",
       "Client_ID                               \n",
       "345612161            1     0     0     0\n",
       "345612467            1     0     0     0\n",
       "345612552            0     0     1     0\n",
       "345612557            0     1     0     0\n",
       "345612625            1     0     1     0"
      ]
     },
     "execution_count": 205,
     "metadata": {},
     "output_type": "execute_result"
    }
   ],
   "source": [
    "processed_df.head()"
   ]
  },
  {
   "cell_type": "markdown",
   "metadata": {},
   "source": [
    "## Model"
   ]
  },
  {
   "cell_type": "code",
   "execution_count": 219,
   "metadata": {
    "collapsed": false
   },
   "outputs": [],
   "source": [
    "def did_purchase(client_id, year):\n",
    "    return int(processed_df.ix[client_id][year] > 0)\n",
    "\n",
    "def first_purchase(client_id, year):\n",
    "    year_range = [2003, 2004, 2005, 2006]\n",
    "    all_other_years = [y for y in year_range if y != year]\n",
    "    \n",
    "    if processed_df.ix[client_id][all_other_years].any():\n",
    "        return 0\n",
    "    elif processed_df.ix[client_id][year] > 0:\n",
    "        return 1\n",
    "    else:\n",
    "        return 0"
   ]
  },
  {
   "cell_type": "code",
   "execution_count": 220,
   "metadata": {
    "collapsed": false
   },
   "outputs": [],
   "source": [
    "def prob_(client_id):\n",
    "    \n",
    "    running_sum = 0\n",
    "    for year_index in range(1, 5):\n",
    "        calculated_year = 2007 - year_index\n",
    "        \n",
    "        did_purchase_val = (0.875 * did_purchase(client_id, calculated_year))\n",
    "        was_it_first_purchase = (0.125 * first_purchase(client_id, calculated_year))\n",
    "        factor = ( 5 - year_index )  ** 2\n",
    "        \n",
    "        running_sum = running_sum + (factor * (did_purchase_val + was_it_first_purchase))\n",
    "        \n",
    "    return (1 / 30.) * ( running_sum )"
   ]
  },
  {
   "cell_type": "code",
   "execution_count": 221,
   "metadata": {
    "collapsed": false
   },
   "outputs": [],
   "source": [
    "client_ids = data.Client_ID.unique()\n",
    "preds = np.array([prob_(client_id) for client_id in client_ids])"
   ]
  },
  {
   "cell_type": "code",
   "execution_count": 226,
   "metadata": {
    "collapsed": false
   },
   "outputs": [],
   "source": [
    "submission = pd.DataFrame({'Client_ID': client_ids, 'Cross_Sell': preds})\n",
    "submission.reset_index().to_csv('./submissions/weighted_parzen.csv', index=False)"
   ]
  },
  {
   "cell_type": "code",
   "execution_count": null,
   "metadata": {
    "collapsed": true
   },
   "outputs": [],
   "source": []
  }
 ],
 "metadata": {
  "kernelspec": {
   "display_name": "Python 2",
   "language": "python",
   "name": "python2"
  },
  "language_info": {
   "codemirror_mode": {
    "name": "ipython",
    "version": 2
   },
   "file_extension": ".py",
   "mimetype": "text/x-python",
   "name": "python",
   "nbconvert_exporter": "python",
   "pygments_lexer": "ipython2",
   "version": "2.7.11"
  }
 },
 "nbformat": 4,
 "nbformat_minor": 0
}
