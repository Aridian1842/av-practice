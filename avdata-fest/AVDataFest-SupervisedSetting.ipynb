{
 "cells": [
  {
   "cell_type": "code",
   "execution_count": 138,
   "metadata": {
    "collapsed": true
   },
   "outputs": [],
   "source": [
    "import pandas as pd\n",
    "import numpy as np\n",
    "\n",
    "import matplotlib.pyplot as plt\n",
    "import seaborn as sns\n",
    "\n",
    "import warnings\n",
    "warnings.filterwarnings('ignore')\n",
    "\n",
    "from sklearn.ensemble import RandomForestClassifier, ExtraTreesClassifier\n",
    "from sklearn.metrics import roc_auc_score\n",
    "from sklearn.preprocessing import LabelEncoder\n",
    "from xgboost import XGBClassifier\n",
    "\n",
    "%matplotlib inline"
   ]
  },
  {
   "cell_type": "code",
   "execution_count": 139,
   "metadata": {
    "collapsed": true
   },
   "outputs": [],
   "source": [
    "# date-parser\n",
    "date_parser_func = lambda x: pd.datetime.strptime(x, '%d-%b-%y')"
   ]
  },
  {
   "cell_type": "code",
   "execution_count": 140,
   "metadata": {
    "collapsed": true
   },
   "outputs": [],
   "source": [
    "data = pd.read_csv('./data/Train_seers_accuracy.csv', parse_dates=['Transaction_Date', 'DOB'], date_parser=date_parser_func)\n",
    "sub = pd.read_csv('./data/Sample_K7zT2mf.csv')"
   ]
  },
  {
   "cell_type": "code",
   "execution_count": 141,
   "metadata": {
    "collapsed": false
   },
   "outputs": [],
   "source": [
    "data.loc[:, 'transaction_year'] = data.Transaction_Date.dt.year\n",
    "data.loc[:, 'Purchased_in_Sale'] = (data.Purchased_in_Sale=='Y').astype(int)\n",
    "data.loc[:, 'Referred_Friend'] = (data.Referred_Friend=='YES').astype(int)"
   ]
  },
  {
   "cell_type": "code",
   "execution_count": 142,
   "metadata": {
    "collapsed": false
   },
   "outputs": [],
   "source": [
    "categorical_features = ['Gender', 'Lead_Source_Category', 'Sales_Executive_Category', 'Sales_Executive_ID', \\\n",
    "                        'Store_ID', 'Payment_Mode', 'Product_Category']\n",
    "\n",
    "for feat in categorical_features:\n",
    "    lbl = LabelEncoder()\n",
    "    lbl.fit(data[feat])\n",
    "    \n",
    "    data[feat] = lbl.fit_transform(data[feat])\n",
    "    "
   ]
  },
  {
   "cell_type": "code",
   "execution_count": 143,
   "metadata": {
    "collapsed": false
   },
   "outputs": [],
   "source": [
    "assert data.isnull().any().sum() == 0"
   ]
  },
  {
   "cell_type": "markdown",
   "metadata": {},
   "source": [
    "## Split into training and test sets"
   ]
  },
  {
   "cell_type": "code",
   "execution_count": 144,
   "metadata": {
    "collapsed": true
   },
   "outputs": [],
   "source": [
    "mask = data.Transaction_Date < pd.to_datetime('2006-01-01')\n",
    "X = data[mask]\n",
    "X_test = data[~mask]\n",
    "\n",
    "transaction_freq_map_train = data[mask].Client_ID.value_counts().map(lambda x: int(x > 1)).to_dict()\n",
    "transaction_freq_map_test = data[~mask].Client_ID.value_counts().map(lambda x: int(x > 1)).to_dict()\n",
    "\n",
    "y = X.Client_ID.map(lambda x: transaction_freq_map_train[x] if x in transaction_freq_map_train else 0)\n",
    "y_test = X_test.Client_ID.map(lambda x: transaction_freq_map_test[x] if x in transaction_freq_map_test else 0)"
   ]
  },
  {
   "cell_type": "code",
   "execution_count": 145,
   "metadata": {
    "collapsed": false
   },
   "outputs": [],
   "source": [
    "assert X.shape[0] == y.shape[0]\n",
    "assert X_test.shape[0] == y_test.shape[0]"
   ]
  },
  {
   "cell_type": "markdown",
   "metadata": {},
   "source": [
    "## Features"
   ]
  },
  {
   "cell_type": "code",
   "execution_count": 163,
   "metadata": {
    "collapsed": true
   },
   "outputs": [],
   "source": [
    "features = ['Client_ID','Store_ID', 'Number_of_EMI', 'Var1', 'Var2', 'Var3',\\\n",
    "            'Gender', 'Referred_Friend', 'Sales_Executive_ID', 'Sales_Executive_Category', 'Lead_Source_Category',\\\n",
    "            'Payment_Mode', 'Product_Category', 'Transaction_Amount', 'transaction_year']"
   ]
  },
  {
   "cell_type": "code",
   "execution_count": 169,
   "metadata": {
    "collapsed": false
   },
   "outputs": [
    {
     "data": {
      "text/plain": [
       "RandomForestClassifier(bootstrap=True, class_weight='auto', criterion='gini',\n",
       "            max_depth=8, max_features='sqrt', max_leaf_nodes=None,\n",
       "            min_samples_leaf=1, min_samples_split=2,\n",
       "            min_weight_fraction_leaf=0.0, n_estimators=100, n_jobs=-1,\n",
       "            oob_score=False, random_state=None, verbose=0,\n",
       "            warm_start=False)"
      ]
     },
     "execution_count": 169,
     "metadata": {},
     "output_type": "execute_result"
    }
   ],
   "source": [
    "est = RandomForestClassifier(n_estimators=100, max_depth=8, max_features='sqrt', class_weight='auto', n_jobs=-1)\n",
    "est.fit(X[features], y)"
   ]
  },
  {
   "cell_type": "code",
   "execution_count": 170,
   "metadata": {
    "collapsed": true
   },
   "outputs": [],
   "source": [
    "predsTrain = est.predict_proba(X[features])[:, 1]\n",
    "predsTest = est.predict_proba(X_test[features])[:, 1]"
   ]
  },
  {
   "cell_type": "code",
   "execution_count": 171,
   "metadata": {
    "collapsed": true
   },
   "outputs": [],
   "source": [
    "assert predsTrain.shape[0] == y.shape[0]\n",
    "assert predsTest.shape[0] == y_test.shape[0]"
   ]
  },
  {
   "cell_type": "code",
   "execution_count": 172,
   "metadata": {
    "collapsed": false
   },
   "outputs": [
    {
     "name": "stdout",
     "output_type": "stream",
     "text": [
      "ROC AUC score on training set 0.810671 \n",
      "ROC AUC score on test set 0.765770 \n"
     ]
    }
   ],
   "source": [
    "print 'ROC AUC score on training set %f ' %(roc_auc_score(y, predsTrain))\n",
    "print 'ROC AUC score on test set %f ' %(roc_auc_score(y_test, predsTest))"
   ]
  },
  {
   "cell_type": "markdown",
   "metadata": {},
   "source": [
    "## Submission"
   ]
  },
  {
   "cell_type": "code",
   "execution_count": 179,
   "metadata": {
    "collapsed": false
   },
   "outputs": [
    {
     "data": {
      "text/plain": [
       "RandomForestClassifier(bootstrap=True, class_weight='auto', criterion='gini',\n",
       "            max_depth=8, max_features='sqrt', max_leaf_nodes=None,\n",
       "            min_samples_leaf=1, min_samples_split=2,\n",
       "            min_weight_fraction_leaf=0.0, n_estimators=100, n_jobs=-1,\n",
       "            oob_score=False, random_state=None, verbose=0,\n",
       "            warm_start=False)"
      ]
     },
     "execution_count": 179,
     "metadata": {},
     "output_type": "execute_result"
    }
   ],
   "source": [
    "est.fit(X_test[features], y_test)"
   ]
  },
  {
   "cell_type": "code",
   "execution_count": 180,
   "metadata": {
    "collapsed": false
   },
   "outputs": [],
   "source": [
    "data.loc[:, 'Cross_Sell'] = est.predict_proba(data[features])[:, 1]"
   ]
  },
  {
   "cell_type": "code",
   "execution_count": 182,
   "metadata": {
    "collapsed": false
   },
   "outputs": [],
   "source": [
    "data.groupby(['Client_ID'])['Cross_Sell'].mean().reset_index().to_csv('./submissions/supervised_setting_rf.csv', index=False)"
   ]
  },
  {
   "cell_type": "code",
   "execution_count": null,
   "metadata": {
    "collapsed": true
   },
   "outputs": [],
   "source": []
  }
 ],
 "metadata": {
  "kernelspec": {
   "display_name": "Python 2",
   "language": "python",
   "name": "python2"
  },
  "language_info": {
   "codemirror_mode": {
    "name": "ipython",
    "version": 2
   },
   "file_extension": ".py",
   "mimetype": "text/x-python",
   "name": "python",
   "nbconvert_exporter": "python",
   "pygments_lexer": "ipython2",
   "version": "2.7.11"
  }
 },
 "nbformat": 4,
 "nbformat_minor": 0
}
