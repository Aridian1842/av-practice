{
 "cells": [
  {
   "cell_type": "code",
   "execution_count": 162,
   "metadata": {
    "collapsed": false
   },
   "outputs": [],
   "source": [
    "import numpy as np\n",
    "import pandas as pd\n",
    "\n",
    "from sklearn.linear_model import LogisticRegression\n",
    "from sklearn.ensemble import RandomForestClassifier, GradientBoostingClassifier, ExtraTreesClassifier\n",
    "from sklearn.ensemble import BaggingClassifier, AdaBoostClassifier\n",
    "from sklearn.cross_validation import train_test_split\n",
    "from sklearn.preprocessing import StandardScaler, LabelEncoder\n",
    "from sklearn.pipeline import Pipeline\n",
    "from sklearn.neighbors import KNeighborsClassifier\n",
    "from sklearn.feature_selection import SelectKBest, chi2\n",
    "from sklearn.cross_validation import cross_val_score, KFold\n",
    "\n",
    "from sklearn.preprocessing import LabelEncoder\n",
    "\n",
    "from sklearn.metrics import roc_auc_score, roc_curve, auc\n",
    "\n",
    "from datetime import datetime\n",
    "\n",
    "\n",
    "import matplotlib.pyplot as plt\n",
    "import seaborn as sns\n",
    "\n",
    "%matplotlib inline"
   ]
  },
  {
   "cell_type": "markdown",
   "metadata": {},
   "source": [
    "## Set random seed"
   ]
  },
  {
   "cell_type": "code",
   "execution_count": 105,
   "metadata": {
    "collapsed": true
   },
   "outputs": [],
   "source": [
    "np.random.seed(1279)"
   ]
  },
  {
   "cell_type": "markdown",
   "metadata": {},
   "source": [
    "## Majority Voting Classifier"
   ]
  },
  {
   "cell_type": "code",
   "execution_count": 2,
   "metadata": {
    "collapsed": true
   },
   "outputs": [],
   "source": [
    "from sklearn.base import BaseEstimator, ClassifierMixin, clone\n",
    "from sklearn.externals import six\n",
    "from sklearn.pipeline import _name_estimators\n",
    "import operator"
   ]
  },
  {
   "cell_type": "code",
   "execution_count": 76,
   "metadata": {
    "collapsed": true
   },
   "outputs": [],
   "source": [
    "class MajorityVoteClassifier(BaseEstimator, ClassifierMixin):\n",
    "    \n",
    "    def __init__(self, classifiers, vote='classlabel', weights=None):\n",
    "        \n",
    "        self.classifiers = classifiers\n",
    "        self.named_classifiers = {key: value for key, value in _name_estimators(classifiers)}\n",
    "        \n",
    "        self.vote = vote\n",
    "        self.weights = weights\n",
    "    \n",
    "    def fit(self, X, y):\n",
    "        \n",
    "        self.labelenc_ = LabelEncoder()\n",
    "        self.labelenc_.fit(y)\n",
    "        self.classes_ = self.labelenc_.classes_\n",
    "        self.classifiers_ = []\n",
    "        \n",
    "        for clf in self.classifiers:\n",
    "            fitted_clf = clone(clf).fit(X, self.labelenc_.transform(y))\n",
    "            self.classifiers_.append(fitted_clf)\n",
    "        \n",
    "        return self\n",
    "    \n",
    "    def predict(self, X):\n",
    "        \n",
    "        if self.vote == 'probability':\n",
    "            maj_vote = np.argmax(self.predict_proba(X), axis=1)\n",
    "        else:\n",
    "            predictions = np.asarray([clf.predict(X) for clf in self.classifiers_]).T\n",
    "            \n",
    "            maj_vote = np.apply_along_axis(lambda x: np.argmax(np.bincount(X, weights=self.weights)), \n",
    "                                           axis=1, arr=predictions)\n",
    "            maj_vote = self.labelenc_.inverse_transform(maj_vote)\n",
    "            return maj_vote\n",
    "    \n",
    "    def predict_proba(self, X):\n",
    "        \n",
    "        probas = np.asarray([clf.predict_proba(X) for clf in self.classifiers_])\n",
    "        avg_proba = np.average(probas, axis=0, weights=self.weights)\n",
    "        \n",
    "        return avg_proba\n",
    "    \n",
    "    def get_params(self, deep=True):\n",
    "        if not deep:\n",
    "            return super(MajorityVoteClassifier, self).get_params(deep=False)\n",
    "        else:\n",
    "            out = self.named_classifiers.copy()\n",
    "            for name, step in \\\n",
    "                six.iteritems(self.named_classifiers):\n",
    "                for key, value in six.iteritems(\n",
    "                    step.get_params(deep=False)):\n",
    "                    out['%s__%s' %(name, key)] = value\n",
    "            return out"
   ]
  },
  {
   "cell_type": "markdown",
   "metadata": {},
   "source": [
    "## Loading Files"
   ]
  },
  {
   "cell_type": "code",
   "execution_count": null,
   "metadata": {
    "collapsed": false
   },
   "outputs": [],
   "source": [
    "train = pd.read_csv('../data/train.csv', low_memory=False, parse_dates=['Earliest_Start_Date'])\n",
    "students = pd.read_csv('../data/Student.csv')\n",
    "internship = pd.read_csv('../data/Internship.csv')\n",
    "test = pd.read_csv('../data/test.csv')"
   ]
  },
  {
   "cell_type": "code",
   "execution_count": null,
   "metadata": {
    "collapsed": false
   },
   "outputs": [],
   "source": [
    "# one_hot_encoded_skill_features = internship.columns[13:]\n",
    "internship = internship[internship.columns.drop(one_hot_encoded_skill_features)]"
   ]
  },
  {
   "cell_type": "markdown",
   "metadata": {},
   "source": [
    "## Merge with internship details"
   ]
  },
  {
   "cell_type": "code",
   "execution_count": null,
   "metadata": {
    "collapsed": true
   },
   "outputs": [],
   "source": [
    "train_with_internship = pd.merge(train, internship, how='left', on='Internship_ID')\n",
    "test_with_internship = pd.merge(test, internship, how='left', on='Internship_ID')"
   ]
  },
  {
   "cell_type": "markdown",
   "metadata": {},
   "source": [
    "## Merge with student details"
   ]
  },
  {
   "cell_type": "code",
   "execution_count": null,
   "metadata": {
    "collapsed": false
   },
   "outputs": [],
   "source": [
    "def feature_engineer(df):\n",
    "    df['num_experience'] = df.shape[0]\n",
    "    df['num_exp_in_job'] = (df.Experience_Type  == 'job').sum()\n",
    "    df['num_awards'] = (df.Experience_Type  == 'award').sum()\n",
    "    df['num_previous_internships'] = (df.Experience_Type == 'internship').sum()\n",
    "    \n",
    "    return df\n",
    "\n",
    "students_cleaned = students.groupby('Student_ID').apply(feature_engineer)\n",
    "students_cleaned = students_cleaned.groupby('Student_ID').first()\n",
    "students_cleaned = students_cleaned.reset_index()\n",
    "\n",
    "train_merged = pd.merge(train_with_internship, students_cleaned, on='Student_ID', how='left')\n",
    "test_merged = pd.merge(test_with_internship, students_cleaned, on='Student_ID', how='left')"
   ]
  },
  {
   "cell_type": "code",
   "execution_count": null,
   "metadata": {
    "collapsed": true
   },
   "outputs": [],
   "source": [
    "# save these engineered files so that we don't have to create them every time\n",
    "train_merged.to_csv('../data/train_merged.csv', index=False)\n",
    "test_merged.to_csv('../data/test_merged.csv', index=False)"
   ]
  },
  {
   "cell_type": "markdown",
   "metadata": {},
   "source": [
    "## Load prepared datasets"
   ]
  },
  {
   "cell_type": "code",
   "execution_count": 106,
   "metadata": {
    "collapsed": false
   },
   "outputs": [],
   "source": [
    "date_columns = ['Earliest_Start_Date', 'Start_Date', 'Start Date', 'End Date', 'Internship_deadline']\n",
    "\n",
    "train_merged = pd.read_csv('../data/train_merged.csv', parse_dates=date_columns)\n",
    "test_merged = pd.read_csv('../data/test_merged.csv', parse_dates=date_columns)"
   ]
  },
  {
   "cell_type": "markdown",
   "metadata": {},
   "source": [
    "## Missing values"
   ]
  },
  {
   "cell_type": "code",
   "execution_count": 107,
   "metadata": {
    "collapsed": true
   },
   "outputs": [],
   "source": [
    "train_merged.Stipend1 = train_merged.Stipend1.fillna(train_merged.Stipend1.mean())"
   ]
  },
  {
   "cell_type": "markdown",
   "metadata": {
    "collapsed": false
   },
   "source": [
    "## Feature Engineering"
   ]
  },
  {
   "cell_type": "code",
   "execution_count": 108,
   "metadata": {
    "collapsed": true
   },
   "outputs": [],
   "source": [
    "# convert salary from numerical to categorical variable\n",
    "\n",
    "def salary_mapping(salary):\n",
    "    if salary < 2000:\n",
    "        return 'No Expectations'\n",
    "    elif salary >= 2000 and salary < 5000:\n",
    "        return '2-5K'\n",
    "    elif salary >= 5000 and salary < 10000:\n",
    "        return '5-10K'\n",
    "    else:\n",
    "        return '10K+'"
   ]
  },
  {
   "cell_type": "code",
   "execution_count": 109,
   "metadata": {
    "collapsed": false
   },
   "outputs": [],
   "source": [
    "train_merged.loc[:, 'Stipend_level'] = train_merged.Stipend1.map(salary_mapping)\n",
    "test_merged.loc[:, 'Stipend_level'] = test_merged.Stipend1.map(salary_mapping)"
   ]
  },
  {
   "cell_type": "code",
   "execution_count": 110,
   "metadata": {
    "collapsed": true
   },
   "outputs": [],
   "source": [
    "# utility function to get average stipend by year of graduation\n",
    "\n",
    "def get_mean_stipend(df):\n",
    "    year_of_grad = df['Year_of_graduation'].unique()\n",
    "    mapping = {}\n",
    "    \n",
    "    for year in year_of_grad:\n",
    "        mapping[year] = df[df['Year_of_graduation'] == year].Stipend1.mean()\n",
    "    \n",
    "    return mapping\n",
    "\n",
    "train_map = get_mean_stipend(train_merged)\n",
    "test_map = get_mean_stipend(test_merged)"
   ]
  },
  {
   "cell_type": "code",
   "execution_count": 111,
   "metadata": {
    "collapsed": false
   },
   "outputs": [],
   "source": [
    "# calculate expectation level to see if it matches with current experience of student\n",
    "\n",
    "def calculate_expectation_level_train(row):\n",
    "    year_of_grad = row['Year_of_graduation']\n",
    "    mean_stipend = train_map[year_of_grad]\n",
    "    stipend1 = row['Stipend1']\n",
    "    \n",
    "    return int ( stipend1 < mean_stipend ) \n",
    "\n",
    "def calculate_expectation_level_test(row):\n",
    "    year_of_grad = row['Year_of_graduation']\n",
    "    mean_stipend = test_map[year_of_grad]\n",
    "    stipend1 = row['Stipend1']\n",
    "    \n",
    "    return int ( stipend1 < mean_stipend ) \n",
    "\n",
    "\n",
    "train_merged.loc[:, 'stipend_expectation_by_exp'] = train_merged.apply(calculate_expectation_level_train, axis=1)\n",
    "test_merged.loc[:, 'stipend_expectation_by_exp'] = test_merged.apply(calculate_expectation_level_test, axis=1)"
   ]
  },
  {
   "cell_type": "code",
   "execution_count": 112,
   "metadata": {
    "collapsed": false
   },
   "outputs": [],
   "source": [
    "# match expectation\n",
    "\n",
    "def check_if_expectations_match(row):\n",
    "    expected_stipend = row['Expected_Stipend']\n",
    "    stipend_level = row['Stipend_level']\n",
    "    \n",
    "    if expected_stipend == 'No Expectations':\n",
    "        return 1\n",
    "    elif expected_stipend == '2-5K':\n",
    "        if stipend_level in ['2-5K', '5-10K', '10K+']:\n",
    "            return 1\n",
    "        else:\n",
    "            return 0\n",
    "    elif expected_stipend == '5-10K':\n",
    "        if stipend_level in ['5-10K', '10K+']:\n",
    "            return 1\n",
    "        else:\n",
    "            return 0\n",
    "    elif expected_stipend == '10K+':\n",
    "        if stipend_level == '10K+':\n",
    "            return 1\n",
    "        else:\n",
    "            return 0\n",
    "\n",
    "train_merged.loc[:, 'expectations_match'] = train_merged[['Expected_Stipend', 'Stipend_level']].apply(check_if_expectations_match, axis=1)\n",
    "test_merged.loc[:, 'expectations_match'] = test_merged[['Expected_Stipend', 'Stipend_level']].apply(check_if_expectations_match, axis=1)"
   ]
  },
  {
   "cell_type": "code",
   "execution_count": 113,
   "metadata": {
    "collapsed": true
   },
   "outputs": [],
   "source": [
    "# map percentages to categorical variables\n",
    "\n",
    "def percentage_to_grade(percentage):\n",
    "    if percentage < 40.0:\n",
    "        return 'F'\n",
    "    elif percentage >= 40.0 and percentage < 50.0:\n",
    "        return 'E'\n",
    "    elif percentage >= 50.0 and percentage < 60.0:\n",
    "        return 'D'\n",
    "    elif percentage >= 60.0 and percentage < 70.0:\n",
    "        return 'C'\n",
    "    elif percentage >= 70.0 and percentage < 80.0:\n",
    "        return 'B'\n",
    "    else:\n",
    "        return 'A'"
   ]
  },
  {
   "cell_type": "code",
   "execution_count": 114,
   "metadata": {
    "collapsed": true
   },
   "outputs": [],
   "source": [
    "# fix pg_performace by scale\n",
    "\n",
    "def fix_pg_performance(row):\n",
    "    scale = row['PG_scale']\n",
    "    score = row['Performance_PG']\n",
    "    \n",
    "    if score == 10:\n",
    "        return score * 10.\n",
    "    else:\n",
    "        return score\n",
    "\n",
    "# fix ug_performace by scale\n",
    "\n",
    "def fix_ug_performance(row):\n",
    "    scale = row['UG_Scale']\n",
    "    score = row['Performance_UG']\n",
    "    \n",
    "    if score == 10:\n",
    "        return score * 10.\n",
    "    else:\n",
    "        return score\n",
    "\n",
    "# fix percentages and then convert them to categorical variables\n",
    "train_merged.loc[:, 'Performance_PG'] = train_merged.apply(fix_pg_performance, axis=1)\n",
    "test_merged.loc[:, 'Performance_PG'] = test_merged.apply(fix_pg_performance, axis=1)\n",
    "\n",
    "train_merged.loc[:, 'Performance_UG'] = train_merged.apply(fix_ug_performance, axis=1)\n",
    "test_merged.loc[:, 'Performance_UG'] = test_merged.apply(fix_ug_performance, axis=1)\n",
    "\n",
    "\n",
    "train_merged.loc[:, 'Performance_PG'] = train_merged.Performance_PG.map(percentage_to_grade)\n",
    "test_merged.loc[:, 'Performance_PG'] = test_merged.Performance_PG.map(percentage_to_grade)\n",
    "\n",
    "train_merged.loc[:, 'Performance_UG'] = train_merged.Performance_UG.map(percentage_to_grade)\n",
    "test_merged.loc[:, 'Performance_UG'] = test_merged.Performance_UG.map(percentage_to_grade)"
   ]
  },
  {
   "cell_type": "code",
   "execution_count": 115,
   "metadata": {
    "collapsed": true
   },
   "outputs": [],
   "source": [
    "# convert 12th and 10th class percentages to categorical variables\n",
    "\n",
    "train_merged.loc[:, 'Performance_12th'] = train_merged.Performance_12th.map(percentage_to_grade)\n",
    "test_merged.loc[:, 'Performance_12th'] = test_merged.Performance_12th.map(percentage_to_grade)\n",
    "\n",
    "train_merged.loc[:, 'Performance_10th'] = train_merged.Performance_10th.map(percentage_to_grade)\n",
    "test_merged.loc[:, 'Performance_10th'] = test_merged.Performance_10th.map(percentage_to_grade)"
   ]
  },
  {
   "cell_type": "code",
   "execution_count": 116,
   "metadata": {
    "collapsed": true
   },
   "outputs": [],
   "source": [
    "# whether earliest start date month was in December or January\n",
    "train_merged.loc[:, 'Earliest_Start_Date_month'] = train_merged.Earliest_Start_Date.dt.month\n",
    "test_merged.loc[:, 'Earliest_Start_Date_month'] = test_merged.Earliest_Start_Date.dt.month\n",
    "\n",
    "train_merged.loc[:, 'is_Dec_or_Jan'] = train_merged.Earliest_Start_Date_month.map(lambda x: int(x == 12 or x == 1))\n",
    "test_merged.loc[:, 'is_Dec_or_Jan'] = test_merged.Earliest_Start_Date_month.map(lambda x: int(x == 12 or x == 1))"
   ]
  },
  {
   "cell_type": "code",
   "execution_count": 117,
   "metadata": {
    "collapsed": true
   },
   "outputs": [],
   "source": [
    "# student application count\n",
    "application_count = train_merged.groupby('Student_ID').size()\n",
    "application_count_test = test_merged.groupby('Student_ID').size()\n",
    "\n",
    "train_merged.loc[:, 'whether_applied_previously'] = train_merged.Student_ID.map(lambda x: int( application_count.ix[x] > 1 ))\n",
    "test_merged.loc[:, 'whether_applied_previously'] = test_merged.Student_ID.map(lambda x: int( application_count_test.ix[x] > 1 ))"
   ]
  },
  {
   "cell_type": "code",
   "execution_count": 118,
   "metadata": {
    "collapsed": true
   },
   "outputs": [],
   "source": [
    "# whether you have mentioned anything in your profile or not\n",
    "train_merged.loc[:, 'missing_profile'] = train_merged.Profile.isnull().astype(np.int)\n",
    "test_merged.loc[:, 'missing_profile'] = test_merged.Profile.isnull().astype(np.int)"
   ]
  },
  {
   "cell_type": "code",
   "execution_count": 119,
   "metadata": {
    "collapsed": true
   },
   "outputs": [],
   "source": [
    "# internship has mentioned skills required\n",
    "train_merged.loc[:, 'missing_skills_required'] = train_merged.Skills_required.isnull().astype(np.int)\n",
    "test_merged.loc[:, 'missing_skills_required'] = test_merged.Skills_required.isnull().astype(np.int)"
   ]
  },
  {
   "cell_type": "markdown",
   "metadata": {},
   "source": [
    "## Label Encoding Categorical Features"
   ]
  },
  {
   "cell_type": "code",
   "execution_count": 121,
   "metadata": {
    "collapsed": false
   },
   "outputs": [],
   "source": [
    "categorical_features = train_merged.select_dtypes(include=['object']).columns\n",
    "\n",
    "for feature in categorical_features:\n",
    "    lbl = LabelEncoder()\n",
    "    feature_range = pd.concat([train_merged[feature], test_merged[feature]], axis=0)\n",
    "    \n",
    "    lbl.fit(feature_range)\n",
    "    train_merged.loc[:, feature] = lbl.transform(train_merged[feature])\n",
    "    test_merged.loc[:, feature] = lbl.transform(test_merged[feature])"
   ]
  },
  {
   "cell_type": "code",
   "execution_count": 122,
   "metadata": {
    "collapsed": true
   },
   "outputs": [],
   "source": [
    "# fill missing value with 999\n",
    "\n",
    "train_merged = train_merged.fillna(999)\n",
    "test_merged = test_merged.fillna(999)"
   ]
  },
  {
   "cell_type": "markdown",
   "metadata": {},
   "source": [
    "## Save dataset"
   ]
  },
  {
   "cell_type": "code",
   "execution_count": 216,
   "metadata": {
    "collapsed": true
   },
   "outputs": [],
   "source": [
    "train_merged.to_csv('../data/train_merged_encoded.csv', index=False)\n",
    "test_merged.to_csv('../data/test_merged_encoded.csv', index=False)"
   ]
  },
  {
   "cell_type": "markdown",
   "metadata": {},
   "source": [
    "## Data Preparation"
   ]
  },
  {
   "cell_type": "code",
   "execution_count": 123,
   "metadata": {
    "collapsed": false
   },
   "outputs": [],
   "source": [
    "features_to_drop = ['Earliest_Start_Date', 'Start_Date', 'Start Date', 'End Date',\n",
    "                    'Is_Shortlisted', 'Internship_deadline', 'PG_scale', 'UG_Scale']\n",
    "\n",
    "# features_to_drop.extend(list(train_merged.columns[20:293]))\n",
    "features = train_merged.columns.drop(features_to_drop)"
   ]
  },
  {
   "cell_type": "code",
   "execution_count": 124,
   "metadata": {
    "collapsed": false
   },
   "outputs": [],
   "source": [
    "X = train_merged[features]\n",
    "y = train_merged.Is_Shortlisted"
   ]
  },
  {
   "cell_type": "code",
   "execution_count": 125,
   "metadata": {
    "collapsed": false
   },
   "outputs": [],
   "source": [
    "# take a random sample of a given size\n",
    "random_sample = np.random.randint(0, X.shape[0], size=15000)"
   ]
  },
  {
   "cell_type": "code",
   "execution_count": 126,
   "metadata": {
    "collapsed": true
   },
   "outputs": [],
   "source": [
    "X_train = X.iloc[random_sample]\n",
    "y_train = y.iloc[random_sample]"
   ]
  },
  {
   "cell_type": "code",
   "execution_count": 127,
   "metadata": {
    "collapsed": true
   },
   "outputs": [],
   "source": [
    "# consider those internships which are not in the training set\n",
    "test_index = X[~X.Internship_ID.isin(X_train.Internship_ID)].index"
   ]
  },
  {
   "cell_type": "code",
   "execution_count": 128,
   "metadata": {
    "collapsed": false
   },
   "outputs": [],
   "source": [
    "X_test = X.ix[test_index]\n",
    "y_test = y.ix[test_index]"
   ]
  },
  {
   "cell_type": "code",
   "execution_count": 129,
   "metadata": {
    "collapsed": false
   },
   "outputs": [
    {
     "name": "stdout",
     "output_type": "stream",
     "text": [
      "(15000, 315) (10212, 315) (15000,) (10212,)\n"
     ]
    }
   ],
   "source": [
    "print X_train.shape, X_test.shape, y_train.shape, y_test.shape"
   ]
  },
  {
   "cell_type": "markdown",
   "metadata": {},
   "source": [
    "## Classification pipeline"
   ]
  },
  {
   "cell_type": "code",
   "execution_count": 217,
   "metadata": {
    "collapsed": false
   },
   "outputs": [],
   "source": [
    "# feature selection\n",
    "select = SelectKBest(chi2, k=60)\n",
    "\n",
    "# feature scaling\n",
    "scaler = StandardScaler()\n",
    "\n",
    "# linear model\n",
    "lr = LogisticRegression(C=1., penalty='l1')\n",
    "\n",
    "# random forest classifier\n",
    "rf = RandomForestClassifier(n_estimators=25, max_depth=4, min_samples_split=10, min_samples_leaf=10, n_jobs=-1)\n",
    "\n",
    "# bagging classifier\n",
    "bagging = BaggingClassifier(n_estimators=15, base_estimator=rf, n_jobs=-1)\n",
    "\n",
    "# adaboost classifier\n",
    "adaboost = AdaBoostClassifier(base_estimator=rf, n_estimators=50)\n",
    "\n",
    "# gradient boosting machine\n",
    "gbm = GradientBoostingClassifier(subsample=0.8, min_samples_split=10, min_samples_leaf=3)\n",
    "\n",
    "# knn\n",
    "knn = KNeighborsClassifier(n_neighbors=7, weights='distance', n_jobs=-1)\n",
    "\n",
    "pipe_lr = Pipeline([('select', select), ('scaler', scaler), ('clf', lr)])\n",
    "pipe_rf = Pipeline([('select', select), ('clf', rf)])\n",
    "pipe_bagging = Pipeline([('select', select), ('clf', bagging)])\n",
    "pipe_adaboost = Pipeline([('select', select), ('clf', adaboost)])\n",
    "pipe_gbm = Pipeline([('select', select), ('clf', gbm)])\n",
    "pipe_knn = Pipeline([('select', select), ('scaler', scaler), ('clf', knn)])"
   ]
  },
  {
   "cell_type": "code",
   "execution_count": 218,
   "metadata": {
    "collapsed": true
   },
   "outputs": [],
   "source": [
    "clf_labels = ['Logistic Regression', 'Ada Boost Classifier', 'Gradient Boosting Machine']"
   ]
  },
  {
   "cell_type": "markdown",
   "metadata": {},
   "source": [
    "## Cross validation"
   ]
  },
  {
   "cell_type": "code",
   "execution_count": 219,
   "metadata": {
    "collapsed": true
   },
   "outputs": [],
   "source": [
    "def cv(estimators, clf_labels, X, y, cv=3, train_size=10000):\n",
    "    \n",
    "    for clf, label in zip(estimators, clf_labels):\n",
    "        scores = []\n",
    "        for i in range(cv):\n",
    "            train_index = np.random.permutation(train_size)\n",
    "\n",
    "            X_train = X.iloc[train_index]\n",
    "            y_train = y.iloc[train_index]\n",
    "\n",
    "            test_index = X[~X.Internship_ID.isin(X_train.Internship_ID)].index\n",
    "\n",
    "            X_test = X.ix[test_index]\n",
    "            y_test = y.ix[test_index]\n",
    "            \n",
    "            clf.fit(X_train, y_train)\n",
    "            \n",
    "            predsTest = clf.predict_proba(X_test)[:, 1]\n",
    "            score = roc_auc_score(y_test, predsTest)\n",
    "            scores.append(score)\n",
    "        \n",
    "        print 'ROC AUC: %0.2f (+/- %0.2f) [%s]' %(np.mean(scores), np.std(scores), label)"
   ]
  },
  {
   "cell_type": "code",
   "execution_count": 220,
   "metadata": {
    "collapsed": false
   },
   "outputs": [
    {
     "name": "stdout",
     "output_type": "stream",
     "text": [
      "ROC AUC: 0.62 (+/- 0.00) [Logistic Regression]\n",
      "ROC AUC: 0.61 (+/- 0.00) [Ada Boost Classifier]\n",
      "ROC AUC: 0.63 (+/- 0.01) [Gradient Boosting Machine]\n"
     ]
    }
   ],
   "source": [
    "cv([pipe_lr, pipe_bagging, pipe_gbm], clf_labels, X_train, y_train)"
   ]
  },
  {
   "cell_type": "code",
   "execution_count": 221,
   "metadata": {
    "collapsed": false
   },
   "outputs": [],
   "source": [
    "## Add in our majority classifier\n",
    "mv_clf = MajorityVoteClassifier(classifiers=[pipe_lr, pipe_bagging, pipe_gbm], weights=[0.2, 0.4, 0.4])"
   ]
  },
  {
   "cell_type": "code",
   "execution_count": 222,
   "metadata": {
    "collapsed": true
   },
   "outputs": [],
   "source": [
    "clf_labels += ['Majority Voting']"
   ]
  },
  {
   "cell_type": "code",
   "execution_count": 223,
   "metadata": {
    "collapsed": true
   },
   "outputs": [],
   "source": [
    "all_clfs = [pipe_lr, pipe_adaboost, pipe_gbm, mv_clf]"
   ]
  },
  {
   "cell_type": "code",
   "execution_count": 224,
   "metadata": {
    "collapsed": false
   },
   "outputs": [
    {
     "name": "stdout",
     "output_type": "stream",
     "text": [
      "ROC AUC: 0.62 (+/- 0.00) [Logistic Regression]\n",
      "ROC AUC: 0.62 (+/- 0.01) [Ada Boost Classifier]\n",
      "ROC AUC: 0.62 (+/- 0.01) [Gradient Boosting Machine]\n",
      "ROC AUC: 0.62 (+/- 0.00) [Majority Voting]\n"
     ]
    }
   ],
   "source": [
    "cv(all_clfs, clf_labels, X_train, y_train)"
   ]
  },
  {
   "cell_type": "markdown",
   "metadata": {},
   "source": [
    "** Majority voting performs better than any of the individual classifiers **"
   ]
  },
  {
   "cell_type": "code",
   "execution_count": 213,
   "metadata": {
    "collapsed": false
   },
   "outputs": [
    {
     "data": {
      "text/plain": [
       "MajorityVoteClassifier(classifiers=[Pipeline(steps=[('select', SelectKBest(k=75, score_func=<function chi2 at 0x113107a28>)), ('scaler', StandardScaler(copy=True, with_mean=True, with_std=True)), ('clf', LogisticRegression(C=1.0, class_weight=None, dual=False, fit_intercept=True,\n",
       "          intercept_scaling=1, max_iter=10...    presort='auto', random_state=None, subsample=1.0, verbose=0,\n",
       "              warm_start=False))])],\n",
       "            vote='classlabel', weights=[0.2, 0.4, 0.4])"
      ]
     },
     "execution_count": 213,
     "metadata": {},
     "output_type": "execute_result"
    }
   ],
   "source": [
    "mv_clf.fit(X_train, y_train)"
   ]
  },
  {
   "cell_type": "markdown",
   "metadata": {},
   "source": [
    "## ROC curves"
   ]
  },
  {
   "cell_type": "code",
   "execution_count": 190,
   "metadata": {
    "collapsed": false
   },
   "outputs": [
    {
     "data": {
      "image/png": "[encoded data removed]",
      "text/plain": [
       "<matplotlib.figure.Figure at 0x114266d50>"
      ]
     },
     "metadata": {},
     "output_type": "display_data"
    }
   ],
   "source": [
    "colors = ['black', 'orange', 'blue', 'green']\n",
    "linestyles = [':', '--', '-.', '-']\n",
    "\n",
    "for clf, label, clr, ls \\\n",
    "        in zip(all_clfs, clf_labels, colors, linestyles):\n",
    "    \n",
    "    # assuming the label of the positive class is 1\n",
    "    y_pred = clf.fit(X_train, y_train).predict_proba(X_test)[:, 1]\n",
    "    \n",
    "    fpr, tpr, thresholds = roc_curve(y_true=y_test, y_score=y_pred)\n",
    "    roc_auc = auc(x=fpr, y=tpr)\n",
    "    \n",
    "    plt.plot(fpr, tpr, color=clr, linestyle=ls, label='%s (auc = %0.2f)' %(label, roc_auc))\n",
    "\n",
    "plt.legend(loc='lower right')\n",
    "plt.plot([0, 1], [0, 1], linestyle='--', color='gray', linewidth=2)\n",
    "plt.xlim([-0.1, 1.1])\n",
    "plt.ylim([-0.1, 1.1])\n",
    "plt.grid()\n",
    "plt.xlabel('False Positive Rate')\n",
    "plt.ylabel('True Positive Rate')\n",
    "plt.show();"
   ]
  },
  {
   "cell_type": "markdown",
   "metadata": {},
   "source": [
    "## Feature Importance"
   ]
  },
  {
   "cell_type": "code",
   "execution_count": 172,
   "metadata": {
    "collapsed": true
   },
   "outputs": [
    {
     "name": "stdout",
     "output_type": "stream",
     "text": [
      " 1) Internship_ID                  0.116771\n",
      " 2) Student_ID                     0.109342\n",
      " 3) Minimum_Duration               0.080221\n",
      " 4) Is_Part_Time                   0.069647\n",
      " 5) Internship_Type                0.047877\n",
      " 6) No_of_openings                 0.039503\n",
      " 7) Stipend_Type                   0.038522\n",
      " 8) Stipend1                       0.035383\n",
      " 9) Internship_Duration(Months)    0.029671\n",
      "10) PR                             0.028314\n",
      "11) UI                             0.027536\n",
      "12) Marketing                      0.026056\n",
      "13) Media                          0.023554\n",
      "14) Social                         0.019316\n",
      "15) Design                         0.018387\n",
      "16) Web                            0.016246\n",
      "17) Development                    0.014927\n",
      "18) Business                       0.014422\n",
      "19) Research                       0.014019\n",
      "20) Writing                        0.013950\n",
      "21) Plan                           0.013721\n",
      "22) Creative                       0.012162\n",
      "23) Process                        0.012035\n",
      "24) Database                       0.010888\n",
      "25) Strategy                       0.010007\n",
      "26) Designing                      0.009801\n",
      "27) Analysis                       0.009631\n",
      "28) Facebook                       0.008165\n",
      "29) Communication                  0.007802\n",
      "30) Rest                           0.007383\n",
      "31) Android                        0.007135\n",
      "32) Presentation                   0.006833\n",
      "33) Media Marketing                0.006653\n",
      "34) Twitter                        0.006409\n",
      "35) Social Media Marketing         0.005975\n",
      "36) Operations                     0.005477\n",
      "37) Java                           0.004683\n",
      "38) Quality                        0.004479\n",
      "39) HTML                           0.004138\n",
      "40) Blogs                          0.004057\n",
      "41) Digital Marketing              0.003564\n",
      "42) PHP                            0.003555\n",
      "43) Market Research                0.003104\n",
      "44) Recruitment                    0.003060\n",
      "45) Testing                        0.002901\n",
      "46) CSS                            0.002849\n",
      "47) Planning                       0.002639\n",
      "48) API                            0.002553\n",
      "49) Editing                        0.002427\n",
      "50) Content Writing                0.002285\n",
      "51) Innovative                     0.002063\n",
      "52) Lead Generation                0.001941\n",
      "53) Mobile App                     0.001909\n",
      "54) SQL                            0.001895\n",
      "55) Accounts                       0.001688\n",
      "56) Reporting                      0.001649\n",
      "57) JavaScript                     0.001521\n",
      "58) Documentation                  0.001331\n",
      "59) iOS                            0.001324\n",
      "60) Branding                       0.001273\n",
      "61) ACTING                         0.001263\n",
      "62) Analytics                      0.001245\n",
      "63) Initiative                     0.001228\n",
      "64) Advertising                    0.001199\n",
      "65) Cold Calling                   0.001008\n",
      "66) Sourcing                       0.000935\n",
      "67) ERP                            0.000735\n",
      "68) NGO                            0.000694\n",
      "69) Environment                    0.000655\n",
      "70) Networking                     0.000612\n",
      "71) Production                     0.000545\n",
      "72) MySQL                          0.000508\n",
      "73) ISO                            0.000425\n",
      "74) Marketing Strategy             0.000365\n",
      "75) Survey                         0.000364\n",
      "76) Visio                          0.000231\n",
      "77) App Development                0.000186\n",
      "78) Front End                      0.000176\n",
      "79) web development                0.000161\n",
      "80) Integration                    0.000158\n",
      "81) HTML5                          0.000157\n",
      "82) jQuery                         0.000125\n",
      "83) Server                         0.000124\n",
      "84) Coding                         0.000099\n",
      "85) MBA                            0.000093\n",
      "86) Content Creation               0.000070\n",
      "87) Reading                        0.000010\n",
      "88) B2B                            0.000000\n",
      "89) Content Development            0.000000\n",
      "90) Storm                          0.000000\n",
      "91) E-commerce                     0.000000\n",
      "92) Databases                      0.000000\n",
      "93) Programming                    0.000000\n",
      "94) Wordpress                      0.000000\n",
      "95) Outreach                       0.000000\n",
      "96) NABL                           0.000000\n",
      "97) Web Design                     0.000000\n",
      "98) Architecture                   0.000000\n",
      "99) Web Application                0.000000\n",
      "100) Adobe                          0.000000\n"
     ]
    },
    {
     "ename": "IndexError",
     "evalue": "index 100 is out of bounds for axis 0 with size 100",
     "output_type": "error",
     "traceback": [
      "\u001b[0;31m---------------------------------------------------------------------------\u001b[0m",
      "\u001b[0;31mIndexError\u001b[0m                                Traceback (most recent call last)",
      "\u001b[0;32m<ipython-input-172-6b5e7522ea53>\u001b[0m in \u001b[0;36m<module>\u001b[0;34m()\u001b[0m\n\u001b[1;32m      5\u001b[0m \u001b[0;34m\u001b[0m\u001b[0m\n\u001b[1;32m      6\u001b[0m \u001b[0;32mfor\u001b[0m \u001b[0mf\u001b[0m \u001b[0;32min\u001b[0m \u001b[0mrange\u001b[0m\u001b[0;34m(\u001b[0m\u001b[0mX_train\u001b[0m\u001b[0;34m.\u001b[0m\u001b[0mshape\u001b[0m\u001b[0;34m[\u001b[0m\u001b[0;36m1\u001b[0m\u001b[0;34m]\u001b[0m\u001b[0;34m)\u001b[0m\u001b[0;34m:\u001b[0m\u001b[0;34m\u001b[0m\u001b[0m\n\u001b[0;32m----> 7\u001b[0;31m     \u001b[0;32mprint\u001b[0m\u001b[0;34m(\u001b[0m\u001b[0;34m\"%2d) %-*s %f\"\u001b[0m \u001b[0;34m%\u001b[0m \u001b[0;34m(\u001b[0m\u001b[0mf\u001b[0m \u001b[0;34m+\u001b[0m \u001b[0;36m1\u001b[0m\u001b[0;34m,\u001b[0m \u001b[0;36m30\u001b[0m\u001b[0;34m,\u001b[0m \u001b[0mX_train\u001b[0m\u001b[0;34m.\u001b[0m\u001b[0mcolumns\u001b[0m\u001b[0;34m[\u001b[0m\u001b[0mf\u001b[0m\u001b[0;34m]\u001b[0m\u001b[0;34m,\u001b[0m \u001b[0mimportances\u001b[0m\u001b[0;34m[\u001b[0m\u001b[0mindices\u001b[0m\u001b[0;34m[\u001b[0m\u001b[0mf\u001b[0m\u001b[0;34m]\u001b[0m\u001b[0;34m]\u001b[0m\u001b[0;34m)\u001b[0m\u001b[0;34m)\u001b[0m\u001b[0;34m\u001b[0m\u001b[0m\n\u001b[0m",
      "\u001b[0;31mIndexError\u001b[0m: index 100 is out of bounds for axis 0 with size 100"
     ]
    }
   ],
   "source": [
    "# RF feature importance\n",
    "forest = pipeline.get_params()['clf']\n",
    "importances = forest.feature_importances_ \n",
    "indices = np.argsort(importances)[::-1] \n",
    "\n",
    "for f in range(X_train.shape[1]):\n",
    "    print(\"%2d) %-*s %f\" % (f + 1, 30, X_train.columns[f], importances[indices[f]])) "
   ]
  },
  {
   "cell_type": "code",
   "execution_count": 214,
   "metadata": {
    "collapsed": true
   },
   "outputs": [
    {
     "name": "stdout",
     "output_type": "stream",
     "text": [
      " 1) Internship_ID                  0.112838\n",
      " 2) Student_ID                     0.110488\n",
      " 3) Expected_Stipend               0.081714\n",
      " 4) Minimum_Duration               0.073927\n",
      " 5) Preferred_location             0.049659\n",
      " 6) Is_Part_Time                   0.047065\n",
      " 7) Internship_Type                0.040350\n",
      " 8) Internship_Location            0.039712\n",
      " 9) Internship_category            0.039164\n",
      "10) No_of_openings                 0.038776\n",
      "11) Stipend_Type                   0.037496\n",
      "12) Stipend1                       0.029431\n",
      "13) Internship_Duration(Months)    0.027383\n",
      "14) Institute_Category             0.023922\n",
      "15) Institute_location             0.021115\n",
      "16) hometown                       0.020669\n",
      "17) Stream                         0.019968\n",
      "18) Current_year                   0.019587\n",
      "19) Year_of_graduation             0.019051\n",
      "20) Performance_PG                 0.018515\n",
      "21) Performance_UG                 0.017904\n",
      "22) Performance_12th               0.015356\n",
      "23) Performance_10th               0.013894\n",
      "24) Experience_Type                0.013624\n",
      "25) Location                       0.013146\n",
      "26) num_experience                 0.012727\n",
      "27) num_exp_in_job                 0.008740\n",
      "28) num_awards                     0.007190\n",
      "29) num_previous_internships       0.006369\n",
      "30) is_stipend_performance_or_unpaid 0.005064\n",
      "31) Num_Skills_Required            0.004476\n",
      "32) Stipend_level                  0.004263\n",
      "33) less_than_avg_salary           0.004085\n",
      "34) expectations_match             0.002333\n",
      "35) Earliest_Start_Date_month      0.000000\n",
      "36) is_Dec_or_Jan                  0.000000\n"
     ]
    }
   ],
   "source": [
    "# GBM feature importance\n",
    "forest = pipeline.get_params()['clf']\n",
    "importances = forest.feature_importances_ \n",
    "indices = np.argsort(importances)[::-1] \n",
    "\n",
    "for f in range(X_train.shape[1]):\n",
    "    print(\"%2d) %-*s %f\" % (f + 1, 30, X_train.columns[f], importances[indices[f]])) "
   ]
  },
  {
   "cell_type": "markdown",
   "metadata": {},
   "source": [
    "## Predictions"
   ]
  },
  {
   "cell_type": "code",
   "execution_count": 214,
   "metadata": {
    "collapsed": false
   },
   "outputs": [],
   "source": [
    "predsTrain = (mv_clf.predict_proba(X_train)[:, 1])\n",
    "predsTest = (mv_clf.predict_proba(X_test)[:, 1])"
   ]
  },
  {
   "cell_type": "code",
   "execution_count": 215,
   "metadata": {
    "collapsed": false
   },
   "outputs": [
    {
     "name": "stdout",
     "output_type": "stream",
     "text": [
      "AUC score on training set 0.748118 \n",
      "AUC score on test set 0.587630 \n"
     ]
    }
   ],
   "source": [
    "print 'AUC score on training set %f ' %(roc_auc_score(y_train, predsTrain))\n",
    "print 'AUC score on test set %f ' %(roc_auc_score(y_test, predsTest))"
   ]
  },
  {
   "cell_type": "markdown",
   "metadata": {},
   "source": [
    "## Train on full dataset"
   ]
  },
  {
   "cell_type": "code",
   "execution_count": 99,
   "metadata": {
    "collapsed": false
   },
   "outputs": [
    {
     "data": {
      "text/plain": [
       "MajorityVoteClassifier(classifiers=[Pipeline(steps=[('scaler', StandardScaler(copy=True, with_mean=True, with_std=True)), ('clf', LogisticRegression(C=1.0, class_weight=None, dual=False, fit_intercept=True,\n",
       "          intercept_scaling=1, max_iter=100, multi_class='ovr', n_jobs=1,\n",
       "          penalty='l1', random_state=None,...ki',\n",
       "           metric_params=None, n_jobs=1, n_neighbors=7, p=2,\n",
       "           weights='distance'))])],\n",
       "            vote='classlabel', weights=[0.3, 0.5, 0.2])"
      ]
     },
     "execution_count": 99,
     "metadata": {},
     "output_type": "execute_result"
    }
   ],
   "source": [
    "mv_clf.fit(X, y)"
   ]
  },
  {
   "cell_type": "markdown",
   "metadata": {},
   "source": [
    "## Predict on the test set"
   ]
  },
  {
   "cell_type": "code",
   "execution_count": 100,
   "metadata": {
    "collapsed": false
   },
   "outputs": [],
   "source": [
    "features_to_drop = ['Earliest_Start_Date', 'Start_Date', 'Start Date', 'End Date',\n",
    "                    'Internship_deadline', 'Preferred_location', 'Internship_Profile', \n",
    "                    'Skills_required', 'Internship_category', 'Profile',\n",
    "                    'Stipend2', 'PG_scale', 'UG_Scale', 'Internship_Location', 'Expected_Stipend',\n",
    "                    'Degree', 'Stream', 'hometown', 'Institute_location', 'Location',\n",
    "                    'Performance_12th', 'Performance_10th']\n",
    "\n",
    "features_to_drop.extend(list(train_merged.columns[20:293]))\n",
    "features = test_merged.columns.drop(features_to_drop)"
   ]
  },
  {
   "cell_type": "code",
   "execution_count": 101,
   "metadata": {
    "collapsed": false
   },
   "outputs": [],
   "source": [
    "test_features = test_merged[features]"
   ]
  },
  {
   "cell_type": "code",
   "execution_count": 102,
   "metadata": {
    "collapsed": false
   },
   "outputs": [],
   "source": [
    "predictions = (mv_clf.predict_proba(test_features)[:, 1])"
   ]
  },
  {
   "cell_type": "code",
   "execution_count": 103,
   "metadata": {
    "collapsed": false
   },
   "outputs": [],
   "source": [
    "submission = pd.read_csv('../data/submission.csv')\n",
    "submission['Internship_ID'] = test_merged.Internship_ID\n",
    "submission['Student_ID'] = test_merged.Student_ID\n",
    "submission['Is_Shortlisted'] = predictions"
   ]
  },
  {
   "cell_type": "code",
   "execution_count": 104,
   "metadata": {
    "collapsed": true
   },
   "outputs": [],
   "source": [
    "submission.to_csv('../submissions/redate_submission_mv_clf.csv', index=False)"
   ]
  },
  {
   "cell_type": "code",
   "execution_count": null,
   "metadata": {
    "collapsed": true
   },
   "outputs": [],
   "source": []
  },
  {
   "cell_type": "code",
   "execution_count": null,
   "metadata": {
    "collapsed": true
   },
   "outputs": [],
   "source": []
  },
  {
   "cell_type": "code",
   "execution_count": null,
   "metadata": {
    "collapsed": true
   },
   "outputs": [],
   "source": []
  }
 ],
 "metadata": {
  "kernelspec": {
   "display_name": "Python 2",
   "language": "python",
   "name": "python2"
  },
  "language_info": {
   "codemirror_mode": {
    "name": "ipython",
    "version": 2
   },
   "file_extension": ".py",
   "mimetype": "text/x-python",
   "name": "python",
   "nbconvert_exporter": "python",
   "pygments_lexer": "ipython2",
   "version": "2.7.11"
  }
 },
 "nbformat": 4,
 "nbformat_minor": 0
}
