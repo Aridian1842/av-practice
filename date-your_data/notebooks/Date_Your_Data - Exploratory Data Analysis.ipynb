{
 "cells": [
  {
   "cell_type": "code",
   "execution_count": 1,
   "metadata": {
    "collapsed": false
   },
   "outputs": [
    {
     "name": "stderr",
     "output_type": "stream",
     "text": [
      "C:\\Users\\Abhishek\\Anaconda2\\lib\\site-packages\\matplotlib\\__init__.py:872: UserWarning: axes.color_cycle is deprecated and replaced with axes.prop_cycle; please use the latter.\n",
      "  warnings.warn(self.msg_depr % (key, alt_key))\n"
     ]
    }
   ],
   "source": [
    "import numpy as np\n",
    "import pandas as pd\n",
    "\n",
    "import matplotlib.pyplot as plt\n",
    "import seaborn as sns\n",
    "\n",
    "import warnings\n",
    "warnings.filterwarnings('ignore')\n",
    "\n",
    "%matplotlib inline"
   ]
  },
  {
   "cell_type": "code",
   "execution_count": 2,
   "metadata": {
    "collapsed": true
   },
   "outputs": [],
   "source": [
    "date_columns = ['Internship_deadline', 'Earliest_Start_Date', 'Start Date', \n",
    "                'End Date', 'Start_Date']\n",
    "\n",
    "train_merged = pd.read_csv('../data/train_merged.csv')\n",
    "test_merged = pd.read_csv('../data/test_merged.csv')"
   ]
  },
  {
   "cell_type": "code",
   "execution_count": null,
   "metadata": {
    "collapsed": false
   },
   "outputs": [],
   "source": [
    "data_dictionary = pd.read_excel('../data/Data_Dictionary.xlsx'); data_dictionary.head()"
   ]
  },
  {
   "cell_type": "markdown",
   "metadata": {},
   "source": [
    "## Training dataset"
   ]
  },
  {
   "cell_type": "code",
   "execution_count": null,
   "metadata": {
    "collapsed": false
   },
   "outputs": [],
   "source": [
    "train_merged.head()"
   ]
  },
  {
   "cell_type": "markdown",
   "metadata": {},
   "source": [
    "## Test set"
   ]
  },
  {
   "cell_type": "code",
   "execution_count": null,
   "metadata": {
    "collapsed": false
   },
   "outputs": [],
   "source": [
    "test_merged.head()"
   ]
  },
  {
   "cell_type": "markdown",
   "metadata": {},
   "source": [
    "## Class Distribution"
   ]
  },
  {
   "cell_type": "code",
   "execution_count": null,
   "metadata": {
    "collapsed": false
   },
   "outputs": [],
   "source": [
    "train_merged.Is_Shortlisted.value_counts()"
   ]
  },
  {
   "cell_type": "markdown",
   "metadata": {
    "collapsed": true
   },
   "source": [
    "## Exploratory Data Analysis"
   ]
  },
  {
   "cell_type": "code",
   "execution_count": null,
   "metadata": {
    "collapsed": false
   },
   "outputs": [],
   "source": [
    "train_merged.loc[:, 'Earliest_Start_Date_year'] = train_merged.Earliest_Start_Date.dt.year\n",
    "train_merged.loc[:, 'Earliest_Start_Date_month'] = train_merged.Earliest_Start_Date.dt.month\n",
    "train_merged.loc[:, 'Earliest_Start_Date_day'] = train_merged.Earliest_Start_Date.dt.day\n",
    "\n",
    "test_merged.loc[:, 'Earliest_Start_Date_year'] = test_merged.Earliest_Start_Date.dt.year\n",
    "test_merged.loc[:, 'Earliest_Start_Date_month'] = test_merged.Earliest_Start_Date.dt.month\n",
    "test_merged.loc[:, 'Earliest_Start_Date_day'] = test_merged.Earliest_Start_Date.dt.day\n",
    "\n",
    "train_merged.loc[:, 'Internship_deadline_year'] = train_merged.Internship_deadline.dt.year\n",
    "train_merged.loc[:, 'Internship_deadline_month'] = train_merged.Internship_deadline.dt.month\n",
    "train_merged.loc[:, 'Internship_deadline_day'] = train_merged.Internship_deadline.dt.day\n",
    "\n",
    "test_merged.loc[:, 'Internship_deadline_year'] = test_merged.Internship_deadline.dt.year\n",
    "test_merged.loc[:, 'Internship_deadline_year'] = test_merged.Internship_deadline.dt.month\n",
    "test_merged.loc[:, 'Internship_deadline_year'] = test_merged.Internship_deadline.dt.day"
   ]
  },
  {
   "cell_type": "code",
   "execution_count": null,
   "metadata": {
    "collapsed": false
   },
   "outputs": [],
   "source": [
    "train_merged.loc[:, 'date_diff'] = ((train_merged.Internship_deadline - train_merged.Earliest_Start_Date) / np.timedelta64(1, 'D')).astype(int)"
   ]
  },
  {
   "cell_type": "code",
   "execution_count": null,
   "metadata": {
    "collapsed": false
   },
   "outputs": [],
   "source": [
    "# Relationship between difference between internship deadline vs whether you are shorlisted or not\n",
    "\n",
    "sns.FacetGrid(train_merged, hue=\"Is_Shortlisted\", size=5) \\\n",
    "   .map(plt.hist, \"date_diff\") \\\n",
    "   .add_legend()"
   ]
  },
  {
   "cell_type": "code",
   "execution_count": null,
   "metadata": {
    "collapsed": false
   },
   "outputs": [],
   "source": [
    "## Relationship between expected stipend and Is_Shortlisted\n",
    "\n",
    "train_merged.loc[:, ['Stipend_Type', 'Is_Shortlisted']].head()"
   ]
  },
  {
   "cell_type": "code",
   "execution_count": null,
   "metadata": {
    "collapsed": false
   },
   "outputs": [],
   "source": [
    "train_merged.Expected_Stipend.value_counts()"
   ]
  },
  {
   "cell_type": "code",
   "execution_count": null,
   "metadata": {
    "collapsed": true
   },
   "outputs": [],
   "source": [
    "def salary_mapping(salary):\n",
    "    if salary < 2000:\n",
    "        return 'No Expectations'\n",
    "    elif salary >= 2000 and salary < 5000:\n",
    "        return '2-5K'\n",
    "    elif salary >= 5000 and salary < 10000:\n",
    "        return '5-10K'\n",
    "    else:\n",
    "        return '10K+'"
   ]
  },
  {
   "cell_type": "code",
   "execution_count": 44,
   "metadata": {
    "collapsed": false
   },
   "outputs": [],
   "source": [
    "train_merged.Stipend1 = train_merged.Stipend1.fillna(train_merged.Stipend1.mean())"
   ]
  },
  {
   "cell_type": "code",
   "execution_count": null,
   "metadata": {
    "collapsed": false
   },
   "outputs": [],
   "source": [
    "train_merged.loc[:, 'Stipend_level'] = train_merged.Stipend1.map(salary_mapping)"
   ]
  },
  {
   "cell_type": "code",
   "execution_count": null,
   "metadata": {
    "collapsed": true
   },
   "outputs": [],
   "source": [
    "def check_if_expectations_match(row):\n",
    "    expected_stipend = row['Expected_Stipend']\n",
    "    stipend_level = row['Stipend_level']\n",
    "    \n",
    "    if expected_stipend == 'No Expectations':\n",
    "        return 1\n",
    "    elif expected_stipend == '2-5K':\n",
    "        if stipend_level in ['2-5K', '5-10K', '10K+']:\n",
    "            return 1\n",
    "        else:\n",
    "            return 0\n",
    "    elif expected_stipend == '5-10K':\n",
    "        if stipend_level in ['5-10K', '10K+']:\n",
    "            return 1\n",
    "        else:\n",
    "            return 0\n",
    "    elif stipend_level == '10K+':\n",
    "        if stipend_level == '10K+':\n",
    "            return 1\n",
    "        else:\n",
    "            return 0\n",
    "\n",
    "train_merged.loc[:, 'expectations_match'] = train_merged[['Expected_Stipend', 'Stipend_level']].apply(check_if_expectations_match, axis=1)"
   ]
  },
  {
   "cell_type": "code",
   "execution_count": null,
   "metadata": {
    "collapsed": false
   },
   "outputs": [],
   "source": [
    "train_merged.groupby(['expectations_match', 'Is_Shortlisted']).size()"
   ]
  },
  {
   "cell_type": "markdown",
   "metadata": {},
   "source": [
    "** This is a potential feature **"
   ]
  },
  {
   "cell_type": "code",
   "execution_count": null,
   "metadata": {
    "collapsed": true
   },
   "outputs": [],
   "source": [
    "train_merged.loc[:, 'normalized_stipend_1'] = np.log10(train_merged.Stipend1 + 1)"
   ]
  },
  {
   "cell_type": "code",
   "execution_count": null,
   "metadata": {
    "collapsed": false
   },
   "outputs": [],
   "source": [
    "sns.FacetGrid(train_merged, hue=\"Is_Shortlisted\", size=5) \\\n",
    "   .map(plt.hist, \"normalized_stipend_1\") \\\n",
    "   .add_legend()"
   ]
  },
  {
   "cell_type": "code",
   "execution_count": null,
   "metadata": {
    "collapsed": true
   },
   "outputs": [],
   "source": [
    "def check_if_locations_match(row):\n",
    "    internship_location = row['Internship_Location']\n",
    "    student_location = row['Location']\n",
    "    \n",
    "    return int(internship_location == student_location)"
   ]
  },
  {
   "cell_type": "code",
   "execution_count": null,
   "metadata": {
    "collapsed": true
   },
   "outputs": [],
   "source": [
    "train_merged.loc[:, 'location_match'] = train_merged[['Internship_Location', 'Location']].apply(check_if_locations_match, axis=1)"
   ]
  },
  {
   "cell_type": "code",
   "execution_count": null,
   "metadata": {
    "collapsed": false
   },
   "outputs": [],
   "source": [
    "train_merged.groupby(['location_match', 'Is_Shortlisted']).size()"
   ]
  },
  {
   "cell_type": "code",
   "execution_count": null,
   "metadata": {
    "collapsed": false
   },
   "outputs": [],
   "source": [
    "train_merged.loc[:, ['Internship_Location', 'Is_Shortlisted']].head()"
   ]
  },
  {
   "cell_type": "code",
   "execution_count": null,
   "metadata": {
    "collapsed": false
   },
   "outputs": [],
   "source": [
    "print 'Number of levels of Internship location ', len(train_merged.Internship_Location.unique())"
   ]
  },
  {
   "cell_type": "code",
   "execution_count": null,
   "metadata": {
    "collapsed": false
   },
   "outputs": [],
   "source": [
    "len(train_merged.Location.unique())"
   ]
  },
  {
   "cell_type": "code",
   "execution_count": null,
   "metadata": {
    "collapsed": false
   },
   "outputs": [],
   "source": [
    "train_merged.Internship_Location.value_counts()"
   ]
  },
  {
   "cell_type": "code",
   "execution_count": null,
   "metadata": {
    "collapsed": false
   },
   "outputs": [],
   "source": [
    "train_merged.groupby(['Internship_Location', 'Is_Shortlisted']).size()"
   ]
  },
  {
   "cell_type": "code",
   "execution_count": null,
   "metadata": {
    "collapsed": false
   },
   "outputs": [],
   "source": [
    "train_merged.Skills_required.unique()"
   ]
  },
  {
   "cell_type": "code",
   "execution_count": 26,
   "metadata": {
    "collapsed": false
   },
   "outputs": [
    {
     "data": {
      "text/plain": [
       "Index([u'Earliest_Start_Date', u'Expected_Stipend', u'Preferred_location',\n",
       "       u'Internship_Profile', u'Skills_required', u'Internship_Type',\n",
       "       u'Internship_Location', u'Internship_category', u'Stipend_Type',\n",
       "       u'Internship_deadline', u'Start_Date', u'Institute_Category',\n",
       "       u'Institute_location', u'hometown', u'Degree', u'Stream',\n",
       "       u'Current_year', u'Experience_Type', u'Profile', u'Location',\n",
       "       u'Start Date', u'End Date'],\n",
       "      dtype='object')"
      ]
     },
     "execution_count": 26,
     "metadata": {},
     "output_type": "execute_result"
    }
   ],
   "source": [
    "train_merged.select_dtypes(include=['object']).columns"
   ]
  },
  {
   "cell_type": "markdown",
   "metadata": {},
   "source": [
    "## Pivot Tables"
   ]
  },
  {
   "cell_type": "code",
   "execution_count": 52,
   "metadata": {
    "collapsed": true
   },
   "outputs": [],
   "source": [
    "features = ['Expected_Stipend', 'Stipend_Type', 'Is_Shortlisted', 'Internship_Location', 'Experience_Type',\n",
    "            'Institute_Category', 'Stipend1', 'Degree']"
   ]
  },
  {
   "cell_type": "code",
   "execution_count": 48,
   "metadata": {
    "collapsed": false
   },
   "outputs": [
    {
     "data": {
      "text/html": [
       "<div>\n",
       "<table border=\"1\" class=\"dataframe\">\n",
       "  <thead>\n",
       "    <tr>\n",
       "      <th></th>\n",
       "      <th></th>\n",
       "      <th colspan=\"10\" halign=\"left\">Is_Shortlisted</th>\n",
       "    </tr>\n",
       "    <tr>\n",
       "      <th></th>\n",
       "      <th>Experience_Type</th>\n",
       "      <th>academic_project</th>\n",
       "      <th>award</th>\n",
       "      <th>internship</th>\n",
       "      <th>job</th>\n",
       "      <th>other</th>\n",
       "      <th>participation</th>\n",
       "      <th>por</th>\n",
       "      <th>training</th>\n",
       "      <th>workshop</th>\n",
       "      <th>All</th>\n",
       "    </tr>\n",
       "    <tr>\n",
       "      <th>Expected_Stipend</th>\n",
       "      <th>Stipend_Type</th>\n",
       "      <th></th>\n",
       "      <th></th>\n",
       "      <th></th>\n",
       "      <th></th>\n",
       "      <th></th>\n",
       "      <th></th>\n",
       "      <th></th>\n",
       "      <th></th>\n",
       "      <th></th>\n",
       "      <th></th>\n",
       "    </tr>\n",
       "  </thead>\n",
       "  <tbody>\n",
       "    <tr>\n",
       "      <th rowspan=\"4\" valign=\"top\">10K+</th>\n",
       "      <th>fixed</th>\n",
       "      <td>3251</td>\n",
       "      <td>400</td>\n",
       "      <td>3284</td>\n",
       "      <td>1822</td>\n",
       "      <td>226</td>\n",
       "      <td>238</td>\n",
       "      <td>423</td>\n",
       "      <td>2075</td>\n",
       "      <td>332</td>\n",
       "      <td>17120</td>\n",
       "    </tr>\n",
       "    <tr>\n",
       "      <th>performance</th>\n",
       "      <td>97</td>\n",
       "      <td>35</td>\n",
       "      <td>265</td>\n",
       "      <td>143</td>\n",
       "      <td>18</td>\n",
       "      <td>43</td>\n",
       "      <td>50</td>\n",
       "      <td>150</td>\n",
       "      <td>26</td>\n",
       "      <td>1206</td>\n",
       "    </tr>\n",
       "    <tr>\n",
       "      <th>unpaid</th>\n",
       "      <td>7</td>\n",
       "      <td>5</td>\n",
       "      <td>13</td>\n",
       "      <td>8</td>\n",
       "      <td>2</td>\n",
       "      <td>0</td>\n",
       "      <td>0</td>\n",
       "      <td>1</td>\n",
       "      <td>2</td>\n",
       "      <td>65</td>\n",
       "    </tr>\n",
       "    <tr>\n",
       "      <th>variable</th>\n",
       "      <td>3466</td>\n",
       "      <td>469</td>\n",
       "      <td>4073</td>\n",
       "      <td>2389</td>\n",
       "      <td>222</td>\n",
       "      <td>289</td>\n",
       "      <td>505</td>\n",
       "      <td>2366</td>\n",
       "      <td>464</td>\n",
       "      <td>20006</td>\n",
       "    </tr>\n",
       "    <tr>\n",
       "      <th rowspan=\"4\" valign=\"top\">2-5K</th>\n",
       "      <th>fixed</th>\n",
       "      <td>2483</td>\n",
       "      <td>627</td>\n",
       "      <td>3736</td>\n",
       "      <td>969</td>\n",
       "      <td>278</td>\n",
       "      <td>688</td>\n",
       "      <td>894</td>\n",
       "      <td>1950</td>\n",
       "      <td>734</td>\n",
       "      <td>18140</td>\n",
       "    </tr>\n",
       "    <tr>\n",
       "      <th>performance</th>\n",
       "      <td>312</td>\n",
       "      <td>184</td>\n",
       "      <td>1110</td>\n",
       "      <td>261</td>\n",
       "      <td>114</td>\n",
       "      <td>199</td>\n",
       "      <td>284</td>\n",
       "      <td>379</td>\n",
       "      <td>192</td>\n",
       "      <td>4437</td>\n",
       "    </tr>\n",
       "    <tr>\n",
       "      <th>unpaid</th>\n",
       "      <td>27</td>\n",
       "      <td>8</td>\n",
       "      <td>49</td>\n",
       "      <td>12</td>\n",
       "      <td>5</td>\n",
       "      <td>17</td>\n",
       "      <td>12</td>\n",
       "      <td>17</td>\n",
       "      <td>7</td>\n",
       "      <td>243</td>\n",
       "    </tr>\n",
       "    <tr>\n",
       "      <th>variable</th>\n",
       "      <td>2485</td>\n",
       "      <td>764</td>\n",
       "      <td>3938</td>\n",
       "      <td>1007</td>\n",
       "      <td>308</td>\n",
       "      <td>794</td>\n",
       "      <td>1057</td>\n",
       "      <td>1981</td>\n",
       "      <td>806</td>\n",
       "      <td>19185</td>\n",
       "    </tr>\n",
       "    <tr>\n",
       "      <th rowspan=\"4\" valign=\"top\">5-10K</th>\n",
       "      <th>fixed</th>\n",
       "      <td>4215</td>\n",
       "      <td>685</td>\n",
       "      <td>5183</td>\n",
       "      <td>2082</td>\n",
       "      <td>324</td>\n",
       "      <td>586</td>\n",
       "      <td>868</td>\n",
       "      <td>2862</td>\n",
       "      <td>784</td>\n",
       "      <td>25993</td>\n",
       "    </tr>\n",
       "    <tr>\n",
       "      <th>performance</th>\n",
       "      <td>239</td>\n",
       "      <td>80</td>\n",
       "      <td>709</td>\n",
       "      <td>225</td>\n",
       "      <td>46</td>\n",
       "      <td>76</td>\n",
       "      <td>123</td>\n",
       "      <td>274</td>\n",
       "      <td>100</td>\n",
       "      <td>2683</td>\n",
       "    </tr>\n",
       "    <tr>\n",
       "      <th>unpaid</th>\n",
       "      <td>14</td>\n",
       "      <td>2</td>\n",
       "      <td>20</td>\n",
       "      <td>19</td>\n",
       "      <td>2</td>\n",
       "      <td>8</td>\n",
       "      <td>3</td>\n",
       "      <td>6</td>\n",
       "      <td>4</td>\n",
       "      <td>119</td>\n",
       "    </tr>\n",
       "    <tr>\n",
       "      <th>variable</th>\n",
       "      <td>4463</td>\n",
       "      <td>838</td>\n",
       "      <td>6304</td>\n",
       "      <td>2423</td>\n",
       "      <td>415</td>\n",
       "      <td>675</td>\n",
       "      <td>1104</td>\n",
       "      <td>3317</td>\n",
       "      <td>960</td>\n",
       "      <td>29757</td>\n",
       "    </tr>\n",
       "    <tr>\n",
       "      <th rowspan=\"4\" valign=\"top\">No Expectations</th>\n",
       "      <th>fixed</th>\n",
       "      <td>3741</td>\n",
       "      <td>821</td>\n",
       "      <td>2986</td>\n",
       "      <td>1178</td>\n",
       "      <td>233</td>\n",
       "      <td>689</td>\n",
       "      <td>804</td>\n",
       "      <td>2590</td>\n",
       "      <td>1113</td>\n",
       "      <td>23487</td>\n",
       "    </tr>\n",
       "    <tr>\n",
       "      <th>performance</th>\n",
       "      <td>397</td>\n",
       "      <td>201</td>\n",
       "      <td>541</td>\n",
       "      <td>207</td>\n",
       "      <td>47</td>\n",
       "      <td>223</td>\n",
       "      <td>231</td>\n",
       "      <td>347</td>\n",
       "      <td>233</td>\n",
       "      <td>3941</td>\n",
       "    </tr>\n",
       "    <tr>\n",
       "      <th>unpaid</th>\n",
       "      <td>156</td>\n",
       "      <td>86</td>\n",
       "      <td>339</td>\n",
       "      <td>122</td>\n",
       "      <td>32</td>\n",
       "      <td>82</td>\n",
       "      <td>123</td>\n",
       "      <td>134</td>\n",
       "      <td>99</td>\n",
       "      <td>1833</td>\n",
       "    </tr>\n",
       "    <tr>\n",
       "      <th>variable</th>\n",
       "      <td>3781</td>\n",
       "      <td>828</td>\n",
       "      <td>3136</td>\n",
       "      <td>1158</td>\n",
       "      <td>215</td>\n",
       "      <td>806</td>\n",
       "      <td>926</td>\n",
       "      <td>2720</td>\n",
       "      <td>1170</td>\n",
       "      <td>24367</td>\n",
       "    </tr>\n",
       "    <tr>\n",
       "      <th>All</th>\n",
       "      <th></th>\n",
       "      <td>29134</td>\n",
       "      <td>6033</td>\n",
       "      <td>35686</td>\n",
       "      <td>14025</td>\n",
       "      <td>2487</td>\n",
       "      <td>5413</td>\n",
       "      <td>7407</td>\n",
       "      <td>21169</td>\n",
       "      <td>7026</td>\n",
       "      <td>192582</td>\n",
       "    </tr>\n",
       "  </tbody>\n",
       "</table>\n",
       "</div>"
      ],
      "text/plain": [
       "                                Is_Shortlisted                                \\\n",
       "Experience_Type               academic_project award internship    job other   \n",
       "Expected_Stipend Stipend_Type                                                  \n",
       "10K+             fixed                    3251   400       3284   1822   226   \n",
       "                 performance                97    35        265    143    18   \n",
       "                 unpaid                      7     5         13      8     2   \n",
       "                 variable                 3466   469       4073   2389   222   \n",
       "2-5K             fixed                    2483   627       3736    969   278   \n",
       "                 performance               312   184       1110    261   114   \n",
       "                 unpaid                     27     8         49     12     5   \n",
       "                 variable                 2485   764       3938   1007   308   \n",
       "5-10K            fixed                    4215   685       5183   2082   324   \n",
       "                 performance               239    80        709    225    46   \n",
       "                 unpaid                     14     2         20     19     2   \n",
       "                 variable                 4463   838       6304   2423   415   \n",
       "No Expectations  fixed                    3741   821       2986   1178   233   \n",
       "                 performance               397   201        541    207    47   \n",
       "                 unpaid                    156    86        339    122    32   \n",
       "                 variable                 3781   828       3136   1158   215   \n",
       "All                                      29134  6033      35686  14025  2487   \n",
       "\n",
       "                                                                             \n",
       "Experience_Type               participation   por training workshop     All  \n",
       "Expected_Stipend Stipend_Type                                                \n",
       "10K+             fixed                  238   423     2075      332   17120  \n",
       "                 performance             43    50      150       26    1206  \n",
       "                 unpaid                   0     0        1        2      65  \n",
       "                 variable               289   505     2366      464   20006  \n",
       "2-5K             fixed                  688   894     1950      734   18140  \n",
       "                 performance            199   284      379      192    4437  \n",
       "                 unpaid                  17    12       17        7     243  \n",
       "                 variable               794  1057     1981      806   19185  \n",
       "5-10K            fixed                  586   868     2862      784   25993  \n",
       "                 performance             76   123      274      100    2683  \n",
       "                 unpaid                   8     3        6        4     119  \n",
       "                 variable               675  1104     3317      960   29757  \n",
       "No Expectations  fixed                  689   804     2590     1113   23487  \n",
       "                 performance            223   231      347      233    3941  \n",
       "                 unpaid                  82   123      134       99    1833  \n",
       "                 variable               806   926     2720     1170   24367  \n",
       "All                                    5413  7407    21169     7026  192582  "
      ]
     },
     "execution_count": 48,
     "metadata": {},
     "output_type": "execute_result"
    }
   ],
   "source": [
    "\n",
    "train_merged[features].pivot_table(index=['Expected_Stipend', 'Stipend_Type'],\n",
    "                                   columns=['Experience_Type'],\n",
    "                                   values=['Is_Shortlisted'],\n",
    "                                   aggfunc='count', margins=True, fill_value=0)"
   ]
  },
  {
   "cell_type": "code",
   "execution_count": 53,
   "metadata": {
    "collapsed": false
   },
   "outputs": [
    {
     "data": {
      "text/html": [
       "<div>\n",
       "<table border=\"1\" class=\"dataframe\">\n",
       "  <thead>\n",
       "    <tr>\n",
       "      <th></th>\n",
       "      <th colspan=\"21\" halign=\"left\">Stipend1</th>\n",
       "    </tr>\n",
       "    <tr>\n",
       "      <th>Stipend_Type</th>\n",
       "      <th colspan=\"10\" halign=\"left\">fixed</th>\n",
       "      <th>...</th>\n",
       "      <th colspan=\"9\" halign=\"left\">variable</th>\n",
       "      <th>All</th>\n",
       "    </tr>\n",
       "    <tr>\n",
       "      <th>Institute_Category</th>\n",
       "      <th colspan=\"10\" halign=\"left\">N</th>\n",
       "      <th>...</th>\n",
       "      <th colspan=\"9\" halign=\"left\">Y</th>\n",
       "      <th></th>\n",
       "    </tr>\n",
       "    <tr>\n",
       "      <th>Degree</th>\n",
       "      <th>10th</th>\n",
       "      <th>12th</th>\n",
       "      <th>A Levels</th>\n",
       "      <th>AAIP</th>\n",
       "      <th>AISSE</th>\n",
       "      <th>AMIETE(Equivalent To B.Tech)</th>\n",
       "      <th>APEARING B.TECH</th>\n",
       "      <th>Aa</th>\n",
       "      <th>Acca</th>\n",
       "      <th>Ace Engineering College</th>\n",
       "      <th>...</th>\n",
       "      <th>Post Graduation</th>\n",
       "      <th>UG</th>\n",
       "      <th>UGD</th>\n",
       "      <th>Under Graduate</th>\n",
       "      <th>Under Graduate First Year</th>\n",
       "      <th>Under Graduation</th>\n",
       "      <th>Undergrad</th>\n",
       "      <th>Undergraduate</th>\n",
       "      <th>Undergraguation</th>\n",
       "      <th></th>\n",
       "    </tr>\n",
       "    <tr>\n",
       "      <th>Is_Shortlisted</th>\n",
       "      <th></th>\n",
       "      <th></th>\n",
       "      <th></th>\n",
       "      <th></th>\n",
       "      <th></th>\n",
       "      <th></th>\n",
       "      <th></th>\n",
       "      <th></th>\n",
       "      <th></th>\n",
       "      <th></th>\n",
       "      <th></th>\n",
       "      <th></th>\n",
       "      <th></th>\n",
       "      <th></th>\n",
       "      <th></th>\n",
       "      <th></th>\n",
       "      <th></th>\n",
       "      <th></th>\n",
       "      <th></th>\n",
       "      <th></th>\n",
       "      <th></th>\n",
       "    </tr>\n",
       "  </thead>\n",
       "  <tbody>\n",
       "    <tr>\n",
       "      <th>0</th>\n",
       "      <td>7500</td>\n",
       "      <td>6850.931677</td>\n",
       "      <td>7333.333333</td>\n",
       "      <td>10000</td>\n",
       "      <td>15000</td>\n",
       "      <td>5000</td>\n",
       "      <td>6500</td>\n",
       "      <td>3000</td>\n",
       "      <td>7000.000000</td>\n",
       "      <td>7000</td>\n",
       "      <td>...</td>\n",
       "      <td>3500</td>\n",
       "      <td>3727.272727</td>\n",
       "      <td>1000</td>\n",
       "      <td>6067.567568</td>\n",
       "      <td>1500</td>\n",
       "      <td>5500</td>\n",
       "      <td>0</td>\n",
       "      <td>4504.000000</td>\n",
       "      <td>5000</td>\n",
       "      <td>6966.626964</td>\n",
       "    </tr>\n",
       "    <tr>\n",
       "      <th>1</th>\n",
       "      <td>0</td>\n",
       "      <td>5615.384615</td>\n",
       "      <td>0.000000</td>\n",
       "      <td>0</td>\n",
       "      <td>0</td>\n",
       "      <td>0</td>\n",
       "      <td>0</td>\n",
       "      <td>0</td>\n",
       "      <td>3000.000000</td>\n",
       "      <td>0</td>\n",
       "      <td>...</td>\n",
       "      <td>0</td>\n",
       "      <td>2000.000000</td>\n",
       "      <td>0</td>\n",
       "      <td>2333.333333</td>\n",
       "      <td>1250</td>\n",
       "      <td>0</td>\n",
       "      <td>5000</td>\n",
       "      <td>3166.666667</td>\n",
       "      <td>0</td>\n",
       "      <td>5660.599743</td>\n",
       "    </tr>\n",
       "    <tr>\n",
       "      <th>All</th>\n",
       "      <td>7500</td>\n",
       "      <td>6643.410853</td>\n",
       "      <td>7333.333333</td>\n",
       "      <td>10000</td>\n",
       "      <td>15000</td>\n",
       "      <td>5000</td>\n",
       "      <td>6500</td>\n",
       "      <td>3000</td>\n",
       "      <td>5666.666667</td>\n",
       "      <td>7000</td>\n",
       "      <td>...</td>\n",
       "      <td>3500</td>\n",
       "      <td>3583.333333</td>\n",
       "      <td>1000</td>\n",
       "      <td>5787.500000</td>\n",
       "      <td>1375</td>\n",
       "      <td>5500</td>\n",
       "      <td>5000</td>\n",
       "      <td>4245.161290</td>\n",
       "      <td>5000</td>\n",
       "      <td>6799.940342</td>\n",
       "    </tr>\n",
       "  </tbody>\n",
       "</table>\n",
       "<p>3 rows × 6210 columns</p>\n",
       "</div>"
      ],
      "text/plain": [
       "                   Stipend1                                          \\\n",
       "Stipend_Type          fixed                                           \n",
       "Institute_Category        N                                           \n",
       "Degree                 10th         12th     A Levels   AAIP  AISSE   \n",
       "Is_Shortlisted                                                        \n",
       "0                      7500  6850.931677  7333.333333  10000  15000   \n",
       "1                         0  5615.384615     0.000000      0      0   \n",
       "All                    7500  6643.410853  7333.333333  10000  15000   \n",
       "\n",
       "                                                                       \\\n",
       "Stipend_Type                                                            \n",
       "Institute_Category                                                      \n",
       "Degree             AMIETE(Equivalent To B.Tech) APEARING B.TECH    Aa   \n",
       "Is_Shortlisted                                                          \n",
       "0                                          5000            6500  3000   \n",
       "1                                             0               0     0   \n",
       "All                                        5000            6500  3000   \n",
       "\n",
       "                                                            ...       \\\n",
       "Stipend_Type                                                ...        \n",
       "Institute_Category                                          ...        \n",
       "Degree                     Acca Ace Engineering College     ...        \n",
       "Is_Shortlisted                                              ...        \n",
       "0                   7000.000000                    7000     ...        \n",
       "1                   3000.000000                       0     ...        \n",
       "All                 5666.666667                    7000     ...        \n",
       "\n",
       "                                                                      \\\n",
       "Stipend_Type              variable                                     \n",
       "Institute_Category               Y                                     \n",
       "Degree             Post Graduation           UG   UGD Under Graduate   \n",
       "Is_Shortlisted                                                         \n",
       "0                             3500  3727.272727  1000    6067.567568   \n",
       "1                                0  2000.000000     0    2333.333333   \n",
       "All                           3500  3583.333333  1000    5787.500000   \n",
       "\n",
       "                                                                         \\\n",
       "Stipend_Type                                                              \n",
       "Institute_Category                                                        \n",
       "Degree             Under Graduate First Year Under Graduation Undergrad   \n",
       "Is_Shortlisted                                                            \n",
       "0                                       1500             5500         0   \n",
       "1                                       1250                0      5000   \n",
       "All                                     1375             5500      5000   \n",
       "\n",
       "                                                               \n",
       "Stipend_Type                                              All  \n",
       "Institute_Category                                             \n",
       "Degree             Undergraduate Undergraguation               \n",
       "Is_Shortlisted                                                 \n",
       "0                    4504.000000            5000  6966.626964  \n",
       "1                    3166.666667               0  5660.599743  \n",
       "All                  4245.161290            5000  6799.940342  \n",
       "\n",
       "[3 rows x 6210 columns]"
      ]
     },
     "execution_count": 53,
     "metadata": {},
     "output_type": "execute_result"
    }
   ],
   "source": [
    "train_merged[features].pivot_table(index=['Is_Shortlisted'],\n",
    "                                   columns=['Stipend_Type', 'Institute_Category', 'Degree'],\n",
    "                                   values=['Stipend1'],\n",
    "                                   aggfunc='mean', margins=True, fill_value=0)"
   ]
  },
  {
   "cell_type": "code",
   "execution_count": 29,
   "metadata": {
    "collapsed": false
   },
   "outputs": [
    {
     "data": {
      "text/plain": [
       "Experience_Type   Is_Shortlisted\n",
       "academic_project  0                 25567\n",
       "                  1                  3567\n",
       "award             0                  5177\n",
       "                  1                   856\n",
       "internship        0                 29928\n",
       "                  1                  5758\n",
       "job               0                 12215\n",
       "                  1                  1810\n",
       "other             0                  2078\n",
       "                  1                   409\n",
       "participation     0                  4647\n",
       "                  1                   766\n",
       "por               0                  6166\n",
       "                  1                  1241\n",
       "training          0                 18830\n",
       "                  1                  2339\n",
       "workshop          0                  6220\n",
       "                  1                   806\n",
       "dtype: int64"
      ]
     },
     "execution_count": 29,
     "metadata": {},
     "output_type": "execute_result"
    }
   ],
   "source": [
    "train_merged.groupby(['Experience_Type', 'Is_Shortlisted']).size()"
   ]
  },
  {
   "cell_type": "code",
   "execution_count": null,
   "metadata": {
    "collapsed": true
   },
   "outputs": [],
   "source": []
  }
 ],
 "metadata": {
  "kernelspec": {
   "display_name": "Python 2",
   "language": "python",
   "name": "python2"
  },
  "language_info": {
   "codemirror_mode": {
    "name": "ipython",
    "version": 2
   },
   "file_extension": ".py",
   "mimetype": "text/x-python",
   "name": "python",
   "nbconvert_exporter": "python",
   "pygments_lexer": "ipython2",
   "version": "2.7.11"
  }
 },
 "nbformat": 4,
 "nbformat_minor": 0
}
