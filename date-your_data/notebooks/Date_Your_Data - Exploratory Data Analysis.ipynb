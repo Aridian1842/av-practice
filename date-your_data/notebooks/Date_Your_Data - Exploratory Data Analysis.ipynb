{
 "cells": [
  {
   "cell_type": "code",
   "execution_count": 115,
   "metadata": {
    "collapsed": false
   },
   "outputs": [
    {
     "name": "stderr",
     "output_type": "stream",
     "text": [
      "C:\\Users\\Abhishek\\Anaconda2\\lib\\site-packages\\matplotlib\\__init__.py:872: UserWarning: axes.color_cycle is deprecated and replaced with axes.prop_cycle; please use the latter.\n",
      "  warnings.warn(self.msg_depr % (key, alt_key))\n"
     ]
    }
   ],
   "source": [
    "import numpy as np\n",
    "import pandas as pd\n",
    "\n",
    "import matplotlib.pyplot as plt\n",
    "import seaborn as sns\n",
    "\n",
    "%matplotlib inline"
   ]
  },
  {
   "cell_type": "code",
   "execution_count": 20,
   "metadata": {
    "collapsed": false
   },
   "outputs": [
    {
     "name": "stderr",
     "output_type": "stream",
     "text": [
      "C:\\Users\\Abhishek\\Anaconda2\\lib\\site-packages\\IPython\\core\\interactiveshell.py:2902: DtypeWarning: Columns (2) have mixed types. Specify dtype option on import or set low_memory=False.\n",
      "  interactivity=interactivity, compiler=compiler, result=result)\n"
     ]
    }
   ],
   "source": [
    "train = pd.read_csv('../data/train.csv')\n",
    "students = pd.read_csv('../data/Student.csv')\n",
    "internship = pd.read_csv('../data/Internship.csv')\n",
    "test = pd.read_csv('../data/test.csv')"
   ]
  },
  {
   "cell_type": "code",
   "execution_count": 4,
   "metadata": {
    "collapsed": true
   },
   "outputs": [],
   "source": [
    "data_dictionary = pd.read_excel('../data/Data_Dictionary.xlsx')"
   ]
  },
  {
   "cell_type": "markdown",
   "metadata": {},
   "source": [
    "## Training dataset"
   ]
  },
  {
   "cell_type": "code",
   "execution_count": 27,
   "metadata": {
    "collapsed": false
   },
   "outputs": [
    {
     "data": {
      "text/html": [
       "<div>\n",
       "<table border=\"1\" class=\"dataframe\">\n",
       "  <thead>\n",
       "    <tr style=\"text-align: right;\">\n",
       "      <th></th>\n",
       "      <th>Internship_ID</th>\n",
       "      <th>Student_ID</th>\n",
       "      <th>Earliest_Start_Date</th>\n",
       "      <th>Expected_Stipend</th>\n",
       "      <th>Minimum_Duration</th>\n",
       "      <th>Preferred_location</th>\n",
       "      <th>Is_Part_Time</th>\n",
       "      <th>Is_Shortlisted</th>\n",
       "    </tr>\n",
       "  </thead>\n",
       "  <tbody>\n",
       "    <tr>\n",
       "      <th>0</th>\n",
       "      <td>8161</td>\n",
       "      <td>78663553</td>\n",
       "      <td>03-01-2015</td>\n",
       "      <td>2-5K</td>\n",
       "      <td>3</td>\n",
       "      <td>NaN</td>\n",
       "      <td>0</td>\n",
       "      <td>0</td>\n",
       "    </tr>\n",
       "    <tr>\n",
       "      <th>1</th>\n",
       "      <td>4977</td>\n",
       "      <td>7695797</td>\n",
       "      <td>19-12-2014</td>\n",
       "      <td>5-10K</td>\n",
       "      <td>2</td>\n",
       "      <td>IHFG</td>\n",
       "      <td>1</td>\n",
       "      <td>0</td>\n",
       "    </tr>\n",
       "    <tr>\n",
       "      <th>2</th>\n",
       "      <td>10271</td>\n",
       "      <td>78663092</td>\n",
       "      <td>06-01-2015</td>\n",
       "      <td>5-10K</td>\n",
       "      <td>6</td>\n",
       "      <td>NaN</td>\n",
       "      <td>0</td>\n",
       "      <td>0</td>\n",
       "    </tr>\n",
       "    <tr>\n",
       "      <th>3</th>\n",
       "      <td>7393</td>\n",
       "      <td>7708503</td>\n",
       "      <td>03-12-2014</td>\n",
       "      <td>2-5K</td>\n",
       "      <td>1</td>\n",
       "      <td>IHFG</td>\n",
       "      <td>0</td>\n",
       "      <td>0</td>\n",
       "    </tr>\n",
       "    <tr>\n",
       "      <th>4</th>\n",
       "      <td>11125</td>\n",
       "      <td>78659782</td>\n",
       "      <td>02-01-2015</td>\n",
       "      <td>10K+</td>\n",
       "      <td>6</td>\n",
       "      <td>NaN</td>\n",
       "      <td>1</td>\n",
       "      <td>0</td>\n",
       "    </tr>\n",
       "  </tbody>\n",
       "</table>\n",
       "</div>"
      ],
      "text/plain": [
       "   Internship_ID  Student_ID Earliest_Start_Date Expected_Stipend  \\\n",
       "0           8161    78663553          03-01-2015             2-5K   \n",
       "1           4977     7695797          19-12-2014            5-10K   \n",
       "2          10271    78663092          06-01-2015            5-10K   \n",
       "3           7393     7708503          03-12-2014             2-5K   \n",
       "4          11125    78659782          02-01-2015             10K+   \n",
       "\n",
       "   Minimum_Duration Preferred_location  Is_Part_Time  Is_Shortlisted  \n",
       "0                 3                NaN             0               0  \n",
       "1                 2               IHFG             1               0  \n",
       "2                 6                NaN             0               0  \n",
       "3                 1               IHFG             0               0  \n",
       "4                 6                NaN             1               0  "
      ]
     },
     "execution_count": 27,
     "metadata": {},
     "output_type": "execute_result"
    }
   ],
   "source": [
    "train.head()"
   ]
  },
  {
   "cell_type": "markdown",
   "metadata": {},
   "source": [
    "## Data about potential intern"
   ]
  },
  {
   "cell_type": "code",
   "execution_count": 24,
   "metadata": {
    "collapsed": false
   },
   "outputs": [
    {
     "data": {
      "text/html": [
       "<div>\n",
       "<table border=\"1\" class=\"dataframe\">\n",
       "  <thead>\n",
       "    <tr style=\"text-align: right;\">\n",
       "      <th></th>\n",
       "      <th>Student_ID</th>\n",
       "      <th>Institute_Category</th>\n",
       "      <th>Institute_location</th>\n",
       "      <th>hometown</th>\n",
       "      <th>Degree</th>\n",
       "      <th>Stream</th>\n",
       "      <th>Current_year</th>\n",
       "      <th>Year_of_graduation</th>\n",
       "      <th>Performance_PG</th>\n",
       "      <th>PG_scale</th>\n",
       "      <th>Performance_UG</th>\n",
       "      <th>UG_Scale</th>\n",
       "      <th>Performance_12th</th>\n",
       "      <th>Performance_10th</th>\n",
       "      <th>Experience_Type</th>\n",
       "      <th>Profile</th>\n",
       "      <th>Location</th>\n",
       "      <th>Start Date</th>\n",
       "      <th>End Date</th>\n",
       "    </tr>\n",
       "  </thead>\n",
       "  <tbody>\n",
       "    <tr>\n",
       "      <th>0</th>\n",
       "      <td>7654321</td>\n",
       "      <td>Y</td>\n",
       "      <td>JADH</td>\n",
       "      <td>IIDB</td>\n",
       "      <td>B.Tech and M.Tech (Dual Degree)</td>\n",
       "      <td>Mathematics &amp; Computing</td>\n",
       "      <td>already a graduate</td>\n",
       "      <td>2012</td>\n",
       "      <td>8.5</td>\n",
       "      <td>10</td>\n",
       "      <td>8.6</td>\n",
       "      <td>10</td>\n",
       "      <td>86.2</td>\n",
       "      <td>91.6</td>\n",
       "      <td>job</td>\n",
       "      <td>Software Engineering</td>\n",
       "      <td>IJCE</td>\n",
       "      <td>18-06-2013</td>\n",
       "      <td>21-06-2014</td>\n",
       "    </tr>\n",
       "    <tr>\n",
       "      <th>1</th>\n",
       "      <td>7654321</td>\n",
       "      <td>Y</td>\n",
       "      <td>JADH</td>\n",
       "      <td>IIDB</td>\n",
       "      <td>B.Tech and M.Tech (Dual Degree)</td>\n",
       "      <td>Mathematics &amp; Computing</td>\n",
       "      <td>already a graduate</td>\n",
       "      <td>2012</td>\n",
       "      <td>8.5</td>\n",
       "      <td>10</td>\n",
       "      <td>8.6</td>\n",
       "      <td>10</td>\n",
       "      <td>86.2</td>\n",
       "      <td>91.6</td>\n",
       "      <td>job</td>\n",
       "      <td>Software Development</td>\n",
       "      <td>IIDB</td>\n",
       "      <td>01-07-2013</td>\n",
       "      <td>NaN</td>\n",
       "    </tr>\n",
       "    <tr>\n",
       "      <th>2</th>\n",
       "      <td>7668677</td>\n",
       "      <td>Y</td>\n",
       "      <td>JAHG</td>\n",
       "      <td>IJCE</td>\n",
       "      <td>MBA</td>\n",
       "      <td>BUSINESS MANAGEMENT</td>\n",
       "      <td>1</td>\n",
       "      <td>2016</td>\n",
       "      <td>60.0</td>\n",
       "      <td>100</td>\n",
       "      <td>60.5</td>\n",
       "      <td>100</td>\n",
       "      <td>81.6</td>\n",
       "      <td>90.3</td>\n",
       "      <td>job</td>\n",
       "      <td>Operations Process Consulting + Coding</td>\n",
       "      <td>IIBD</td>\n",
       "      <td>06-05-2013</td>\n",
       "      <td>13-06-2014</td>\n",
       "    </tr>\n",
       "    <tr>\n",
       "      <th>3</th>\n",
       "      <td>7668677</td>\n",
       "      <td>Y</td>\n",
       "      <td>JAHG</td>\n",
       "      <td>IJCE</td>\n",
       "      <td>MBA</td>\n",
       "      <td>BUSINESS MANAGEMENT</td>\n",
       "      <td>1</td>\n",
       "      <td>2016</td>\n",
       "      <td>60.0</td>\n",
       "      <td>100</td>\n",
       "      <td>60.5</td>\n",
       "      <td>100</td>\n",
       "      <td>81.6</td>\n",
       "      <td>90.3</td>\n",
       "      <td>job</td>\n",
       "      <td>Product Development</td>\n",
       "      <td>IIBD</td>\n",
       "      <td>08-08-2011</td>\n",
       "      <td>29-03-2013</td>\n",
       "    </tr>\n",
       "    <tr>\n",
       "      <th>4</th>\n",
       "      <td>7654322</td>\n",
       "      <td>Y</td>\n",
       "      <td>JACD</td>\n",
       "      <td>JDAE</td>\n",
       "      <td>B.Tech</td>\n",
       "      <td>Biotechnology</td>\n",
       "      <td>already a graduate</td>\n",
       "      <td>2012</td>\n",
       "      <td>0.0</td>\n",
       "      <td>10</td>\n",
       "      <td>7.1</td>\n",
       "      <td>10</td>\n",
       "      <td>87.0</td>\n",
       "      <td>88.0</td>\n",
       "      <td>internship</td>\n",
       "      <td>Research Intern</td>\n",
       "      <td>IIBD</td>\n",
       "      <td>02-06-2010</td>\n",
       "      <td>11-07-2010</td>\n",
       "    </tr>\n",
       "  </tbody>\n",
       "</table>\n",
       "</div>"
      ],
      "text/plain": [
       "   Student_ID Institute_Category Institute_location hometown  \\\n",
       "0     7654321                  Y               JADH     IIDB   \n",
       "1     7654321                  Y               JADH     IIDB   \n",
       "2     7668677                  Y               JAHG     IJCE   \n",
       "3     7668677                  Y               JAHG     IJCE   \n",
       "4     7654322                  Y               JACD     JDAE   \n",
       "\n",
       "                            Degree                   Stream  \\\n",
       "0  B.Tech and M.Tech (Dual Degree)  Mathematics & Computing   \n",
       "1  B.Tech and M.Tech (Dual Degree)  Mathematics & Computing   \n",
       "2                              MBA      BUSINESS MANAGEMENT   \n",
       "3                              MBA      BUSINESS MANAGEMENT   \n",
       "4                           B.Tech            Biotechnology   \n",
       "\n",
       "         Current_year  Year_of_graduation  Performance_PG  PG_scale  \\\n",
       "0  already a graduate                2012             8.5        10   \n",
       "1  already a graduate                2012             8.5        10   \n",
       "2                   1                2016            60.0       100   \n",
       "3                   1                2016            60.0       100   \n",
       "4  already a graduate                2012             0.0        10   \n",
       "\n",
       "   Performance_UG  UG_Scale  Performance_12th  Performance_10th  \\\n",
       "0             8.6        10              86.2              91.6   \n",
       "1             8.6        10              86.2              91.6   \n",
       "2            60.5       100              81.6              90.3   \n",
       "3            60.5       100              81.6              90.3   \n",
       "4             7.1        10              87.0              88.0   \n",
       "\n",
       "  Experience_Type                                 Profile Location  \\\n",
       "0             job                    Software Engineering     IJCE   \n",
       "1             job                    Software Development     IIDB   \n",
       "2             job  Operations Process Consulting + Coding     IIBD   \n",
       "3             job                     Product Development     IIBD   \n",
       "4      internship                         Research Intern     IIBD   \n",
       "\n",
       "   Start Date    End Date  \n",
       "0  18-06-2013  21-06-2014  \n",
       "1  01-07-2013         NaN  \n",
       "2  06-05-2013  13-06-2014  \n",
       "3  08-08-2011  29-03-2013  \n",
       "4  02-06-2010  11-07-2010  "
      ]
     },
     "execution_count": 24,
     "metadata": {},
     "output_type": "execute_result"
    }
   ],
   "source": [
    "students.head()"
   ]
  },
  {
   "cell_type": "markdown",
   "metadata": {},
   "source": [
    "## Data about internship opportunities"
   ]
  },
  {
   "cell_type": "code",
   "execution_count": 25,
   "metadata": {
    "collapsed": false
   },
   "outputs": [
    {
     "data": {
      "text/html": [
       "<div>\n",
       "<table border=\"1\" class=\"dataframe\">\n",
       "  <thead>\n",
       "    <tr style=\"text-align: right;\">\n",
       "      <th></th>\n",
       "      <th>Internship_ID</th>\n",
       "      <th>Internship_Profile</th>\n",
       "      <th>Skills_required</th>\n",
       "      <th>Internship_Type</th>\n",
       "      <th>Internship_Location</th>\n",
       "      <th>Internship_category</th>\n",
       "      <th>No_of_openings</th>\n",
       "      <th>Stipend_Type</th>\n",
       "      <th>Stipend1</th>\n",
       "      <th>Stipend2</th>\n",
       "      <th>...</th>\n",
       "      <th>PhoneGap</th>\n",
       "      <th>Storytelling</th>\n",
       "      <th>MySQL.</th>\n",
       "      <th>Ionic</th>\n",
       "      <th>Design Skills</th>\n",
       "      <th>Corporate Sales</th>\n",
       "      <th>Entrepreneurship</th>\n",
       "      <th>Films</th>\n",
       "      <th>Foundation</th>\n",
       "      <th>Payment Gateway</th>\n",
       "    </tr>\n",
       "  </thead>\n",
       "  <tbody>\n",
       "    <tr>\n",
       "      <th>0</th>\n",
       "      <td>6653</td>\n",
       "      <td>Creative Content Writing</td>\n",
       "      <td>NaN</td>\n",
       "      <td>virtual</td>\n",
       "      <td>IIGB</td>\n",
       "      <td>Part time</td>\n",
       "      <td>5</td>\n",
       "      <td>variable</td>\n",
       "      <td>1500</td>\n",
       "      <td>2000</td>\n",
       "      <td>...</td>\n",
       "      <td>0</td>\n",
       "      <td>0</td>\n",
       "      <td>0</td>\n",
       "      <td>0</td>\n",
       "      <td>0</td>\n",
       "      <td>0</td>\n",
       "      <td>0</td>\n",
       "      <td>0</td>\n",
       "      <td>0</td>\n",
       "      <td>0</td>\n",
       "    </tr>\n",
       "    <tr>\n",
       "      <th>1</th>\n",
       "      <td>9351</td>\n",
       "      <td>Strategic Philanthropy</td>\n",
       "      <td>NaN</td>\n",
       "      <td>regular</td>\n",
       "      <td>JABD</td>\n",
       "      <td>Part time</td>\n",
       "      <td>5</td>\n",
       "      <td>unpaid</td>\n",
       "      <td>NaN</td>\n",
       "      <td>NaN</td>\n",
       "      <td>...</td>\n",
       "      <td>0</td>\n",
       "      <td>0</td>\n",
       "      <td>0</td>\n",
       "      <td>0</td>\n",
       "      <td>0</td>\n",
       "      <td>0</td>\n",
       "      <td>0</td>\n",
       "      <td>0</td>\n",
       "      <td>0</td>\n",
       "      <td>0</td>\n",
       "    </tr>\n",
       "    <tr>\n",
       "      <th>2</th>\n",
       "      <td>8714</td>\n",
       "      <td>Business Development</td>\n",
       "      <td>NaN</td>\n",
       "      <td>regular</td>\n",
       "      <td>IIDB</td>\n",
       "      <td>Part time</td>\n",
       "      <td>10</td>\n",
       "      <td>performance</td>\n",
       "      <td>50</td>\n",
       "      <td>NaN</td>\n",
       "      <td>...</td>\n",
       "      <td>0</td>\n",
       "      <td>0</td>\n",
       "      <td>0</td>\n",
       "      <td>0</td>\n",
       "      <td>0</td>\n",
       "      <td>0</td>\n",
       "      <td>0</td>\n",
       "      <td>0</td>\n",
       "      <td>0</td>\n",
       "      <td>0</td>\n",
       "    </tr>\n",
       "    <tr>\n",
       "      <th>3</th>\n",
       "      <td>4575</td>\n",
       "      <td>Creative Writing &amp; Research</td>\n",
       "      <td>Researching And Writing?</td>\n",
       "      <td>virtual</td>\n",
       "      <td>IIGB</td>\n",
       "      <td>Full Time</td>\n",
       "      <td>6</td>\n",
       "      <td>fixed</td>\n",
       "      <td>3000</td>\n",
       "      <td>NaN</td>\n",
       "      <td>...</td>\n",
       "      <td>0</td>\n",
       "      <td>0</td>\n",
       "      <td>0</td>\n",
       "      <td>0</td>\n",
       "      <td>0</td>\n",
       "      <td>0</td>\n",
       "      <td>0</td>\n",
       "      <td>0</td>\n",
       "      <td>0</td>\n",
       "      <td>0</td>\n",
       "    </tr>\n",
       "    <tr>\n",
       "      <th>4</th>\n",
       "      <td>10771</td>\n",
       "      <td>Firmware And Networking Development</td>\n",
       "      <td>TCP/IP,ARM,PIC,Networking,Arduino,Firmware</td>\n",
       "      <td>regular</td>\n",
       "      <td>IIBD</td>\n",
       "      <td>Full Time</td>\n",
       "      <td>5</td>\n",
       "      <td>variable</td>\n",
       "      <td>7000</td>\n",
       "      <td>15000</td>\n",
       "      <td>...</td>\n",
       "      <td>0</td>\n",
       "      <td>0</td>\n",
       "      <td>0</td>\n",
       "      <td>0</td>\n",
       "      <td>0</td>\n",
       "      <td>0</td>\n",
       "      <td>0</td>\n",
       "      <td>0</td>\n",
       "      <td>0</td>\n",
       "      <td>0</td>\n",
       "    </tr>\n",
       "  </tbody>\n",
       "</table>\n",
       "<p>5 rows × 286 columns</p>\n",
       "</div>"
      ],
      "text/plain": [
       "   Internship_ID                   Internship_Profile  \\\n",
       "0           6653             Creative Content Writing   \n",
       "1           9351               Strategic Philanthropy   \n",
       "2           8714                 Business Development   \n",
       "3           4575          Creative Writing & Research   \n",
       "4          10771  Firmware And Networking Development   \n",
       "\n",
       "                              Skills_required Internship_Type  \\\n",
       "0                                         NaN         virtual   \n",
       "1                                         NaN         regular   \n",
       "2                                         NaN         regular   \n",
       "3                    Researching And Writing?         virtual   \n",
       "4  TCP/IP,ARM,PIC,Networking,Arduino,Firmware         regular   \n",
       "\n",
       "  Internship_Location Internship_category  No_of_openings Stipend_Type  \\\n",
       "0                IIGB           Part time               5     variable   \n",
       "1                JABD           Part time               5       unpaid   \n",
       "2                IIDB           Part time              10  performance   \n",
       "3                IIGB           Full Time               6        fixed   \n",
       "4                IIBD           Full Time               5     variable   \n",
       "\n",
       "   Stipend1  Stipend2       ...        PhoneGap Storytelling  MySQL.  Ionic  \\\n",
       "0      1500      2000       ...               0            0       0      0   \n",
       "1       NaN       NaN       ...               0            0       0      0   \n",
       "2        50       NaN       ...               0            0       0      0   \n",
       "3      3000       NaN       ...               0            0       0      0   \n",
       "4      7000     15000       ...               0            0       0      0   \n",
       "\n",
       "   Design Skills  Corporate Sales  Entrepreneurship  Films  Foundation  \\\n",
       "0              0                0                 0      0           0   \n",
       "1              0                0                 0      0           0   \n",
       "2              0                0                 0      0           0   \n",
       "3              0                0                 0      0           0   \n",
       "4              0                0                 0      0           0   \n",
       "\n",
       "   Payment Gateway  \n",
       "0                0  \n",
       "1                0  \n",
       "2                0  \n",
       "3                0  \n",
       "4                0  \n",
       "\n",
       "[5 rows x 286 columns]"
      ]
     },
     "execution_count": 25,
     "metadata": {},
     "output_type": "execute_result"
    }
   ],
   "source": [
    "internship.head()"
   ]
  },
  {
   "cell_type": "markdown",
   "metadata": {},
   "source": [
    "## Test set"
   ]
  },
  {
   "cell_type": "code",
   "execution_count": 28,
   "metadata": {
    "collapsed": false
   },
   "outputs": [
    {
     "data": {
      "text/html": [
       "<div>\n",
       "<table border=\"1\" class=\"dataframe\">\n",
       "  <thead>\n",
       "    <tr style=\"text-align: right;\">\n",
       "      <th></th>\n",
       "      <th>Internship_ID</th>\n",
       "      <th>Student_ID</th>\n",
       "      <th>Earliest_Start_Date</th>\n",
       "      <th>Expected_Stipend</th>\n",
       "      <th>Minimum_Duration</th>\n",
       "      <th>Preferred_location</th>\n",
       "      <th>Is_Part_Time</th>\n",
       "    </tr>\n",
       "  </thead>\n",
       "  <tbody>\n",
       "    <tr>\n",
       "      <th>0</th>\n",
       "      <td>9341</td>\n",
       "      <td>7677714</td>\n",
       "      <td>25-01-2015</td>\n",
       "      <td>2-5K</td>\n",
       "      <td>2</td>\n",
       "      <td>IIBD</td>\n",
       "      <td>0</td>\n",
       "    </tr>\n",
       "    <tr>\n",
       "      <th>1</th>\n",
       "      <td>6426</td>\n",
       "      <td>7696418</td>\n",
       "      <td>21-01-2015</td>\n",
       "      <td>5-10K</td>\n",
       "      <td>5</td>\n",
       "      <td>NaN</td>\n",
       "      <td>0</td>\n",
       "    </tr>\n",
       "    <tr>\n",
       "      <th>2</th>\n",
       "      <td>5812</td>\n",
       "      <td>78666725</td>\n",
       "      <td>09-01-2015</td>\n",
       "      <td>10K+</td>\n",
       "      <td>5</td>\n",
       "      <td>NaN</td>\n",
       "      <td>1</td>\n",
       "    </tr>\n",
       "    <tr>\n",
       "      <th>3</th>\n",
       "      <td>10711</td>\n",
       "      <td>7705454</td>\n",
       "      <td>11-01-2015</td>\n",
       "      <td>No Expectations</td>\n",
       "      <td>2</td>\n",
       "      <td>NaN</td>\n",
       "      <td>1</td>\n",
       "    </tr>\n",
       "    <tr>\n",
       "      <th>4</th>\n",
       "      <td>5880</td>\n",
       "      <td>7711946</td>\n",
       "      <td>15-01-2015</td>\n",
       "      <td>No Expectations</td>\n",
       "      <td>2</td>\n",
       "      <td>IHFG</td>\n",
       "      <td>1</td>\n",
       "    </tr>\n",
       "  </tbody>\n",
       "</table>\n",
       "</div>"
      ],
      "text/plain": [
       "   Internship_ID  Student_ID Earliest_Start_Date Expected_Stipend  \\\n",
       "0           9341     7677714          25-01-2015             2-5K   \n",
       "1           6426     7696418          21-01-2015            5-10K   \n",
       "2           5812    78666725          09-01-2015             10K+   \n",
       "3          10711     7705454          11-01-2015  No Expectations   \n",
       "4           5880     7711946          15-01-2015  No Expectations   \n",
       "\n",
       "   Minimum_Duration Preferred_location  Is_Part_Time  \n",
       "0                 2               IIBD             0  \n",
       "1                 5                NaN             0  \n",
       "2                 5                NaN             1  \n",
       "3                 2                NaN             1  \n",
       "4                 2               IHFG             1  "
      ]
     },
     "execution_count": 28,
     "metadata": {},
     "output_type": "execute_result"
    }
   ],
   "source": [
    "test.head()"
   ]
  },
  {
   "cell_type": "markdown",
   "metadata": {},
   "source": [
    "## Data Dictionary"
   ]
  },
  {
   "cell_type": "code",
   "execution_count": 18,
   "metadata": {
    "collapsed": false
   },
   "outputs": [
    {
     "data": {
      "text/html": [
       "<div>\n",
       "<table border=\"1\" class=\"dataframe\">\n",
       "  <thead>\n",
       "    <tr style=\"text-align: right;\">\n",
       "      <th></th>\n",
       "      <th>Variable_Name</th>\n",
       "      <th>Definition</th>\n",
       "    </tr>\n",
       "  </thead>\n",
       "  <tbody>\n",
       "    <tr>\n",
       "      <th>0</th>\n",
       "      <td>Internship_ID</td>\n",
       "      <td>Internship_ID; Each internship has a unique id...</td>\n",
       "    </tr>\n",
       "    <tr>\n",
       "      <th>1</th>\n",
       "      <td>Student_ID</td>\n",
       "      <td>Student_ID - unique for each student</td>\n",
       "    </tr>\n",
       "    <tr>\n",
       "      <th>2</th>\n",
       "      <td>Earliest_Start_Date</td>\n",
       "      <td>Earliest date student can start their Internship</td>\n",
       "    </tr>\n",
       "    <tr>\n",
       "      <th>3</th>\n",
       "      <td>Expected_Stipend</td>\n",
       "      <td>Expected stipend by student</td>\n",
       "    </tr>\n",
       "    <tr>\n",
       "      <th>4</th>\n",
       "      <td>Minimum_Duration</td>\n",
       "      <td>Months students is available for Internship</td>\n",
       "    </tr>\n",
       "    <tr>\n",
       "      <th>5</th>\n",
       "      <td>Preferred_location</td>\n",
       "      <td>Preferred location code</td>\n",
       "    </tr>\n",
       "    <tr>\n",
       "      <th>6</th>\n",
       "      <td>Is_Part_Time</td>\n",
       "      <td>Available for Part_time(1)/ Full_Time(0)</td>\n",
       "    </tr>\n",
       "    <tr>\n",
       "      <th>7</th>\n",
       "      <td>Is_Shortlisted</td>\n",
       "      <td>Target Variable (1: Shortlisted, 0: Not Shortl...</td>\n",
       "    </tr>\n",
       "  </tbody>\n",
       "</table>\n",
       "</div>"
      ],
      "text/plain": [
       "         Variable_Name                                         Definition\n",
       "0        Internship_ID  Internship_ID; Each internship has a unique id...\n",
       "1           Student_ID               Student_ID - unique for each student\n",
       "2  Earliest_Start_Date   Earliest date student can start their Internship\n",
       "3     Expected_Stipend                        Expected stipend by student\n",
       "4     Minimum_Duration        Months students is available for Internship\n",
       "5   Preferred_location                            Preferred location code\n",
       "6         Is_Part_Time           Available for Part_time(1)/ Full_Time(0)\n",
       "7       Is_Shortlisted  Target Variable (1: Shortlisted, 0: Not Shortl..."
      ]
     },
     "execution_count": 18,
     "metadata": {},
     "output_type": "execute_result"
    }
   ],
   "source": [
    "data_dictionary"
   ]
  },
  {
   "cell_type": "markdown",
   "metadata": {},
   "source": [
    "## Class Distribution"
   ]
  },
  {
   "cell_type": "code",
   "execution_count": 31,
   "metadata": {
    "collapsed": false
   },
   "outputs": [
    {
     "data": {
      "text/plain": [
       "0    168003\n",
       "1     24579\n",
       "Name: Is_Shortlisted, dtype: int64"
      ]
     },
     "execution_count": 31,
     "metadata": {},
     "output_type": "execute_result"
    }
   ],
   "source": [
    "train.Is_Shortlisted.value_counts()"
   ]
  },
  {
   "cell_type": "markdown",
   "metadata": {},
   "source": [
    "## Internship id vs Shortlist"
   ]
  },
  {
   "cell_type": "code",
   "execution_count": 116,
   "metadata": {
    "collapsed": false
   },
   "outputs": [
    {
     "data": {
      "image/png": "[encoded data removed]",
      "text/plain": [
       "<matplotlib.figure.Figure at 0x15dcb208>"
      ]
     },
     "metadata": {},
     "output_type": "display_data"
    }
   ],
   "source": [
    "rel_internship_id = train.groupby(['Internship_ID', 'Is_Shortlisted']).size()\n",
    "rel_internship_id = rel_internship_id.unstack(1).fillna(0)\n",
    "rel_internship_id.plot();"
   ]
  },
  {
   "cell_type": "markdown",
   "metadata": {},
   "source": [
    "### Relationship between Expected Stipend and whether intern was shortlisted or not"
   ]
  },
  {
   "cell_type": "code",
   "execution_count": 121,
   "metadata": {
    "collapsed": false
   },
   "outputs": [
    {
     "data": {
      "text/plain": [
       "Expected_Stipend  Is_Shortlisted\n",
       "10K+              0                 34152\n",
       "                  1                  4245\n",
       "2-5K              0                 35708\n",
       "                  1                  6297\n",
       "5-10K             0                 51345\n",
       "                  1                  7207\n",
       "No Expectations   0                 46798\n",
       "                  1                  6830\n",
       "dtype: int64"
      ]
     },
     "execution_count": 121,
     "metadata": {},
     "output_type": "execute_result"
    }
   ],
   "source": [
    "train.groupby(['Expected_Stipend', 'Is_Shortlisted']).size()"
   ]
  },
  {
   "cell_type": "markdown",
   "metadata": {},
   "source": [
    "### Does preferred location has any effect whether one would be shortlisted for internship ?"
   ]
  },
  {
   "cell_type": "code",
   "execution_count": 123,
   "metadata": {
    "collapsed": false
   },
   "outputs": [
    {
     "data": {
      "text/plain": [
       "Index([u'Internship_ID', u'Student_ID', u'Earliest_Start_Date',\n",
       "       u'Expected_Stipend', u'Minimum_Duration', u'Preferred_location',\n",
       "       u'Is_Part_Time', u'Is_Shortlisted'],\n",
       "      dtype='object')"
      ]
     },
     "execution_count": 123,
     "metadata": {},
     "output_type": "execute_result"
    }
   ],
   "source": [
    "train.columns"
   ]
  },
  {
   "cell_type": "code",
   "execution_count": 128,
   "metadata": {
    "collapsed": false
   },
   "outputs": [
    {
     "data": {
      "image/png": "[encoded data removed]",
      "text/plain": [
       "<matplotlib.figure.Figure at 0x28dfc358>"
      ]
     },
     "metadata": {},
     "output_type": "display_data"
    }
   ],
   "source": [
    "preferred_location = train.groupby(['Preferred_location', 'Is_Shortlisted']).size()\n",
    "preferred_location = preferred_location.unstack(1).fillna(0)\n",
    "preferred_location.plot();"
   ]
  },
  {
   "cell_type": "markdown",
   "metadata": {},
   "source": [
    "## Crosstabulation between Is_Part_Time and Is_Shortlisted"
   ]
  },
  {
   "cell_type": "code",
   "execution_count": 32,
   "metadata": {
    "collapsed": false
   },
   "outputs": [
    {
     "data": {
      "text/html": [
       "<div>\n",
       "<table border=\"1\" class=\"dataframe\">\n",
       "  <thead>\n",
       "    <tr style=\"text-align: right;\">\n",
       "      <th>Is_Shortlisted</th>\n",
       "      <th>0</th>\n",
       "      <th>1</th>\n",
       "    </tr>\n",
       "    <tr>\n",
       "      <th>Is_Part_Time</th>\n",
       "      <th></th>\n",
       "      <th></th>\n",
       "    </tr>\n",
       "  </thead>\n",
       "  <tbody>\n",
       "    <tr>\n",
       "      <th>0</th>\n",
       "      <td>112011</td>\n",
       "      <td>14513</td>\n",
       "    </tr>\n",
       "    <tr>\n",
       "      <th>1</th>\n",
       "      <td>55992</td>\n",
       "      <td>10066</td>\n",
       "    </tr>\n",
       "  </tbody>\n",
       "</table>\n",
       "</div>"
      ],
      "text/plain": [
       "Is_Shortlisted       0      1\n",
       "Is_Part_Time                 \n",
       "0               112011  14513\n",
       "1                55992  10066"
      ]
     },
     "execution_count": 32,
     "metadata": {},
     "output_type": "execute_result"
    }
   ],
   "source": [
    "pd.crosstab(train.Is_Part_Time, train.Is_Shortlisted)"
   ]
  },
  {
   "cell_type": "markdown",
   "metadata": {},
   "source": []
  },
  {
   "cell_type": "code",
   "execution_count": 131,
   "metadata": {
    "collapsed": false
   },
   "outputs": [
    {
     "data": {
      "image/png": "[encoded data removed]",
      "text/plain": [
       "<matplotlib.figure.Figure at 0x10545a58>"
      ]
     },
     "metadata": {},
     "output_type": "display_data"
    }
   ],
   "source": [
    "min_duration = train.groupby(['Minimum_Duration', 'Is_Shortlisted']).size()\n",
    "min_duration = min_duration.unstack(1)\n",
    "min_duration.plot();"
   ]
  },
  {
   "cell_type": "code",
   "execution_count": 132,
   "metadata": {
    "collapsed": false
   },
   "outputs": [
    {
     "data": {
      "text/plain": [
       "count    192582.000000\n",
       "mean          3.790043\n",
       "std           2.702877\n",
       "min           1.000000\n",
       "25%           2.000000\n",
       "50%           3.000000\n",
       "75%           6.000000\n",
       "max          12.000000\n",
       "Name: Minimum_Duration, dtype: float64"
      ]
     },
     "execution_count": 132,
     "metadata": {},
     "output_type": "execute_result"
    }
   ],
   "source": [
    "train.Minimum_Duration.describe()"
   ]
  },
  {
   "cell_type": "code",
   "execution_count": null,
   "metadata": {
    "collapsed": true
   },
   "outputs": [],
   "source": []
  },
  {
   "cell_type": "code",
   "execution_count": null,
   "metadata": {
    "collapsed": true
   },
   "outputs": [],
   "source": []
  },
  {
   "cell_type": "code",
   "execution_count": null,
   "metadata": {
    "collapsed": true
   },
   "outputs": [],
   "source": []
  }
 ],
 "metadata": {
  "kernelspec": {
   "display_name": "Python 2",
   "language": "python",
   "name": "python2"
  },
  "language_info": {
   "codemirror_mode": {
    "name": "ipython",
    "version": 2
   },
   "file_extension": ".py",
   "mimetype": "text/x-python",
   "name": "python",
   "nbconvert_exporter": "python",
   "pygments_lexer": "ipython2",
   "version": "2.7.11"
  }
 },
 "nbformat": 4,
 "nbformat_minor": 0
}
