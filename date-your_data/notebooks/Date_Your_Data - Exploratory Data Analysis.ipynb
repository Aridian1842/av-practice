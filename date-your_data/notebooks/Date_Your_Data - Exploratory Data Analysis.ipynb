{
 "cells": [
  {
   "cell_type": "code",
   "execution_count": 1,
   "metadata": {
    "collapsed": false
   },
   "outputs": [],
   "source": [
    "import numpy as np\n",
    "import pandas as pd\n",
    "\n",
    "import matplotlib.pyplot as plt\n",
    "import seaborn as sns\n",
    "\n",
    "import warnings\n",
    "warnings.filterwarnings('ignore')\n",
    "\n",
    "%matplotlib inline"
   ]
  },
  {
   "cell_type": "code",
   "execution_count": 2,
   "metadata": {
    "collapsed": true
   },
   "outputs": [],
   "source": [
    "date_columns = ['Internship_deadline', 'Earliest_Start_Date', 'Start Date', \n",
    "                'End Date', 'Start_Date']\n",
    "\n",
    "train_merged = pd.read_csv('../data/train_merged.csv', parse_dates=date_columns)\n",
    "test_merged = pd.read_csv('../data/test_merged.csv', parse_dates=date_columns)"
   ]
  },
  {
   "cell_type": "markdown",
   "metadata": {},
   "source": [
    "## Load encoded data sets"
   ]
  },
  {
   "cell_type": "code",
   "execution_count": 2,
   "metadata": {
    "collapsed": true
   },
   "outputs": [],
   "source": [
    "train_merged_encoded = pd.read_csv('../data/train_merged_encoded.csv')\n",
    "test_merged_encoded = pd.read_csv('../data/test_merged_encoded.csv')"
   ]
  },
  {
   "cell_type": "markdown",
   "metadata": {},
   "source": [
    "## Training dataset"
   ]
  },
  {
   "cell_type": "code",
   "execution_count": 3,
   "metadata": {
    "collapsed": false
   },
   "outputs": [
    {
     "data": {
      "text/html": [
       "<div>\n",
       "<table border=\"1\" class=\"dataframe\">\n",
       "  <thead>\n",
       "    <tr style=\"text-align: right;\">\n",
       "      <th></th>\n",
       "      <th>Internship_ID</th>\n",
       "      <th>Student_ID</th>\n",
       "      <th>Earliest_Start_Date</th>\n",
       "      <th>Expected_Stipend</th>\n",
       "      <th>Minimum_Duration</th>\n",
       "      <th>Preferred_location</th>\n",
       "      <th>Is_Part_Time</th>\n",
       "      <th>Is_Shortlisted</th>\n",
       "      <th>Internship_Profile</th>\n",
       "      <th>Skills_required</th>\n",
       "      <th>...</th>\n",
       "      <th>num_awards</th>\n",
       "      <th>num_previous_internships</th>\n",
       "      <th>Stipend_level</th>\n",
       "      <th>stipend_expectation_by_exp</th>\n",
       "      <th>expectations_match</th>\n",
       "      <th>Earliest_Start_Date_month</th>\n",
       "      <th>is_Dec_or_Jan</th>\n",
       "      <th>whether_applied_previously</th>\n",
       "      <th>missing_profile</th>\n",
       "      <th>missing_skills_required</th>\n",
       "    </tr>\n",
       "  </thead>\n",
       "  <tbody>\n",
       "    <tr>\n",
       "      <th>0</th>\n",
       "      <td>8161</td>\n",
       "      <td>78663553</td>\n",
       "      <td>2015-01-03 00:00:00.000000000</td>\n",
       "      <td>1</td>\n",
       "      <td>3</td>\n",
       "      <td>0</td>\n",
       "      <td>0</td>\n",
       "      <td>0</td>\n",
       "      <td>1817</td>\n",
       "      <td>0</td>\n",
       "      <td>...</td>\n",
       "      <td>0</td>\n",
       "      <td>1</td>\n",
       "      <td>3</td>\n",
       "      <td>1</td>\n",
       "      <td>0</td>\n",
       "      <td>1</td>\n",
       "      <td>1</td>\n",
       "      <td>1</td>\n",
       "      <td>0</td>\n",
       "      <td>1</td>\n",
       "    </tr>\n",
       "    <tr>\n",
       "      <th>1</th>\n",
       "      <td>4977</td>\n",
       "      <td>7695797</td>\n",
       "      <td>2014-12-19 00:00:00.000000000</td>\n",
       "      <td>2</td>\n",
       "      <td>2</td>\n",
       "      <td>5</td>\n",
       "      <td>1</td>\n",
       "      <td>0</td>\n",
       "      <td>1607</td>\n",
       "      <td>0</td>\n",
       "      <td>...</td>\n",
       "      <td>0</td>\n",
       "      <td>0</td>\n",
       "      <td>0</td>\n",
       "      <td>0</td>\n",
       "      <td>1</td>\n",
       "      <td>12</td>\n",
       "      <td>1</td>\n",
       "      <td>0</td>\n",
       "      <td>1</td>\n",
       "      <td>1</td>\n",
       "    </tr>\n",
       "    <tr>\n",
       "      <th>2</th>\n",
       "      <td>10271</td>\n",
       "      <td>78663092</td>\n",
       "      <td>2015-01-06 00:00:00.000000000</td>\n",
       "      <td>2</td>\n",
       "      <td>6</td>\n",
       "      <td>0</td>\n",
       "      <td>0</td>\n",
       "      <td>0</td>\n",
       "      <td>981</td>\n",
       "      <td>0</td>\n",
       "      <td>...</td>\n",
       "      <td>0</td>\n",
       "      <td>0</td>\n",
       "      <td>0</td>\n",
       "      <td>0</td>\n",
       "      <td>1</td>\n",
       "      <td>1</td>\n",
       "      <td>1</td>\n",
       "      <td>1</td>\n",
       "      <td>1</td>\n",
       "      <td>1</td>\n",
       "    </tr>\n",
       "    <tr>\n",
       "      <th>3</th>\n",
       "      <td>7393</td>\n",
       "      <td>7708503</td>\n",
       "      <td>2014-12-03 00:00:00.000000000</td>\n",
       "      <td>1</td>\n",
       "      <td>1</td>\n",
       "      <td>5</td>\n",
       "      <td>0</td>\n",
       "      <td>0</td>\n",
       "      <td>732</td>\n",
       "      <td>0</td>\n",
       "      <td>...</td>\n",
       "      <td>0</td>\n",
       "      <td>0</td>\n",
       "      <td>0</td>\n",
       "      <td>0</td>\n",
       "      <td>1</td>\n",
       "      <td>12</td>\n",
       "      <td>1</td>\n",
       "      <td>1</td>\n",
       "      <td>1</td>\n",
       "      <td>1</td>\n",
       "    </tr>\n",
       "    <tr>\n",
       "      <th>4</th>\n",
       "      <td>11125</td>\n",
       "      <td>78659782</td>\n",
       "      <td>2015-01-02 00:00:00.000000000</td>\n",
       "      <td>0</td>\n",
       "      <td>6</td>\n",
       "      <td>0</td>\n",
       "      <td>1</td>\n",
       "      <td>0</td>\n",
       "      <td>184</td>\n",
       "      <td>219</td>\n",
       "      <td>...</td>\n",
       "      <td>0</td>\n",
       "      <td>0</td>\n",
       "      <td>0</td>\n",
       "      <td>0</td>\n",
       "      <td>1</td>\n",
       "      <td>1</td>\n",
       "      <td>1</td>\n",
       "      <td>1</td>\n",
       "      <td>1</td>\n",
       "      <td>0</td>\n",
       "    </tr>\n",
       "  </tbody>\n",
       "</table>\n",
       "<p>5 rows × 323 columns</p>\n",
       "</div>"
      ],
      "text/plain": [
       "   Internship_ID  Student_ID            Earliest_Start_Date  Expected_Stipend  \\\n",
       "0           8161    78663553  2015-01-03 00:00:00.000000000                 1   \n",
       "1           4977     7695797  2014-12-19 00:00:00.000000000                 2   \n",
       "2          10271    78663092  2015-01-06 00:00:00.000000000                 2   \n",
       "3           7393     7708503  2014-12-03 00:00:00.000000000                 1   \n",
       "4          11125    78659782  2015-01-02 00:00:00.000000000                 0   \n",
       "\n",
       "   Minimum_Duration  Preferred_location  Is_Part_Time  Is_Shortlisted  \\\n",
       "0                 3                   0             0               0   \n",
       "1                 2                   5             1               0   \n",
       "2                 6                   0             0               0   \n",
       "3                 1                   5             0               0   \n",
       "4                 6                   0             1               0   \n",
       "\n",
       "   Internship_Profile  Skills_required           ...             num_awards  \\\n",
       "0                1817                0           ...                      0   \n",
       "1                1607                0           ...                      0   \n",
       "2                 981                0           ...                      0   \n",
       "3                 732                0           ...                      0   \n",
       "4                 184              219           ...                      0   \n",
       "\n",
       "   num_previous_internships  Stipend_level  stipend_expectation_by_exp  \\\n",
       "0                         1              3                           1   \n",
       "1                         0              0                           0   \n",
       "2                         0              0                           0   \n",
       "3                         0              0                           0   \n",
       "4                         0              0                           0   \n",
       "\n",
       "   expectations_match  Earliest_Start_Date_month  is_Dec_or_Jan  \\\n",
       "0                   0                          1              1   \n",
       "1                   1                         12              1   \n",
       "2                   1                          1              1   \n",
       "3                   1                         12              1   \n",
       "4                   1                          1              1   \n",
       "\n",
       "  whether_applied_previously missing_profile  missing_skills_required  \n",
       "0                          1               0                        1  \n",
       "1                          0               1                        1  \n",
       "2                          1               1                        1  \n",
       "3                          1               1                        1  \n",
       "4                          1               1                        0  \n",
       "\n",
       "[5 rows x 323 columns]"
      ]
     },
     "execution_count": 3,
     "metadata": {},
     "output_type": "execute_result"
    }
   ],
   "source": [
    "train_merged_encoded.head()"
   ]
  },
  {
   "cell_type": "markdown",
   "metadata": {},
   "source": [
    "## Test set"
   ]
  },
  {
   "cell_type": "code",
   "execution_count": 4,
   "metadata": {
    "collapsed": false
   },
   "outputs": [
    {
     "data": {
      "text/html": [
       "<div>\n",
       "<table border=\"1\" class=\"dataframe\">\n",
       "  <thead>\n",
       "    <tr style=\"text-align: right;\">\n",
       "      <th></th>\n",
       "      <th>Internship_ID</th>\n",
       "      <th>Student_ID</th>\n",
       "      <th>Earliest_Start_Date</th>\n",
       "      <th>Expected_Stipend</th>\n",
       "      <th>Minimum_Duration</th>\n",
       "      <th>Preferred_location</th>\n",
       "      <th>Is_Part_Time</th>\n",
       "      <th>Internship_Profile</th>\n",
       "      <th>Skills_required</th>\n",
       "      <th>Internship_Type</th>\n",
       "      <th>...</th>\n",
       "      <th>num_awards</th>\n",
       "      <th>num_previous_internships</th>\n",
       "      <th>Stipend_level</th>\n",
       "      <th>stipend_expectation_by_exp</th>\n",
       "      <th>expectations_match</th>\n",
       "      <th>Earliest_Start_Date_month</th>\n",
       "      <th>is_Dec_or_Jan</th>\n",
       "      <th>whether_applied_previously</th>\n",
       "      <th>missing_profile</th>\n",
       "      <th>missing_skills_required</th>\n",
       "    </tr>\n",
       "  </thead>\n",
       "  <tbody>\n",
       "    <tr>\n",
       "      <th>0</th>\n",
       "      <td>9341</td>\n",
       "      <td>7677714</td>\n",
       "      <td>2015-01-25 00:00:00.000000000</td>\n",
       "      <td>1</td>\n",
       "      <td>2</td>\n",
       "      <td>19</td>\n",
       "      <td>0</td>\n",
       "      <td>435</td>\n",
       "      <td>0</td>\n",
       "      <td>0</td>\n",
       "      <td>...</td>\n",
       "      <td>0</td>\n",
       "      <td>0</td>\n",
       "      <td>2</td>\n",
       "      <td>1</td>\n",
       "      <td>1</td>\n",
       "      <td>1</td>\n",
       "      <td>1</td>\n",
       "      <td>1</td>\n",
       "      <td>1</td>\n",
       "      <td>1</td>\n",
       "    </tr>\n",
       "    <tr>\n",
       "      <th>1</th>\n",
       "      <td>6426</td>\n",
       "      <td>7696418</td>\n",
       "      <td>2015-01-21 00:00:00.000000000</td>\n",
       "      <td>2</td>\n",
       "      <td>5</td>\n",
       "      <td>0</td>\n",
       "      <td>0</td>\n",
       "      <td>66</td>\n",
       "      <td>0</td>\n",
       "      <td>0</td>\n",
       "      <td>...</td>\n",
       "      <td>0</td>\n",
       "      <td>1</td>\n",
       "      <td>2</td>\n",
       "      <td>0</td>\n",
       "      <td>1</td>\n",
       "      <td>1</td>\n",
       "      <td>1</td>\n",
       "      <td>1</td>\n",
       "      <td>0</td>\n",
       "      <td>1</td>\n",
       "    </tr>\n",
       "    <tr>\n",
       "      <th>2</th>\n",
       "      <td>5812</td>\n",
       "      <td>78666725</td>\n",
       "      <td>2015-01-09 00:00:00.000000000</td>\n",
       "      <td>0</td>\n",
       "      <td>5</td>\n",
       "      <td>0</td>\n",
       "      <td>1</td>\n",
       "      <td>1423</td>\n",
       "      <td>0</td>\n",
       "      <td>0</td>\n",
       "      <td>...</td>\n",
       "      <td>0</td>\n",
       "      <td>0</td>\n",
       "      <td>2</td>\n",
       "      <td>1</td>\n",
       "      <td>0</td>\n",
       "      <td>1</td>\n",
       "      <td>1</td>\n",
       "      <td>1</td>\n",
       "      <td>1</td>\n",
       "      <td>1</td>\n",
       "    </tr>\n",
       "    <tr>\n",
       "      <th>3</th>\n",
       "      <td>10711</td>\n",
       "      <td>7705454</td>\n",
       "      <td>2015-01-11 00:00:00.000000000</td>\n",
       "      <td>3</td>\n",
       "      <td>2</td>\n",
       "      <td>0</td>\n",
       "      <td>1</td>\n",
       "      <td>382</td>\n",
       "      <td>0</td>\n",
       "      <td>1</td>\n",
       "      <td>...</td>\n",
       "      <td>0</td>\n",
       "      <td>0</td>\n",
       "      <td>0</td>\n",
       "      <td>0</td>\n",
       "      <td>1</td>\n",
       "      <td>1</td>\n",
       "      <td>1</td>\n",
       "      <td>1</td>\n",
       "      <td>1</td>\n",
       "      <td>1</td>\n",
       "    </tr>\n",
       "    <tr>\n",
       "      <th>4</th>\n",
       "      <td>5880</td>\n",
       "      <td>7711946</td>\n",
       "      <td>2015-01-15 00:00:00.000000000</td>\n",
       "      <td>3</td>\n",
       "      <td>2</td>\n",
       "      <td>5</td>\n",
       "      <td>1</td>\n",
       "      <td>1870</td>\n",
       "      <td>729</td>\n",
       "      <td>0</td>\n",
       "      <td>...</td>\n",
       "      <td>2</td>\n",
       "      <td>1</td>\n",
       "      <td>2</td>\n",
       "      <td>1</td>\n",
       "      <td>1</td>\n",
       "      <td>1</td>\n",
       "      <td>1</td>\n",
       "      <td>1</td>\n",
       "      <td>0</td>\n",
       "      <td>0</td>\n",
       "    </tr>\n",
       "  </tbody>\n",
       "</table>\n",
       "<p>5 rows × 322 columns</p>\n",
       "</div>"
      ],
      "text/plain": [
       "   Internship_ID  Student_ID            Earliest_Start_Date  Expected_Stipend  \\\n",
       "0           9341     7677714  2015-01-25 00:00:00.000000000                 1   \n",
       "1           6426     7696418  2015-01-21 00:00:00.000000000                 2   \n",
       "2           5812    78666725  2015-01-09 00:00:00.000000000                 0   \n",
       "3          10711     7705454  2015-01-11 00:00:00.000000000                 3   \n",
       "4           5880     7711946  2015-01-15 00:00:00.000000000                 3   \n",
       "\n",
       "   Minimum_Duration  Preferred_location  Is_Part_Time  Internship_Profile  \\\n",
       "0                 2                  19             0                 435   \n",
       "1                 5                   0             0                  66   \n",
       "2                 5                   0             1                1423   \n",
       "3                 2                   0             1                 382   \n",
       "4                 2                   5             1                1870   \n",
       "\n",
       "   Skills_required  Internship_Type           ...             num_awards  \\\n",
       "0                0                0           ...                      0   \n",
       "1                0                0           ...                      0   \n",
       "2                0                0           ...                      0   \n",
       "3                0                1           ...                      0   \n",
       "4              729                0           ...                      2   \n",
       "\n",
       "   num_previous_internships  Stipend_level  stipend_expectation_by_exp  \\\n",
       "0                         0              2                           1   \n",
       "1                         1              2                           0   \n",
       "2                         0              2                           1   \n",
       "3                         0              0                           0   \n",
       "4                         1              2                           1   \n",
       "\n",
       "   expectations_match  Earliest_Start_Date_month is_Dec_or_Jan  \\\n",
       "0                   1                          1             1   \n",
       "1                   1                          1             1   \n",
       "2                   0                          1             1   \n",
       "3                   1                          1             1   \n",
       "4                   1                          1             1   \n",
       "\n",
       "  whether_applied_previously  missing_profile  missing_skills_required  \n",
       "0                          1                1                        1  \n",
       "1                          1                0                        1  \n",
       "2                          1                1                        1  \n",
       "3                          1                1                        1  \n",
       "4                          1                0                        0  \n",
       "\n",
       "[5 rows x 322 columns]"
      ]
     },
     "execution_count": 4,
     "metadata": {},
     "output_type": "execute_result"
    }
   ],
   "source": [
    "test_merged_encoded.head()"
   ]
  },
  {
   "cell_type": "markdown",
   "metadata": {},
   "source": [
    "## Class Distribution"
   ]
  },
  {
   "cell_type": "code",
   "execution_count": 6,
   "metadata": {
    "collapsed": false
   },
   "outputs": [
    {
     "data": {
      "text/plain": [
       "0    168003\n",
       "1     24579\n",
       "Name: Is_Shortlisted, dtype: int64"
      ]
     },
     "execution_count": 6,
     "metadata": {},
     "output_type": "execute_result"
    }
   ],
   "source": [
    "train_merged_encoded.Is_Shortlisted.value_counts()"
   ]
  },
  {
   "cell_type": "markdown",
   "metadata": {
    "collapsed": true
   },
   "source": [
    "## Exploratory Data Analysis"
   ]
  },
  {
   "cell_type": "code",
   "execution_count": 16,
   "metadata": {
    "collapsed": false
   },
   "outputs": [],
   "source": [
    "train_merged.loc[:, 'Earliest_Start_Date_year'] = train_merged.Earliest_Start_Date.dt.year\n",
    "train_merged.loc[:, 'Earliest_Start_Date_month'] = train_merged.Earliest_Start_Date.dt.month\n",
    "train_merged.loc[:, 'Earliest_Start_Date_day'] = train_merged.Earliest_Start_Date.dt.day\n",
    "\n",
    "test_merged.loc[:, 'Earliest_Start_Date_year'] = test_merged.Earliest_Start_Date.dt.year\n",
    "test_merged.loc[:, 'Earliest_Start_Date_month'] = test_merged.Earliest_Start_Date.dt.month\n",
    "test_merged.loc[:, 'Earliest_Start_Date_day'] = test_merged.Earliest_Start_Date.dt.day\n",
    "\n",
    "train_merged.loc[:, 'Internship_deadline_year'] = train_merged.Internship_deadline.dt.year\n",
    "train_merged.loc[:, 'Internship_deadline_month'] = train_merged.Internship_deadline.dt.month\n",
    "train_merged.loc[:, 'Internship_deadline_day'] = train_merged.Internship_deadline.dt.day\n",
    "\n",
    "test_merged.loc[:, 'Internship_deadline_year'] = test_merged.Internship_deadline.dt.year\n",
    "test_merged.loc[:, 'Internship_deadline_year'] = test_merged.Internship_deadline.dt.month\n",
    "test_merged.loc[:, 'Internship_deadline_year'] = test_merged.Internship_deadline.dt.day"
   ]
  },
  {
   "cell_type": "markdown",
   "metadata": {},
   "source": [
    "### How do the acceptance rate change during different years ?"
   ]
  },
  {
   "cell_type": "code",
   "execution_count": 17,
   "metadata": {
    "collapsed": false
   },
   "outputs": [
    {
     "data": {
      "text/plain": [
       "Earliest_Start_Date_year  Is_Shortlisted\n",
       "2014                      0                 106197\n",
       "                          1                  17865\n",
       "2015                      0                  61806\n",
       "                          1                   6714\n",
       "dtype: int64"
      ]
     },
     "execution_count": 17,
     "metadata": {},
     "output_type": "execute_result"
    }
   ],
   "source": [
    "train_merged.groupby(['Earliest_Start_Date_year', 'Is_Shortlisted']).size()"
   ]
  },
  {
   "cell_type": "code",
   "execution_count": 22,
   "metadata": {
    "collapsed": false
   },
   "outputs": [
    {
     "data": {
      "text/html": [
       "<div>\n",
       "<table border=\"1\" class=\"dataframe\">\n",
       "  <thead>\n",
       "    <tr style=\"text-align: right;\">\n",
       "      <th>Is_Shortlisted</th>\n",
       "      <th>0</th>\n",
       "      <th>1</th>\n",
       "    </tr>\n",
       "    <tr>\n",
       "      <th>Earliest_Start_Date_month</th>\n",
       "      <th></th>\n",
       "      <th></th>\n",
       "    </tr>\n",
       "  </thead>\n",
       "  <tbody>\n",
       "    <tr>\n",
       "      <th>1</th>\n",
       "      <td>52354</td>\n",
       "      <td>6098</td>\n",
       "    </tr>\n",
       "    <tr>\n",
       "      <th>2</th>\n",
       "      <td>2924</td>\n",
       "      <td>237</td>\n",
       "    </tr>\n",
       "    <tr>\n",
       "      <th>3</th>\n",
       "      <td>575</td>\n",
       "      <td>35</td>\n",
       "    </tr>\n",
       "    <tr>\n",
       "      <th>4</th>\n",
       "      <td>1963</td>\n",
       "      <td>127</td>\n",
       "    </tr>\n",
       "    <tr>\n",
       "      <th>5</th>\n",
       "      <td>2686</td>\n",
       "      <td>150</td>\n",
       "    </tr>\n",
       "    <tr>\n",
       "      <th>6</th>\n",
       "      <td>1101</td>\n",
       "      <td>61</td>\n",
       "    </tr>\n",
       "    <tr>\n",
       "      <th>7</th>\n",
       "      <td>126</td>\n",
       "      <td>2</td>\n",
       "    </tr>\n",
       "    <tr>\n",
       "      <th>8</th>\n",
       "      <td>25</td>\n",
       "      <td>0</td>\n",
       "    </tr>\n",
       "    <tr>\n",
       "      <th>9</th>\n",
       "      <td>6</td>\n",
       "      <td>0</td>\n",
       "    </tr>\n",
       "    <tr>\n",
       "      <th>10</th>\n",
       "      <td>170</td>\n",
       "      <td>26</td>\n",
       "    </tr>\n",
       "    <tr>\n",
       "      <th>11</th>\n",
       "      <td>9872</td>\n",
       "      <td>2288</td>\n",
       "    </tr>\n",
       "    <tr>\n",
       "      <th>12</th>\n",
       "      <td>96201</td>\n",
       "      <td>15555</td>\n",
       "    </tr>\n",
       "  </tbody>\n",
       "</table>\n",
       "</div>"
      ],
      "text/plain": [
       "Is_Shortlisted                 0      1\n",
       "Earliest_Start_Date_month              \n",
       "1                          52354   6098\n",
       "2                           2924    237\n",
       "3                            575     35\n",
       "4                           1963    127\n",
       "5                           2686    150\n",
       "6                           1101     61\n",
       "7                            126      2\n",
       "8                             25      0\n",
       "9                              6      0\n",
       "10                           170     26\n",
       "11                          9872   2288\n",
       "12                         96201  15555"
      ]
     },
     "execution_count": 22,
     "metadata": {},
     "output_type": "execute_result"
    }
   ],
   "source": [
    "train_merged.groupby(['Earliest_Start_Date_month', 'Is_Shortlisted']).size().unstack(1).fillna(0)"
   ]
  },
  {
   "cell_type": "markdown",
   "metadata": {},
   "source": [
    "## Students application count"
   ]
  },
  {
   "cell_type": "code",
   "execution_count": 16,
   "metadata": {
    "collapsed": true
   },
   "outputs": [],
   "source": [
    "application_count = train_merged.groupby('Student_ID').size()"
   ]
  },
  {
   "cell_type": "code",
   "execution_count": 11,
   "metadata": {
    "collapsed": false
   },
   "outputs": [
    {
     "data": {
      "image/png": "[encoded data removed]",
      "text/plain": [
       "<matplotlib.figure.Figure at 0x117c5fd50>"
      ]
     },
     "metadata": {},
     "output_type": "display_data"
    }
   ],
   "source": [
    "train_merged.groupby('Student_ID').size().order(ascending=False).plot(kind='hist', bins=50);"
   ]
  },
  {
   "cell_type": "markdown",
   "metadata": {},
   "source": [
    "** As you can see very few people have applied for than 1 internship **"
   ]
  },
  {
   "cell_type": "code",
   "execution_count": 40,
   "metadata": {
    "collapsed": false
   },
   "outputs": [
    {
     "data": {
      "text/html": [
       "<div>\n",
       "<table border=\"1\" class=\"dataframe\">\n",
       "  <thead>\n",
       "    <tr style=\"text-align: right;\">\n",
       "      <th>Is_Shortlisted</th>\n",
       "      <th>0</th>\n",
       "      <th>1</th>\n",
       "    </tr>\n",
       "    <tr>\n",
       "      <th>Student_ID</th>\n",
       "      <th></th>\n",
       "      <th></th>\n",
       "    </tr>\n",
       "  </thead>\n",
       "  <tbody>\n",
       "    <tr>\n",
       "      <th>7706394</th>\n",
       "      <td>268</td>\n",
       "      <td>53</td>\n",
       "    </tr>\n",
       "    <tr>\n",
       "      <th>7690898</th>\n",
       "      <td>147</td>\n",
       "      <td>40</td>\n",
       "    </tr>\n",
       "    <tr>\n",
       "      <th>7654664</th>\n",
       "      <td>172</td>\n",
       "      <td>26</td>\n",
       "    </tr>\n",
       "    <tr>\n",
       "      <th>7701363</th>\n",
       "      <td>61</td>\n",
       "      <td>24</td>\n",
       "    </tr>\n",
       "    <tr>\n",
       "      <th>7708160</th>\n",
       "      <td>156</td>\n",
       "      <td>23</td>\n",
       "    </tr>\n",
       "  </tbody>\n",
       "</table>\n",
       "</div>"
      ],
      "text/plain": [
       "Is_Shortlisted    0   1\n",
       "Student_ID             \n",
       "7706394         268  53\n",
       "7690898         147  40\n",
       "7654664         172  26\n",
       "7701363          61  24\n",
       "7708160         156  23"
      ]
     },
     "execution_count": 40,
     "metadata": {},
     "output_type": "execute_result"
    }
   ],
   "source": [
    "train_merged.groupby(['Student_ID', 'Is_Shortlisted']).size().unstack(1).fillna(0).sort_values(by=1, ascending=False).head()"
   ]
  },
  {
   "cell_type": "markdown",
   "metadata": {},
   "source": [
    "## Whether a student has applied previously"
   ]
  },
  {
   "cell_type": "code",
   "execution_count": 20,
   "metadata": {
    "collapsed": false
   },
   "outputs": [],
   "source": [
    "train_merged.loc[:, 'whether_applied_previously'] = train_merged.Student_ID.map(lambda x: int( application_count.ix[x] > 1 ))"
   ]
  },
  {
   "cell_type": "code",
   "execution_count": 22,
   "metadata": {
    "collapsed": false
   },
   "outputs": [
    {
     "data": {
      "text/plain": [
       "whether_applied_previously  Is_Shortlisted\n",
       "0                           0                  20373\n",
       "                            1                   2654\n",
       "1                           0                 147630\n",
       "                            1                  21925\n",
       "dtype: int64"
      ]
     },
     "execution_count": 22,
     "metadata": {},
     "output_type": "execute_result"
    }
   ],
   "source": [
    "train_merged.groupby(['whether_applied_previously', 'Is_Shortlisted']).size()"
   ]
  },
  {
   "cell_type": "markdown",
   "metadata": {},
   "source": [
    "## If you haven't mentioned anything in your profile"
   ]
  },
  {
   "cell_type": "code",
   "execution_count": 26,
   "metadata": {
    "collapsed": false
   },
   "outputs": [],
   "source": [
    "train_merged.loc[:, 'missing_profile'] = train_merged.Profile.isnull().astype(np.int)"
   ]
  },
  {
   "cell_type": "code",
   "execution_count": 27,
   "metadata": {
    "collapsed": false
   },
   "outputs": [
    {
     "data": {
      "text/plain": [
       "missing_profile  Is_Shortlisted\n",
       "0                0                  54280\n",
       "                 1                   9947\n",
       "1                0                 113723\n",
       "                 1                  14632\n",
       "dtype: int64"
      ]
     },
     "execution_count": 27,
     "metadata": {},
     "output_type": "execute_result"
    }
   ],
   "source": [
    "train_merged.groupby(['missing_profile', 'Is_Shortlisted']).size()"
   ]
  },
  {
   "cell_type": "markdown",
   "metadata": {},
   "source": [
    "## If internship hasn't mentioned any skills required"
   ]
  },
  {
   "cell_type": "code",
   "execution_count": 36,
   "metadata": {
    "collapsed": false
   },
   "outputs": [],
   "source": [
    "train_merged.loc[:, 'missing_skills_required'] = train_merged.Skills_required.isnull().astype(np.int)"
   ]
  },
  {
   "cell_type": "code",
   "execution_count": 37,
   "metadata": {
    "collapsed": false
   },
   "outputs": [
    {
     "data": {
      "text/plain": [
       "missing_skills_required  Is_Shortlisted\n",
       "0                        0                  22397\n",
       "                         1                   4497\n",
       "1                        0                 145606\n",
       "                         1                  20082\n",
       "dtype: int64"
      ]
     },
     "execution_count": 37,
     "metadata": {},
     "output_type": "execute_result"
    }
   ],
   "source": [
    "train_merged.groupby(['missing_skills_required', 'Is_Shortlisted']).size()"
   ]
  },
  {
   "cell_type": "markdown",
   "metadata": {},
   "source": [
    "## What do people mention in their profiles ?"
   ]
  },
  {
   "cell_type": "code",
   "execution_count": 33,
   "metadata": {
    "collapsed": false
   },
   "outputs": [
    {
     "data": {
      "text/html": [
       "<div>\n",
       "<table border=\"1\" class=\"dataframe\">\n",
       "  <thead>\n",
       "    <tr style=\"text-align: right;\">\n",
       "      <th></th>\n",
       "      <th>Internship_Profile</th>\n",
       "      <th>Profile</th>\n",
       "      <th>Skills_required</th>\n",
       "      <th>Is_Shortlisted</th>\n",
       "    </tr>\n",
       "  </thead>\n",
       "  <tbody>\n",
       "    <tr>\n",
       "      <th>0</th>\n",
       "      <td>Voice Over Movie</td>\n",
       "      <td>About C</td>\n",
       "      <td>NaN</td>\n",
       "      <td>0</td>\n",
       "    </tr>\n",
       "    <tr>\n",
       "      <th>1</th>\n",
       "      <td>Social Media Marketing &amp; Design</td>\n",
       "      <td>NaN</td>\n",
       "      <td>NaN</td>\n",
       "      <td>0</td>\n",
       "    </tr>\n",
       "    <tr>\n",
       "      <th>2</th>\n",
       "      <td>Java Development</td>\n",
       "      <td>NaN</td>\n",
       "      <td>NaN</td>\n",
       "      <td>0</td>\n",
       "    </tr>\n",
       "    <tr>\n",
       "      <th>3</th>\n",
       "      <td>Fashion Curator</td>\n",
       "      <td>NaN</td>\n",
       "      <td>NaN</td>\n",
       "      <td>0</td>\n",
       "    </tr>\n",
       "    <tr>\n",
       "      <th>4</th>\n",
       "      <td>Business Development</td>\n",
       "      <td>NaN</td>\n",
       "      <td>Communication,Business Development (Sales)</td>\n",
       "      <td>0</td>\n",
       "    </tr>\n",
       "    <tr>\n",
       "      <th>5</th>\n",
       "      <td>Creative Writing And Graphic Design</td>\n",
       "      <td>Studied Construction On Site</td>\n",
       "      <td>Graphic Designing,Graphic Designing,Graphic De...</td>\n",
       "      <td>1</td>\n",
       "    </tr>\n",
       "    <tr>\n",
       "      <th>6</th>\n",
       "      <td>Production Engineer</td>\n",
       "      <td>NaN</td>\n",
       "      <td>COMPUTER KNOWLEDGE IN WORD / EXCEL / POWER POI...</td>\n",
       "      <td>0</td>\n",
       "    </tr>\n",
       "    <tr>\n",
       "      <th>7</th>\n",
       "      <td>Survey Engineer</td>\n",
       "      <td>NaN</td>\n",
       "      <td>NaN</td>\n",
       "      <td>0</td>\n",
       "    </tr>\n",
       "    <tr>\n",
       "      <th>8</th>\n",
       "      <td>Business Analyst</td>\n",
       "      <td>Research &amp; Analysis (Meta-Analysis, Statistics...</td>\n",
       "      <td>NaN</td>\n",
       "      <td>1</td>\n",
       "    </tr>\n",
       "    <tr>\n",
       "      <th>9</th>\n",
       "      <td>PHP Development</td>\n",
       "      <td>NaN</td>\n",
       "      <td>NaN</td>\n",
       "      <td>0</td>\n",
       "    </tr>\n",
       "    <tr>\n",
       "      <th>10</th>\n",
       "      <td>Online Teaching</td>\n",
       "      <td>Technical Internship</td>\n",
       "      <td>NaN</td>\n",
       "      <td>0</td>\n",
       "    </tr>\n",
       "    <tr>\n",
       "      <th>11</th>\n",
       "      <td>Online Teaching</td>\n",
       "      <td>Teaching</td>\n",
       "      <td>NaN</td>\n",
       "      <td>1</td>\n",
       "    </tr>\n",
       "    <tr>\n",
       "      <th>12</th>\n",
       "      <td>Social Media Marketing &amp; Content Writing</td>\n",
       "      <td>NaN</td>\n",
       "      <td>NaN</td>\n",
       "      <td>0</td>\n",
       "    </tr>\n",
       "    <tr>\n",
       "      <th>13</th>\n",
       "      <td>Operations</td>\n",
       "      <td>HR Intern</td>\n",
       "      <td>NaN</td>\n",
       "      <td>0</td>\n",
       "    </tr>\n",
       "    <tr>\n",
       "      <th>14</th>\n",
       "      <td>Drug Safety Specialised (Pharmacovigilance)</td>\n",
       "      <td>NaN</td>\n",
       "      <td>NaN</td>\n",
       "      <td>0</td>\n",
       "    </tr>\n",
       "    <tr>\n",
       "      <th>15</th>\n",
       "      <td>Telecalling Support</td>\n",
       "      <td>Campus Ambassador</td>\n",
       "      <td>NaN</td>\n",
       "      <td>1</td>\n",
       "    </tr>\n",
       "    <tr>\n",
       "      <th>16</th>\n",
       "      <td>Product &amp; Industrial Design</td>\n",
       "      <td>Intern</td>\n",
       "      <td>SolidWorks,CAD</td>\n",
       "      <td>0</td>\n",
       "    </tr>\n",
       "    <tr>\n",
       "      <th>17</th>\n",
       "      <td>Data Flow Graph Partitioning And Mapping Algor...</td>\n",
       "      <td>NaN</td>\n",
       "      <td>NaN</td>\n",
       "      <td>0</td>\n",
       "    </tr>\n",
       "    <tr>\n",
       "      <th>18</th>\n",
       "      <td>Market Research And Data Analyst</td>\n",
       "      <td>Content Writing &amp; Social Media Marketing</td>\n",
       "      <td>NaN</td>\n",
       "      <td>0</td>\n",
       "    </tr>\n",
       "    <tr>\n",
       "      <th>19</th>\n",
       "      <td>Marketing</td>\n",
       "      <td>Marketing</td>\n",
       "      <td>NaN</td>\n",
       "      <td>0</td>\n",
       "    </tr>\n",
       "    <tr>\n",
       "      <th>20</th>\n",
       "      <td>Software Development</td>\n",
       "      <td>Software Development</td>\n",
       "      <td>NaN</td>\n",
       "      <td>1</td>\n",
       "    </tr>\n",
       "    <tr>\n",
       "      <th>21</th>\n",
       "      <td>Data Entry</td>\n",
       "      <td>Remote Sensing , Image Processing And GIS</td>\n",
       "      <td>NaN</td>\n",
       "      <td>0</td>\n",
       "    </tr>\n",
       "    <tr>\n",
       "      <th>22</th>\n",
       "      <td>Software Development</td>\n",
       "      <td>Java Core, SQLite</td>\n",
       "      <td>Java,Google Analytics,SQL,Data Structures</td>\n",
       "      <td>0</td>\n",
       "    </tr>\n",
       "    <tr>\n",
       "      <th>23</th>\n",
       "      <td>Chartered Accountant</td>\n",
       "      <td>NaN</td>\n",
       "      <td>NaN</td>\n",
       "      <td>0</td>\n",
       "    </tr>\n",
       "    <tr>\n",
       "      <th>24</th>\n",
       "      <td>Sales And Marketing</td>\n",
       "      <td>NaN</td>\n",
       "      <td>NaN</td>\n",
       "      <td>0</td>\n",
       "    </tr>\n",
       "    <tr>\n",
       "      <th>25</th>\n",
       "      <td>PHP Development</td>\n",
       "      <td>Trainee</td>\n",
       "      <td>NaN</td>\n",
       "      <td>0</td>\n",
       "    </tr>\n",
       "    <tr>\n",
       "      <th>26</th>\n",
       "      <td>Content Writing</td>\n",
       "      <td>NaN</td>\n",
       "      <td>NaN</td>\n",
       "      <td>0</td>\n",
       "    </tr>\n",
       "    <tr>\n",
       "      <th>27</th>\n",
       "      <td>Sales And Marketing</td>\n",
       "      <td>App Development</td>\n",
       "      <td>NaN</td>\n",
       "      <td>0</td>\n",
       "    </tr>\n",
       "    <tr>\n",
       "      <th>28</th>\n",
       "      <td>Software Engineering</td>\n",
       "      <td>NaN</td>\n",
       "      <td>C++,C++,C++,C++,C++,PHP,PHP,PHP,PHP,PHP,MySQL,...</td>\n",
       "      <td>0</td>\n",
       "    </tr>\n",
       "    <tr>\n",
       "      <th>29</th>\n",
       "      <td>Mobile App Development</td>\n",
       "      <td>NaN</td>\n",
       "      <td>NaN</td>\n",
       "      <td>0</td>\n",
       "    </tr>\n",
       "    <tr>\n",
       "      <th>...</th>\n",
       "      <td>...</td>\n",
       "      <td>...</td>\n",
       "      <td>...</td>\n",
       "      <td>...</td>\n",
       "    </tr>\n",
       "    <tr>\n",
       "      <th>70</th>\n",
       "      <td>Article Writing (Movies And Celebrities)</td>\n",
       "      <td>Working As A Theatre Trainer.</td>\n",
       "      <td>NaN</td>\n",
       "      <td>1</td>\n",
       "    </tr>\n",
       "    <tr>\n",
       "      <th>71</th>\n",
       "      <td>Android App Development</td>\n",
       "      <td>NaN</td>\n",
       "      <td>NaN</td>\n",
       "      <td>0</td>\n",
       "    </tr>\n",
       "    <tr>\n",
       "      <th>72</th>\n",
       "      <td>Sales &amp; Marketing</td>\n",
       "      <td>Business Development( Marketing)</td>\n",
       "      <td>Marketing,Marketing,Marketing,Communication,Co...</td>\n",
       "      <td>0</td>\n",
       "    </tr>\n",
       "    <tr>\n",
       "      <th>73</th>\n",
       "      <td>Marketing</td>\n",
       "      <td>NaN</td>\n",
       "      <td>NaN</td>\n",
       "      <td>0</td>\n",
       "    </tr>\n",
       "    <tr>\n",
       "      <th>74</th>\n",
       "      <td>Business Development</td>\n",
       "      <td>NaN</td>\n",
       "      <td>NaN</td>\n",
       "      <td>0</td>\n",
       "    </tr>\n",
       "    <tr>\n",
       "      <th>75</th>\n",
       "      <td>Market Research And Analyst</td>\n",
       "      <td>Analyst</td>\n",
       "      <td>NaN</td>\n",
       "      <td>0</td>\n",
       "    </tr>\n",
       "    <tr>\n",
       "      <th>76</th>\n",
       "      <td>Human Resource (HR) And Finance</td>\n",
       "      <td>Volunteer</td>\n",
       "      <td>Human Resources (HR),Finance</td>\n",
       "      <td>1</td>\n",
       "    </tr>\n",
       "    <tr>\n",
       "      <th>77</th>\n",
       "      <td>Electrical &amp; Electronics</td>\n",
       "      <td>NaN</td>\n",
       "      <td>NaN</td>\n",
       "      <td>0</td>\n",
       "    </tr>\n",
       "    <tr>\n",
       "      <th>78</th>\n",
       "      <td>Content Writing</td>\n",
       "      <td>NaN</td>\n",
       "      <td>Creative Thinking</td>\n",
       "      <td>0</td>\n",
       "    </tr>\n",
       "    <tr>\n",
       "      <th>79</th>\n",
       "      <td>Teaching And Content Development (Chemistry)</td>\n",
       "      <td>NaN</td>\n",
       "      <td>NaN</td>\n",
       "      <td>0</td>\n",
       "    </tr>\n",
       "    <tr>\n",
       "      <th>80</th>\n",
       "      <td>Software Development</td>\n",
       "      <td>NaN</td>\n",
       "      <td>NaN</td>\n",
       "      <td>0</td>\n",
       "    </tr>\n",
       "    <tr>\n",
       "      <th>81</th>\n",
       "      <td>Content Writing &amp; Social Media Marketing</td>\n",
       "      <td>Digital Marketing</td>\n",
       "      <td>NaN</td>\n",
       "      <td>0</td>\n",
       "    </tr>\n",
       "    <tr>\n",
       "      <th>82</th>\n",
       "      <td>Marketing</td>\n",
       "      <td>NaN</td>\n",
       "      <td>NaN</td>\n",
       "      <td>0</td>\n",
       "    </tr>\n",
       "    <tr>\n",
       "      <th>83</th>\n",
       "      <td>UI Design</td>\n",
       "      <td>Intern</td>\n",
       "      <td>NaN</td>\n",
       "      <td>0</td>\n",
       "    </tr>\n",
       "    <tr>\n",
       "      <th>84</th>\n",
       "      <td>Content Writing &amp; Social Media Marketing</td>\n",
       "      <td>Content Writer</td>\n",
       "      <td>NaN</td>\n",
       "      <td>0</td>\n",
       "    </tr>\n",
       "    <tr>\n",
       "      <th>85</th>\n",
       "      <td>Fashion Graphic Design</td>\n",
       "      <td>NaN</td>\n",
       "      <td>NaN</td>\n",
       "      <td>0</td>\n",
       "    </tr>\n",
       "    <tr>\n",
       "      <th>86</th>\n",
       "      <td>Analytics</td>\n",
       "      <td>NaN</td>\n",
       "      <td>NaN</td>\n",
       "      <td>0</td>\n",
       "    </tr>\n",
       "    <tr>\n",
       "      <th>87</th>\n",
       "      <td>Technology</td>\n",
       "      <td>NaN</td>\n",
       "      <td>NaN</td>\n",
       "      <td>0</td>\n",
       "    </tr>\n",
       "    <tr>\n",
       "      <th>88</th>\n",
       "      <td>Content Writing &amp; Social Media Marketing</td>\n",
       "      <td>NaN</td>\n",
       "      <td>Social Media Marketing,Communication Skills,MS...</td>\n",
       "      <td>0</td>\n",
       "    </tr>\n",
       "    <tr>\n",
       "      <th>89</th>\n",
       "      <td>Operations- Quality Analyst</td>\n",
       "      <td>Operations &amp; Market Research</td>\n",
       "      <td>Communication Skills</td>\n",
       "      <td>0</td>\n",
       "    </tr>\n",
       "    <tr>\n",
       "      <th>90</th>\n",
       "      <td>Mechanical Design</td>\n",
       "      <td>NaN</td>\n",
       "      <td>NaN</td>\n",
       "      <td>0</td>\n",
       "    </tr>\n",
       "    <tr>\n",
       "      <th>91</th>\n",
       "      <td>Android App Development</td>\n",
       "      <td>Hardware Repairing, Networks And Installation</td>\n",
       "      <td>NaN</td>\n",
       "      <td>0</td>\n",
       "    </tr>\n",
       "    <tr>\n",
       "      <th>92</th>\n",
       "      <td>Content Writing</td>\n",
       "      <td>Giving Training To The Students , So That They...</td>\n",
       "      <td>NaN</td>\n",
       "      <td>0</td>\n",
       "    </tr>\n",
       "    <tr>\n",
       "      <th>93</th>\n",
       "      <td>IOT Device Prototyping</td>\n",
       "      <td>Software Engineering</td>\n",
       "      <td>NaN</td>\n",
       "      <td>0</td>\n",
       "    </tr>\n",
       "    <tr>\n",
       "      <th>94</th>\n",
       "      <td>Software Development</td>\n",
       "      <td>NaN</td>\n",
       "      <td>NaN</td>\n",
       "      <td>0</td>\n",
       "    </tr>\n",
       "    <tr>\n",
       "      <th>95</th>\n",
       "      <td>Web Development</td>\n",
       "      <td>NaN</td>\n",
       "      <td>NaN</td>\n",
       "      <td>0</td>\n",
       "    </tr>\n",
       "    <tr>\n",
       "      <th>96</th>\n",
       "      <td>Newspaper And Magazine (Editing- English &amp; Ben...</td>\n",
       "      <td>NaN</td>\n",
       "      <td>NaN</td>\n",
       "      <td>0</td>\n",
       "    </tr>\n",
       "    <tr>\n",
       "      <th>97</th>\n",
       "      <td>Journalism</td>\n",
       "      <td>Education Module Developer</td>\n",
       "      <td>NaN</td>\n",
       "      <td>1</td>\n",
       "    </tr>\n",
       "    <tr>\n",
       "      <th>98</th>\n",
       "      <td>Engineering</td>\n",
       "      <td>NaN</td>\n",
       "      <td>NaN</td>\n",
       "      <td>0</td>\n",
       "    </tr>\n",
       "    <tr>\n",
       "      <th>99</th>\n",
       "      <td>Content Writing</td>\n",
       "      <td>NaN</td>\n",
       "      <td>NaN</td>\n",
       "      <td>0</td>\n",
       "    </tr>\n",
       "  </tbody>\n",
       "</table>\n",
       "<p>100 rows × 4 columns</p>\n",
       "</div>"
      ],
      "text/plain": [
       "                                   Internship_Profile  \\\n",
       "0                                    Voice Over Movie   \n",
       "1                     Social Media Marketing & Design   \n",
       "2                                    Java Development   \n",
       "3                                     Fashion Curator   \n",
       "4                                Business Development   \n",
       "5                 Creative Writing And Graphic Design   \n",
       "6                                 Production Engineer   \n",
       "7                                     Survey Engineer   \n",
       "8                                    Business Analyst   \n",
       "9                                     PHP Development   \n",
       "10                                    Online Teaching   \n",
       "11                                    Online Teaching   \n",
       "12           Social Media Marketing & Content Writing   \n",
       "13                                         Operations   \n",
       "14        Drug Safety Specialised (Pharmacovigilance)   \n",
       "15                                Telecalling Support   \n",
       "16                        Product & Industrial Design   \n",
       "17  Data Flow Graph Partitioning And Mapping Algor...   \n",
       "18                   Market Research And Data Analyst   \n",
       "19                                          Marketing   \n",
       "20                               Software Development   \n",
       "21                                         Data Entry   \n",
       "22                               Software Development   \n",
       "23                               Chartered Accountant   \n",
       "24                                Sales And Marketing   \n",
       "25                                    PHP Development   \n",
       "26                                    Content Writing   \n",
       "27                                Sales And Marketing   \n",
       "28                               Software Engineering   \n",
       "29                             Mobile App Development   \n",
       "..                                                ...   \n",
       "70           Article Writing (Movies And Celebrities)   \n",
       "71                            Android App Development   \n",
       "72                                  Sales & Marketing   \n",
       "73                                          Marketing   \n",
       "74                               Business Development   \n",
       "75                        Market Research And Analyst   \n",
       "76                    Human Resource (HR) And Finance   \n",
       "77                           Electrical & Electronics   \n",
       "78                                    Content Writing   \n",
       "79       Teaching And Content Development (Chemistry)   \n",
       "80                               Software Development   \n",
       "81           Content Writing & Social Media Marketing   \n",
       "82                                          Marketing   \n",
       "83                                          UI Design   \n",
       "84           Content Writing & Social Media Marketing   \n",
       "85                             Fashion Graphic Design   \n",
       "86                                          Analytics   \n",
       "87                                         Technology   \n",
       "88           Content Writing & Social Media Marketing   \n",
       "89                        Operations- Quality Analyst   \n",
       "90                                  Mechanical Design   \n",
       "91                            Android App Development   \n",
       "92                                    Content Writing   \n",
       "93                             IOT Device Prototyping   \n",
       "94                               Software Development   \n",
       "95                                    Web Development   \n",
       "96  Newspaper And Magazine (Editing- English & Ben...   \n",
       "97                                         Journalism   \n",
       "98                                        Engineering   \n",
       "99                                    Content Writing   \n",
       "\n",
       "                                              Profile  \\\n",
       "0                                             About C   \n",
       "1                                                 NaN   \n",
       "2                                                 NaN   \n",
       "3                                                 NaN   \n",
       "4                                                 NaN   \n",
       "5                        Studied Construction On Site   \n",
       "6                                                 NaN   \n",
       "7                                                 NaN   \n",
       "8   Research & Analysis (Meta-Analysis, Statistics...   \n",
       "9                                                 NaN   \n",
       "10                               Technical Internship   \n",
       "11                                           Teaching   \n",
       "12                                                NaN   \n",
       "13                                          HR Intern   \n",
       "14                                                NaN   \n",
       "15                                  Campus Ambassador   \n",
       "16                                             Intern   \n",
       "17                                                NaN   \n",
       "18           Content Writing & Social Media Marketing   \n",
       "19                                          Marketing   \n",
       "20                               Software Development   \n",
       "21          Remote Sensing , Image Processing And GIS   \n",
       "22                                  Java Core, SQLite   \n",
       "23                                                NaN   \n",
       "24                                                NaN   \n",
       "25                                            Trainee   \n",
       "26                                                NaN   \n",
       "27                                    App Development   \n",
       "28                                                NaN   \n",
       "29                                                NaN   \n",
       "..                                                ...   \n",
       "70                      Working As A Theatre Trainer.   \n",
       "71                                                NaN   \n",
       "72                   Business Development( Marketing)   \n",
       "73                                                NaN   \n",
       "74                                                NaN   \n",
       "75                                            Analyst   \n",
       "76                                          Volunteer   \n",
       "77                                                NaN   \n",
       "78                                                NaN   \n",
       "79                                                NaN   \n",
       "80                                                NaN   \n",
       "81                                  Digital Marketing   \n",
       "82                                                NaN   \n",
       "83                                             Intern   \n",
       "84                                     Content Writer   \n",
       "85                                                NaN   \n",
       "86                                                NaN   \n",
       "87                                                NaN   \n",
       "88                                                NaN   \n",
       "89                       Operations & Market Research   \n",
       "90                                                NaN   \n",
       "91      Hardware Repairing, Networks And Installation   \n",
       "92  Giving Training To The Students , So That They...   \n",
       "93                               Software Engineering   \n",
       "94                                                NaN   \n",
       "95                                                NaN   \n",
       "96                                                NaN   \n",
       "97                         Education Module Developer   \n",
       "98                                                NaN   \n",
       "99                                                NaN   \n",
       "\n",
       "                                      Skills_required  Is_Shortlisted  \n",
       "0                                                 NaN               0  \n",
       "1                                                 NaN               0  \n",
       "2                                                 NaN               0  \n",
       "3                                                 NaN               0  \n",
       "4          Communication,Business Development (Sales)               0  \n",
       "5   Graphic Designing,Graphic Designing,Graphic De...               1  \n",
       "6   COMPUTER KNOWLEDGE IN WORD / EXCEL / POWER POI...               0  \n",
       "7                                                 NaN               0  \n",
       "8                                                 NaN               1  \n",
       "9                                                 NaN               0  \n",
       "10                                                NaN               0  \n",
       "11                                                NaN               1  \n",
       "12                                                NaN               0  \n",
       "13                                                NaN               0  \n",
       "14                                                NaN               0  \n",
       "15                                                NaN               1  \n",
       "16                                     SolidWorks,CAD               0  \n",
       "17                                                NaN               0  \n",
       "18                                                NaN               0  \n",
       "19                                                NaN               0  \n",
       "20                                                NaN               1  \n",
       "21                                                NaN               0  \n",
       "22          Java,Google Analytics,SQL,Data Structures               0  \n",
       "23                                                NaN               0  \n",
       "24                                                NaN               0  \n",
       "25                                                NaN               0  \n",
       "26                                                NaN               0  \n",
       "27                                                NaN               0  \n",
       "28  C++,C++,C++,C++,C++,PHP,PHP,PHP,PHP,PHP,MySQL,...               0  \n",
       "29                                                NaN               0  \n",
       "..                                                ...             ...  \n",
       "70                                                NaN               1  \n",
       "71                                                NaN               0  \n",
       "72  Marketing,Marketing,Marketing,Communication,Co...               0  \n",
       "73                                                NaN               0  \n",
       "74                                                NaN               0  \n",
       "75                                                NaN               0  \n",
       "76                       Human Resources (HR),Finance               1  \n",
       "77                                                NaN               0  \n",
       "78                                  Creative Thinking               0  \n",
       "79                                                NaN               0  \n",
       "80                                                NaN               0  \n",
       "81                                                NaN               0  \n",
       "82                                                NaN               0  \n",
       "83                                                NaN               0  \n",
       "84                                                NaN               0  \n",
       "85                                                NaN               0  \n",
       "86                                                NaN               0  \n",
       "87                                                NaN               0  \n",
       "88  Social Media Marketing,Communication Skills,MS...               0  \n",
       "89                               Communication Skills               0  \n",
       "90                                                NaN               0  \n",
       "91                                                NaN               0  \n",
       "92                                                NaN               0  \n",
       "93                                                NaN               0  \n",
       "94                                                NaN               0  \n",
       "95                                                NaN               0  \n",
       "96                                                NaN               0  \n",
       "97                                                NaN               1  \n",
       "98                                                NaN               0  \n",
       "99                                                NaN               0  \n",
       "\n",
       "[100 rows x 4 columns]"
      ]
     },
     "execution_count": 33,
     "metadata": {},
     "output_type": "execute_result"
    }
   ],
   "source": [
    "train_merged[['Internship_Profile', 'Profile', 'Skills_required' ,'Is_Shortlisted']].head(100)"
   ]
  },
  {
   "cell_type": "markdown",
   "metadata": {},
   "source": [
    "## Relationship of Stipend and Performance in Undergraduate studies"
   ]
  },
  {
   "cell_type": "code",
   "execution_count": 42,
   "metadata": {
    "collapsed": false
   },
   "outputs": [
    {
     "data": {
      "image/png": "[encoded data removed]",
      "text/plain": [
       "<matplotlib.figure.Figure at 0x1170e9450>"
      ]
     },
     "metadata": {},
     "output_type": "display_data"
    }
   ],
   "source": [
    "sns.FacetGrid(train_merged, hue=\"Is_Shortlisted\", size=5) \\\n",
    "   .map(plt.scatter, \"Performance_UG\", \"Stipend1\") \\\n",
    "   .add_legend();"
   ]
  },
  {
   "cell_type": "code",
   "execution_count": 46,
   "metadata": {
    "collapsed": false
   },
   "outputs": [
    {
     "data": {
      "image/png": "[encoded data removed]",
      "text/plain": [
       "<matplotlib.figure.Figure at 0x11d1ec090>"
      ]
     },
     "metadata": {},
     "output_type": "display_data"
    }
   ],
   "source": [
    "sns.FacetGrid(train_merged, hue=\"Is_Shortlisted\", size=5) \\\n",
    "   .map(plt.scatter, \"No_of_openings\", \"Stipend1\") \\\n",
    "   .add_legend();"
   ]
  },
  {
   "cell_type": "code",
   "execution_count": 58,
   "metadata": {
    "collapsed": false
   },
   "outputs": [
    {
     "data": {
      "image/png": "[encoded data removed]",
      "text/plain": [
       "<matplotlib.figure.Figure at 0x118db8650>"
      ]
     },
     "metadata": {},
     "output_type": "display_data"
    }
   ],
   "source": [
    "sns.FacetGrid(train_merged, hue=\"Is_Shortlisted\", size=5) \\\n",
    "   .map(plt.hist, \"Minimum_Duration\") \\\n",
    "   .add_legend();"
   ]
  },
  {
   "cell_type": "markdown",
   "metadata": {},
   "source": [
    "## Preferred Location"
   ]
  },
  {
   "cell_type": "code",
   "execution_count": 8,
   "metadata": {
    "collapsed": false
   },
   "outputs": [
    {
     "data": {
      "text/plain": [
       "0      130691\n",
       "5       32294\n",
       "21       9621\n",
       "19       4642\n",
       "53       3775\n",
       "14       2234\n",
       "39       2201\n",
       "37       2060\n",
       "51       1009\n",
       "78        948\n",
       "32        698\n",
       "138       386\n",
       "82        314\n",
       "12        140\n",
       "142       127\n",
       "18        113\n",
       "91         81\n",
       "135        75\n",
       "87         73\n",
       "31         68\n",
       "Name: Preferred_location, dtype: int64"
      ]
     },
     "execution_count": 8,
     "metadata": {},
     "output_type": "execute_result"
    }
   ],
   "source": [
    "train_merged_encoded.Preferred_location.value_counts().head(20)"
   ]
  },
  {
   "cell_type": "code",
   "execution_count": 9,
   "metadata": {
    "collapsed": false
   },
   "outputs": [
    {
     "data": {
      "text/plain": [
       "77     35077\n",
       "233    18964\n",
       "64     15948\n",
       "46      9362\n",
       "157     9063\n",
       "Name: Institute_location, dtype: int64"
      ]
     },
     "execution_count": 9,
     "metadata": {},
     "output_type": "execute_result"
    }
   ],
   "source": [
    "train_merged_encoded.Institute_location.value_counts().head()"
   ]
  },
  {
   "cell_type": "markdown",
   "metadata": {},
   "source": [
    "## What if your preferred location matches with internship location ?"
   ]
  },
  {
   "cell_type": "code",
   "execution_count": 51,
   "metadata": {
    "collapsed": true
   },
   "outputs": [],
   "source": [
    "train_merged.loc[:, 'location_matches'] = (train_merged.Internship_Location == train_merged.Preferred_location).astype(np.int)"
   ]
  },
  {
   "cell_type": "code",
   "execution_count": 52,
   "metadata": {
    "collapsed": false
   },
   "outputs": [
    {
     "data": {
      "text/plain": [
       "location_matches  Is_Shortlisted\n",
       "0                 0                 157746\n",
       "                  1                  22956\n",
       "1                 0                  10257\n",
       "                  1                   1623\n",
       "dtype: int64"
      ]
     },
     "execution_count": 52,
     "metadata": {},
     "output_type": "execute_result"
    }
   ],
   "source": [
    "train_merged.groupby(['location_matches', 'Is_Shortlisted']).size()"
   ]
  },
  {
   "cell_type": "markdown",
   "metadata": {},
   "source": [
    "## Pivot Tables"
   ]
  },
  {
   "cell_type": "code",
   "execution_count": 61,
   "metadata": {
    "collapsed": false
   },
   "outputs": [
    {
     "data": {
      "text/html": [
       "<div>\n",
       "<table border=\"1\" class=\"dataframe\">\n",
       "  <thead>\n",
       "    <tr>\n",
       "      <th>Minimum_Duration</th>\n",
       "      <th colspan=\"4\" halign=\"left\">1</th>\n",
       "      <th colspan=\"4\" halign=\"left\">2</th>\n",
       "      <th colspan=\"2\" halign=\"left\">3</th>\n",
       "      <th>...</th>\n",
       "      <th>10</th>\n",
       "      <th colspan=\"4\" halign=\"left\">11</th>\n",
       "      <th colspan=\"4\" halign=\"left\">12</th>\n",
       "      <th>All</th>\n",
       "    </tr>\n",
       "    <tr>\n",
       "      <th>Expected_Stipend</th>\n",
       "      <th>10K+</th>\n",
       "      <th>2-5K</th>\n",
       "      <th>5-10K</th>\n",
       "      <th>No Expectations</th>\n",
       "      <th>10K+</th>\n",
       "      <th>2-5K</th>\n",
       "      <th>5-10K</th>\n",
       "      <th>No Expectations</th>\n",
       "      <th>10K+</th>\n",
       "      <th>2-5K</th>\n",
       "      <th>...</th>\n",
       "      <th>No Expectations</th>\n",
       "      <th>10K+</th>\n",
       "      <th>2-5K</th>\n",
       "      <th>5-10K</th>\n",
       "      <th>No Expectations</th>\n",
       "      <th>10K+</th>\n",
       "      <th>2-5K</th>\n",
       "      <th>5-10K</th>\n",
       "      <th>No Expectations</th>\n",
       "      <th></th>\n",
       "    </tr>\n",
       "    <tr>\n",
       "      <th>Is_Shortlisted</th>\n",
       "      <th></th>\n",
       "      <th></th>\n",
       "      <th></th>\n",
       "      <th></th>\n",
       "      <th></th>\n",
       "      <th></th>\n",
       "      <th></th>\n",
       "      <th></th>\n",
       "      <th></th>\n",
       "      <th></th>\n",
       "      <th></th>\n",
       "      <th></th>\n",
       "      <th></th>\n",
       "      <th></th>\n",
       "      <th></th>\n",
       "      <th></th>\n",
       "      <th></th>\n",
       "      <th></th>\n",
       "      <th></th>\n",
       "      <th></th>\n",
       "      <th></th>\n",
       "    </tr>\n",
       "  </thead>\n",
       "  <tbody>\n",
       "    <tr>\n",
       "      <th>0</th>\n",
       "      <td>78.606045</td>\n",
       "      <td>80.750268</td>\n",
       "      <td>80.164372</td>\n",
       "      <td>78.892453</td>\n",
       "      <td>76.103827</td>\n",
       "      <td>79.387255</td>\n",
       "      <td>77.450547</td>\n",
       "      <td>77.674254</td>\n",
       "      <td>72.815536</td>\n",
       "      <td>76.767582</td>\n",
       "      <td>...</td>\n",
       "      <td>72.783022</td>\n",
       "      <td>72.362973</td>\n",
       "      <td>71.907500</td>\n",
       "      <td>66.388919</td>\n",
       "      <td>68.888462</td>\n",
       "      <td>68.005935</td>\n",
       "      <td>70.448030</td>\n",
       "      <td>69.370279</td>\n",
       "      <td>68.754481</td>\n",
       "      <td>74.089945</td>\n",
       "    </tr>\n",
       "    <tr>\n",
       "      <th>1</th>\n",
       "      <td>80.887475</td>\n",
       "      <td>82.392616</td>\n",
       "      <td>82.013584</td>\n",
       "      <td>81.471198</td>\n",
       "      <td>79.419254</td>\n",
       "      <td>80.612153</td>\n",
       "      <td>79.091611</td>\n",
       "      <td>79.971334</td>\n",
       "      <td>75.669970</td>\n",
       "      <td>80.144285</td>\n",
       "      <td>...</td>\n",
       "      <td>74.323750</td>\n",
       "      <td>74.400000</td>\n",
       "      <td>69.933333</td>\n",
       "      <td>88.087500</td>\n",
       "      <td>72.166667</td>\n",
       "      <td>67.724789</td>\n",
       "      <td>72.904100</td>\n",
       "      <td>70.516275</td>\n",
       "      <td>70.215764</td>\n",
       "      <td>76.891402</td>\n",
       "    </tr>\n",
       "    <tr>\n",
       "      <th>All</th>\n",
       "      <td>78.887996</td>\n",
       "      <td>81.001756</td>\n",
       "      <td>80.416012</td>\n",
       "      <td>79.249588</td>\n",
       "      <td>76.465805</td>\n",
       "      <td>79.575912</td>\n",
       "      <td>77.665161</td>\n",
       "      <td>77.985696</td>\n",
       "      <td>73.133013</td>\n",
       "      <td>77.278508</td>\n",
       "      <td>...</td>\n",
       "      <td>73.013411</td>\n",
       "      <td>72.467436</td>\n",
       "      <td>71.512667</td>\n",
       "      <td>68.505854</td>\n",
       "      <td>69.325556</td>\n",
       "      <td>67.979919</td>\n",
       "      <td>70.825766</td>\n",
       "      <td>69.490094</td>\n",
       "      <td>68.921151</td>\n",
       "      <td>74.447491</td>\n",
       "    </tr>\n",
       "  </tbody>\n",
       "</table>\n",
       "<p>3 rows × 49 columns</p>\n",
       "</div>"
      ],
      "text/plain": [
       "Minimum_Duration          1                                                2  \\\n",
       "Expected_Stipend       10K+       2-5K      5-10K No Expectations       10K+   \n",
       "Is_Shortlisted                                                                 \n",
       "0                 78.606045  80.750268  80.164372       78.892453  76.103827   \n",
       "1                 80.887475  82.392616  82.013584       81.471198  79.419254   \n",
       "All               78.887996  81.001756  80.416012       79.249588  76.465805   \n",
       "\n",
       "Minimum_Duration                                                3             \\\n",
       "Expected_Stipend       2-5K      5-10K No Expectations       10K+       2-5K   \n",
       "Is_Shortlisted                                                                 \n",
       "0                 79.387255  77.450547       77.674254  72.815536  76.767582   \n",
       "1                 80.612153  79.091611       79.971334  75.669970  80.144285   \n",
       "All               79.575912  77.665161       77.985696  73.133013  77.278508   \n",
       "\n",
       "Minimum_Duration    ...                  10         11                        \\\n",
       "Expected_Stipend    ...     No Expectations       10K+       2-5K      5-10K   \n",
       "Is_Shortlisted      ...                                                        \n",
       "0                   ...           72.783022  72.362973  71.907500  66.388919   \n",
       "1                   ...           74.323750  74.400000  69.933333  88.087500   \n",
       "All                 ...           73.013411  72.467436  71.512667  68.505854   \n",
       "\n",
       "Minimum_Duration                         12                        \\\n",
       "Expected_Stipend No Expectations       10K+       2-5K      5-10K   \n",
       "Is_Shortlisted                                                      \n",
       "0                      68.888462  68.005935  70.448030  69.370279   \n",
       "1                      72.166667  67.724789  72.904100  70.516275   \n",
       "All                    69.325556  67.979919  70.825766  69.490094   \n",
       "\n",
       "Minimum_Duration                        All  \n",
       "Expected_Stipend No Expectations             \n",
       "Is_Shortlisted                               \n",
       "0                      68.754481  74.089945  \n",
       "1                      70.215764  76.891402  \n",
       "All                    68.921151  74.447491  \n",
       "\n",
       "[3 rows x 49 columns]"
      ]
     },
     "execution_count": 61,
     "metadata": {},
     "output_type": "execute_result"
    }
   ],
   "source": [
    "train_merged.pivot_table(index='Is_Shortlisted', columns=['Minimum_Duration', 'Expected_Stipend'],\n",
    "                         values='Performance_12th', aggfunc='mean', margins=True)"
   ]
  },
  {
   "cell_type": "markdown",
   "metadata": {
    "collapsed": true
   },
   "source": [
    "## Are there any internship student id pair that exist in both training and test sets ?"
   ]
  },
  {
   "cell_type": "code",
   "execution_count": 10,
   "metadata": {
    "collapsed": true
   },
   "outputs": [],
   "source": [
    "def get_pairs(internship_ids, student_ids):\n",
    "    pairs = []\n",
    "    for (internship_id, student_id) in zip(internship_ids, student_ids):\n",
    "        pairs.append((internship_id, student_id))\n",
    "    \n",
    "    return pairs"
   ]
  },
  {
   "cell_type": "code",
   "execution_count": 11,
   "metadata": {
    "collapsed": true
   },
   "outputs": [],
   "source": [
    "train_pairs = get_pairs(train_merged_encoded.Internship_ID, train_merged_encoded.Student_ID)\n",
    "test_pairs = get_pairs(test_merged_encoded.Internship_ID, test_merged_encoded.Student_ID)"
   ]
  },
  {
   "cell_type": "code",
   "execution_count": 14,
   "metadata": {
    "collapsed": false
   },
   "outputs": [
    {
     "name": "stdout",
     "output_type": "stream",
     "text": [
      "Common internship and student ids in both training and test set are \n",
      "set([])\n"
     ]
    }
   ],
   "source": [
    "# are there any common pairs\n",
    "train_pairs_set = set(train_pairs)\n",
    "test_pairs_set = set(test_pairs)\n",
    "\n",
    "print 'Common internship and student ids in both training and test set are \\n%s' %(train_pairs_set & test_pairs_set)"
   ]
  },
  {
   "cell_type": "markdown",
   "metadata": {},
   "source": [
    "## Dimensionality Reduction"
   ]
  },
  {
   "cell_type": "code",
   "execution_count": 31,
   "metadata": {
    "collapsed": true
   },
   "outputs": [],
   "source": [
    "features_to_drop = ['Earliest_Start_Date', 'Start_Date', 'Start Date', 'End Date',\n",
    "            'Is_Shortlisted', 'Internship_deadline', 'PG_scale', 'UG_Scale']\n",
    "\n",
    "features = train_merged_encoded.columns.drop(features_to_drop)\n",
    "\n",
    "X = train_merged_encoded[features]\n",
    "y = train_merged_encoded.Is_Shortlisted"
   ]
  },
  {
   "cell_type": "code",
   "execution_count": 48,
   "metadata": {
    "collapsed": true
   },
   "outputs": [],
   "source": [
    "from sklearn.preprocessing import StandardScaler\n",
    "\n",
    "scaler = StandardScaler()\n",
    "X_scaled = scaler.fit_transform(X)"
   ]
  },
  {
   "cell_type": "code",
   "execution_count": 33,
   "metadata": {
    "collapsed": true
   },
   "outputs": [],
   "source": [
    "from sklearn.decomposition import PCA"
   ]
  },
  {
   "cell_type": "code",
   "execution_count": 91,
   "metadata": {
    "collapsed": false
   },
   "outputs": [],
   "source": [
    "pca = PCA(n_components=2, whiten=False)\n",
    "X_pca = pca.fit_transform(X_scaled)"
   ]
  },
  {
   "cell_type": "code",
   "execution_count": 92,
   "metadata": {
    "collapsed": false
   },
   "outputs": [
    {
     "data": {
      "text/plain": [
       "0.037309132539354771"
      ]
     },
     "execution_count": 92,
     "metadata": {},
     "output_type": "execute_result"
    }
   ],
   "source": [
    "np.sum(pca.explained_variance_ratio_)"
   ]
  },
  {
   "cell_type": "code",
   "execution_count": 36,
   "metadata": {
    "collapsed": false
   },
   "outputs": [
    {
     "data": {
      "image/png": "[encoded data removed]",
      "text/plain": [
       "<matplotlib.figure.Figure at 0x1181ca6d0>"
      ]
     },
     "metadata": {},
     "output_type": "display_data"
    }
   ],
   "source": [
    "# plot\n",
    "negative_class_labels = (y==0).values\n",
    "positive_class_labels = (y==1).values\n",
    "\n",
    "plt.scatter(X_pca[negative_class_labels, 0], X_pca[negative_class_labels, 1],\n",
    "            color='red', marker='^', alpha=.5)\n",
    "\n",
    "plt.scatter(X_pca[positive_class_labels, 0], X_pca[positive_class_labels, 1],\n",
    "            color='blue', marker='o', alpha=.5)\n",
    "\n",
    "plt.xlabel('PC1')\n",
    "plt.ylabel('PC2')\n",
    "plt.show();"
   ]
  },
  {
   "cell_type": "markdown",
   "metadata": {},
   "source": [
    "## Clustering"
   ]
  },
  {
   "cell_type": "code",
   "execution_count": 37,
   "metadata": {
    "collapsed": true
   },
   "outputs": [],
   "source": [
    "# clustering\n",
    "from sklearn.cluster import KMeans"
   ]
  },
  {
   "cell_type": "code",
   "execution_count": 125,
   "metadata": {
    "collapsed": false
   },
   "outputs": [],
   "source": [
    "km = KMeans(n_clusters=13, max_iter=300, n_jobs=-1, random_state=44)"
   ]
  },
  {
   "cell_type": "code",
   "execution_count": 126,
   "metadata": {
    "collapsed": true
   },
   "outputs": [],
   "source": [
    "y_km = km.fit_predict(X_pca)"
   ]
  },
  {
   "cell_type": "code",
   "execution_count": 119,
   "metadata": {
    "collapsed": false
   },
   "outputs": [
    {
     "data": {
      "image/png": "[encoded data removed]",
      "text/plain": [
       "<matplotlib.figure.Figure at 0x11ab65850>"
      ]
     },
     "metadata": {},
     "output_type": "display_data"
    }
   ],
   "source": [
    "plt.scatter(X_pca[y_km==0, 0], X_pca[y_km==0, 1], s=50, c='lightgreen', marker='s', label='Cluster 1')\n",
    "plt.scatter(X_pca[y_km==1, 0], X_pca[y_km==1, 1], s=50, c='orange', marker='o', label='Cluster 2')\n",
    "plt.scatter(X_pca[y_km==2, 0], X_pca[y_km==2, 1], s=50, c='lightblue', marker='v', label='Cluster 3')\n",
    "plt.scatter(X_pca[y_km==3, 0], X_pca[y_km==3, 1], s=50, c='blue', marker='s', label='Cluster 4')\n",
    "\n",
    "plt.scatter(km.cluster_centers_[:, 0], km.cluster_centers_[:, 1], s=250, marker='*', c='red', label='centroids')\n",
    "plt.legend(loc='best')\n",
    "plt.show();"
   ]
  },
  {
   "cell_type": "markdown",
   "metadata": {},
   "source": [
    "## Elbow method to find right number of clusters"
   ]
  },
  {
   "cell_type": "code",
   "execution_count": 123,
   "metadata": {
    "collapsed": false
   },
   "outputs": [
    {
     "data": {
      "image/png": "[encoded data removed]",
      "text/plain": [
       "<matplotlib.figure.Figure at 0x1182bc410>"
      ]
     },
     "metadata": {},
     "output_type": "display_data"
    }
   ],
   "source": [
    "distortions = []\n",
    "\n",
    "for i in range(8, 20):\n",
    "    km = KMeans(n_clusters=i, init='k-means++', n_init=10, max_iter=300, random_state=43, n_jobs=-1)\n",
    "    km.fit(X_pca)\n",
    "    distortions.append(km.inertia_)\n",
    "\n",
    "plt.plot(range(8, 20), distortions, marker='o')\n",
    "plt.xlabel('Number of clusters')\n",
    "plt.ylabel('Distortion')\n",
    "plt.show();"
   ]
  },
  {
   "cell_type": "code",
   "execution_count": 127,
   "metadata": {
    "collapsed": false
   },
   "outputs": [
    {
     "data": {
      "text/html": [
       "<div>\n",
       "<table border=\"1\" class=\"dataframe\">\n",
       "  <thead>\n",
       "    <tr style=\"text-align: right;\">\n",
       "      <th>Is_Shortlisted</th>\n",
       "      <th>0</th>\n",
       "      <th>1</th>\n",
       "    </tr>\n",
       "    <tr>\n",
       "      <th>row_0</th>\n",
       "      <th></th>\n",
       "      <th></th>\n",
       "    </tr>\n",
       "  </thead>\n",
       "  <tbody>\n",
       "    <tr>\n",
       "      <th>0</th>\n",
       "      <td>7107</td>\n",
       "      <td>2071</td>\n",
       "    </tr>\n",
       "    <tr>\n",
       "      <th>1</th>\n",
       "      <td>13971</td>\n",
       "      <td>1821</td>\n",
       "    </tr>\n",
       "    <tr>\n",
       "      <th>2</th>\n",
       "      <td>5331</td>\n",
       "      <td>627</td>\n",
       "    </tr>\n",
       "    <tr>\n",
       "      <th>3</th>\n",
       "      <td>3394</td>\n",
       "      <td>433</td>\n",
       "    </tr>\n",
       "    <tr>\n",
       "      <th>4</th>\n",
       "      <td>31568</td>\n",
       "      <td>6300</td>\n",
       "    </tr>\n",
       "    <tr>\n",
       "      <th>5</th>\n",
       "      <td>6538</td>\n",
       "      <td>518</td>\n",
       "    </tr>\n",
       "    <tr>\n",
       "      <th>6</th>\n",
       "      <td>1893</td>\n",
       "      <td>319</td>\n",
       "    </tr>\n",
       "    <tr>\n",
       "      <th>7</th>\n",
       "      <td>10316</td>\n",
       "      <td>953</td>\n",
       "    </tr>\n",
       "    <tr>\n",
       "      <th>8</th>\n",
       "      <td>5510</td>\n",
       "      <td>471</td>\n",
       "    </tr>\n",
       "    <tr>\n",
       "      <th>9</th>\n",
       "      <td>15999</td>\n",
       "      <td>4280</td>\n",
       "    </tr>\n",
       "    <tr>\n",
       "      <th>10</th>\n",
       "      <td>546</td>\n",
       "      <td>54</td>\n",
       "    </tr>\n",
       "    <tr>\n",
       "      <th>11</th>\n",
       "      <td>27353</td>\n",
       "      <td>2349</td>\n",
       "    </tr>\n",
       "    <tr>\n",
       "      <th>12</th>\n",
       "      <td>38477</td>\n",
       "      <td>4383</td>\n",
       "    </tr>\n",
       "  </tbody>\n",
       "</table>\n",
       "</div>"
      ],
      "text/plain": [
       "Is_Shortlisted      0     1\n",
       "row_0                      \n",
       "0                7107  2071\n",
       "1               13971  1821\n",
       "2                5331   627\n",
       "3                3394   433\n",
       "4               31568  6300\n",
       "5                6538   518\n",
       "6                1893   319\n",
       "7               10316   953\n",
       "8                5510   471\n",
       "9               15999  4280\n",
       "10                546    54\n",
       "11              27353  2349\n",
       "12              38477  4383"
      ]
     },
     "execution_count": 127,
     "metadata": {},
     "output_type": "execute_result"
    }
   ],
   "source": [
    "pd.crosstab(y_km, y)"
   ]
  },
  {
   "cell_type": "code",
   "execution_count": null,
   "metadata": {
    "collapsed": true
   },
   "outputs": [],
   "source": [
    "train_merged_encoded[y_km==4].head"
   ]
  },
  {
   "cell_type": "code",
   "execution_count": 111,
   "metadata": {
    "collapsed": false
   },
   "outputs": [
    {
     "data": {
      "text/plain": [
       "count     3258.000000\n",
       "mean      4136.588870\n",
       "std       3373.996563\n",
       "min         10.000000\n",
       "25%       2000.000000\n",
       "50%       3500.000000\n",
       "75%       5000.000000\n",
       "max      28500.000000\n",
       "Name: Stipend1, dtype: float64"
      ]
     },
     "execution_count": 111,
     "metadata": {},
     "output_type": "execute_result"
    }
   ],
   "source": [
    "train_merged_encoded[y_km==5].loc[:, ['Stipend1','Is_Shortlisted']].Stipend1.describe()"
   ]
  },
  {
   "cell_type": "code",
   "execution_count": 112,
   "metadata": {
    "collapsed": false
   },
   "outputs": [
    {
     "data": {
      "text/plain": [
       "count    53225.000000\n",
       "mean      5795.624966\n",
       "std       3730.532637\n",
       "min          5.000000\n",
       "25%       3000.000000\n",
       "50%       5000.000000\n",
       "75%       7500.000000\n",
       "max      30000.000000\n",
       "Name: Stipend1, dtype: float64"
      ]
     },
     "execution_count": 112,
     "metadata": {},
     "output_type": "execute_result"
    }
   ],
   "source": [
    "train_merged_encoded[y_km==3].loc[:, ['Stipend1','Is_Shortlisted']].Stipend1.describe()"
   ]
  },
  {
   "cell_type": "code",
   "execution_count": null,
   "metadata": {
    "collapsed": true
   },
   "outputs": [],
   "source": []
  }
 ],
 "metadata": {
  "kernelspec": {
   "display_name": "Python 2",
   "language": "python",
   "name": "python2"
  },
  "language_info": {
   "codemirror_mode": {
    "name": "ipython",
    "version": 2
   },
   "file_extension": ".py",
   "mimetype": "text/x-python",
   "name": "python",
   "nbconvert_exporter": "python",
   "pygments_lexer": "ipython2",
   "version": "2.7.11"
  }
 },
 "nbformat": 4,
 "nbformat_minor": 0
}
