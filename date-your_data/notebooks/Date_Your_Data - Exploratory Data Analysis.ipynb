{
 "cells": [
  {
   "cell_type": "code",
   "execution_count": 1,
   "metadata": {
    "collapsed": false
   },
   "outputs": [
    {
     "name": "stderr",
     "output_type": "stream",
     "text": [
      "C:\\Users\\Abhishek\\Anaconda2\\lib\\site-packages\\matplotlib\\__init__.py:872: UserWarning: axes.color_cycle is deprecated and replaced with axes.prop_cycle; please use the latter.\n",
      "  warnings.warn(self.msg_depr % (key, alt_key))\n"
     ]
    }
   ],
   "source": [
    "import numpy as np\n",
    "import pandas as pd\n",
    "\n",
    "import matplotlib.pyplot as plt\n",
    "import seaborn as sns\n",
    "\n",
    "%matplotlib inline"
   ]
  },
  {
   "cell_type": "code",
   "execution_count": 2,
   "metadata": {
    "collapsed": false
   },
   "outputs": [],
   "source": [
    "train = pd.read_csv('../data/train.csv', low_memory=False)\n",
    "students = pd.read_csv('../data/Student.csv')\n",
    "internship = pd.read_csv('../data/Internship.csv')\n",
    "test = pd.read_csv('../data/test.csv')"
   ]
  },
  {
   "cell_type": "code",
   "execution_count": 38,
   "metadata": {
    "collapsed": true
   },
   "outputs": [],
   "source": [
    "# merge with internship and student details\n",
    "train_with_internship = pd.merge(train, internship, how='left', on='Internship_ID')\n",
    "test_with_internship = pd.merge(test, internship, how='left', on='Internship_ID')\n",
    "\n",
    "# train_with_internship_clean = train_with_internship.dropna(axis=1)\n",
    "# test_with_internship_clean = test_with_internship.dropna(axis=1)\n",
    "\n",
    "students_cleaned = students.groupby('Student_ID').first()\n",
    "students_cleaned = students_cleaned.reset_index()\n",
    "\n",
    "train_with_student = pd.merge(train_with_internship, students_cleaned, on='Student_ID', how='left')\n",
    "test_with_student = pd.merge(test_with_internship, students_cleaned, on='Student_ID', how='left')\n",
    "\n",
    "train_merged = train_with_student\n",
    "test_merged = test_with_student\n",
    "# train_merged = train_with_student.dropna(axis=1)\n",
    "# test_merged = test_with_student.dropna(axis=1)"
   ]
  },
  {
   "cell_type": "code",
   "execution_count": null,
   "metadata": {
    "collapsed": true
   },
   "outputs": [],
   "source": [
    "data_dictionary = pd.read_excel('../data/Data_Dictionary.xlsx')"
   ]
  },
  {
   "cell_type": "markdown",
   "metadata": {},
   "source": [
    "## Training dataset"
   ]
  },
  {
   "cell_type": "code",
   "execution_count": null,
   "metadata": {
    "collapsed": false
   },
   "outputs": [],
   "source": [
    "train.head()"
   ]
  },
  {
   "cell_type": "markdown",
   "metadata": {},
   "source": [
    "## Data about potential intern"
   ]
  },
  {
   "cell_type": "code",
   "execution_count": null,
   "metadata": {
    "collapsed": false
   },
   "outputs": [],
   "source": [
    "students.head()"
   ]
  },
  {
   "cell_type": "markdown",
   "metadata": {},
   "source": [
    "## Data about internship opportunities"
   ]
  },
  {
   "cell_type": "code",
   "execution_count": null,
   "metadata": {
    "collapsed": false
   },
   "outputs": [],
   "source": [
    "internship.head()"
   ]
  },
  {
   "cell_type": "markdown",
   "metadata": {},
   "source": [
    "## Test set"
   ]
  },
  {
   "cell_type": "code",
   "execution_count": null,
   "metadata": {
    "collapsed": false
   },
   "outputs": [],
   "source": [
    "test.head()"
   ]
  },
  {
   "cell_type": "markdown",
   "metadata": {},
   "source": [
    "## Data Dictionary"
   ]
  },
  {
   "cell_type": "code",
   "execution_count": null,
   "metadata": {
    "collapsed": false
   },
   "outputs": [],
   "source": [
    "data_dictionary"
   ]
  },
  {
   "cell_type": "code",
   "execution_count": 43,
   "metadata": {
    "collapsed": false
   },
   "outputs": [
    {
     "data": {
      "text/plain": [
       "['Student_ID',\n",
       " 'Institute_Category',\n",
       " 'Institute_location',\n",
       " 'hometown',\n",
       " 'Degree',\n",
       " 'Stream',\n",
       " 'Current_year',\n",
       " 'Year_of_graduation',\n",
       " 'Performance_PG',\n",
       " 'PG_scale',\n",
       " 'Performance_UG',\n",
       " 'UG_Scale',\n",
       " 'Performance_12th',\n",
       " 'Performance_10th',\n",
       " 'Experience_Type',\n",
       " 'Profile',\n",
       " 'Location',\n",
       " 'Start Date',\n",
       " 'End Date']"
      ]
     },
     "execution_count": 43,
     "metadata": {},
     "output_type": "execute_result"
    }
   ],
   "source": [
    "list(students.columns)"
   ]
  },
  {
   "cell_type": "code",
   "execution_count": 33,
   "metadata": {
    "collapsed": false
   },
   "outputs": [
    {
     "data": {
      "text/plain": [
       "['Internship_ID',\n",
       " 'Internship_Profile',\n",
       " 'Skills_required',\n",
       " 'Internship_Type',\n",
       " 'Internship_Location',\n",
       " 'Internship_category',\n",
       " 'No_of_openings',\n",
       " 'Stipend_Type',\n",
       " 'Stipend1',\n",
       " 'Stipend2',\n",
       " 'Internship_deadline',\n",
       " 'Start_Date',\n",
       " 'Internship_Duration(Months)',\n",
       " 'PR',\n",
       " 'UI',\n",
       " 'Marketing',\n",
       " 'Media',\n",
       " 'Social',\n",
       " 'Design',\n",
       " 'Web',\n",
       " 'Development',\n",
       " 'Business',\n",
       " 'Research',\n",
       " 'Writing',\n",
       " 'Plan',\n",
       " 'Creative',\n",
       " 'Process',\n",
       " 'Database',\n",
       " 'Strategy',\n",
       " 'Designing',\n",
       " 'Analysis',\n",
       " 'Facebook',\n",
       " 'Communication',\n",
       " 'Rest',\n",
       " 'Android',\n",
       " 'Presentation',\n",
       " 'Media Marketing',\n",
       " 'Twitter',\n",
       " 'Social Media Marketing',\n",
       " 'Operations',\n",
       " 'Java',\n",
       " 'Quality',\n",
       " 'HTML',\n",
       " 'Blogs',\n",
       " 'Digital Marketing',\n",
       " 'PHP',\n",
       " 'Market Research',\n",
       " 'Recruitment',\n",
       " 'Testing',\n",
       " 'CSS',\n",
       " 'Planning',\n",
       " 'API',\n",
       " 'Editing',\n",
       " 'Content Writing',\n",
       " 'Innovative',\n",
       " 'Lead Generation',\n",
       " 'Mobile App',\n",
       " 'SQL',\n",
       " 'Accounts',\n",
       " 'Reporting',\n",
       " 'JavaScript',\n",
       " 'Documentation',\n",
       " 'iOS',\n",
       " 'Branding',\n",
       " 'ACTING',\n",
       " 'Analytics',\n",
       " 'Initiative',\n",
       " 'Advertising',\n",
       " 'Cold Calling',\n",
       " 'Sourcing',\n",
       " 'ERP',\n",
       " 'NGO',\n",
       " 'Environment',\n",
       " 'Networking',\n",
       " 'Production',\n",
       " 'MySQL',\n",
       " 'ISO',\n",
       " 'Marketing Strategy',\n",
       " 'Survey',\n",
       " 'Visio',\n",
       " 'App Development',\n",
       " 'Front End',\n",
       " 'web development',\n",
       " 'Integration',\n",
       " 'HTML5',\n",
       " 'jQuery',\n",
       " 'Server',\n",
       " 'Coding',\n",
       " 'MBA',\n",
       " 'Content Creation',\n",
       " 'Reading',\n",
       " 'B2B',\n",
       " 'Content Development',\n",
       " 'Storm',\n",
       " 'E-commerce',\n",
       " 'Databases',\n",
       " 'Programming',\n",
       " 'Wordpress',\n",
       " 'Outreach',\n",
       " 'NABL',\n",
       " 'Web Design',\n",
       " 'Architecture',\n",
       " 'Web Application',\n",
       " 'Adobe',\n",
       " 'Scala',\n",
       " 'UI/UX',\n",
       " 'Python',\n",
       " 'Mac',\n",
       " 'Retail',\n",
       " 'Digital Media',\n",
       " 'Product Development',\n",
       " 'Data Collection',\n",
       " 'Algorithm',\n",
       " 'LESS',\n",
       " 'Email Marketing',\n",
       " 'Screening',\n",
       " 'Bootstrap',\n",
       " 'Finance',\n",
       " 'Content Marketing',\n",
       " 'Communication Skil',\n",
       " 'Hiring',\n",
       " 'Negotiation',\n",
       " 'Administration',\n",
       " 'Communication Skills',\n",
       " 'CSS3',\n",
       " 'Infographic',\n",
       " 'Youtube',\n",
       " 'CRM',\n",
       " 'CAD',\n",
       " 'Infographics',\n",
       " 'Access',\n",
       " 'Editorial',\n",
       " 'ARM',\n",
       " 'AJAX',\n",
       " '.NET',\n",
       " 'Co-ordination',\n",
       " 'Ownership',\n",
       " 'Algorithms',\n",
       " 'Node',\n",
       " 'Drafting',\n",
       " 'Blogging',\n",
       " 'Animation',\n",
       " 'Teaching',\n",
       " 'Blogger',\n",
       " 'Relationship Management',\n",
       " '3d',\n",
       " 'HTTP',\n",
       " 'Press Release',\n",
       " 'Accounting',\n",
       " 'Android App Development',\n",
       " 'Adobe Photoshop',\n",
       " 'Photography',\n",
       " 'Software Development',\n",
       " 'Social Networking',\n",
       " 'AngularJS',\n",
       " 'AWS',\n",
       " 'Secondary Research',\n",
       " 'Recruiting',\n",
       " 'Client Servicing',\n",
       " 'Leadership',\n",
       " 'Content Writer',\n",
       " 'Web Services',\n",
       " 'Payroll',\n",
       " 'Prospecting',\n",
       " 'Graphic Designing',\n",
       " 'Proofreading',\n",
       " 'Data Entry',\n",
       " 'Flex',\n",
       " 'Creativity',\n",
       " 'Data Management',\n",
       " 'Convincing',\n",
       " 'GATE',\n",
       " 'Social Media Management',\n",
       " 'Machine Learning',\n",
       " 'Client Relations',\n",
       " 'Web Applications',\n",
       " 'XML',\n",
       " 'MVC',\n",
       " 'HTML/CSS',\n",
       " 'Google+',\n",
       " 'Typing',\n",
       " 'Sketch',\n",
       " 'UI Design',\n",
       " 'Visual Design',\n",
       " 'Creative Writing',\n",
       " 'Graphic Designer',\n",
       " 'Product Design',\n",
       " 'PERL',\n",
       " 'Hindi',\n",
       " 'Chef',\n",
       " 'Sales Process',\n",
       " 'ASP.NET',\n",
       " 'Django',\n",
       " 'Public Relations',\n",
       " 'CMS',\n",
       " 'Vendor Management',\n",
       " 'Content Strategy',\n",
       " 'Client Relationship',\n",
       " 'Creative Design',\n",
       " 'C#',\n",
       " 'JSON',\n",
       " 'Linux',\n",
       " 'Client Interaction',\n",
       " 'Manufacturing',\n",
       " 'Customer Relationship Management',\n",
       " 'Recruitment Process',\n",
       " 'Business Relation',\n",
       " 'Talent Acquisition',\n",
       " 'CorelDRAW',\n",
       " 'Big Data',\n",
       " 'Material Design',\n",
       " 'Market Analysis',\n",
       " 'Adobe Illustrator',\n",
       " 'REST API',\n",
       " 'Tally',\n",
       " 'Electronics',\n",
       " 'Bee',\n",
       " 'C++',\n",
       " 'Online Research',\n",
       " 'Mockups',\n",
       " 'Front End Development',\n",
       " 'Gif',\n",
       " 'Product Management',\n",
       " 'MongoDB',\n",
       " 'Primary Research',\n",
       " 'Healthcare',\n",
       " 'Data Analytics',\n",
       " 'Google Analytics',\n",
       " 'Core PHP',\n",
       " 'B2B Sales',\n",
       " 'Social Media Tools',\n",
       " 'Node.js',\n",
       " 'Ruby',\n",
       " 'Drawing',\n",
       " 'Brand Promotion',\n",
       " 'Mechanical',\n",
       " 'Automobile',\n",
       " 'Lifestyle',\n",
       " 'Writing Blogs',\n",
       " 'CodeIgniter',\n",
       " 'Writing Skills',\n",
       " 'SQL Server',\n",
       " 'Logo Design',\n",
       " 'Project Management',\n",
       " 'API Integration',\n",
       " 'Client Communication',\n",
       " 'Growth Hacking',\n",
       " 'Interior Design',\n",
       " 'Personality',\n",
       " 'SAP',\n",
       " 'Scripting',\n",
       " 'Android Application Development',\n",
       " 'Event Management',\n",
       " 'Blog Writing',\n",
       " 'Statistics',\n",
       " 'Typography',\n",
       " 'Scalability',\n",
       " 'Assembly',\n",
       " 'Conceptualization',\n",
       " 'Microsoft',\n",
       " 'MVC Framework',\n",
       " 'PSD',\n",
       " 'Web Technologies',\n",
       " 'Web Application Development',\n",
       " 'Joomla',\n",
       " 'Image Processing',\n",
       " 'REST APIs',\n",
       " 'Data Structure',\n",
       " 'Confidence',\n",
       " 'Electrical',\n",
       " 'Counseling',\n",
       " 'Inside Sales',\n",
       " 'Organizational Skills',\n",
       " 'Video Editing',\n",
       " 'Data Structures',\n",
       " 'Mobile Application Development',\n",
       " 'PhoneGap',\n",
       " 'Storytelling',\n",
       " 'MySQL.',\n",
       " 'Ionic',\n",
       " 'Design Skills',\n",
       " 'Corporate Sales',\n",
       " 'Entrepreneurship',\n",
       " 'Films',\n",
       " 'Foundation',\n",
       " 'Payment Gateway']"
      ]
     },
     "execution_count": 33,
     "metadata": {},
     "output_type": "execute_result"
    }
   ],
   "source": [
    "list(internship.columns)"
   ]
  },
  {
   "cell_type": "code",
   "execution_count": 4,
   "metadata": {
    "collapsed": false
   },
   "outputs": [
    {
     "data": {
      "text/plain": [
       "['Internship_ID',\n",
       " 'Student_ID',\n",
       " 'Earliest_Start_Date',\n",
       " 'Expected_Stipend',\n",
       " 'Minimum_Duration',\n",
       " 'Preferred_location',\n",
       " 'Is_Part_Time',\n",
       " 'Is_Shortlisted',\n",
       " 'Internship_Profile',\n",
       " 'Skills_required',\n",
       " 'Internship_Type',\n",
       " 'Internship_Location',\n",
       " 'Internship_category',\n",
       " 'No_of_openings',\n",
       " 'Stipend_Type',\n",
       " 'Stipend1',\n",
       " 'Stipend2',\n",
       " 'Internship_deadline',\n",
       " 'Start_Date',\n",
       " 'Internship_Duration(Months)',\n",
       " 'PR',\n",
       " 'UI',\n",
       " 'Marketing',\n",
       " 'Media',\n",
       " 'Social',\n",
       " 'Design',\n",
       " 'Web',\n",
       " 'Development',\n",
       " 'Business',\n",
       " 'Research',\n",
       " 'Writing',\n",
       " 'Plan',\n",
       " 'Creative',\n",
       " 'Process',\n",
       " 'Database',\n",
       " 'Strategy',\n",
       " 'Designing',\n",
       " 'Analysis',\n",
       " 'Facebook',\n",
       " 'Communication',\n",
       " 'Rest',\n",
       " 'Android',\n",
       " 'Presentation',\n",
       " 'Media Marketing',\n",
       " 'Twitter',\n",
       " 'Social Media Marketing',\n",
       " 'Operations',\n",
       " 'Java',\n",
       " 'Quality',\n",
       " 'HTML',\n",
       " 'Blogs',\n",
       " 'Digital Marketing',\n",
       " 'PHP',\n",
       " 'Market Research',\n",
       " 'Recruitment',\n",
       " 'Testing',\n",
       " 'CSS',\n",
       " 'Planning',\n",
       " 'API',\n",
       " 'Editing',\n",
       " 'Content Writing',\n",
       " 'Innovative',\n",
       " 'Lead Generation',\n",
       " 'Mobile App',\n",
       " 'SQL',\n",
       " 'Accounts',\n",
       " 'Reporting',\n",
       " 'JavaScript',\n",
       " 'Documentation',\n",
       " 'iOS',\n",
       " 'Branding',\n",
       " 'ACTING',\n",
       " 'Analytics',\n",
       " 'Initiative',\n",
       " 'Advertising',\n",
       " 'Cold Calling',\n",
       " 'Sourcing',\n",
       " 'ERP',\n",
       " 'NGO',\n",
       " 'Environment',\n",
       " 'Networking',\n",
       " 'Production',\n",
       " 'MySQL',\n",
       " 'ISO',\n",
       " 'Marketing Strategy',\n",
       " 'Survey',\n",
       " 'Visio',\n",
       " 'App Development',\n",
       " 'Front End',\n",
       " 'web development',\n",
       " 'Integration',\n",
       " 'HTML5',\n",
       " 'jQuery',\n",
       " 'Server',\n",
       " 'Coding',\n",
       " 'MBA',\n",
       " 'Content Creation',\n",
       " 'Reading',\n",
       " 'B2B',\n",
       " 'Content Development',\n",
       " 'Storm',\n",
       " 'E-commerce',\n",
       " 'Databases',\n",
       " 'Programming',\n",
       " 'Wordpress',\n",
       " 'Outreach',\n",
       " 'NABL',\n",
       " 'Web Design',\n",
       " 'Architecture',\n",
       " 'Web Application',\n",
       " 'Adobe',\n",
       " 'Scala',\n",
       " 'UI/UX',\n",
       " 'Python',\n",
       " 'Mac',\n",
       " 'Retail',\n",
       " 'Digital Media',\n",
       " 'Product Development',\n",
       " 'Data Collection',\n",
       " 'Algorithm',\n",
       " 'LESS',\n",
       " 'Email Marketing',\n",
       " 'Screening',\n",
       " 'Bootstrap',\n",
       " 'Finance',\n",
       " 'Content Marketing',\n",
       " 'Communication Skil',\n",
       " 'Hiring',\n",
       " 'Negotiation',\n",
       " 'Administration',\n",
       " 'Communication Skills',\n",
       " 'CSS3',\n",
       " 'Infographic',\n",
       " 'Youtube',\n",
       " 'CRM',\n",
       " 'CAD',\n",
       " 'Infographics',\n",
       " 'Access',\n",
       " 'Editorial',\n",
       " 'ARM',\n",
       " 'AJAX',\n",
       " '.NET',\n",
       " 'Co-ordination',\n",
       " 'Ownership',\n",
       " 'Algorithms',\n",
       " 'Node',\n",
       " 'Drafting',\n",
       " 'Blogging',\n",
       " 'Animation',\n",
       " 'Teaching',\n",
       " 'Blogger',\n",
       " 'Relationship Management',\n",
       " '3d',\n",
       " 'HTTP',\n",
       " 'Press Release',\n",
       " 'Accounting',\n",
       " 'Android App Development',\n",
       " 'Adobe Photoshop',\n",
       " 'Photography',\n",
       " 'Software Development',\n",
       " 'Social Networking',\n",
       " 'AngularJS',\n",
       " 'AWS',\n",
       " 'Secondary Research',\n",
       " 'Recruiting',\n",
       " 'Client Servicing',\n",
       " 'Leadership',\n",
       " 'Content Writer',\n",
       " 'Web Services',\n",
       " 'Payroll',\n",
       " 'Prospecting',\n",
       " 'Graphic Designing',\n",
       " 'Proofreading',\n",
       " 'Data Entry',\n",
       " 'Flex',\n",
       " 'Creativity',\n",
       " 'Data Management',\n",
       " 'Convincing',\n",
       " 'GATE',\n",
       " 'Social Media Management',\n",
       " 'Machine Learning',\n",
       " 'Client Relations',\n",
       " 'Web Applications',\n",
       " 'XML',\n",
       " 'MVC',\n",
       " 'HTML/CSS',\n",
       " 'Google+',\n",
       " 'Typing',\n",
       " 'Sketch',\n",
       " 'UI Design',\n",
       " 'Visual Design',\n",
       " 'Creative Writing',\n",
       " 'Graphic Designer',\n",
       " 'Product Design',\n",
       " 'PERL',\n",
       " 'Hindi',\n",
       " 'Chef',\n",
       " 'Sales Process',\n",
       " 'ASP.NET',\n",
       " 'Django',\n",
       " 'Public Relations',\n",
       " 'CMS',\n",
       " 'Vendor Management',\n",
       " 'Content Strategy',\n",
       " 'Client Relationship',\n",
       " 'Creative Design',\n",
       " 'C#',\n",
       " 'JSON',\n",
       " 'Linux',\n",
       " 'Client Interaction',\n",
       " 'Manufacturing',\n",
       " 'Customer Relationship Management',\n",
       " 'Recruitment Process',\n",
       " 'Business Relation',\n",
       " 'Talent Acquisition',\n",
       " 'CorelDRAW',\n",
       " 'Big Data',\n",
       " 'Material Design',\n",
       " 'Market Analysis',\n",
       " 'Adobe Illustrator',\n",
       " 'REST API',\n",
       " 'Tally',\n",
       " 'Electronics',\n",
       " 'Bee',\n",
       " 'C++',\n",
       " 'Online Research',\n",
       " 'Mockups',\n",
       " 'Front End Development',\n",
       " 'Gif',\n",
       " 'Product Management',\n",
       " 'MongoDB',\n",
       " 'Primary Research',\n",
       " 'Healthcare',\n",
       " 'Data Analytics',\n",
       " 'Google Analytics',\n",
       " 'Core PHP',\n",
       " 'B2B Sales',\n",
       " 'Social Media Tools',\n",
       " 'Node.js',\n",
       " 'Ruby',\n",
       " 'Drawing',\n",
       " 'Brand Promotion',\n",
       " 'Mechanical',\n",
       " 'Automobile',\n",
       " 'Lifestyle',\n",
       " 'Writing Blogs',\n",
       " 'CodeIgniter',\n",
       " 'Writing Skills',\n",
       " 'SQL Server',\n",
       " 'Logo Design',\n",
       " 'Project Management',\n",
       " 'API Integration',\n",
       " 'Client Communication',\n",
       " 'Growth Hacking',\n",
       " 'Interior Design',\n",
       " 'Personality',\n",
       " 'SAP',\n",
       " 'Scripting',\n",
       " 'Android Application Development',\n",
       " 'Event Management',\n",
       " 'Blog Writing',\n",
       " 'Statistics',\n",
       " 'Typography',\n",
       " 'Scalability',\n",
       " 'Assembly',\n",
       " 'Conceptualization',\n",
       " 'Microsoft',\n",
       " 'MVC Framework',\n",
       " 'PSD',\n",
       " 'Web Technologies',\n",
       " 'Web Application Development',\n",
       " 'Joomla',\n",
       " 'Image Processing',\n",
       " 'REST APIs',\n",
       " 'Data Structure',\n",
       " 'Confidence',\n",
       " 'Electrical',\n",
       " 'Counseling',\n",
       " 'Inside Sales',\n",
       " 'Organizational Skills',\n",
       " 'Video Editing',\n",
       " 'Data Structures',\n",
       " 'Mobile Application Development',\n",
       " 'PhoneGap',\n",
       " 'Storytelling',\n",
       " 'MySQL.',\n",
       " 'Ionic',\n",
       " 'Design Skills',\n",
       " 'Corporate Sales',\n",
       " 'Entrepreneurship',\n",
       " 'Films',\n",
       " 'Foundation',\n",
       " 'Payment Gateway',\n",
       " 'Institute_Category',\n",
       " 'Institute_location',\n",
       " 'hometown',\n",
       " 'Degree',\n",
       " 'Stream',\n",
       " 'Current_year',\n",
       " 'Year_of_graduation',\n",
       " 'Performance_PG',\n",
       " 'PG_scale',\n",
       " 'Performance_UG',\n",
       " 'UG_Scale',\n",
       " 'Performance_12th',\n",
       " 'Performance_10th',\n",
       " 'Experience_Type',\n",
       " 'Profile',\n",
       " 'Location',\n",
       " 'Start Date',\n",
       " 'End Date']"
      ]
     },
     "execution_count": 4,
     "metadata": {},
     "output_type": "execute_result"
    }
   ],
   "source": [
    "list(train_merged.columns)"
   ]
  },
  {
   "cell_type": "markdown",
   "metadata": {},
   "source": [
    "## Class Distribution"
   ]
  },
  {
   "cell_type": "code",
   "execution_count": null,
   "metadata": {
    "collapsed": false
   },
   "outputs": [],
   "source": [
    "train_merged.Is_Shortlisted.value_counts()"
   ]
  },
  {
   "cell_type": "markdown",
   "metadata": {},
   "source": [
    "## Internship Profile"
   ]
  },
  {
   "cell_type": "code",
   "execution_count": null,
   "metadata": {
    "collapsed": false
   },
   "outputs": [],
   "source": [
    "# (Web Development -> (Web Development, Web & Mobile App Development, Web & Android App Development ))\n",
    "train_merged.Internship_Profile.value_counts()"
   ]
  },
  {
   "cell_type": "code",
   "execution_count": null,
   "metadata": {
    "collapsed": false
   },
   "outputs": [],
   "source": [
    "train_merged.groupby(['Internship_Profile', 'Is_Shortlisted']).size().unstack(1).fillna(0).sort_values(by=1, ascending=False)"
   ]
  },
  {
   "cell_type": "markdown",
   "metadata": {},
   "source": [
    "## Stipend Expectation"
   ]
  },
  {
   "cell_type": "code",
   "execution_count": 5,
   "metadata": {
    "collapsed": false
   },
   "outputs": [
    {
     "data": {
      "text/plain": [
       "5-10K              58552\n",
       "No Expectations    53628\n",
       "2-5K               42005\n",
       "10K+               38397\n",
       "Name: Expected_Stipend, dtype: int64"
      ]
     },
     "execution_count": 5,
     "metadata": {},
     "output_type": "execute_result"
    }
   ],
   "source": [
    "train_merged.Expected_Stipend.value_counts()"
   ]
  },
  {
   "cell_type": "code",
   "execution_count": 7,
   "metadata": {
    "collapsed": false
   },
   "outputs": [
    {
     "data": {
      "image/png": "[encoded data removed]",
      "text/plain": [
       "<matplotlib.figure.Figure at 0x1bd01860>"
      ]
     },
     "metadata": {},
     "output_type": "display_data"
    }
   ],
   "source": [
    "train_merged.Stipend1.plot(kind='hist');"
   ]
  },
  {
   "cell_type": "code",
   "execution_count": 16,
   "metadata": {
    "collapsed": false
   },
   "outputs": [
    {
     "data": {
      "text/html": [
       "<div>\n",
       "<table border=\"1\" class=\"dataframe\">\n",
       "  <thead>\n",
       "    <tr style=\"text-align: right;\">\n",
       "      <th>Is_Shortlisted</th>\n",
       "      <th>0</th>\n",
       "      <th>1</th>\n",
       "    </tr>\n",
       "    <tr>\n",
       "      <th>Stipend2</th>\n",
       "      <th></th>\n",
       "      <th></th>\n",
       "    </tr>\n",
       "  </thead>\n",
       "  <tbody>\n",
       "    <tr>\n",
       "      <th>10000</th>\n",
       "      <td>17332</td>\n",
       "      <td>1969</td>\n",
       "    </tr>\n",
       "    <tr>\n",
       "      <th>15000</th>\n",
       "      <td>13080</td>\n",
       "      <td>2114</td>\n",
       "    </tr>\n",
       "    <tr>\n",
       "      <th>5000</th>\n",
       "      <td>9422</td>\n",
       "      <td>1587</td>\n",
       "    </tr>\n",
       "    <tr>\n",
       "      <th>20000</th>\n",
       "      <td>7508</td>\n",
       "      <td>1018</td>\n",
       "    </tr>\n",
       "    <tr>\n",
       "      <th>8000</th>\n",
       "      <td>5801</td>\n",
       "      <td>594</td>\n",
       "    </tr>\n",
       "    <tr>\n",
       "      <th>12000</th>\n",
       "      <td>5140</td>\n",
       "      <td>781</td>\n",
       "    </tr>\n",
       "    <tr>\n",
       "      <th>6000</th>\n",
       "      <td>4044</td>\n",
       "      <td>362</td>\n",
       "    </tr>\n",
       "    <tr>\n",
       "      <th>25000</th>\n",
       "      <td>3161</td>\n",
       "      <td>496</td>\n",
       "    </tr>\n",
       "    <tr>\n",
       "      <th>30000</th>\n",
       "      <td>2771</td>\n",
       "      <td>246</td>\n",
       "    </tr>\n",
       "    <tr>\n",
       "      <th>7000</th>\n",
       "      <td>2624</td>\n",
       "      <td>335</td>\n",
       "    </tr>\n",
       "    <tr>\n",
       "      <th>3000</th>\n",
       "      <td>1999</td>\n",
       "      <td>521</td>\n",
       "    </tr>\n",
       "    <tr>\n",
       "      <th>4000</th>\n",
       "      <td>1674</td>\n",
       "      <td>546</td>\n",
       "    </tr>\n",
       "    <tr>\n",
       "      <th>2000</th>\n",
       "      <td>887</td>\n",
       "      <td>254</td>\n",
       "    </tr>\n",
       "    <tr>\n",
       "      <th>14000</th>\n",
       "      <td>795</td>\n",
       "      <td>108</td>\n",
       "    </tr>\n",
       "    <tr>\n",
       "      <th>1500</th>\n",
       "      <td>765</td>\n",
       "      <td>203</td>\n",
       "    </tr>\n",
       "    <tr>\n",
       "      <th>1000</th>\n",
       "      <td>719</td>\n",
       "      <td>208</td>\n",
       "    </tr>\n",
       "    <tr>\n",
       "      <th>3500</th>\n",
       "      <td>699</td>\n",
       "      <td>7</td>\n",
       "    </tr>\n",
       "    <tr>\n",
       "      <th>18000</th>\n",
       "      <td>574</td>\n",
       "      <td>133</td>\n",
       "    </tr>\n",
       "    <tr>\n",
       "      <th>7500</th>\n",
       "      <td>463</td>\n",
       "      <td>43</td>\n",
       "    </tr>\n",
       "    <tr>\n",
       "      <th>50000</th>\n",
       "      <td>314</td>\n",
       "      <td>13</td>\n",
       "    </tr>\n",
       "    <tr>\n",
       "      <th>9000</th>\n",
       "      <td>266</td>\n",
       "      <td>23</td>\n",
       "    </tr>\n",
       "    <tr>\n",
       "      <th>16000</th>\n",
       "      <td>209</td>\n",
       "      <td>44</td>\n",
       "    </tr>\n",
       "    <tr>\n",
       "      <th>2500</th>\n",
       "      <td>203</td>\n",
       "      <td>61</td>\n",
       "    </tr>\n",
       "    <tr>\n",
       "      <th>5500</th>\n",
       "      <td>171</td>\n",
       "      <td>0</td>\n",
       "    </tr>\n",
       "    <tr>\n",
       "      <th>19000</th>\n",
       "      <td>146</td>\n",
       "      <td>31</td>\n",
       "    </tr>\n",
       "    <tr>\n",
       "      <th>13000</th>\n",
       "      <td>143</td>\n",
       "      <td>15</td>\n",
       "    </tr>\n",
       "    <tr>\n",
       "      <th>35000</th>\n",
       "      <td>138</td>\n",
       "      <td>38</td>\n",
       "    </tr>\n",
       "    <tr>\n",
       "      <th>6500</th>\n",
       "      <td>137</td>\n",
       "      <td>48</td>\n",
       "    </tr>\n",
       "    <tr>\n",
       "      <th>4500</th>\n",
       "      <td>106</td>\n",
       "      <td>9</td>\n",
       "    </tr>\n",
       "    <tr>\n",
       "      <th>700</th>\n",
       "      <td>73</td>\n",
       "      <td>9</td>\n",
       "    </tr>\n",
       "    <tr>\n",
       "      <th>11000</th>\n",
       "      <td>63</td>\n",
       "      <td>0</td>\n",
       "    </tr>\n",
       "    <tr>\n",
       "      <th>15999</th>\n",
       "      <td>62</td>\n",
       "      <td>0</td>\n",
       "    </tr>\n",
       "    <tr>\n",
       "      <th>800</th>\n",
       "      <td>45</td>\n",
       "      <td>4</td>\n",
       "    </tr>\n",
       "    <tr>\n",
       "      <th>400</th>\n",
       "      <td>36</td>\n",
       "      <td>0</td>\n",
       "    </tr>\n",
       "    <tr>\n",
       "      <th>75000</th>\n",
       "      <td>32</td>\n",
       "      <td>13</td>\n",
       "    </tr>\n",
       "    <tr>\n",
       "      <th>5001</th>\n",
       "      <td>25</td>\n",
       "      <td>0</td>\n",
       "    </tr>\n",
       "    <tr>\n",
       "      <th>150000</th>\n",
       "      <td>24</td>\n",
       "      <td>0</td>\n",
       "    </tr>\n",
       "    <tr>\n",
       "      <th>130</th>\n",
       "      <td>16</td>\n",
       "      <td>19</td>\n",
       "    </tr>\n",
       "    <tr>\n",
       "      <th>26000</th>\n",
       "      <td>9</td>\n",
       "      <td>0</td>\n",
       "    </tr>\n",
       "  </tbody>\n",
       "</table>\n",
       "</div>"
      ],
      "text/plain": [
       "Is_Shortlisted      0     1\n",
       "Stipend2                   \n",
       "10000           17332  1969\n",
       "15000           13080  2114\n",
       "5000             9422  1587\n",
       "20000            7508  1018\n",
       "8000             5801   594\n",
       "12000            5140   781\n",
       "6000             4044   362\n",
       "25000            3161   496\n",
       "30000            2771   246\n",
       "7000             2624   335\n",
       "3000             1999   521\n",
       "4000             1674   546\n",
       "2000              887   254\n",
       "14000             795   108\n",
       "1500              765   203\n",
       "1000              719   208\n",
       "3500              699     7\n",
       "18000             574   133\n",
       "7500              463    43\n",
       "50000             314    13\n",
       "9000              266    23\n",
       "16000             209    44\n",
       "2500              203    61\n",
       "5500              171     0\n",
       "19000             146    31\n",
       "13000             143    15\n",
       "35000             138    38\n",
       "6500              137    48\n",
       "4500              106     9\n",
       "700                73     9\n",
       "11000              63     0\n",
       "15999              62     0\n",
       "800                45     4\n",
       "400                36     0\n",
       "75000              32    13\n",
       "5001               25     0\n",
       "150000             24     0\n",
       "130                16    19\n",
       "26000               9     0"
      ]
     },
     "execution_count": 16,
     "metadata": {},
     "output_type": "execute_result"
    }
   ],
   "source": [
    "train_merged.groupby(['Stipend2', 'Is_Shortlisted']).size().unstack(1).fillna(0).sort_values(by=0, ascending=False)"
   ]
  },
  {
   "cell_type": "code",
   "execution_count": 18,
   "metadata": {
    "collapsed": false
   },
   "outputs": [
    {
     "data": {
      "text/plain": [
       "variable       93315\n",
       "fixed          84740\n",
       "performance    12267\n",
       "unpaid          2260\n",
       "Name: Stipend_Type, dtype: int64"
      ]
     },
     "execution_count": 18,
     "metadata": {},
     "output_type": "execute_result"
    }
   ],
   "source": [
    "train_merged.Stipend_Type.value_counts()"
   ]
  },
  {
   "cell_type": "code",
   "execution_count": 20,
   "metadata": {
    "collapsed": false
   },
   "outputs": [
    {
     "data": {
      "text/html": [
       "<div>\n",
       "<table border=\"1\" class=\"dataframe\">\n",
       "  <thead>\n",
       "    <tr style=\"text-align: right;\">\n",
       "      <th>Is_Shortlisted</th>\n",
       "      <th>0</th>\n",
       "      <th>1</th>\n",
       "    </tr>\n",
       "    <tr>\n",
       "      <th>Stipend_Type</th>\n",
       "      <th></th>\n",
       "      <th></th>\n",
       "    </tr>\n",
       "  </thead>\n",
       "  <tbody>\n",
       "    <tr>\n",
       "      <th>fixed</th>\n",
       "      <td>75052</td>\n",
       "      <td>9688</td>\n",
       "    </tr>\n",
       "    <tr>\n",
       "      <th>performance</th>\n",
       "      <td>9840</td>\n",
       "      <td>2427</td>\n",
       "    </tr>\n",
       "    <tr>\n",
       "      <th>unpaid</th>\n",
       "      <td>1588</td>\n",
       "      <td>672</td>\n",
       "    </tr>\n",
       "    <tr>\n",
       "      <th>variable</th>\n",
       "      <td>81523</td>\n",
       "      <td>11792</td>\n",
       "    </tr>\n",
       "  </tbody>\n",
       "</table>\n",
       "</div>"
      ],
      "text/plain": [
       "Is_Shortlisted      0      1\n",
       "Stipend_Type                \n",
       "fixed           75052   9688\n",
       "performance      9840   2427\n",
       "unpaid           1588    672\n",
       "variable        81523  11792"
      ]
     },
     "execution_count": 20,
     "metadata": {},
     "output_type": "execute_result"
    }
   ],
   "source": [
    "train_merged.groupby(['Stipend_Type', 'Is_Shortlisted']).size().unstack(1)"
   ]
  },
  {
   "cell_type": "markdown",
   "metadata": {},
   "source": [
    "## Student Performance"
   ]
  },
  {
   "cell_type": "code",
   "execution_count": 21,
   "metadata": {
    "collapsed": false
   },
   "outputs": [
    {
     "data": {
      "text/plain": [
       "3                     57450\n",
       "already a graduate    40535\n",
       "2                     35703\n",
       "4                     33927\n",
       "1                     22348\n",
       "5                      2619\n",
       "Name: Current_year, dtype: int64"
      ]
     },
     "execution_count": 21,
     "metadata": {},
     "output_type": "execute_result"
    }
   ],
   "source": [
    "train_merged.Current_year.value_counts()"
   ]
  },
  {
   "cell_type": "code",
   "execution_count": 23,
   "metadata": {
    "collapsed": false
   },
   "outputs": [
    {
     "data": {
      "text/html": [
       "<div>\n",
       "<table border=\"1\" class=\"dataframe\">\n",
       "  <thead>\n",
       "    <tr style=\"text-align: right;\">\n",
       "      <th>Is_Shortlisted</th>\n",
       "      <th>0</th>\n",
       "      <th>1</th>\n",
       "    </tr>\n",
       "    <tr>\n",
       "      <th>Current_year</th>\n",
       "      <th></th>\n",
       "      <th></th>\n",
       "    </tr>\n",
       "  </thead>\n",
       "  <tbody>\n",
       "    <tr>\n",
       "      <th>1</th>\n",
       "      <td>18913</td>\n",
       "      <td>3435</td>\n",
       "    </tr>\n",
       "    <tr>\n",
       "      <th>2</th>\n",
       "      <td>30344</td>\n",
       "      <td>5359</td>\n",
       "    </tr>\n",
       "    <tr>\n",
       "      <th>3</th>\n",
       "      <td>50339</td>\n",
       "      <td>7111</td>\n",
       "    </tr>\n",
       "    <tr>\n",
       "      <th>4</th>\n",
       "      <td>30059</td>\n",
       "      <td>3868</td>\n",
       "    </tr>\n",
       "    <tr>\n",
       "      <th>5</th>\n",
       "      <td>2272</td>\n",
       "      <td>347</td>\n",
       "    </tr>\n",
       "    <tr>\n",
       "      <th>already a graduate</th>\n",
       "      <td>36076</td>\n",
       "      <td>4459</td>\n",
       "    </tr>\n",
       "  </tbody>\n",
       "</table>\n",
       "</div>"
      ],
      "text/plain": [
       "Is_Shortlisted          0     1\n",
       "Current_year                   \n",
       "1                   18913  3435\n",
       "2                   30344  5359\n",
       "3                   50339  7111\n",
       "4                   30059  3868\n",
       "5                    2272   347\n",
       "already a graduate  36076  4459"
      ]
     },
     "execution_count": 23,
     "metadata": {},
     "output_type": "execute_result"
    }
   ],
   "source": [
    "train_merged.groupby(['Current_year', 'Is_Shortlisted']).size().unstack(1)"
   ]
  },
  {
   "cell_type": "code",
   "execution_count": null,
   "metadata": {
    "collapsed": true
   },
   "outputs": [],
   "source": [
    "train_merged.U"
   ]
  },
  {
   "cell_type": "code",
   "execution_count": null,
   "metadata": {
    "collapsed": false
   },
   "outputs": [],
   "source": [
    "def fix_percentage(row):\n",
    "    percentage = row['Performance_UG']\n",
    "\n",
    "    if row['UG_Scale'] == 100:\n",
    "        percentage  /= 10\n",
    "    \n",
    "    return percentage\n",
    "\n",
    "train_merged.loc[:, 'Performance_UG'] = train_merged.apply(fix_percentage, axis=1)"
   ]
  },
  {
   "cell_type": "code",
   "execution_count": null,
   "metadata": {
    "collapsed": true
   },
   "outputs": [],
   "source": [
    "train_merged"
   ]
  },
  {
   "cell_type": "code",
   "execution_count": 32,
   "metadata": {
    "collapsed": false
   },
   "outputs": [
    {
     "data": {
      "text/html": [
       "<div>\n",
       "<table border=\"1\" class=\"dataframe\">\n",
       "  <thead>\n",
       "    <tr style=\"text-align: right;\">\n",
       "      <th>Is_Shortlisted</th>\n",
       "      <th>0</th>\n",
       "      <th>1</th>\n",
       "    </tr>\n",
       "    <tr>\n",
       "      <th>Performance_12th</th>\n",
       "      <th></th>\n",
       "      <th></th>\n",
       "    </tr>\n",
       "  </thead>\n",
       "  <tbody>\n",
       "    <tr>\n",
       "      <th>70.00</th>\n",
       "      <td>3980</td>\n",
       "      <td>589</td>\n",
       "    </tr>\n",
       "    <tr>\n",
       "      <th>80.00</th>\n",
       "      <td>3015</td>\n",
       "      <td>466</td>\n",
       "    </tr>\n",
       "    <tr>\n",
       "      <th>60.00</th>\n",
       "      <td>4167</td>\n",
       "      <td>463</td>\n",
       "    </tr>\n",
       "    <tr>\n",
       "      <th>78.00</th>\n",
       "      <td>2736</td>\n",
       "      <td>454</td>\n",
       "    </tr>\n",
       "    <tr>\n",
       "      <th>72.00</th>\n",
       "      <td>2708</td>\n",
       "      <td>433</td>\n",
       "    </tr>\n",
       "    <tr>\n",
       "      <th>75.00</th>\n",
       "      <td>3037</td>\n",
       "      <td>425</td>\n",
       "    </tr>\n",
       "    <tr>\n",
       "      <th>86.00</th>\n",
       "      <td>2169</td>\n",
       "      <td>421</td>\n",
       "    </tr>\n",
       "    <tr>\n",
       "      <th>82.00</th>\n",
       "      <td>2146</td>\n",
       "      <td>402</td>\n",
       "    </tr>\n",
       "    <tr>\n",
       "      <th>85.00</th>\n",
       "      <td>2368</td>\n",
       "      <td>399</td>\n",
       "    </tr>\n",
       "    <tr>\n",
       "      <th>90.00</th>\n",
       "      <td>1934</td>\n",
       "      <td>384</td>\n",
       "    </tr>\n",
       "    <tr>\n",
       "      <th>83.00</th>\n",
       "      <td>2327</td>\n",
       "      <td>362</td>\n",
       "    </tr>\n",
       "    <tr>\n",
       "      <th>65.00</th>\n",
       "      <td>2728</td>\n",
       "      <td>347</td>\n",
       "    </tr>\n",
       "    <tr>\n",
       "      <th>68.00</th>\n",
       "      <td>2524</td>\n",
       "      <td>345</td>\n",
       "    </tr>\n",
       "    <tr>\n",
       "      <th>89.00</th>\n",
       "      <td>1760</td>\n",
       "      <td>345</td>\n",
       "    </tr>\n",
       "    <tr>\n",
       "      <th>84.00</th>\n",
       "      <td>2225</td>\n",
       "      <td>340</td>\n",
       "    </tr>\n",
       "    <tr>\n",
       "      <th>88.00</th>\n",
       "      <td>1999</td>\n",
       "      <td>337</td>\n",
       "    </tr>\n",
       "    <tr>\n",
       "      <th>91.00</th>\n",
       "      <td>1894</td>\n",
       "      <td>331</td>\n",
       "    </tr>\n",
       "    <tr>\n",
       "      <th>92.00</th>\n",
       "      <td>1488</td>\n",
       "      <td>309</td>\n",
       "    </tr>\n",
       "    <tr>\n",
       "      <th>76.00</th>\n",
       "      <td>2148</td>\n",
       "      <td>302</td>\n",
       "    </tr>\n",
       "    <tr>\n",
       "      <th>87.00</th>\n",
       "      <td>1686</td>\n",
       "      <td>300</td>\n",
       "    </tr>\n",
       "    <tr>\n",
       "      <th>94.00</th>\n",
       "      <td>1371</td>\n",
       "      <td>291</td>\n",
       "    </tr>\n",
       "    <tr>\n",
       "      <th>77.00</th>\n",
       "      <td>1811</td>\n",
       "      <td>280</td>\n",
       "    </tr>\n",
       "    <tr>\n",
       "      <th>69.00</th>\n",
       "      <td>2033</td>\n",
       "      <td>279</td>\n",
       "    </tr>\n",
       "    <tr>\n",
       "      <th>95.00</th>\n",
       "      <td>1280</td>\n",
       "      <td>276</td>\n",
       "    </tr>\n",
       "    <tr>\n",
       "      <th>81.00</th>\n",
       "      <td>1728</td>\n",
       "      <td>253</td>\n",
       "    </tr>\n",
       "    <tr>\n",
       "      <th>74.00</th>\n",
       "      <td>1933</td>\n",
       "      <td>243</td>\n",
       "    </tr>\n",
       "    <tr>\n",
       "      <th>67.00</th>\n",
       "      <td>1812</td>\n",
       "      <td>233</td>\n",
       "    </tr>\n",
       "    <tr>\n",
       "      <th>62.00</th>\n",
       "      <td>1995</td>\n",
       "      <td>232</td>\n",
       "    </tr>\n",
       "    <tr>\n",
       "      <th>66.00</th>\n",
       "      <td>1661</td>\n",
       "      <td>229</td>\n",
       "    </tr>\n",
       "    <tr>\n",
       "      <th>73.00</th>\n",
       "      <td>1589</td>\n",
       "      <td>226</td>\n",
       "    </tr>\n",
       "    <tr>\n",
       "      <th>...</th>\n",
       "      <td>...</td>\n",
       "      <td>...</td>\n",
       "    </tr>\n",
       "    <tr>\n",
       "      <th>67.56</th>\n",
       "      <td>1</td>\n",
       "      <td>0</td>\n",
       "    </tr>\n",
       "    <tr>\n",
       "      <th>67.54</th>\n",
       "      <td>2</td>\n",
       "      <td>0</td>\n",
       "    </tr>\n",
       "    <tr>\n",
       "      <th>67.46</th>\n",
       "      <td>3</td>\n",
       "      <td>0</td>\n",
       "    </tr>\n",
       "    <tr>\n",
       "      <th>67.45</th>\n",
       "      <td>1</td>\n",
       "      <td>0</td>\n",
       "    </tr>\n",
       "    <tr>\n",
       "      <th>68.19</th>\n",
       "      <td>2</td>\n",
       "      <td>0</td>\n",
       "    </tr>\n",
       "    <tr>\n",
       "      <th>68.22</th>\n",
       "      <td>3</td>\n",
       "      <td>0</td>\n",
       "    </tr>\n",
       "    <tr>\n",
       "      <th>68.23</th>\n",
       "      <td>4</td>\n",
       "      <td>0</td>\n",
       "    </tr>\n",
       "    <tr>\n",
       "      <th>68.31</th>\n",
       "      <td>4</td>\n",
       "      <td>0</td>\n",
       "    </tr>\n",
       "    <tr>\n",
       "      <th>69.19</th>\n",
       "      <td>1</td>\n",
       "      <td>0</td>\n",
       "    </tr>\n",
       "    <tr>\n",
       "      <th>69.18</th>\n",
       "      <td>4</td>\n",
       "      <td>0</td>\n",
       "    </tr>\n",
       "    <tr>\n",
       "      <th>69.13</th>\n",
       "      <td>6</td>\n",
       "      <td>0</td>\n",
       "    </tr>\n",
       "    <tr>\n",
       "      <th>69.10</th>\n",
       "      <td>9</td>\n",
       "      <td>0</td>\n",
       "    </tr>\n",
       "    <tr>\n",
       "      <th>69.08</th>\n",
       "      <td>5</td>\n",
       "      <td>0</td>\n",
       "    </tr>\n",
       "    <tr>\n",
       "      <th>69.04</th>\n",
       "      <td>2</td>\n",
       "      <td>0</td>\n",
       "    </tr>\n",
       "    <tr>\n",
       "      <th>69.03</th>\n",
       "      <td>2</td>\n",
       "      <td>0</td>\n",
       "    </tr>\n",
       "    <tr>\n",
       "      <th>68.88</th>\n",
       "      <td>3</td>\n",
       "      <td>0</td>\n",
       "    </tr>\n",
       "    <tr>\n",
       "      <th>68.87</th>\n",
       "      <td>2</td>\n",
       "      <td>0</td>\n",
       "    </tr>\n",
       "    <tr>\n",
       "      <th>68.85</th>\n",
       "      <td>14</td>\n",
       "      <td>0</td>\n",
       "    </tr>\n",
       "    <tr>\n",
       "      <th>68.75</th>\n",
       "      <td>8</td>\n",
       "      <td>0</td>\n",
       "    </tr>\n",
       "    <tr>\n",
       "      <th>68.71</th>\n",
       "      <td>8</td>\n",
       "      <td>0</td>\n",
       "    </tr>\n",
       "    <tr>\n",
       "      <th>68.69</th>\n",
       "      <td>7</td>\n",
       "      <td>0</td>\n",
       "    </tr>\n",
       "    <tr>\n",
       "      <th>68.66</th>\n",
       "      <td>5</td>\n",
       "      <td>0</td>\n",
       "    </tr>\n",
       "    <tr>\n",
       "      <th>68.63</th>\n",
       "      <td>8</td>\n",
       "      <td>0</td>\n",
       "    </tr>\n",
       "    <tr>\n",
       "      <th>68.62</th>\n",
       "      <td>4</td>\n",
       "      <td>0</td>\n",
       "    </tr>\n",
       "    <tr>\n",
       "      <th>68.58</th>\n",
       "      <td>1</td>\n",
       "      <td>0</td>\n",
       "    </tr>\n",
       "    <tr>\n",
       "      <th>68.53</th>\n",
       "      <td>2</td>\n",
       "      <td>0</td>\n",
       "    </tr>\n",
       "    <tr>\n",
       "      <th>68.48</th>\n",
       "      <td>1</td>\n",
       "      <td>0</td>\n",
       "    </tr>\n",
       "    <tr>\n",
       "      <th>68.46</th>\n",
       "      <td>2</td>\n",
       "      <td>0</td>\n",
       "    </tr>\n",
       "    <tr>\n",
       "      <th>68.34</th>\n",
       "      <td>1</td>\n",
       "      <td>0</td>\n",
       "    </tr>\n",
       "    <tr>\n",
       "      <th>100.00</th>\n",
       "      <td>9</td>\n",
       "      <td>0</td>\n",
       "    </tr>\n",
       "  </tbody>\n",
       "</table>\n",
       "<p>2566 rows × 2 columns</p>\n",
       "</div>"
      ],
      "text/plain": [
       "Is_Shortlisted       0    1\n",
       "Performance_12th           \n",
       "70.00             3980  589\n",
       "80.00             3015  466\n",
       "60.00             4167  463\n",
       "78.00             2736  454\n",
       "72.00             2708  433\n",
       "75.00             3037  425\n",
       "86.00             2169  421\n",
       "82.00             2146  402\n",
       "85.00             2368  399\n",
       "90.00             1934  384\n",
       "83.00             2327  362\n",
       "65.00             2728  347\n",
       "68.00             2524  345\n",
       "89.00             1760  345\n",
       "84.00             2225  340\n",
       "88.00             1999  337\n",
       "91.00             1894  331\n",
       "92.00             1488  309\n",
       "76.00             2148  302\n",
       "87.00             1686  300\n",
       "94.00             1371  291\n",
       "77.00             1811  280\n",
       "69.00             2033  279\n",
       "95.00             1280  276\n",
       "81.00             1728  253\n",
       "74.00             1933  243\n",
       "67.00             1812  233\n",
       "62.00             1995  232\n",
       "66.00             1661  229\n",
       "73.00             1589  226\n",
       "...                ...  ...\n",
       "67.56                1    0\n",
       "67.54                2    0\n",
       "67.46                3    0\n",
       "67.45                1    0\n",
       "68.19                2    0\n",
       "68.22                3    0\n",
       "68.23                4    0\n",
       "68.31                4    0\n",
       "69.19                1    0\n",
       "69.18                4    0\n",
       "69.13                6    0\n",
       "69.10                9    0\n",
       "69.08                5    0\n",
       "69.04                2    0\n",
       "69.03                2    0\n",
       "68.88                3    0\n",
       "68.87                2    0\n",
       "68.85               14    0\n",
       "68.75                8    0\n",
       "68.71                8    0\n",
       "68.69                7    0\n",
       "68.66                5    0\n",
       "68.63                8    0\n",
       "68.62                4    0\n",
       "68.58                1    0\n",
       "68.53                2    0\n",
       "68.48                1    0\n",
       "68.46                2    0\n",
       "68.34                1    0\n",
       "100.00               9    0\n",
       "\n",
       "[2566 rows x 2 columns]"
      ]
     },
     "execution_count": 32,
     "metadata": {},
     "output_type": "execute_result"
    }
   ],
   "source": [
    "train_merged.groupby(['Performance_12th', 'Is_Shortlisted']).size().unstack(1).fillna(0).sort_values(by=1, ascending=False)"
   ]
  },
  {
   "cell_type": "code",
   "execution_count": null,
   "metadata": {
    "collapsed": true
   },
   "outputs": [],
   "source": []
  },
  {
   "cell_type": "markdown",
   "metadata": {},
   "source": [
    "## Internship skills required"
   ]
  },
  {
   "cell_type": "code",
   "execution_count": 39,
   "metadata": {
    "collapsed": false
   },
   "outputs": [],
   "source": [
    "train_merged.loc[:, 'Skills_required'] = train_merged.Skills_required.fillna('-1')\n",
    "train_merged.loc[:, 'Num_Skills_Required'] = train_merged.Skills_required.map(lambda x: len(x.split(',')))"
   ]
  },
  {
   "cell_type": "code",
   "execution_count": 42,
   "metadata": {
    "collapsed": false
   },
   "outputs": [
    {
     "data": {
      "text/html": [
       "<div>\n",
       "<table border=\"1\" class=\"dataframe\">\n",
       "  <thead>\n",
       "    <tr style=\"text-align: right;\">\n",
       "      <th>Is_Shortlisted</th>\n",
       "      <th>0</th>\n",
       "      <th>1</th>\n",
       "    </tr>\n",
       "    <tr>\n",
       "      <th>Num_Skills_Required</th>\n",
       "      <th></th>\n",
       "      <th></th>\n",
       "    </tr>\n",
       "  </thead>\n",
       "  <tbody>\n",
       "    <tr>\n",
       "      <th>1</th>\n",
       "      <td>149317</td>\n",
       "      <td>20748</td>\n",
       "    </tr>\n",
       "    <tr>\n",
       "      <th>3</th>\n",
       "      <td>3598</td>\n",
       "      <td>1000</td>\n",
       "    </tr>\n",
       "    <tr>\n",
       "      <th>2</th>\n",
       "      <td>3995</td>\n",
       "      <td>845</td>\n",
       "    </tr>\n",
       "    <tr>\n",
       "      <th>4</th>\n",
       "      <td>3869</td>\n",
       "      <td>602</td>\n",
       "    </tr>\n",
       "    <tr>\n",
       "      <th>5</th>\n",
       "      <td>2580</td>\n",
       "      <td>361</td>\n",
       "    </tr>\n",
       "    <tr>\n",
       "      <th>6</th>\n",
       "      <td>1328</td>\n",
       "      <td>291</td>\n",
       "    </tr>\n",
       "    <tr>\n",
       "      <th>8</th>\n",
       "      <td>850</td>\n",
       "      <td>163</td>\n",
       "    </tr>\n",
       "    <tr>\n",
       "      <th>9</th>\n",
       "      <td>292</td>\n",
       "      <td>151</td>\n",
       "    </tr>\n",
       "    <tr>\n",
       "      <th>12</th>\n",
       "      <td>364</td>\n",
       "      <td>123</td>\n",
       "    </tr>\n",
       "    <tr>\n",
       "      <th>7</th>\n",
       "      <td>579</td>\n",
       "      <td>82</td>\n",
       "    </tr>\n",
       "    <tr>\n",
       "      <th>21</th>\n",
       "      <td>99</td>\n",
       "      <td>36</td>\n",
       "    </tr>\n",
       "    <tr>\n",
       "      <th>10</th>\n",
       "      <td>197</td>\n",
       "      <td>35</td>\n",
       "    </tr>\n",
       "    <tr>\n",
       "      <th>34</th>\n",
       "      <td>NaN</td>\n",
       "      <td>32</td>\n",
       "    </tr>\n",
       "    <tr>\n",
       "      <th>20</th>\n",
       "      <td>10</td>\n",
       "      <td>31</td>\n",
       "    </tr>\n",
       "    <tr>\n",
       "      <th>30</th>\n",
       "      <td>17</td>\n",
       "      <td>31</td>\n",
       "    </tr>\n",
       "    <tr>\n",
       "      <th>60</th>\n",
       "      <td>60</td>\n",
       "      <td>27</td>\n",
       "    </tr>\n",
       "    <tr>\n",
       "      <th>53</th>\n",
       "      <td>263</td>\n",
       "      <td>13</td>\n",
       "    </tr>\n",
       "    <tr>\n",
       "      <th>18</th>\n",
       "      <td>16</td>\n",
       "      <td>6</td>\n",
       "    </tr>\n",
       "    <tr>\n",
       "      <th>16</th>\n",
       "      <td>98</td>\n",
       "      <td>2</td>\n",
       "    </tr>\n",
       "    <tr>\n",
       "      <th>14</th>\n",
       "      <td>15</td>\n",
       "      <td>NaN</td>\n",
       "    </tr>\n",
       "    <tr>\n",
       "      <th>25</th>\n",
       "      <td>358</td>\n",
       "      <td>NaN</td>\n",
       "    </tr>\n",
       "    <tr>\n",
       "      <th>35</th>\n",
       "      <td>95</td>\n",
       "      <td>NaN</td>\n",
       "    </tr>\n",
       "    <tr>\n",
       "      <th>40</th>\n",
       "      <td>3</td>\n",
       "      <td>NaN</td>\n",
       "    </tr>\n",
       "  </tbody>\n",
       "</table>\n",
       "</div>"
      ],
      "text/plain": [
       "Is_Shortlisted            0      1\n",
       "Num_Skills_Required               \n",
       "1                    149317  20748\n",
       "3                      3598   1000\n",
       "2                      3995    845\n",
       "4                      3869    602\n",
       "5                      2580    361\n",
       "6                      1328    291\n",
       "8                       850    163\n",
       "9                       292    151\n",
       "12                      364    123\n",
       "7                       579     82\n",
       "21                       99     36\n",
       "10                      197     35\n",
       "34                      NaN     32\n",
       "20                       10     31\n",
       "30                       17     31\n",
       "60                       60     27\n",
       "53                      263     13\n",
       "18                       16      6\n",
       "16                       98      2\n",
       "14                       15    NaN\n",
       "25                      358    NaN\n",
       "35                       95    NaN\n",
       "40                        3    NaN"
      ]
     },
     "execution_count": 42,
     "metadata": {},
     "output_type": "execute_result"
    }
   ],
   "source": [
    "train_merged.groupby(['Num_Skills_Required', 'Is_Shortlisted']).size().unstack(1).sort_values(by=1, ascending=False)"
   ]
  },
  {
   "cell_type": "markdown",
   "metadata": {},
   "source": [
    "## Internship id vs Shortlist"
   ]
  },
  {
   "cell_type": "code",
   "execution_count": null,
   "metadata": {
    "collapsed": false
   },
   "outputs": [],
   "source": [
    "rel_internship_id = train.groupby(['Internship_ID', 'Is_Shortlisted']).size()\n",
    "rel_internship_id = rel_internship_id.unstack(1).fillna(0)\n",
    "rel_internship_id.plot();"
   ]
  },
  {
   "cell_type": "markdown",
   "metadata": {},
   "source": [
    "### Relationship between Expected Stipend and whether intern was shortlisted or not"
   ]
  },
  {
   "cell_type": "code",
   "execution_count": null,
   "metadata": {
    "collapsed": false
   },
   "outputs": [],
   "source": [
    "train.groupby(['Expected_Stipend', 'Is_Shortlisted']).size()"
   ]
  },
  {
   "cell_type": "markdown",
   "metadata": {},
   "source": [
    "### Does preferred location has any effect whether one would be shortlisted for internship ?"
   ]
  },
  {
   "cell_type": "code",
   "execution_count": null,
   "metadata": {
    "collapsed": false
   },
   "outputs": [],
   "source": [
    "train.columns"
   ]
  },
  {
   "cell_type": "code",
   "execution_count": null,
   "metadata": {
    "collapsed": false
   },
   "outputs": [],
   "source": [
    "preferred_location = train.groupby(['Preferred_location', 'Is_Shortlisted']).size()\n",
    "preferred_location = preferred_location.unstack(1).fillna(0)\n",
    "preferred_location.plot();"
   ]
  },
  {
   "cell_type": "markdown",
   "metadata": {},
   "source": [
    "## Crosstabulation between Is_Part_Time and Is_Shortlisted"
   ]
  },
  {
   "cell_type": "code",
   "execution_count": null,
   "metadata": {
    "collapsed": false
   },
   "outputs": [],
   "source": [
    "pd.crosstab(train.Is_Part_Time, train.Is_Shortlisted)"
   ]
  },
  {
   "cell_type": "markdown",
   "metadata": {},
   "source": []
  },
  {
   "cell_type": "code",
   "execution_count": null,
   "metadata": {
    "collapsed": false
   },
   "outputs": [],
   "source": [
    "min_duration = train.groupby(['Minimum_Duration', 'Is_Shortlisted']).size()\n",
    "min_duration = min_duration.unstack(1)\n",
    "min_duration.plot();"
   ]
  },
  {
   "cell_type": "code",
   "execution_count": null,
   "metadata": {
    "collapsed": false
   },
   "outputs": [],
   "source": [
    "min_duration.cumsum().plot();"
   ]
  },
  {
   "cell_type": "markdown",
   "metadata": {},
   "source": [
    "## Merge training data with student data"
   ]
  },
  {
   "cell_type": "code",
   "execution_count": null,
   "metadata": {
    "collapsed": true
   },
   "outputs": [],
   "source": [
    "train_student = pd.merge(train, students, how='left', on='Student_ID')\n",
    "test_student = pd.merge(test, students, how='left', on='Student_ID')"
   ]
  },
  {
   "cell_type": "markdown",
   "metadata": {},
   "source": [
    "### Year of Graduation"
   ]
  },
  {
   "cell_type": "code",
   "execution_count": null,
   "metadata": {
    "collapsed": false
   },
   "outputs": [],
   "source": [
    "byYear = train_student.groupby(['Year_of_graduation', 'Is_Shortlisted']).size()\n",
    "byYear.head()"
   ]
  },
  {
   "cell_type": "code",
   "execution_count": null,
   "metadata": {
    "collapsed": false
   },
   "outputs": [],
   "source": [
    "train_student.pivot_table(index='Year_of_graduation', columns='Is_Shortlisted', aggfunc='count')"
   ]
  },
  {
   "cell_type": "code",
   "execution_count": null,
   "metadata": {
    "collapsed": false
   },
   "outputs": [],
   "source": [
    "list(students.columns)"
   ]
  },
  {
   "cell_type": "code",
   "execution_count": null,
   "metadata": {
    "collapsed": false
   },
   "outputs": [],
   "source": [
    "train_student.groupby(['Institute_Category', 'Is_Shortlisted']).size()"
   ]
  },
  {
   "cell_type": "markdown",
   "metadata": {
    "collapsed": true
   },
   "source": [
    "## Merge with internship data"
   ]
  },
  {
   "cell_type": "code",
   "execution_count": null,
   "metadata": {
    "collapsed": true
   },
   "outputs": [],
   "source": [
    "train_with_internship = pd.merge(train, internship, how='left', on='Internship_ID')"
   ]
  },
  {
   "cell_type": "code",
   "execution_count": null,
   "metadata": {
    "collapsed": false
   },
   "outputs": [],
   "source": [
    "train_with_internship.groupby(['No_of_openings', 'Is_Shortlisted']).size().unstack(1).plot();"
   ]
  },
  {
   "cell_type": "code",
   "execution_count": null,
   "metadata": {
    "collapsed": false
   },
   "outputs": [],
   "source": [
    "train_with_internship.groupby(['Internship_Type', 'Is_Shortlisted']).size().unstack(1).plot();"
   ]
  },
  {
   "cell_type": "code",
   "execution_count": null,
   "metadata": {
    "collapsed": false,
    "scrolled": true
   },
   "outputs": [],
   "source": [
    "train_with_internship.groupby(['Stipend_Type', 'Is_Shortlisted']).size().unstack(1).plot();"
   ]
  },
  {
   "cell_type": "code",
   "execution_count": null,
   "metadata": {
    "collapsed": false
   },
   "outputs": [],
   "source": [
    "student_cleaned = students.groupby('Student_ID').first()"
   ]
  },
  {
   "cell_type": "code",
   "execution_count": null,
   "metadata": {
    "collapsed": false
   },
   "outputs": [],
   "source": [
    "student_cleaned = student_cleaned.reset_index()"
   ]
  },
  {
   "cell_type": "code",
   "execution_count": null,
   "metadata": {
    "collapsed": false
   },
   "outputs": [],
   "source": [
    "train_with_student = pd.merge(train, student_cleaned, on='Student_ID', how='left')"
   ]
  },
  {
   "cell_type": "code",
   "execution_count": null,
   "metadata": {
    "collapsed": false
   },
   "outputs": [],
   "source": [
    "train_with_student.shape"
   ]
  },
  {
   "cell_type": "code",
   "execution_count": null,
   "metadata": {
    "collapsed": false
   },
   "outputs": [],
   "source": [
    "train_with_student = train_with_student.dropna(axis=1)\n",
    "train_with_student.select_dtypes(include=['object']).columns"
   ]
  },
  {
   "cell_type": "code",
   "execution_count": null,
   "metadata": {
    "collapsed": true
   },
   "outputs": [],
   "source": []
  },
  {
   "cell_type": "code",
   "execution_count": null,
   "metadata": {
    "collapsed": true
   },
   "outputs": [],
   "source": []
  },
  {
   "cell_type": "code",
   "execution_count": null,
   "metadata": {
    "collapsed": true
   },
   "outputs": [],
   "source": []
  },
  {
   "cell_type": "code",
   "execution_count": null,
   "metadata": {
    "collapsed": true
   },
   "outputs": [],
   "source": []
  }
 ],
 "metadata": {
  "kernelspec": {
   "display_name": "Python 2",
   "language": "python",
   "name": "python2"
  },
  "language_info": {
   "codemirror_mode": {
    "name": "ipython",
    "version": 2
   },
   "file_extension": ".py",
   "mimetype": "text/x-python",
   "name": "python",
   "nbconvert_exporter": "python",
   "pygments_lexer": "ipython2",
   "version": "2.7.11"
  }
 },
 "nbformat": 4,
 "nbformat_minor": 0
}
