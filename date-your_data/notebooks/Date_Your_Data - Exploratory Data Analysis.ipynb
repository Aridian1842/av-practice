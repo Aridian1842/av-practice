{
 "cells": [
  {
   "cell_type": "code",
   "execution_count": 1,
   "metadata": {
    "collapsed": false
   },
   "outputs": [
    {
     "name": "stderr",
     "output_type": "stream",
     "text": [
      "C:\\Users\\Abhishek\\Anaconda2\\lib\\site-packages\\matplotlib\\__init__.py:872: UserWarning: axes.color_cycle is deprecated and replaced with axes.prop_cycle; please use the latter.\n",
      "  warnings.warn(self.msg_depr % (key, alt_key))\n"
     ]
    }
   ],
   "source": [
    "import numpy as np\n",
    "import pandas as pd\n",
    "\n",
    "import matplotlib.pyplot as plt\n",
    "import seaborn as sns\n",
    "\n",
    "import warnings\n",
    "warnings.filterwarnings('ignore')\n",
    "\n",
    "%matplotlib inline"
   ]
  },
  {
   "cell_type": "code",
   "execution_count": 2,
   "metadata": {
    "collapsed": true
   },
   "outputs": [],
   "source": [
    "date_columns = ['Internship_deadline', 'Earliest_Start_Date', 'Start Date', \n",
    "                'End Date', 'Start_Date']\n",
    "\n",
    "train_merged = pd.read_csv('../data/train_merged.csv', parse_dates=date_columns)\n",
    "test_merged = pd.read_csv('../data/test_merged.csv', parse_dates=date_columns)"
   ]
  },
  {
   "cell_type": "code",
   "execution_count": 4,
   "metadata": {
    "collapsed": false
   },
   "outputs": [
    {
     "data": {
      "text/html": [
       "<div>\n",
       "<table border=\"1\" class=\"dataframe\">\n",
       "  <thead>\n",
       "    <tr style=\"text-align: right;\">\n",
       "      <th></th>\n",
       "      <th>Variable_Name</th>\n",
       "      <th>Definition</th>\n",
       "    </tr>\n",
       "  </thead>\n",
       "  <tbody>\n",
       "    <tr>\n",
       "      <th>0</th>\n",
       "      <td>Internship_ID</td>\n",
       "      <td>Internship_ID; Each internship has a unique id...</td>\n",
       "    </tr>\n",
       "    <tr>\n",
       "      <th>1</th>\n",
       "      <td>Student_ID</td>\n",
       "      <td>Student_ID - unique for each student</td>\n",
       "    </tr>\n",
       "    <tr>\n",
       "      <th>2</th>\n",
       "      <td>Earliest_Start_Date</td>\n",
       "      <td>Earliest date student can start their Internship</td>\n",
       "    </tr>\n",
       "    <tr>\n",
       "      <th>3</th>\n",
       "      <td>Expected_Stipend</td>\n",
       "      <td>Expected stipend by student</td>\n",
       "    </tr>\n",
       "    <tr>\n",
       "      <th>4</th>\n",
       "      <td>Minimum_Duration</td>\n",
       "      <td>Months students is available for Internship</td>\n",
       "    </tr>\n",
       "  </tbody>\n",
       "</table>\n",
       "</div>"
      ],
      "text/plain": [
       "         Variable_Name                                         Definition\n",
       "0        Internship_ID  Internship_ID; Each internship has a unique id...\n",
       "1           Student_ID               Student_ID - unique for each student\n",
       "2  Earliest_Start_Date   Earliest date student can start their Internship\n",
       "3     Expected_Stipend                        Expected stipend by student\n",
       "4     Minimum_Duration        Months students is available for Internship"
      ]
     },
     "execution_count": 4,
     "metadata": {},
     "output_type": "execute_result"
    }
   ],
   "source": [
    "data_dictionary = pd.read_excel('../data/Data_Dictionary.xlsx'); data_dictionary.head()"
   ]
  },
  {
   "cell_type": "markdown",
   "metadata": {},
   "source": [
    "## Training dataset"
   ]
  },
  {
   "cell_type": "code",
   "execution_count": 5,
   "metadata": {
    "collapsed": false
   },
   "outputs": [
    {
     "data": {
      "text/html": [
       "<div>\n",
       "<table border=\"1\" class=\"dataframe\">\n",
       "  <thead>\n",
       "    <tr style=\"text-align: right;\">\n",
       "      <th></th>\n",
       "      <th>Internship_ID</th>\n",
       "      <th>Student_ID</th>\n",
       "      <th>Earliest_Start_Date</th>\n",
       "      <th>Expected_Stipend</th>\n",
       "      <th>Minimum_Duration</th>\n",
       "      <th>Preferred_location</th>\n",
       "      <th>Is_Part_Time</th>\n",
       "      <th>Is_Shortlisted</th>\n",
       "      <th>Internship_Profile</th>\n",
       "      <th>Skills_required</th>\n",
       "      <th>...</th>\n",
       "      <th>Performance_10th</th>\n",
       "      <th>Experience_Type</th>\n",
       "      <th>Profile</th>\n",
       "      <th>Location</th>\n",
       "      <th>Start Date</th>\n",
       "      <th>End Date</th>\n",
       "      <th>num_experience</th>\n",
       "      <th>num_exp_in_job</th>\n",
       "      <th>num_awards</th>\n",
       "      <th>num_previous_internships</th>\n",
       "    </tr>\n",
       "  </thead>\n",
       "  <tbody>\n",
       "    <tr>\n",
       "      <th>0</th>\n",
       "      <td>8161</td>\n",
       "      <td>78663553</td>\n",
       "      <td>2015-01-03</td>\n",
       "      <td>2-5K</td>\n",
       "      <td>3</td>\n",
       "      <td>NaN</td>\n",
       "      <td>0</td>\n",
       "      <td>0</td>\n",
       "      <td>Voice Over Movie</td>\n",
       "      <td>NaN</td>\n",
       "      <td>...</td>\n",
       "      <td>80.4</td>\n",
       "      <td>internship</td>\n",
       "      <td>About C</td>\n",
       "      <td>JBEI</td>\n",
       "      <td>2013-08-01</td>\n",
       "      <td>2013-08-02</td>\n",
       "      <td>1</td>\n",
       "      <td>0</td>\n",
       "      <td>0</td>\n",
       "      <td>1</td>\n",
       "    </tr>\n",
       "    <tr>\n",
       "      <th>1</th>\n",
       "      <td>4977</td>\n",
       "      <td>7695797</td>\n",
       "      <td>2014-12-19</td>\n",
       "      <td>5-10K</td>\n",
       "      <td>2</td>\n",
       "      <td>IHFG</td>\n",
       "      <td>1</td>\n",
       "      <td>0</td>\n",
       "      <td>Social Media Marketing &amp; Design</td>\n",
       "      <td>NaN</td>\n",
       "      <td>...</td>\n",
       "      <td>82.0</td>\n",
       "      <td>NaN</td>\n",
       "      <td>NaN</td>\n",
       "      <td>IIGB</td>\n",
       "      <td>NaT</td>\n",
       "      <td>NaT</td>\n",
       "      <td>1</td>\n",
       "      <td>0</td>\n",
       "      <td>0</td>\n",
       "      <td>0</td>\n",
       "    </tr>\n",
       "    <tr>\n",
       "      <th>2</th>\n",
       "      <td>10271</td>\n",
       "      <td>78663092</td>\n",
       "      <td>2015-01-06</td>\n",
       "      <td>5-10K</td>\n",
       "      <td>6</td>\n",
       "      <td>NaN</td>\n",
       "      <td>0</td>\n",
       "      <td>0</td>\n",
       "      <td>Java Development</td>\n",
       "      <td>NaN</td>\n",
       "      <td>...</td>\n",
       "      <td>81.4</td>\n",
       "      <td>academic_project</td>\n",
       "      <td>NaN</td>\n",
       "      <td>JBEI</td>\n",
       "      <td>2014-11-01</td>\n",
       "      <td>2014-02-05</td>\n",
       "      <td>5</td>\n",
       "      <td>0</td>\n",
       "      <td>0</td>\n",
       "      <td>0</td>\n",
       "    </tr>\n",
       "    <tr>\n",
       "      <th>3</th>\n",
       "      <td>7393</td>\n",
       "      <td>7708503</td>\n",
       "      <td>2014-12-03</td>\n",
       "      <td>2-5K</td>\n",
       "      <td>1</td>\n",
       "      <td>IHFG</td>\n",
       "      <td>0</td>\n",
       "      <td>0</td>\n",
       "      <td>Fashion Curator</td>\n",
       "      <td>NaN</td>\n",
       "      <td>...</td>\n",
       "      <td>91.0</td>\n",
       "      <td>NaN</td>\n",
       "      <td>NaN</td>\n",
       "      <td>IIGB</td>\n",
       "      <td>NaT</td>\n",
       "      <td>NaT</td>\n",
       "      <td>1</td>\n",
       "      <td>0</td>\n",
       "      <td>0</td>\n",
       "      <td>0</td>\n",
       "    </tr>\n",
       "    <tr>\n",
       "      <th>4</th>\n",
       "      <td>11125</td>\n",
       "      <td>78659782</td>\n",
       "      <td>2015-01-02</td>\n",
       "      <td>10K+</td>\n",
       "      <td>6</td>\n",
       "      <td>NaN</td>\n",
       "      <td>1</td>\n",
       "      <td>0</td>\n",
       "      <td>Business Development</td>\n",
       "      <td>Communication,Business Development (Sales)</td>\n",
       "      <td>...</td>\n",
       "      <td>50.0</td>\n",
       "      <td>NaN</td>\n",
       "      <td>NaN</td>\n",
       "      <td>IIGB</td>\n",
       "      <td>NaT</td>\n",
       "      <td>NaT</td>\n",
       "      <td>1</td>\n",
       "      <td>0</td>\n",
       "      <td>0</td>\n",
       "      <td>0</td>\n",
       "    </tr>\n",
       "  </tbody>\n",
       "</table>\n",
       "<p>5 rows × 315 columns</p>\n",
       "</div>"
      ],
      "text/plain": [
       "   Internship_ID  Student_ID Earliest_Start_Date Expected_Stipend  \\\n",
       "0           8161    78663553          2015-01-03             2-5K   \n",
       "1           4977     7695797          2014-12-19            5-10K   \n",
       "2          10271    78663092          2015-01-06            5-10K   \n",
       "3           7393     7708503          2014-12-03             2-5K   \n",
       "4          11125    78659782          2015-01-02             10K+   \n",
       "\n",
       "   Minimum_Duration Preferred_location  Is_Part_Time  Is_Shortlisted  \\\n",
       "0                 3                NaN             0               0   \n",
       "1                 2               IHFG             1               0   \n",
       "2                 6                NaN             0               0   \n",
       "3                 1               IHFG             0               0   \n",
       "4                 6                NaN             1               0   \n",
       "\n",
       "                Internship_Profile  \\\n",
       "0                 Voice Over Movie   \n",
       "1  Social Media Marketing & Design   \n",
       "2                 Java Development   \n",
       "3                  Fashion Curator   \n",
       "4             Business Development   \n",
       "\n",
       "                              Skills_required            ...             \\\n",
       "0                                         NaN            ...              \n",
       "1                                         NaN            ...              \n",
       "2                                         NaN            ...              \n",
       "3                                         NaN            ...              \n",
       "4  Communication,Business Development (Sales)            ...              \n",
       "\n",
       "  Performance_10th   Experience_Type  Profile  Location Start Date   End Date  \\\n",
       "0             80.4        internship  About C      JBEI 2013-08-01 2013-08-02   \n",
       "1             82.0               NaN      NaN      IIGB        NaT        NaT   \n",
       "2             81.4  academic_project      NaN      JBEI 2014-11-01 2014-02-05   \n",
       "3             91.0               NaN      NaN      IIGB        NaT        NaT   \n",
       "4             50.0               NaN      NaN      IIGB        NaT        NaT   \n",
       "\n",
       "   num_experience num_exp_in_job num_awards  num_previous_internships  \n",
       "0               1              0          0                         1  \n",
       "1               1              0          0                         0  \n",
       "2               5              0          0                         0  \n",
       "3               1              0          0                         0  \n",
       "4               1              0          0                         0  \n",
       "\n",
       "[5 rows x 315 columns]"
      ]
     },
     "execution_count": 5,
     "metadata": {},
     "output_type": "execute_result"
    }
   ],
   "source": [
    "train_merged.head()"
   ]
  },
  {
   "cell_type": "markdown",
   "metadata": {},
   "source": [
    "## Test set"
   ]
  },
  {
   "cell_type": "code",
   "execution_count": 6,
   "metadata": {
    "collapsed": false
   },
   "outputs": [
    {
     "data": {
      "text/html": [
       "<div>\n",
       "<table border=\"1\" class=\"dataframe\">\n",
       "  <thead>\n",
       "    <tr style=\"text-align: right;\">\n",
       "      <th></th>\n",
       "      <th>Internship_ID</th>\n",
       "      <th>Student_ID</th>\n",
       "      <th>Earliest_Start_Date</th>\n",
       "      <th>Expected_Stipend</th>\n",
       "      <th>Minimum_Duration</th>\n",
       "      <th>Preferred_location</th>\n",
       "      <th>Is_Part_Time</th>\n",
       "      <th>Internship_Profile</th>\n",
       "      <th>Skills_required</th>\n",
       "      <th>Internship_Type</th>\n",
       "      <th>...</th>\n",
       "      <th>Performance_10th</th>\n",
       "      <th>Experience_Type</th>\n",
       "      <th>Profile</th>\n",
       "      <th>Location</th>\n",
       "      <th>Start Date</th>\n",
       "      <th>End Date</th>\n",
       "      <th>num_experience</th>\n",
       "      <th>num_exp_in_job</th>\n",
       "      <th>num_awards</th>\n",
       "      <th>num_previous_internships</th>\n",
       "    </tr>\n",
       "  </thead>\n",
       "  <tbody>\n",
       "    <tr>\n",
       "      <th>0</th>\n",
       "      <td>9341</td>\n",
       "      <td>7677714</td>\n",
       "      <td>2015-01-25</td>\n",
       "      <td>2-5K</td>\n",
       "      <td>2</td>\n",
       "      <td>IIBD</td>\n",
       "      <td>0</td>\n",
       "      <td>Content Writer</td>\n",
       "      <td>NaN</td>\n",
       "      <td>regular</td>\n",
       "      <td>...</td>\n",
       "      <td>88</td>\n",
       "      <td>NaN</td>\n",
       "      <td>NaN</td>\n",
       "      <td>IIGB</td>\n",
       "      <td>NaT</td>\n",
       "      <td>NaT</td>\n",
       "      <td>1</td>\n",
       "      <td>0</td>\n",
       "      <td>0</td>\n",
       "      <td>0</td>\n",
       "    </tr>\n",
       "    <tr>\n",
       "      <th>1</th>\n",
       "      <td>6426</td>\n",
       "      <td>7696418</td>\n",
       "      <td>2015-01-21</td>\n",
       "      <td>5-10K</td>\n",
       "      <td>5</td>\n",
       "      <td>NaN</td>\n",
       "      <td>0</td>\n",
       "      <td>Android Development</td>\n",
       "      <td>NaN</td>\n",
       "      <td>regular</td>\n",
       "      <td>...</td>\n",
       "      <td>60</td>\n",
       "      <td>internship</td>\n",
       "      <td>NETWORK PLANNING</td>\n",
       "      <td>IIDB</td>\n",
       "      <td>2013-06-20</td>\n",
       "      <td>2013-08-19</td>\n",
       "      <td>2</td>\n",
       "      <td>0</td>\n",
       "      <td>0</td>\n",
       "      <td>1</td>\n",
       "    </tr>\n",
       "    <tr>\n",
       "      <th>2</th>\n",
       "      <td>5812</td>\n",
       "      <td>78666725</td>\n",
       "      <td>2015-01-09</td>\n",
       "      <td>10K+</td>\n",
       "      <td>5</td>\n",
       "      <td>NaN</td>\n",
       "      <td>1</td>\n",
       "      <td>Recruitment</td>\n",
       "      <td>NaN</td>\n",
       "      <td>regular</td>\n",
       "      <td>...</td>\n",
       "      <td>57</td>\n",
       "      <td>NaN</td>\n",
       "      <td>NaN</td>\n",
       "      <td>IIGB</td>\n",
       "      <td>NaT</td>\n",
       "      <td>NaT</td>\n",
       "      <td>1</td>\n",
       "      <td>0</td>\n",
       "      <td>0</td>\n",
       "      <td>0</td>\n",
       "    </tr>\n",
       "    <tr>\n",
       "      <th>3</th>\n",
       "      <td>10711</td>\n",
       "      <td>7705454</td>\n",
       "      <td>2015-01-11</td>\n",
       "      <td>No Expectations</td>\n",
       "      <td>2</td>\n",
       "      <td>NaN</td>\n",
       "      <td>1</td>\n",
       "      <td>Content Development</td>\n",
       "      <td>NaN</td>\n",
       "      <td>virtual</td>\n",
       "      <td>...</td>\n",
       "      <td>74</td>\n",
       "      <td>training</td>\n",
       "      <td>NaN</td>\n",
       "      <td>JBFA</td>\n",
       "      <td>2013-06-05</td>\n",
       "      <td>2013-05-20</td>\n",
       "      <td>1</td>\n",
       "      <td>0</td>\n",
       "      <td>0</td>\n",
       "      <td>0</td>\n",
       "    </tr>\n",
       "    <tr>\n",
       "      <th>4</th>\n",
       "      <td>5880</td>\n",
       "      <td>7711946</td>\n",
       "      <td>2015-01-15</td>\n",
       "      <td>No Expectations</td>\n",
       "      <td>2</td>\n",
       "      <td>IHFG</td>\n",
       "      <td>1</td>\n",
       "      <td>Web Development</td>\n",
       "      <td>web development</td>\n",
       "      <td>regular</td>\n",
       "      <td>...</td>\n",
       "      <td>10</td>\n",
       "      <td>academic_project</td>\n",
       "      <td>Stock Analyst</td>\n",
       "      <td>JEJJ</td>\n",
       "      <td>2014-06-03</td>\n",
       "      <td>2015-12-01</td>\n",
       "      <td>6</td>\n",
       "      <td>0</td>\n",
       "      <td>2</td>\n",
       "      <td>1</td>\n",
       "    </tr>\n",
       "  </tbody>\n",
       "</table>\n",
       "<p>5 rows × 314 columns</p>\n",
       "</div>"
      ],
      "text/plain": [
       "   Internship_ID  Student_ID Earliest_Start_Date Expected_Stipend  \\\n",
       "0           9341     7677714          2015-01-25             2-5K   \n",
       "1           6426     7696418          2015-01-21            5-10K   \n",
       "2           5812    78666725          2015-01-09             10K+   \n",
       "3          10711     7705454          2015-01-11  No Expectations   \n",
       "4           5880     7711946          2015-01-15  No Expectations   \n",
       "\n",
       "   Minimum_Duration Preferred_location  Is_Part_Time   Internship_Profile  \\\n",
       "0                 2               IIBD             0       Content Writer   \n",
       "1                 5                NaN             0  Android Development   \n",
       "2                 5                NaN             1          Recruitment   \n",
       "3                 2                NaN             1  Content Development   \n",
       "4                 2               IHFG             1      Web Development   \n",
       "\n",
       "   Skills_required Internship_Type            ...            Performance_10th  \\\n",
       "0              NaN         regular            ...                          88   \n",
       "1              NaN         regular            ...                          60   \n",
       "2              NaN         regular            ...                          57   \n",
       "3              NaN         virtual            ...                          74   \n",
       "4  web development         regular            ...                          10   \n",
       "\n",
       "    Experience_Type           Profile Location  Start Date   End Date  \\\n",
       "0               NaN               NaN     IIGB         NaT        NaT   \n",
       "1        internship  NETWORK PLANNING     IIDB  2013-06-20 2013-08-19   \n",
       "2               NaN               NaN     IIGB         NaT        NaT   \n",
       "3          training               NaN     JBFA  2013-06-05 2013-05-20   \n",
       "4  academic_project     Stock Analyst     JEJJ  2014-06-03 2015-12-01   \n",
       "\n",
       "  num_experience num_exp_in_job  num_awards  num_previous_internships  \n",
       "0              1              0           0                         0  \n",
       "1              2              0           0                         1  \n",
       "2              1              0           0                         0  \n",
       "3              1              0           0                         0  \n",
       "4              6              0           2                         1  \n",
       "\n",
       "[5 rows x 314 columns]"
      ]
     },
     "execution_count": 6,
     "metadata": {},
     "output_type": "execute_result"
    }
   ],
   "source": [
    "test_merged.head()"
   ]
  },
  {
   "cell_type": "markdown",
   "metadata": {},
   "source": [
    "## Class Distribution"
   ]
  },
  {
   "cell_type": "code",
   "execution_count": 7,
   "metadata": {
    "collapsed": false
   },
   "outputs": [
    {
     "data": {
      "text/plain": [
       "0    168003\n",
       "1     24579\n",
       "Name: Is_Shortlisted, dtype: int64"
      ]
     },
     "execution_count": 7,
     "metadata": {},
     "output_type": "execute_result"
    }
   ],
   "source": [
    "train_merged.Is_Shortlisted.value_counts()"
   ]
  },
  {
   "cell_type": "markdown",
   "metadata": {
    "collapsed": true
   },
   "source": [
    "## Exploratory Data Analysis"
   ]
  },
  {
   "cell_type": "code",
   "execution_count": 9,
   "metadata": {
    "collapsed": false
   },
   "outputs": [],
   "source": [
    "train_merged.loc[:, 'Earliest_Start_Date_year'] = train_merged.Earliest_Start_Date.dt.year\n",
    "train_merged.loc[:, 'Earliest_Start_Date_month'] = train_merged.Earliest_Start_Date.dt.month\n",
    "train_merged.loc[:, 'Earliest_Start_Date_day'] = train_merged.Earliest_Start_Date.dt.day\n",
    "\n",
    "test_merged.loc[:, 'Earliest_Start_Date_year'] = test_merged.Earliest_Start_Date.dt.year\n",
    "test_merged.loc[:, 'Earliest_Start_Date_month'] = test_merged.Earliest_Start_Date.dt.month\n",
    "test_merged.loc[:, 'Earliest_Start_Date_day'] = test_merged.Earliest_Start_Date.dt.day\n",
    "\n",
    "train_merged.loc[:, 'Internship_deadline_year'] = train_merged.Internship_deadline.dt.year\n",
    "train_merged.loc[:, 'Internship_deadline_month'] = train_merged.Internship_deadline.dt.month\n",
    "train_merged.loc[:, 'Internship_deadline_day'] = train_merged.Internship_deadline.dt.day\n",
    "\n",
    "test_merged.loc[:, 'Internship_deadline_year'] = test_merged.Internship_deadline.dt.year\n",
    "test_merged.loc[:, 'Internship_deadline_year'] = test_merged.Internship_deadline.dt.month\n",
    "test_merged.loc[:, 'Internship_deadline_year'] = test_merged.Internship_deadline.dt.day"
   ]
  },
  {
   "cell_type": "code",
   "execution_count": 15,
   "metadata": {
    "collapsed": false
   },
   "outputs": [],
   "source": [
    "train_merged.loc[:, 'date_diff'] = ((train_merged.Internship_deadline - train_merged.Earliest_Start_Date) / np.timedelta64(1, 'D')).astype(int)"
   ]
  },
  {
   "cell_type": "code",
   "execution_count": 16,
   "metadata": {
    "collapsed": false
   },
   "outputs": [
    {
     "data": {
      "text/plain": [
       "<seaborn.axisgrid.FacetGrid at 0x6ea301d0>"
      ]
     },
     "execution_count": 16,
     "metadata": {},
     "output_type": "execute_result"
    },
    {
     "data": {
      "image/png": "[encoded data removed]",
      "text/plain": [
       "<matplotlib.figure.Figure at 0x6ea30358>"
      ]
     },
     "metadata": {},
     "output_type": "display_data"
    }
   ],
   "source": [
    "# Relationship between difference between internship deadline vs whether you are shorlisted or not\n",
    "\n",
    "sns.FacetGrid(train_merged, hue=\"Is_Shortlisted\", size=5) \\\n",
    "   .map(plt.hist, \"date_diff\") \\\n",
    "   .add_legend()"
   ]
  },
  {
   "cell_type": "code",
   "execution_count": 24,
   "metadata": {
    "collapsed": false
   },
   "outputs": [
    {
     "data": {
      "text/html": [
       "<div>\n",
       "<table border=\"1\" class=\"dataframe\">\n",
       "  <thead>\n",
       "    <tr style=\"text-align: right;\">\n",
       "      <th></th>\n",
       "      <th>Stipend_Type</th>\n",
       "      <th>Is_Shortlisted</th>\n",
       "    </tr>\n",
       "  </thead>\n",
       "  <tbody>\n",
       "    <tr>\n",
       "      <th>0</th>\n",
       "      <td>variable</td>\n",
       "      <td>0</td>\n",
       "    </tr>\n",
       "    <tr>\n",
       "      <th>1</th>\n",
       "      <td>variable</td>\n",
       "      <td>0</td>\n",
       "    </tr>\n",
       "    <tr>\n",
       "      <th>2</th>\n",
       "      <td>fixed</td>\n",
       "      <td>0</td>\n",
       "    </tr>\n",
       "    <tr>\n",
       "      <th>3</th>\n",
       "      <td>fixed</td>\n",
       "      <td>0</td>\n",
       "    </tr>\n",
       "    <tr>\n",
       "      <th>4</th>\n",
       "      <td>fixed</td>\n",
       "      <td>0</td>\n",
       "    </tr>\n",
       "  </tbody>\n",
       "</table>\n",
       "</div>"
      ],
      "text/plain": [
       "  Stipend_Type  Is_Shortlisted\n",
       "0     variable               0\n",
       "1     variable               0\n",
       "2        fixed               0\n",
       "3        fixed               0\n",
       "4        fixed               0"
      ]
     },
     "execution_count": 24,
     "metadata": {},
     "output_type": "execute_result"
    }
   ],
   "source": [
    "## Relationship between expected stipend and Is_Shortlisted\n",
    "\n",
    "train_merged.loc[:, ['Stipend_Type', 'Is_Shortlisted']].head()"
   ]
  },
  {
   "cell_type": "code",
   "execution_count": 31,
   "metadata": {
    "collapsed": false
   },
   "outputs": [
    {
     "data": {
      "text/plain": [
       "5-10K              58552\n",
       "No Expectations    53628\n",
       "2-5K               42005\n",
       "10K+               38397\n",
       "Name: Expected_Stipend, dtype: int64"
      ]
     },
     "execution_count": 31,
     "metadata": {},
     "output_type": "execute_result"
    }
   ],
   "source": [
    "train_merged.Expected_Stipend.value_counts()"
   ]
  },
  {
   "cell_type": "code",
   "execution_count": 32,
   "metadata": {
    "collapsed": true
   },
   "outputs": [],
   "source": [
    "def salary_mapping(salary):\n",
    "    if salary < 2000:\n",
    "        return 'No Expectations'\n",
    "    elif salary >= 2000 and salary < 5000:\n",
    "        return '2-5K'\n",
    "    elif salary >= 5000 and salary < 10000:\n",
    "        return '5-10K'\n",
    "    else:\n",
    "        return '10K+'"
   ]
  },
  {
   "cell_type": "code",
   "execution_count": 36,
   "metadata": {
    "collapsed": false
   },
   "outputs": [],
   "source": [
    "train_merged.Stipend1 = train_merged.Stipend1.fillna(train_merged.Stipend1.mean())"
   ]
  },
  {
   "cell_type": "code",
   "execution_count": 42,
   "metadata": {
    "collapsed": false
   },
   "outputs": [],
   "source": [
    "train_merged.loc[:, 'Stipend_level'] = train_merged.Stipend1.map(salary_mapping)"
   ]
  },
  {
   "cell_type": "code",
   "execution_count": 45,
   "metadata": {
    "collapsed": true
   },
   "outputs": [],
   "source": [
    "def check_if_expectations_match(row):\n",
    "    expected_stipend = row['Expected_Stipend']\n",
    "    stipend_level = row['Stipend_level']\n",
    "    \n",
    "    if expected_stipend == 'No Expectations':\n",
    "        return 1\n",
    "    elif expected_stipend == '2-5K':\n",
    "        if stipend_level in ['2-5K', '5-10K', '10K+']:\n",
    "            return 1\n",
    "        else:\n",
    "            return 0\n",
    "    elif expected_stipend == '5-10K':\n",
    "        if stipend_level in ['5-10K', '10K+']:\n",
    "            return 1\n",
    "        else:\n",
    "            return 0\n",
    "    elif stipend_level == '10K+':\n",
    "        if stipend_level == '10K+':\n",
    "            return 1\n",
    "        else:\n",
    "            return 0\n",
    "\n",
    "train_merged.loc[:, 'expectations_match'] = train_merged[['Expected_Stipend', 'Stipend_level']].apply(check_if_expectations_match, axis=1)"
   ]
  },
  {
   "cell_type": "code",
   "execution_count": 46,
   "metadata": {
    "collapsed": false
   },
   "outputs": [
    {
     "data": {
      "text/plain": [
       "expectations_match  Is_Shortlisted\n",
       "0                   0                  18906\n",
       "                    1                   3533\n",
       "1                   0                 136965\n",
       "                    1                  19122\n",
       "dtype: int64"
      ]
     },
     "execution_count": 46,
     "metadata": {},
     "output_type": "execute_result"
    }
   ],
   "source": [
    "train_merged.groupby(['expectations_match', 'Is_Shortlisted']).size()"
   ]
  },
  {
   "cell_type": "markdown",
   "metadata": {},
   "source": [
    "** This is a potential feature **"
   ]
  },
  {
   "cell_type": "code",
   "execution_count": 60,
   "metadata": {
    "collapsed": true
   },
   "outputs": [],
   "source": [
    "train_merged.loc[:, 'normalized_stipend_1'] = np.log10(train_merged.Stipend1 + 1)"
   ]
  },
  {
   "cell_type": "code",
   "execution_count": 61,
   "metadata": {
    "collapsed": false
   },
   "outputs": [
    {
     "data": {
      "text/plain": [
       "<seaborn.axisgrid.FacetGrid at 0x642d5860>"
      ]
     },
     "execution_count": 61,
     "metadata": {},
     "output_type": "execute_result"
    },
    {
     "data": {
      "image/png": "[encoded data removed]",
      "text/plain": [
       "<matplotlib.figure.Figure at 0x6f01b7f0>"
      ]
     },
     "metadata": {},
     "output_type": "display_data"
    }
   ],
   "source": [
    "sns.FacetGrid(train_merged, hue=\"Is_Shortlisted\", size=5) \\\n",
    "   .map(plt.hist, \"normalized_stipend_1\") \\\n",
    "   .add_legend()"
   ]
  },
  {
   "cell_type": "code",
   "execution_count": 56,
   "metadata": {
    "collapsed": true
   },
   "outputs": [],
   "source": [
    "def check_if_locations_match(row):\n",
    "    internship_location = row['Internship_Location']\n",
    "    student_location = row['Location']\n",
    "    \n",
    "    return int(internship_location == student_location)"
   ]
  },
  {
   "cell_type": "code",
   "execution_count": 57,
   "metadata": {
    "collapsed": true
   },
   "outputs": [],
   "source": [
    "train_merged.loc[:, 'location_match'] = train_merged[['Internship_Location', 'Location']].apply(check_if_locations_match, axis=1)"
   ]
  },
  {
   "cell_type": "code",
   "execution_count": 59,
   "metadata": {
    "collapsed": false
   },
   "outputs": [
    {
     "data": {
      "text/plain": [
       "location_match  Is_Shortlisted\n",
       "0               0                 135976\n",
       "                1                  17859\n",
       "1               0                  32027\n",
       "                1                   6720\n",
       "dtype: int64"
      ]
     },
     "execution_count": 59,
     "metadata": {},
     "output_type": "execute_result"
    }
   ],
   "source": [
    "train_merged.groupby(['location_match', 'Is_Shortlisted']).size()"
   ]
  },
  {
   "cell_type": "code",
   "execution_count": 48,
   "metadata": {
    "collapsed": false
   },
   "outputs": [
    {
     "data": {
      "text/html": [
       "<div>\n",
       "<table border=\"1\" class=\"dataframe\">\n",
       "  <thead>\n",
       "    <tr style=\"text-align: right;\">\n",
       "      <th></th>\n",
       "      <th>Internship_Location</th>\n",
       "      <th>Is_Shortlisted</th>\n",
       "    </tr>\n",
       "  </thead>\n",
       "  <tbody>\n",
       "    <tr>\n",
       "      <th>0</th>\n",
       "      <td>IIGB</td>\n",
       "      <td>0</td>\n",
       "    </tr>\n",
       "    <tr>\n",
       "      <th>1</th>\n",
       "      <td>IIDB</td>\n",
       "      <td>0</td>\n",
       "    </tr>\n",
       "    <tr>\n",
       "      <th>2</th>\n",
       "      <td>IIDB</td>\n",
       "      <td>0</td>\n",
       "    </tr>\n",
       "    <tr>\n",
       "      <th>3</th>\n",
       "      <td>JABD</td>\n",
       "      <td>0</td>\n",
       "    </tr>\n",
       "    <tr>\n",
       "      <th>4</th>\n",
       "      <td>IIDB</td>\n",
       "      <td>0</td>\n",
       "    </tr>\n",
       "  </tbody>\n",
       "</table>\n",
       "</div>"
      ],
      "text/plain": [
       "  Internship_Location  Is_Shortlisted\n",
       "0                IIGB               0\n",
       "1                IIDB               0\n",
       "2                IIDB               0\n",
       "3                JABD               0\n",
       "4                IIDB               0"
      ]
     },
     "execution_count": 48,
     "metadata": {},
     "output_type": "execute_result"
    }
   ],
   "source": [
    "train_merged.loc[:, ['Internship_Location', 'Is_Shortlisted']].head()"
   ]
  },
  {
   "cell_type": "code",
   "execution_count": 52,
   "metadata": {
    "collapsed": false
   },
   "outputs": [
    {
     "name": "stdout",
     "output_type": "stream",
     "text": [
      "Number of levels of Internship location  60\n"
     ]
    }
   ],
   "source": [
    "print 'Number of levels of Internship location ', len(train_merged.Internship_Location.unique())"
   ]
  },
  {
   "cell_type": "code",
   "execution_count": 55,
   "metadata": {
    "collapsed": false
   },
   "outputs": [
    {
     "data": {
      "text/plain": [
       "523"
      ]
     },
     "execution_count": 55,
     "metadata": {},
     "output_type": "execute_result"
    }
   ],
   "source": [
    "len(train_merged.Location.unique())"
   ]
  },
  {
   "cell_type": "code",
   "execution_count": 51,
   "metadata": {
    "collapsed": false
   },
   "outputs": [
    {
     "data": {
      "text/plain": [
       "IIDB    37374\n",
       "IIBD    32493\n",
       "IIGB    31357\n",
       "JABD    26976\n",
       "JEJJ    22242\n",
       "IJBG    10230\n",
       "IHJB     9073\n",
       "IJCE     8121\n",
       "JBDB     2840\n",
       "IJJI     2526\n",
       "JECD     2253\n",
       "JBEI     2015\n",
       "IJAB     1278\n",
       "IJBH      627\n",
       "JEEH      460\n",
       "IIFB      321\n",
       "JBBE      213\n",
       "JBGD      201\n",
       "IIJJ      171\n",
       "IHHH      160\n",
       "JCDD      159\n",
       "JBID      124\n",
       "JAGD      116\n",
       "JCBC      115\n",
       "JDII      110\n",
       "JDCA      106\n",
       "IJAE      105\n",
       "IHFG       85\n",
       "JAJJ       82\n",
       "IIDC       75\n",
       "IHGB       73\n",
       "IIHJ       51\n",
       "JBBG       49\n",
       "JCJG       39\n",
       "IIAI       37\n",
       "IJDJ       25\n",
       "IIIG       23\n",
       "JDGH       23\n",
       "JADH       23\n",
       "JEDC       21\n",
       "JCGF       21\n",
       "JCCD       19\n",
       "IIGA       19\n",
       "JAHE       19\n",
       "JDAE       18\n",
       "IHJC       14\n",
       "JADF       13\n",
       "IIJI       13\n",
       "JEBC       12\n",
       "JACD       12\n",
       "JDEC       10\n",
       "JDIB        6\n",
       "JDHI        6\n",
       "JDEF        5\n",
       "IJFJ        5\n",
       "JEAE        5\n",
       "JCJE        4\n",
       "JDFF        4\n",
       "IJIG        3\n",
       "JEHE        2\n",
       "Name: Internship_Location, dtype: int64"
      ]
     },
     "execution_count": 51,
     "metadata": {},
     "output_type": "execute_result"
    }
   ],
   "source": [
    "train_merged.Internship_Location.value_counts()"
   ]
  },
  {
   "cell_type": "code",
   "execution_count": 50,
   "metadata": {
    "collapsed": false
   },
   "outputs": [
    {
     "data": {
      "text/plain": [
       "Internship_Location  Is_Shortlisted\n",
       "IHFG                 0                    32\n",
       "                     1                    53\n",
       "IHGB                 0                    51\n",
       "                     1                    22\n",
       "IHHH                 0                   142\n",
       "                     1                    18\n",
       "IHJB                 0                  8278\n",
       "                     1                   795\n",
       "IHJC                 0                     7\n",
       "                     1                     7\n",
       "IIAI                 0                    36\n",
       "                     1                     1\n",
       "IIBD                 0                 29015\n",
       "                     1                  3478\n",
       "IIDB                 0                 33106\n",
       "                     1                  4268\n",
       "IIDC                 0                    61\n",
       "                     1                    14\n",
       "IIFB                 0                   314\n",
       "                     1                     7\n",
       "IIGA                 0                    19\n",
       "IIGB                 0                 24833\n",
       "                     1                  6524\n",
       "IIHJ                 0                    44\n",
       "                     1                     7\n",
       "IIIG                 0                    23\n",
       "IIJI                 0                    13\n",
       "IIJJ                 0                   171\n",
       "IJAB                 0                  1121\n",
       "                     1                   157\n",
       "                                       ...  \n",
       "JCDD                 1                     3\n",
       "JCGF                 0                    17\n",
       "                     1                     4\n",
       "JCJE                 0                     4\n",
       "JCJG                 0                    37\n",
       "                     1                     2\n",
       "JDAE                 0                    17\n",
       "                     1                     1\n",
       "JDCA                 0                    99\n",
       "                     1                     7\n",
       "JDEC                 0                     9\n",
       "                     1                     1\n",
       "JDEF                 0                     5\n",
       "JDFF                 0                     4\n",
       "JDGH                 0                    23\n",
       "JDHI                 0                     6\n",
       "JDIB                 0                     6\n",
       "JDII                 0                   109\n",
       "                     1                     1\n",
       "JEAE                 0                     5\n",
       "JEBC                 0                    12\n",
       "JECD                 0                  1848\n",
       "                     1                   405\n",
       "JEDC                 0                    20\n",
       "                     1                     1\n",
       "JEEH                 0                   338\n",
       "                     1                   122\n",
       "JEHE                 0                     2\n",
       "JEJJ                 0                 19128\n",
       "                     1                  3114\n",
       "dtype: int64"
      ]
     },
     "execution_count": 50,
     "metadata": {},
     "output_type": "execute_result"
    }
   ],
   "source": [
    "train_merged.groupby(['Internship_Location', 'Is_Shortlisted']).size()"
   ]
  },
  {
   "cell_type": "code",
   "execution_count": null,
   "metadata": {
    "collapsed": true
   },
   "outputs": [],
   "source": []
  },
  {
   "cell_type": "code",
   "execution_count": null,
   "metadata": {
    "collapsed": true
   },
   "outputs": [],
   "source": []
  },
  {
   "cell_type": "code",
   "execution_count": null,
   "metadata": {
    "collapsed": true
   },
   "outputs": [],
   "source": []
  },
  {
   "cell_type": "code",
   "execution_count": null,
   "metadata": {
    "collapsed": true
   },
   "outputs": [],
   "source": []
  },
  {
   "cell_type": "code",
   "execution_count": null,
   "metadata": {
    "collapsed": true
   },
   "outputs": [],
   "source": []
  },
  {
   "cell_type": "code",
   "execution_count": null,
   "metadata": {
    "collapsed": true
   },
   "outputs": [],
   "source": []
  }
 ],
 "metadata": {
  "kernelspec": {
   "display_name": "Python 2",
   "language": "python",
   "name": "python2"
  },
  "language_info": {
   "codemirror_mode": {
    "name": "ipython",
    "version": 2
   },
   "file_extension": ".py",
   "mimetype": "text/x-python",
   "name": "python",
   "nbconvert_exporter": "python",
   "pygments_lexer": "ipython2",
   "version": "2.7.11"
  }
 },
 "nbformat": 4,
 "nbformat_minor": 0
}
