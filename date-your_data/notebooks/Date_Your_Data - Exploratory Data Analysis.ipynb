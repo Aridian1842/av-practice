{
 "cells": [
  {
   "cell_type": "code",
   "execution_count": 1,
   "metadata": {
    "collapsed": false
   },
   "outputs": [],
   "source": [
    "import numpy as np\n",
    "import pandas as pd\n",
    "\n",
    "import matplotlib.pyplot as plt\n",
    "import seaborn as sns\n",
    "\n",
    "import warnings\n",
    "warnings.filterwarnings('ignore')\n",
    "\n",
    "%matplotlib inline"
   ]
  },
  {
   "cell_type": "markdown",
   "metadata": {},
   "source": [
    "## Load dataset"
   ]
  },
  {
   "cell_type": "code",
   "execution_count": 3,
   "metadata": {
    "collapsed": true
   },
   "outputs": [],
   "source": [
    "date_columns = ['Internship_deadline', 'Earliest_Start_Date', 'Start Date', \n",
    "                'End Date', 'Start_Date']\n",
    "\n",
    "train_merged = pd.read_csv('../data/train_merged.csv', parse_dates=date_columns)\n",
    "test_merged = pd.read_csv('../data/test_merged.csv', parse_dates=date_columns)"
   ]
  },
  {
   "cell_type": "markdown",
   "metadata": {},
   "source": [
    "## Load encoded data sets"
   ]
  },
  {
   "cell_type": "code",
   "execution_count": 2,
   "metadata": {
    "collapsed": true
   },
   "outputs": [],
   "source": [
    "train_merged_encoded = pd.read_csv('../data/train_merged_encoded.csv')\n",
    "test_merged_encoded = pd.read_csv('../data/test_merged_encoded.csv')"
   ]
  },
  {
   "cell_type": "markdown",
   "metadata": {},
   "source": [
    "## Training dataset"
   ]
  },
  {
   "cell_type": "code",
   "execution_count": 4,
   "metadata": {
    "collapsed": false
   },
   "outputs": [
    {
     "data": {
      "text/html": [
       "<div>\n",
       "<table border=\"1\" class=\"dataframe\">\n",
       "  <thead>\n",
       "    <tr style=\"text-align: right;\">\n",
       "      <th></th>\n",
       "      <th>Internship_ID</th>\n",
       "      <th>Student_ID</th>\n",
       "      <th>Earliest_Start_Date</th>\n",
       "      <th>Expected_Stipend</th>\n",
       "      <th>Minimum_Duration</th>\n",
       "      <th>Preferred_location</th>\n",
       "      <th>Is_Part_Time</th>\n",
       "      <th>Is_Shortlisted</th>\n",
       "      <th>Internship_Profile</th>\n",
       "      <th>Skills_required</th>\n",
       "      <th>...</th>\n",
       "      <th>Performance_10th</th>\n",
       "      <th>Experience_Type</th>\n",
       "      <th>Profile</th>\n",
       "      <th>Location</th>\n",
       "      <th>Start Date</th>\n",
       "      <th>End Date</th>\n",
       "      <th>num_experience</th>\n",
       "      <th>num_exp_in_job</th>\n",
       "      <th>num_awards</th>\n",
       "      <th>num_previous_internships</th>\n",
       "    </tr>\n",
       "  </thead>\n",
       "  <tbody>\n",
       "    <tr>\n",
       "      <th>0</th>\n",
       "      <td>8161</td>\n",
       "      <td>78663553</td>\n",
       "      <td>2015-01-03</td>\n",
       "      <td>2-5K</td>\n",
       "      <td>3</td>\n",
       "      <td>NaN</td>\n",
       "      <td>0</td>\n",
       "      <td>0</td>\n",
       "      <td>Voice Over Movie</td>\n",
       "      <td>NaN</td>\n",
       "      <td>...</td>\n",
       "      <td>80.4</td>\n",
       "      <td>internship</td>\n",
       "      <td>About C</td>\n",
       "      <td>JBEI</td>\n",
       "      <td>2013-08-01</td>\n",
       "      <td>2013-08-02</td>\n",
       "      <td>1</td>\n",
       "      <td>0</td>\n",
       "      <td>0</td>\n",
       "      <td>1</td>\n",
       "    </tr>\n",
       "    <tr>\n",
       "      <th>1</th>\n",
       "      <td>4977</td>\n",
       "      <td>7695797</td>\n",
       "      <td>2014-12-19</td>\n",
       "      <td>5-10K</td>\n",
       "      <td>2</td>\n",
       "      <td>IHFG</td>\n",
       "      <td>1</td>\n",
       "      <td>0</td>\n",
       "      <td>Social Media Marketing &amp; Design</td>\n",
       "      <td>NaN</td>\n",
       "      <td>...</td>\n",
       "      <td>82.0</td>\n",
       "      <td>NaN</td>\n",
       "      <td>NaN</td>\n",
       "      <td>IIGB</td>\n",
       "      <td>NaT</td>\n",
       "      <td>NaT</td>\n",
       "      <td>1</td>\n",
       "      <td>0</td>\n",
       "      <td>0</td>\n",
       "      <td>0</td>\n",
       "    </tr>\n",
       "    <tr>\n",
       "      <th>2</th>\n",
       "      <td>10271</td>\n",
       "      <td>78663092</td>\n",
       "      <td>2015-01-06</td>\n",
       "      <td>5-10K</td>\n",
       "      <td>6</td>\n",
       "      <td>NaN</td>\n",
       "      <td>0</td>\n",
       "      <td>0</td>\n",
       "      <td>Java Development</td>\n",
       "      <td>NaN</td>\n",
       "      <td>...</td>\n",
       "      <td>81.4</td>\n",
       "      <td>academic_project</td>\n",
       "      <td>NaN</td>\n",
       "      <td>JBEI</td>\n",
       "      <td>2014-11-01</td>\n",
       "      <td>2014-02-05</td>\n",
       "      <td>5</td>\n",
       "      <td>0</td>\n",
       "      <td>0</td>\n",
       "      <td>0</td>\n",
       "    </tr>\n",
       "    <tr>\n",
       "      <th>3</th>\n",
       "      <td>7393</td>\n",
       "      <td>7708503</td>\n",
       "      <td>2014-12-03</td>\n",
       "      <td>2-5K</td>\n",
       "      <td>1</td>\n",
       "      <td>IHFG</td>\n",
       "      <td>0</td>\n",
       "      <td>0</td>\n",
       "      <td>Fashion Curator</td>\n",
       "      <td>NaN</td>\n",
       "      <td>...</td>\n",
       "      <td>91.0</td>\n",
       "      <td>NaN</td>\n",
       "      <td>NaN</td>\n",
       "      <td>IIGB</td>\n",
       "      <td>NaT</td>\n",
       "      <td>NaT</td>\n",
       "      <td>1</td>\n",
       "      <td>0</td>\n",
       "      <td>0</td>\n",
       "      <td>0</td>\n",
       "    </tr>\n",
       "    <tr>\n",
       "      <th>4</th>\n",
       "      <td>11125</td>\n",
       "      <td>78659782</td>\n",
       "      <td>2015-01-02</td>\n",
       "      <td>10K+</td>\n",
       "      <td>6</td>\n",
       "      <td>NaN</td>\n",
       "      <td>1</td>\n",
       "      <td>0</td>\n",
       "      <td>Business Development</td>\n",
       "      <td>Communication,Business Development (Sales)</td>\n",
       "      <td>...</td>\n",
       "      <td>50.0</td>\n",
       "      <td>NaN</td>\n",
       "      <td>NaN</td>\n",
       "      <td>IIGB</td>\n",
       "      <td>NaT</td>\n",
       "      <td>NaT</td>\n",
       "      <td>1</td>\n",
       "      <td>0</td>\n",
       "      <td>0</td>\n",
       "      <td>0</td>\n",
       "    </tr>\n",
       "  </tbody>\n",
       "</table>\n",
       "<p>5 rows × 315 columns</p>\n",
       "</div>"
      ],
      "text/plain": [
       "   Internship_ID  Student_ID Earliest_Start_Date Expected_Stipend  \\\n",
       "0           8161    78663553          2015-01-03             2-5K   \n",
       "1           4977     7695797          2014-12-19            5-10K   \n",
       "2          10271    78663092          2015-01-06            5-10K   \n",
       "3           7393     7708503          2014-12-03             2-5K   \n",
       "4          11125    78659782          2015-01-02             10K+   \n",
       "\n",
       "   Minimum_Duration Preferred_location  Is_Part_Time  Is_Shortlisted  \\\n",
       "0                 3                NaN             0               0   \n",
       "1                 2               IHFG             1               0   \n",
       "2                 6                NaN             0               0   \n",
       "3                 1               IHFG             0               0   \n",
       "4                 6                NaN             1               0   \n",
       "\n",
       "                Internship_Profile  \\\n",
       "0                 Voice Over Movie   \n",
       "1  Social Media Marketing & Design   \n",
       "2                 Java Development   \n",
       "3                  Fashion Curator   \n",
       "4             Business Development   \n",
       "\n",
       "                              Skills_required            ...             \\\n",
       "0                                         NaN            ...              \n",
       "1                                         NaN            ...              \n",
       "2                                         NaN            ...              \n",
       "3                                         NaN            ...              \n",
       "4  Communication,Business Development (Sales)            ...              \n",
       "\n",
       "  Performance_10th   Experience_Type  Profile  Location Start Date   End Date  \\\n",
       "0             80.4        internship  About C      JBEI 2013-08-01 2013-08-02   \n",
       "1             82.0               NaN      NaN      IIGB        NaT        NaT   \n",
       "2             81.4  academic_project      NaN      JBEI 2014-11-01 2014-02-05   \n",
       "3             91.0               NaN      NaN      IIGB        NaT        NaT   \n",
       "4             50.0               NaN      NaN      IIGB        NaT        NaT   \n",
       "\n",
       "   num_experience num_exp_in_job num_awards  num_previous_internships  \n",
       "0               1              0          0                         1  \n",
       "1               1              0          0                         0  \n",
       "2               5              0          0                         0  \n",
       "3               1              0          0                         0  \n",
       "4               1              0          0                         0  \n",
       "\n",
       "[5 rows x 315 columns]"
      ]
     },
     "execution_count": 4,
     "metadata": {},
     "output_type": "execute_result"
    }
   ],
   "source": [
    "train_merged.head()"
   ]
  },
  {
   "cell_type": "markdown",
   "metadata": {},
   "source": [
    "## Test set"
   ]
  },
  {
   "cell_type": "code",
   "execution_count": 5,
   "metadata": {
    "collapsed": false
   },
   "outputs": [
    {
     "data": {
      "text/html": [
       "<div>\n",
       "<table border=\"1\" class=\"dataframe\">\n",
       "  <thead>\n",
       "    <tr style=\"text-align: right;\">\n",
       "      <th></th>\n",
       "      <th>Internship_ID</th>\n",
       "      <th>Student_ID</th>\n",
       "      <th>Earliest_Start_Date</th>\n",
       "      <th>Expected_Stipend</th>\n",
       "      <th>Minimum_Duration</th>\n",
       "      <th>Preferred_location</th>\n",
       "      <th>Is_Part_Time</th>\n",
       "      <th>Internship_Profile</th>\n",
       "      <th>Skills_required</th>\n",
       "      <th>Internship_Type</th>\n",
       "      <th>...</th>\n",
       "      <th>Performance_10th</th>\n",
       "      <th>Experience_Type</th>\n",
       "      <th>Profile</th>\n",
       "      <th>Location</th>\n",
       "      <th>Start Date</th>\n",
       "      <th>End Date</th>\n",
       "      <th>num_experience</th>\n",
       "      <th>num_exp_in_job</th>\n",
       "      <th>num_awards</th>\n",
       "      <th>num_previous_internships</th>\n",
       "    </tr>\n",
       "  </thead>\n",
       "  <tbody>\n",
       "    <tr>\n",
       "      <th>0</th>\n",
       "      <td>9341</td>\n",
       "      <td>7677714</td>\n",
       "      <td>2015-01-25</td>\n",
       "      <td>2-5K</td>\n",
       "      <td>2</td>\n",
       "      <td>IIBD</td>\n",
       "      <td>0</td>\n",
       "      <td>Content Writer</td>\n",
       "      <td>NaN</td>\n",
       "      <td>regular</td>\n",
       "      <td>...</td>\n",
       "      <td>88</td>\n",
       "      <td>NaN</td>\n",
       "      <td>NaN</td>\n",
       "      <td>IIGB</td>\n",
       "      <td>NaT</td>\n",
       "      <td>NaT</td>\n",
       "      <td>1</td>\n",
       "      <td>0</td>\n",
       "      <td>0</td>\n",
       "      <td>0</td>\n",
       "    </tr>\n",
       "    <tr>\n",
       "      <th>1</th>\n",
       "      <td>6426</td>\n",
       "      <td>7696418</td>\n",
       "      <td>2015-01-21</td>\n",
       "      <td>5-10K</td>\n",
       "      <td>5</td>\n",
       "      <td>NaN</td>\n",
       "      <td>0</td>\n",
       "      <td>Android Development</td>\n",
       "      <td>NaN</td>\n",
       "      <td>regular</td>\n",
       "      <td>...</td>\n",
       "      <td>60</td>\n",
       "      <td>internship</td>\n",
       "      <td>NETWORK PLANNING</td>\n",
       "      <td>IIDB</td>\n",
       "      <td>2013-06-20</td>\n",
       "      <td>2013-08-19</td>\n",
       "      <td>2</td>\n",
       "      <td>0</td>\n",
       "      <td>0</td>\n",
       "      <td>1</td>\n",
       "    </tr>\n",
       "    <tr>\n",
       "      <th>2</th>\n",
       "      <td>5812</td>\n",
       "      <td>78666725</td>\n",
       "      <td>2015-01-09</td>\n",
       "      <td>10K+</td>\n",
       "      <td>5</td>\n",
       "      <td>NaN</td>\n",
       "      <td>1</td>\n",
       "      <td>Recruitment</td>\n",
       "      <td>NaN</td>\n",
       "      <td>regular</td>\n",
       "      <td>...</td>\n",
       "      <td>57</td>\n",
       "      <td>NaN</td>\n",
       "      <td>NaN</td>\n",
       "      <td>IIGB</td>\n",
       "      <td>NaT</td>\n",
       "      <td>NaT</td>\n",
       "      <td>1</td>\n",
       "      <td>0</td>\n",
       "      <td>0</td>\n",
       "      <td>0</td>\n",
       "    </tr>\n",
       "    <tr>\n",
       "      <th>3</th>\n",
       "      <td>10711</td>\n",
       "      <td>7705454</td>\n",
       "      <td>2015-01-11</td>\n",
       "      <td>No Expectations</td>\n",
       "      <td>2</td>\n",
       "      <td>NaN</td>\n",
       "      <td>1</td>\n",
       "      <td>Content Development</td>\n",
       "      <td>NaN</td>\n",
       "      <td>virtual</td>\n",
       "      <td>...</td>\n",
       "      <td>74</td>\n",
       "      <td>training</td>\n",
       "      <td>NaN</td>\n",
       "      <td>JBFA</td>\n",
       "      <td>2013-06-05</td>\n",
       "      <td>2013-05-20</td>\n",
       "      <td>1</td>\n",
       "      <td>0</td>\n",
       "      <td>0</td>\n",
       "      <td>0</td>\n",
       "    </tr>\n",
       "    <tr>\n",
       "      <th>4</th>\n",
       "      <td>5880</td>\n",
       "      <td>7711946</td>\n",
       "      <td>2015-01-15</td>\n",
       "      <td>No Expectations</td>\n",
       "      <td>2</td>\n",
       "      <td>IHFG</td>\n",
       "      <td>1</td>\n",
       "      <td>Web Development</td>\n",
       "      <td>web development</td>\n",
       "      <td>regular</td>\n",
       "      <td>...</td>\n",
       "      <td>10</td>\n",
       "      <td>academic_project</td>\n",
       "      <td>Stock Analyst</td>\n",
       "      <td>JEJJ</td>\n",
       "      <td>2014-06-03</td>\n",
       "      <td>2015-12-01</td>\n",
       "      <td>6</td>\n",
       "      <td>0</td>\n",
       "      <td>2</td>\n",
       "      <td>1</td>\n",
       "    </tr>\n",
       "  </tbody>\n",
       "</table>\n",
       "<p>5 rows × 314 columns</p>\n",
       "</div>"
      ],
      "text/plain": [
       "   Internship_ID  Student_ID Earliest_Start_Date Expected_Stipend  \\\n",
       "0           9341     7677714          2015-01-25             2-5K   \n",
       "1           6426     7696418          2015-01-21            5-10K   \n",
       "2           5812    78666725          2015-01-09             10K+   \n",
       "3          10711     7705454          2015-01-11  No Expectations   \n",
       "4           5880     7711946          2015-01-15  No Expectations   \n",
       "\n",
       "   Minimum_Duration Preferred_location  Is_Part_Time   Internship_Profile  \\\n",
       "0                 2               IIBD             0       Content Writer   \n",
       "1                 5                NaN             0  Android Development   \n",
       "2                 5                NaN             1          Recruitment   \n",
       "3                 2                NaN             1  Content Development   \n",
       "4                 2               IHFG             1      Web Development   \n",
       "\n",
       "   Skills_required Internship_Type            ...            Performance_10th  \\\n",
       "0              NaN         regular            ...                          88   \n",
       "1              NaN         regular            ...                          60   \n",
       "2              NaN         regular            ...                          57   \n",
       "3              NaN         virtual            ...                          74   \n",
       "4  web development         regular            ...                          10   \n",
       "\n",
       "    Experience_Type           Profile Location  Start Date   End Date  \\\n",
       "0               NaN               NaN     IIGB         NaT        NaT   \n",
       "1        internship  NETWORK PLANNING     IIDB  2013-06-20 2013-08-19   \n",
       "2               NaN               NaN     IIGB         NaT        NaT   \n",
       "3          training               NaN     JBFA  2013-06-05 2013-05-20   \n",
       "4  academic_project     Stock Analyst     JEJJ  2014-06-03 2015-12-01   \n",
       "\n",
       "  num_experience num_exp_in_job  num_awards  num_previous_internships  \n",
       "0              1              0           0                         0  \n",
       "1              2              0           0                         1  \n",
       "2              1              0           0                         0  \n",
       "3              1              0           0                         0  \n",
       "4              6              0           2                         1  \n",
       "\n",
       "[5 rows x 314 columns]"
      ]
     },
     "execution_count": 5,
     "metadata": {},
     "output_type": "execute_result"
    }
   ],
   "source": [
    "test_merged.head()"
   ]
  },
  {
   "cell_type": "markdown",
   "metadata": {},
   "source": [
    "## Class Distribution"
   ]
  },
  {
   "cell_type": "code",
   "execution_count": 6,
   "metadata": {
    "collapsed": false
   },
   "outputs": [
    {
     "data": {
      "text/plain": [
       "0    168003\n",
       "1     24579\n",
       "Name: Is_Shortlisted, dtype: int64"
      ]
     },
     "execution_count": 6,
     "metadata": {},
     "output_type": "execute_result"
    }
   ],
   "source": [
    "train_merged_encoded.Is_Shortlisted.value_counts()"
   ]
  },
  {
   "cell_type": "markdown",
   "metadata": {},
   "source": [
    "** Class Imbalance **"
   ]
  },
  {
   "cell_type": "markdown",
   "metadata": {
    "collapsed": true
   },
   "source": [
    "## Exploratory Data Analysis"
   ]
  },
  {
   "cell_type": "code",
   "execution_count": 11,
   "metadata": {
    "collapsed": false
   },
   "outputs": [
    {
     "data": {
      "image/png": "[encoded data removed]",
      "text/plain": [
       "<matplotlib.figure.Figure at 0x11986ae50>"
      ]
     },
     "metadata": {},
     "output_type": "display_data"
    }
   ],
   "source": [
    "# stipend 1 distribution\n",
    "sns.FacetGrid(train_merged, hue='Is_Shortlisted', size=5) \\\n",
    "    .map(plt.hist, 'Stipend1', bins=50) \\\n",
    "    .add_legend();"
   ]
  },
  {
   "cell_type": "code",
   "execution_count": 14,
   "metadata": {
    "collapsed": false
   },
   "outputs": [
    {
     "data": {
      "text/plain": [
       "0    94215\n",
       "1    15357\n",
       "Name: Is_Shortlisted, dtype: int64"
      ]
     },
     "execution_count": 14,
     "metadata": {},
     "output_type": "execute_result"
    }
   ],
   "source": [
    "train_merged[train_merged.Stipend1 < 6e3].Is_Shortlisted.value_counts()"
   ]
  },
  {
   "cell_type": "code",
   "execution_count": 15,
   "metadata": {
    "collapsed": false
   },
   "outputs": [
    {
     "data": {
      "text/plain": [
       "0    66603\n",
       "1     7800\n",
       "Name: Is_Shortlisted, dtype: int64"
      ]
     },
     "execution_count": 15,
     "metadata": {},
     "output_type": "execute_result"
    }
   ],
   "source": [
    "train_merged[train_merged.Stipend1 > 6e3].Is_Shortlisted.value_counts()"
   ]
  },
  {
   "cell_type": "code",
   "execution_count": 16,
   "metadata": {
    "collapsed": false
   },
   "outputs": [
    {
     "data": {
      "image/png": "[encoded data removed]",
      "text/plain": [
       "<matplotlib.figure.Figure at 0x11b7753d0>"
      ]
     },
     "metadata": {},
     "output_type": "display_data"
    }
   ],
   "source": [
    "sns.FacetGrid(train_merged, hue='Is_Shortlisted', size=5) \\\n",
    "    .map(plt.hist, 'Stipend2', bins=50) \\\n",
    "    .add_legend();"
   ]
  },
  {
   "cell_type": "code",
   "execution_count": 19,
   "metadata": {
    "collapsed": false
   },
   "outputs": [
    {
     "data": {
      "text/plain": [
       "(572, 315)"
      ]
     },
     "execution_count": 19,
     "metadata": {},
     "output_type": "execute_result"
    }
   ],
   "source": [
    "train_merged[train_merged.Stipend2 > 3e4].shape"
   ]
  },
  {
   "cell_type": "code",
   "execution_count": null,
   "metadata": {
    "collapsed": true
   },
   "outputs": [],
   "source": []
  },
  {
   "cell_type": "code",
   "execution_count": null,
   "metadata": {
    "collapsed": true
   },
   "outputs": [],
   "source": []
  },
  {
   "cell_type": "code",
   "execution_count": null,
   "metadata": {
    "collapsed": true
   },
   "outputs": [],
   "source": []
  },
  {
   "cell_type": "markdown",
   "metadata": {},
   "source": [
    "## Dimensionality Reduction"
   ]
  },
  {
   "cell_type": "code",
   "execution_count": 31,
   "metadata": {
    "collapsed": true
   },
   "outputs": [],
   "source": [
    "features_to_drop = ['Earliest_Start_Date', 'Start_Date', 'Start Date', 'End Date',\n",
    "            'Is_Shortlisted', 'Internship_deadline', 'PG_scale', 'UG_Scale']\n",
    "\n",
    "features = train_merged_encoded.columns.drop(features_to_drop)\n",
    "\n",
    "X = train_merged_encoded[features]\n",
    "y = train_merged_encoded.Is_Shortlisted"
   ]
  },
  {
   "cell_type": "code",
   "execution_count": 48,
   "metadata": {
    "collapsed": true
   },
   "outputs": [],
   "source": [
    "from sklearn.preprocessing import StandardScaler\n",
    "\n",
    "scaler = StandardScaler()\n",
    "X_scaled = scaler.fit_transform(X)"
   ]
  },
  {
   "cell_type": "code",
   "execution_count": 33,
   "metadata": {
    "collapsed": true
   },
   "outputs": [],
   "source": [
    "from sklearn.decomposition import PCA"
   ]
  },
  {
   "cell_type": "code",
   "execution_count": 91,
   "metadata": {
    "collapsed": false
   },
   "outputs": [],
   "source": [
    "pca = PCA(n_components=2, whiten=False)\n",
    "X_pca = pca.fit_transform(X_scaled)"
   ]
  },
  {
   "cell_type": "code",
   "execution_count": 92,
   "metadata": {
    "collapsed": false
   },
   "outputs": [
    {
     "data": {
      "text/plain": [
       "0.037309132539354771"
      ]
     },
     "execution_count": 92,
     "metadata": {},
     "output_type": "execute_result"
    }
   ],
   "source": [
    "np.sum(pca.explained_variance_ratio_)"
   ]
  },
  {
   "cell_type": "code",
   "execution_count": 36,
   "metadata": {
    "collapsed": false
   },
   "outputs": [
    {
     "data": {
      "image/png": "[encoded data removed]",
      "text/plain": [
       "<matplotlib.figure.Figure at 0x1181ca6d0>"
      ]
     },
     "metadata": {},
     "output_type": "display_data"
    }
   ],
   "source": [
    "# plot\n",
    "negative_class_labels = (y==0).values\n",
    "positive_class_labels = (y==1).values\n",
    "\n",
    "plt.scatter(X_pca[negative_class_labels, 0], X_pca[negative_class_labels, 1],\n",
    "            color='red', marker='^', alpha=.5)\n",
    "\n",
    "plt.scatter(X_pca[positive_class_labels, 0], X_pca[positive_class_labels, 1],\n",
    "            color='blue', marker='o', alpha=.5)\n",
    "\n",
    "plt.xlabel('PC1')\n",
    "plt.ylabel('PC2')\n",
    "plt.show();"
   ]
  },
  {
   "cell_type": "markdown",
   "metadata": {},
   "source": [
    "## Clustering"
   ]
  },
  {
   "cell_type": "code",
   "execution_count": 37,
   "metadata": {
    "collapsed": true
   },
   "outputs": [],
   "source": [
    "# clustering\n",
    "from sklearn.cluster import KMeans"
   ]
  },
  {
   "cell_type": "code",
   "execution_count": 125,
   "metadata": {
    "collapsed": false
   },
   "outputs": [],
   "source": [
    "km = KMeans(n_clusters=13, max_iter=300, n_jobs=-1, random_state=44)"
   ]
  },
  {
   "cell_type": "code",
   "execution_count": 126,
   "metadata": {
    "collapsed": true
   },
   "outputs": [],
   "source": [
    "y_km = km.fit_predict(X_pca)"
   ]
  },
  {
   "cell_type": "code",
   "execution_count": 119,
   "metadata": {
    "collapsed": false
   },
   "outputs": [
    {
     "data": {
      "image/png": "[encoded data removed]",
      "text/plain": [
       "<matplotlib.figure.Figure at 0x11ab65850>"
      ]
     },
     "metadata": {},
     "output_type": "display_data"
    }
   ],
   "source": [
    "plt.scatter(X_pca[y_km==0, 0], X_pca[y_km==0, 1], s=50, c='lightgreen', marker='s', label='Cluster 1')\n",
    "plt.scatter(X_pca[y_km==1, 0], X_pca[y_km==1, 1], s=50, c='orange', marker='o', label='Cluster 2')\n",
    "plt.scatter(X_pca[y_km==2, 0], X_pca[y_km==2, 1], s=50, c='lightblue', marker='v', label='Cluster 3')\n",
    "plt.scatter(X_pca[y_km==3, 0], X_pca[y_km==3, 1], s=50, c='blue', marker='s', label='Cluster 4')\n",
    "\n",
    "plt.scatter(km.cluster_centers_[:, 0], km.cluster_centers_[:, 1], s=250, marker='*', c='red', label='centroids')\n",
    "plt.legend(loc='best')\n",
    "plt.show();"
   ]
  },
  {
   "cell_type": "markdown",
   "metadata": {},
   "source": [
    "## Elbow method to find right number of clusters"
   ]
  },
  {
   "cell_type": "code",
   "execution_count": 123,
   "metadata": {
    "collapsed": false
   },
   "outputs": [
    {
     "data": {
      "image/png": "[encoded data removed]",
      "text/plain": [
       "<matplotlib.figure.Figure at 0x1182bc410>"
      ]
     },
     "metadata": {},
     "output_type": "display_data"
    }
   ],
   "source": [
    "distortions = []\n",
    "\n",
    "for i in range(8, 20):\n",
    "    km = KMeans(n_clusters=i, init='k-means++', n_init=10, max_iter=300, random_state=43, n_jobs=-1)\n",
    "    km.fit(X_pca)\n",
    "    distortions.append(km.inertia_)\n",
    "\n",
    "plt.plot(range(8, 20), distortions, marker='o')\n",
    "plt.xlabel('Number of clusters')\n",
    "plt.ylabel('Distortion')\n",
    "plt.show();"
   ]
  },
  {
   "cell_type": "code",
   "execution_count": 127,
   "metadata": {
    "collapsed": false
   },
   "outputs": [
    {
     "data": {
      "text/html": [
       "<div>\n",
       "<table border=\"1\" class=\"dataframe\">\n",
       "  <thead>\n",
       "    <tr style=\"text-align: right;\">\n",
       "      <th>Is_Shortlisted</th>\n",
       "      <th>0</th>\n",
       "      <th>1</th>\n",
       "    </tr>\n",
       "    <tr>\n",
       "      <th>row_0</th>\n",
       "      <th></th>\n",
       "      <th></th>\n",
       "    </tr>\n",
       "  </thead>\n",
       "  <tbody>\n",
       "    <tr>\n",
       "      <th>0</th>\n",
       "      <td>7107</td>\n",
       "      <td>2071</td>\n",
       "    </tr>\n",
       "    <tr>\n",
       "      <th>1</th>\n",
       "      <td>13971</td>\n",
       "      <td>1821</td>\n",
       "    </tr>\n",
       "    <tr>\n",
       "      <th>2</th>\n",
       "      <td>5331</td>\n",
       "      <td>627</td>\n",
       "    </tr>\n",
       "    <tr>\n",
       "      <th>3</th>\n",
       "      <td>3394</td>\n",
       "      <td>433</td>\n",
       "    </tr>\n",
       "    <tr>\n",
       "      <th>4</th>\n",
       "      <td>31568</td>\n",
       "      <td>6300</td>\n",
       "    </tr>\n",
       "    <tr>\n",
       "      <th>5</th>\n",
       "      <td>6538</td>\n",
       "      <td>518</td>\n",
       "    </tr>\n",
       "    <tr>\n",
       "      <th>6</th>\n",
       "      <td>1893</td>\n",
       "      <td>319</td>\n",
       "    </tr>\n",
       "    <tr>\n",
       "      <th>7</th>\n",
       "      <td>10316</td>\n",
       "      <td>953</td>\n",
       "    </tr>\n",
       "    <tr>\n",
       "      <th>8</th>\n",
       "      <td>5510</td>\n",
       "      <td>471</td>\n",
       "    </tr>\n",
       "    <tr>\n",
       "      <th>9</th>\n",
       "      <td>15999</td>\n",
       "      <td>4280</td>\n",
       "    </tr>\n",
       "    <tr>\n",
       "      <th>10</th>\n",
       "      <td>546</td>\n",
       "      <td>54</td>\n",
       "    </tr>\n",
       "    <tr>\n",
       "      <th>11</th>\n",
       "      <td>27353</td>\n",
       "      <td>2349</td>\n",
       "    </tr>\n",
       "    <tr>\n",
       "      <th>12</th>\n",
       "      <td>38477</td>\n",
       "      <td>4383</td>\n",
       "    </tr>\n",
       "  </tbody>\n",
       "</table>\n",
       "</div>"
      ],
      "text/plain": [
       "Is_Shortlisted      0     1\n",
       "row_0                      \n",
       "0                7107  2071\n",
       "1               13971  1821\n",
       "2                5331   627\n",
       "3                3394   433\n",
       "4               31568  6300\n",
       "5                6538   518\n",
       "6                1893   319\n",
       "7               10316   953\n",
       "8                5510   471\n",
       "9               15999  4280\n",
       "10                546    54\n",
       "11              27353  2349\n",
       "12              38477  4383"
      ]
     },
     "execution_count": 127,
     "metadata": {},
     "output_type": "execute_result"
    }
   ],
   "source": [
    "pd.crosstab(y_km, y)"
   ]
  },
  {
   "cell_type": "code",
   "execution_count": null,
   "metadata": {
    "collapsed": true
   },
   "outputs": [],
   "source": []
  }
 ],
 "metadata": {
  "kernelspec": {
   "display_name": "Python 2",
   "language": "python",
   "name": "python2"
  },
  "language_info": {
   "codemirror_mode": {
    "name": "ipython",
    "version": 2
   },
   "file_extension": ".py",
   "mimetype": "text/x-python",
   "name": "python",
   "nbconvert_exporter": "python",
   "pygments_lexer": "ipython2",
   "version": "2.7.11"
  }
 },
 "nbformat": 4,
 "nbformat_minor": 0
}
